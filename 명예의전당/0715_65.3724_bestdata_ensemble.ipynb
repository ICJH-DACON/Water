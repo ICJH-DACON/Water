{
 "cells": [
  {
   "cell_type": "code",
   "execution_count": 2,
   "id": "61c219c4",
   "metadata": {},
   "outputs": [
    {
     "ename": "RuntimeError",
     "evalue": "module compiled against API version 0xe but this version of numpy is 0xd",
     "output_type": "error",
     "traceback": [
      "\u001b[1;31m---------------------------------------------------------------------------\u001b[0m",
      "\u001b[1;31mRuntimeError\u001b[0m                              Traceback (most recent call last)",
      "\u001b[1;31mRuntimeError\u001b[0m: module compiled against API version 0xe but this version of numpy is 0xd"
     ]
    }
   ],
   "source": [
    "import pandas as pd"
   ]
  },
  {
   "cell_type": "code",
   "execution_count": 11,
   "id": "0dcf66e5",
   "metadata": {},
   "outputs": [],
   "source": [
    "submission = pd.read_csv('../data/sample_submission.csv')\n",
    "\n",
    "best_data1 = pd.read_csv('../submission/20210715_cat_autoML.csv')\n",
    "best_data2 = pd.read_csv('../submission/20210715_lgbm_sort_autoML.csv')\n",
    "\n",
    "best_data3= pd.read_csv('../submission/20210715_lgbm_autoML.csv')"
   ]
  },
  {
   "cell_type": "code",
   "execution_count": 12,
   "id": "d2ccc0cb",
   "metadata": {},
   "outputs": [
    {
     "data": {
      "text/html": [
       "<div>\n",
       "<style scoped>\n",
       "    .dataframe tbody tr th:only-of-type {\n",
       "        vertical-align: middle;\n",
       "    }\n",
       "\n",
       "    .dataframe tbody tr th {\n",
       "        vertical-align: top;\n",
       "    }\n",
       "\n",
       "    .dataframe thead th {\n",
       "        text-align: right;\n",
       "    }\n",
       "</style>\n",
       "<table border=\"1\" class=\"dataframe\">\n",
       "  <thead>\n",
       "    <tr style=\"text-align: right;\">\n",
       "      <th></th>\n",
       "      <th>일자</th>\n",
       "      <th>중식계</th>\n",
       "      <th>석식계</th>\n",
       "    </tr>\n",
       "  </thead>\n",
       "  <tbody>\n",
       "    <tr>\n",
       "      <th>0</th>\n",
       "      <td>2021-01-27</td>\n",
       "      <td>976.026454</td>\n",
       "      <td>316.392095</td>\n",
       "    </tr>\n",
       "    <tr>\n",
       "      <th>1</th>\n",
       "      <td>2021-01-28</td>\n",
       "      <td>920.878218</td>\n",
       "      <td>430.168036</td>\n",
       "    </tr>\n",
       "    <tr>\n",
       "      <th>2</th>\n",
       "      <td>2021-01-29</td>\n",
       "      <td>622.463316</td>\n",
       "      <td>220.185062</td>\n",
       "    </tr>\n",
       "    <tr>\n",
       "      <th>3</th>\n",
       "      <td>2021-02-01</td>\n",
       "      <td>1250.624042</td>\n",
       "      <td>522.549487</td>\n",
       "    </tr>\n",
       "    <tr>\n",
       "      <th>4</th>\n",
       "      <td>2021-02-02</td>\n",
       "      <td>1069.131118</td>\n",
       "      <td>474.105418</td>\n",
       "    </tr>\n",
       "  </tbody>\n",
       "</table>\n",
       "</div>"
      ],
      "text/plain": [
       "           일자          중식계         석식계\n",
       "0  2021-01-27   976.026454  316.392095\n",
       "1  2021-01-28   920.878218  430.168036\n",
       "2  2021-01-29   622.463316  220.185062\n",
       "3  2021-02-01  1250.624042  522.549487\n",
       "4  2021-02-02  1069.131118  474.105418"
      ]
     },
     "execution_count": 12,
     "metadata": {},
     "output_type": "execute_result"
    }
   ],
   "source": [
    "submission.iloc[:,1:] = (best_data1.iloc[:,1:]*0.4 + best_data2.iloc[:,1:]*0.6)\n",
    "\n",
    "submission.head()"
   ]
  },
  {
   "cell_type": "code",
   "execution_count": 13,
   "id": "b09f662b",
   "metadata": {},
   "outputs": [
    {
     "data": {
      "text/plain": [
       "중식계    40.479906\n",
       "석식계    49.318953\n",
       "dtype: float64"
      ]
     },
     "execution_count": 13,
     "metadata": {},
     "output_type": "execute_result"
    }
   ],
   "source": [
    "abs(best_data1.iloc[:,1:] - best_data2.iloc[:,1:]).mean()"
   ]
  },
  {
   "cell_type": "code",
   "execution_count": 15,
   "id": "d6bff7ec",
   "metadata": {},
   "outputs": [
    {
     "data": {
      "text/plain": [
       "중식계    20.261047\n",
       "석식계    20.002046\n",
       "dtype: float64"
      ]
     },
     "execution_count": 15,
     "metadata": {},
     "output_type": "execute_result"
    }
   ],
   "source": [
    "abs(best_data3.iloc[:,1:] - submission.iloc[:,1:]).mean()"
   ]
  },
  {
   "cell_type": "code",
   "execution_count": 14,
   "id": "59f79bc5",
   "metadata": {},
   "outputs": [
    {
     "name": "stdout",
     "output_type": "stream",
     "text": [
      "오늘 날짜 : 20210630\n"
     ]
    }
   ],
   "source": [
    "import datetime\n",
    "today = str(datetime.datetime.now().date()).replace(\"-\",\"\")\n",
    "print(\"오늘 날짜 : \" + today)\n",
    "\n",
    "submission.to_csv(f'../submission/{today}_best_data_ensemble.csv', index =False)"
   ]
  },
  {
   "cell_type": "code",
   "execution_count": null,
   "id": "7d1f1c24",
   "metadata": {},
   "outputs": [],
   "source": []
  }
 ],
 "metadata": {
  "kernelspec": {
   "display_name": "Python 3",
   "language": "python",
   "name": "python3"
  },
  "language_info": {
   "codemirror_mode": {
    "name": "ipython",
    "version": 3
   },
   "file_extension": ".py",
   "mimetype": "text/x-python",
   "name": "python",
   "nbconvert_exporter": "python",
   "pygments_lexer": "ipython3",
   "version": "3.8.10"
  }
 },
 "nbformat": 4,
 "nbformat_minor": 5
}

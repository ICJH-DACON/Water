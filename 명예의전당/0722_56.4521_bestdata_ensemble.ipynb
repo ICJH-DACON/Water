{
 "cells": [
  {
   "cell_type": "code",
   "execution_count": 1,
   "id": "61c219c4",
   "metadata": {},
   "outputs": [
    {
     "ename": "RuntimeError",
     "evalue": "module compiled against API version 0xe but this version of numpy is 0xd",
     "output_type": "error",
     "traceback": [
      "\u001b[1;31m---------------------------------------------------------------------------\u001b[0m",
      "\u001b[1;31mRuntimeError\u001b[0m                              Traceback (most recent call last)",
      "\u001b[1;31mRuntimeError\u001b[0m: module compiled against API version 0xe but this version of numpy is 0xd"
     ]
    }
   ],
   "source": [
    "import pandas as pd"
   ]
  },
  {
   "cell_type": "code",
   "execution_count": 20,
   "id": "0dcf66e5",
   "metadata": {},
   "outputs": [],
   "source": [
    "submission = pd.read_csv('../data/sample_submission.csv')\n",
    "\n",
    "data = {}\n",
    "\n",
    "data[1] = pd.read_csv('../submission/20210715_lgbm_autoML.csv') #67\n",
    "data[2] = pd.read_csv('../submission/20210716_lgbm_autoML_in.csv')\n",
    "data[3] = pd.read_csv('../submission/20210718_autoML_5.csv')\n",
    "\n",
    "data[4]= pd.read_csv('../submission/20210701_pycaret_(2)-69.8998.csv')\n",
    "data[5]= pd.read_csv('../submission/20210719_pycaret.csv') # 60\n",
    "data[6]= pd.read_csv('../submission/20210717_pycaret_(2).csv') #66\n",
    "data[7]= pd.read_csv('../submission/20210719_lgbm_autoML.csv')\n",
    "data[8]= pd.read_csv('../submission/20210720_optuna_lgbm.csv')\n",
    "data[9]= pd.read_csv('../submission/20210722_hyperOpt_xgb.csv')\n",
    "\n",
    "data[\"sub\"]= pd.read_csv('../submission/20210719_best_data_ensemble.csv')"
   ]
  },
  {
   "cell_type": "code",
   "execution_count": 26,
   "id": "2ddb2572",
   "metadata": {},
   "outputs": [
    {
     "data": {
      "text/plain": [
       "중식계    79.513372\n",
       "석식계    29.231095\n",
       "dtype: float64"
      ]
     },
     "execution_count": 26,
     "metadata": {},
     "output_type": "execute_result"
    }
   ],
   "source": [
    "abs(data[8].iloc[:,1:]*0.3 + data[5].iloc[:,1:]*0.7 - data[4].iloc[:,1:]).mean()"
   ]
  },
  {
   "cell_type": "code",
   "execution_count": 9,
   "id": "ea877b5c",
   "metadata": {},
   "outputs": [
    {
     "name": "stdout",
     "output_type": "stream",
     "text": [
      "1번 데이터와 8번 데이터 비교\n",
      "중식계    30.547615\n",
      "석식계    22.604970\n",
      "dtype: float64\n",
      "\n",
      "2번 데이터와 8번 데이터 비교\n",
      "중식계    28.223978\n",
      "석식계    26.347785\n",
      "dtype: float64\n",
      "\n",
      "3번 데이터와 8번 데이터 비교\n",
      "중식계    32.098294\n",
      "석식계    41.702671\n",
      "dtype: float64\n",
      "\n",
      "4번 데이터와 8번 데이터 비교\n",
      "중식계    92.341154\n",
      "석식계    34.099421\n",
      "dtype: float64\n",
      "\n",
      "5번 데이터와 8번 데이터 비교\n",
      "중식계    35.709444\n",
      "석식계    29.854066\n",
      "dtype: float64\n",
      "\n",
      "6번 데이터와 8번 데이터 비교\n",
      "중식계    62.188537\n",
      "석식계    35.369611\n",
      "dtype: float64\n",
      "\n",
      "7번 데이터와 8번 데이터 비교\n",
      "중식계    34.748253\n",
      "석식계    26.619030\n",
      "dtype: float64\n",
      "\n",
      "8번 데이터와 9번 데이터 비교\n",
      "중식계    26.988995\n",
      "석식계    24.704329\n",
      "dtype: float64\n",
      "\n",
      "8번 데이터와 sub번 데이터 비교\n",
      "중식계    52.078530\n",
      "석식계    29.854066\n",
      "dtype: float64\n",
      "\n"
     ]
    }
   ],
   "source": [
    "from itertools import combinations\n",
    "for data1, data2 in combinations(data,2):\n",
    "    if not 8 in [data1,data2]:\n",
    "        continue\n",
    "    print(f\"{data1}번 데이터와 {data2}번 데이터 비교\",end='\\n')\n",
    "\n",
    "    print(abs(data[data1].iloc[:,1:] - data[data2].iloc[:,1:]).mean(),end='\\n\\n') \n",
    "    "
   ]
  },
  {
   "cell_type": "code",
   "execution_count": 37,
   "id": "fc28ce60",
   "metadata": {},
   "outputs": [
    {
     "data": {
      "text/plain": [
       "57.06339097770921"
      ]
     },
     "execution_count": 37,
     "metadata": {},
     "output_type": "execute_result"
    }
   ],
   "source": [
    "import math\n",
    "\n",
    "math.sin(72/180*math.pi)*60\n",
    "\n",
    "# 10/36"
   ]
  },
  {
   "cell_type": "code",
   "execution_count": null,
   "id": "18e703f6",
   "metadata": {},
   "outputs": [],
   "source": []
  },
  {
   "cell_type": "code",
   "execution_count": 47,
   "id": "fa2fd2be",
   "metadata": {},
   "outputs": [
    {
     "data": {
      "text/plain": [
       "(중식계    995.576276\n",
       " 석식계    489.547971\n",
       " dtype: float64,\n",
       " 중식계    1067.442189\n",
       " 석식계     488.930554\n",
       " dtype: float64,\n",
       " 중식계    979.472076\n",
       " 석식계    478.234815\n",
       " dtype: float64,\n",
       " 중식계    1024.322641\n",
       " 석식계     478.234815\n",
       " dtype: float64)"
      ]
     },
     "execution_count": 47,
     "metadata": {},
     "output_type": "execute_result"
    }
   ],
   "source": [
    "data[5].iloc[:,:].mean(),data[4].iloc[:,:].mean(),data[8].iloc[:,:].mean(), submission.iloc[:,:].mean()\n"
   ]
  },
  {
   "cell_type": "code",
   "execution_count": 48,
   "id": "b2c2a37b",
   "metadata": {},
   "outputs": [
    {
     "data": {
      "text/html": [
       "<div>\n",
       "<style scoped>\n",
       "    .dataframe tbody tr th:only-of-type {\n",
       "        vertical-align: middle;\n",
       "    }\n",
       "\n",
       "    .dataframe tbody tr th {\n",
       "        vertical-align: top;\n",
       "    }\n",
       "\n",
       "    .dataframe thead th {\n",
       "        text-align: right;\n",
       "    }\n",
       "</style>\n",
       "<table border=\"1\" class=\"dataframe\">\n",
       "  <thead>\n",
       "    <tr style=\"text-align: right;\">\n",
       "      <th></th>\n",
       "      <th>일자</th>\n",
       "      <th>중식계</th>\n",
       "      <th>석식계</th>\n",
       "    </tr>\n",
       "  </thead>\n",
       "  <tbody>\n",
       "    <tr>\n",
       "      <th>0</th>\n",
       "      <td>2021-01-27</td>\n",
       "      <td>1047.696472</td>\n",
       "      <td>296.478621</td>\n",
       "    </tr>\n",
       "    <tr>\n",
       "      <th>1</th>\n",
       "      <td>2021-01-28</td>\n",
       "      <td>995.383745</td>\n",
       "      <td>416.123827</td>\n",
       "    </tr>\n",
       "    <tr>\n",
       "      <th>2</th>\n",
       "      <td>2021-01-29</td>\n",
       "      <td>689.586970</td>\n",
       "      <td>201.016733</td>\n",
       "    </tr>\n",
       "    <tr>\n",
       "      <th>3</th>\n",
       "      <td>2021-02-01</td>\n",
       "      <td>1291.729907</td>\n",
       "      <td>525.256840</td>\n",
       "    </tr>\n",
       "    <tr>\n",
       "      <th>4</th>\n",
       "      <td>2021-02-02</td>\n",
       "      <td>1107.265699</td>\n",
       "      <td>445.076138</td>\n",
       "    </tr>\n",
       "  </tbody>\n",
       "</table>\n",
       "</div>"
      ],
      "text/plain": [
       "           일자          중식계         석식계\n",
       "0  2021-01-27  1047.696472  296.478621\n",
       "1  2021-01-28   995.383745  416.123827\n",
       "2  2021-01-29   689.586970  201.016733\n",
       "3  2021-02-01  1291.729907  525.256840\n",
       "4  2021-02-02  1107.265699  445.076138"
      ]
     },
     "execution_count": 48,
     "metadata": {},
     "output_type": "execute_result"
    }
   ],
   "source": [
    "submission.iloc[:,1] = data[5].iloc[:,1]*0.6 + data[4].iloc[:,1]*0.4\n",
    "submission.iloc[:,2] = data[8].iloc[:,2]\n",
    "\n",
    "submission.head()"
   ]
  },
  {
   "cell_type": "code",
   "execution_count": 50,
   "id": "59f79bc5",
   "metadata": {},
   "outputs": [
    {
     "name": "stdout",
     "output_type": "stream",
     "text": [
      "오늘 날짜 : 20210722\n"
     ]
    }
   ],
   "source": [
    "import datetime\n",
    "today = str(datetime.datetime.now().date()).replace(\"-\",\"\")\n",
    "print(\"오늘 날짜 : \" + today)\n",
    "\n",
    "submission.to_csv(f'../submission/{today}_best_data_ensemble2.csv', index =False)"
   ]
  },
  {
   "cell_type": "code",
   "execution_count": 7,
   "id": "7d1f1c24",
   "metadata": {},
   "outputs": [
    {
     "ename": "NameError",
     "evalue": "name 'best_data1' is not defined",
     "output_type": "error",
     "traceback": [
      "\u001b[1;31m---------------------------------------------------------------------------\u001b[0m",
      "\u001b[1;31mNameError\u001b[0m                                 Traceback (most recent call last)",
      "\u001b[1;32m<ipython-input-7-61a66094cd41>\u001b[0m in \u001b[0;36m<module>\u001b[1;34m\u001b[0m\n\u001b[1;32m----> 1\u001b[1;33m \u001b[1;33m(\u001b[0m\u001b[0mbest_data1\u001b[0m\u001b[1;33m.\u001b[0m\u001b[0miloc\u001b[0m\u001b[1;33m[\u001b[0m\u001b[1;33m:\u001b[0m\u001b[1;33m,\u001b[0m\u001b[1;36m2\u001b[0m\u001b[1;33m]\u001b[0m\u001b[1;33m*\u001b[0m\u001b[1;36m1\u001b[0m\u001b[1;33m/\u001b[0m\u001b[1;36m3\u001b[0m \u001b[1;33m+\u001b[0m \u001b[0mbest_data5\u001b[0m\u001b[1;33m.\u001b[0m\u001b[0miloc\u001b[0m\u001b[1;33m[\u001b[0m\u001b[1;33m:\u001b[0m\u001b[1;33m,\u001b[0m\u001b[1;36m2\u001b[0m\u001b[1;33m]\u001b[0m\u001b[1;33m*\u001b[0m\u001b[1;36m1\u001b[0m\u001b[1;33m/\u001b[0m\u001b[1;36m3\u001b[0m \u001b[1;33m+\u001b[0m \u001b[0mbest_data3\u001b[0m\u001b[1;33m.\u001b[0m\u001b[0miloc\u001b[0m\u001b[1;33m[\u001b[0m\u001b[1;33m:\u001b[0m\u001b[1;33m,\u001b[0m\u001b[1;36m2\u001b[0m\u001b[1;33m]\u001b[0m\u001b[1;33m*\u001b[0m\u001b[1;36m1\u001b[0m\u001b[1;33m/\u001b[0m\u001b[1;36m3\u001b[0m \u001b[1;33m)\u001b[0m\u001b[1;33m.\u001b[0m\u001b[0mmean\u001b[0m\u001b[1;33m(\u001b[0m\u001b[1;33m)\u001b[0m\u001b[1;33m\u001b[0m\u001b[1;33m\u001b[0m\u001b[0m\n\u001b[0m",
      "\u001b[1;31mNameError\u001b[0m: name 'best_data1' is not defined"
     ]
    }
   ],
   "source": [
    "(best_data1.iloc[:,2]*1/3 + best_data5.iloc[:,2]*1/3 + best_data3.iloc[:,2]*1/3 ).mean()"
   ]
  },
  {
   "cell_type": "code",
   "execution_count": 37,
   "id": "2461e60d",
   "metadata": {},
   "outputs": [
    {
     "data": {
      "text/plain": [
       "485.38534961687344"
      ]
     },
     "execution_count": 37,
     "metadata": {},
     "output_type": "execute_result"
    }
   ],
   "source": [
    "submission.iloc[:,2].mean()"
   ]
  }
 ],
 "metadata": {
  "kernelspec": {
   "display_name": "Python 3",
   "language": "python",
   "name": "python3"
  },
  "language_info": {
   "codemirror_mode": {
    "name": "ipython",
    "version": 3
   },
   "file_extension": ".py",
   "mimetype": "text/x-python",
   "name": "python",
   "nbconvert_exporter": "python",
   "pygments_lexer": "ipython3",
   "version": "3.8.10"
  }
 },
 "nbformat": 4,
 "nbformat_minor": 5
}

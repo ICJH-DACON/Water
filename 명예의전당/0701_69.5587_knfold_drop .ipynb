{
 "cells": [
  {
   "cell_type": "code",
   "execution_count": 8,
   "metadata": {},
   "outputs": [],
   "source": [
    "import pandas as pd\n",
    "import numpy as np\n",
    "\n",
    "import matplotlib.pyplot as plt\n",
    "import seaborn as sns\n",
    "%matplotlib inline\n",
    "plt.rcParams['font.family'] = 'Gulim'"
   ]
  },
  {
   "cell_type": "code",
   "execution_count": 9,
   "metadata": {},
   "outputs": [],
   "source": [
    "from workalendar.asia import SouthKorea\n",
    "import pendulum"
   ]
  },
  {
   "cell_type": "code",
   "execution_count": 10,
   "metadata": {},
   "outputs": [],
   "source": [
    "train = pd.read_csv('../data/train.csv')\n",
    "test = pd.read_csv('../data/test.csv')"
   ]
  },
  {
   "cell_type": "markdown",
   "metadata": {},
   "source": [
    "## 전처리\n",
    "- 일자에서 월과 일을 분리\n",
    "- 요일을 레이블 인코딩화(EDA로 요일의 중요도 순 파악)\n",
    "- 월 별, 일 별 중식 석식 수요 차이 파악"
   ]
  },
  {
   "cell_type": "code",
   "execution_count": 11,
   "metadata": {},
   "outputs": [
    {
     "name": "stderr",
     "output_type": "stream",
     "text": [
      "<ipython-input-11-b11c832c5082>:3: FutureWarning: weekofyear and week have been deprecated, please use DatetimeIndex.isocalendar().week instead, which returns a Series.  To exactly reproduce the behavior of week and weekofyear and return an Index, you may call pd.Int64Index(idx.isocalendar().week)\n",
      "  train['주'] = pd.DatetimeIndex(train['일자']).week\n",
      "<ipython-input-11-b11c832c5082>:4: FutureWarning: weekofyear and week have been deprecated, please use DatetimeIndex.isocalendar().week instead, which returns a Series.  To exactly reproduce the behavior of week and weekofyear and return an Index, you may call pd.Int64Index(idx.isocalendar().week)\n",
      "  test['주'] = pd.DatetimeIndex(test['일자']).week\n"
     ]
    }
   ],
   "source": [
    "train['월'] = pd.DatetimeIndex(train['일자']).month\n",
    "test['월'] = pd.DatetimeIndex(test['일자']).month\n",
    "train['주'] = pd.DatetimeIndex(train['일자']).week\n",
    "test['주'] = pd.DatetimeIndex(test['일자']).week\n",
    "train['일'] = pd.DatetimeIndex(train['일자']).day\n",
    "test['일'] = pd.DatetimeIndex(test['일자']).day\n",
    "\n",
    "train['출근'] = train['본사정원수']-(train['본사휴가자수']+train['본사출장자수']+train['현본사소속재택근무자수'])\n",
    "train['휴가비율'] = train['본사휴가자수']/train['본사정원수']\n",
    "train['출장비율'] = train['본사출장자수']/train['본사정원수']\n",
    "train['야근비율'] = train['본사시간외근무명령서승인건수']/train['출근']\n",
    "train['재택비율'] = train['현본사소속재택근무자수']/train['본사정원수']\n",
    "\n",
    "test['출근'] = test['본사정원수']-(test['본사휴가자수']+test['본사출장자수']+test['현본사소속재택근무자수'])\n",
    "test['휴가비율'] = test['본사휴가자수']/test['본사정원수']\n",
    "test['출장비율'] = test['본사출장자수']/test['본사정원수']\n",
    "test['야근비율'] = test['본사시간외근무명령서승인건수']/test['출근']\n",
    "test['재택비율'] = test['현본사소속재택근무자수']/test['본사정원수']\n",
    "\n",
    "train['식사가능자수'] = train['본사정원수'] - train['본사휴가자수'] - train['현본사소속재택근무자수']\n",
    "test['식사가능자수'] = test['본사정원수'] - test['본사휴가자수'] - test['현본사소속재택근무자수']\n",
    "\n",
    "# train['중식참여율'] = train['중식계'] / train['식사가능자수']"
   ]
  },
  {
   "cell_type": "code",
   "execution_count": 12,
   "metadata": {},
   "outputs": [],
   "source": [
    "month_rank4dinner = {\n",
    "    1: 11,\n",
    "    2: 2,\n",
    "    3: 1,\n",
    "    4: 4,\n",
    "    5: 7,\n",
    "    6: 6,\n",
    "    7: 10,\n",
    "    8: 8,\n",
    "    9: 5,\n",
    "    10: 3,\n",
    "    11: 9,\n",
    "    12: 12\n",
    "}\n",
    "train['월(석식)'] = train['월'].map(month_rank4dinner)\n",
    "test['월(석식)'] = test['월'].map(month_rank4dinner)\n",
    "\n",
    "month_rank4lunch = {\n",
    "    1: 3,\n",
    "    2: 1,\n",
    "    3: 2,\n",
    "    4: 6,\n",
    "    5: 7,\n",
    "    6: 8,\n",
    "    7: 10,\n",
    "    8: 9,\n",
    "    9: 5,\n",
    "    10: 4,\n",
    "    11: 11,\n",
    "    12: 12\n",
    "}\n",
    "train['월(중식)'] = train['월'].map(month_rank4lunch)\n",
    "test['월(중식)'] = test['월'].map(month_rank4lunch)\n",
    "\n",
    "weekday_rank4dinner = {\n",
    "    '월': 1,\n",
    "    '화': 2,\n",
    "    '수': 4,\n",
    "    '목': 3,\n",
    "    '금': 5,\n",
    "}\n",
    "\n",
    "weekday_rank4lunch = {\n",
    "    '월': 1,\n",
    "    '화': 2,\n",
    "    '수': 3,\n",
    "    '목': 4,\n",
    "    '금': 5,\n",
    "}\n",
    "\n",
    "train['요일(석식)'] = train['요일'].map(weekday_rank4dinner)\n",
    "test['요일(석식)'] = test['요일'].map(weekday_rank4dinner)\n",
    "\n",
    "train['요일(중식)'] = train['요일'].map(weekday_rank4lunch)\n",
    "test['요일(중식)'] = test['요일'].map(weekday_rank4lunch)"
   ]
  },
  {
   "cell_type": "code",
   "execution_count": 13,
   "metadata": {
    "scrolled": true
   },
   "outputs": [],
   "source": [
    "rank = pd.DataFrame(range(1,53))\n",
    "week_rank_lunch = pd.pivot_table(train,values='중식계',index='주').sort_values(by='중식계').reset_index().drop('중식계',axis=1)\n",
    "week_rank_dinner = pd.pivot_table(train,values='석식계',index='주').sort_values(by='석식계').reset_index().drop('석식계',axis=1)\n",
    "\n",
    "\n",
    "week_rank4lunch = {}\n",
    "for i in range(len(rank)):\n",
    "    week_rank4lunch[week_rank_lunch['주'][i]] = rank[0][i]\n",
    "\n",
    "\n",
    "week_rank4dinner = {}\n",
    "for i in range(len(rank)):\n",
    "    week_rank4dinner[week_rank_dinner['주'][i]] = rank[0][i]\n",
    "    \n",
    "    \n",
    "train['주(중식)'] = train['주'].map(week_rank4lunch)\n",
    "test['주(중식)'] = test['주'].map(week_rank4lunch)\n",
    "\n",
    "train['주(석식)'] = train['주'].map(week_rank4dinner)\n",
    "test['주(석식)'] = test['주'].map(week_rank4dinner)"
   ]
  },
  {
   "cell_type": "code",
   "execution_count": 14,
   "metadata": {},
   "outputs": [],
   "source": [
    "def is_holiday(date):\n",
    "    holidays = list(map(str, pd.Series(np.array(SouthKorea().holidays(int(date[:4])))[:, 0])))\n",
    "    \n",
    "    yesterday = str(np.datetime64(date) - 1)\n",
    "    tomorrow = str(np.datetime64(date) + 1)\n",
    "\n",
    "    if tomorrow in holidays and yesterday in holidays:\n",
    "        return 3\n",
    "    if tomorrow in holidays:\n",
    "        return 2\n",
    "    elif yesterday in holidays:\n",
    "        return 1\n",
    "    else : \n",
    "        return 0\n",
    "\n",
    "def week_of_month(x):\n",
    "    dt = pendulum.parse(x)\n",
    "    \n",
    "    wom = dt.week_of_month\n",
    "    if wom < 0:\n",
    "        wom += 52\n",
    "    return wom\n",
    "    \n",
    "\n",
    "df = pd.concat([train[['본사정원수', '일자']], test[['본사정원수', '일자']]])\n",
    "df['년월'] = df['일자'].apply(lambda x : x[:7])\n",
    "df = df[['년월', '본사정원수']].groupby(by=['년월'], as_index=False).mean()\n",
    "\n",
    "def member_change(date):\n",
    "    this_month = date[:7]\n",
    "    last_month = str(np.datetime64(this_month) - 1)\n",
    "    \n",
    "    this_month_member = int(df[df['년월'] == this_month]['본사정원수'])\n",
    "    last_month_member = int(df[df['년월'] == last_month]['본사정원수'])\n",
    "    \n",
    "    \n",
    "    return  this_month_member - last_month_member\n",
    "\n",
    "train['공휴일전후'] = train['일자'].apply(is_holiday)\n",
    "test['공휴일전후'] = test['일자'].apply(is_holiday)\n",
    "\n",
    "train['몇주차'] = train['일자'].apply(week_of_month)\n",
    "test['몇주차'] = test['일자'].apply(week_of_month)\n",
    "\n",
    "train = train[train['일자'] > '2016-03']\n",
    "train['인원변화'] = train['일자'].apply(member_change)\n",
    "test['인원변화'] = test['일자'].apply(member_change)"
   ]
  },
  {
   "cell_type": "markdown",
   "metadata": {},
   "source": [
    "## 공휴일 변수 생성"
   ]
  },
  {
   "cell_type": "code",
   "execution_count": 15,
   "metadata": {},
   "outputs": [
    {
     "data": {
      "text/plain": [
       "Index(['일자', '요일', '본사정원수', '본사휴가자수', '본사출장자수', '본사시간외근무명령서승인건수',\n",
       "       '현본사소속재택근무자수', '조식메뉴', '중식메뉴', '석식메뉴', '중식계', '석식계', '월', '주', '일',\n",
       "       '출근', '휴가비율', '출장비율', '야근비율', '재택비율', '식사가능자수', '월(석식)', '월(중식)',\n",
       "       '요일(석식)', '요일(중식)', '주(중식)', '주(석식)', '공휴일전후', '몇주차', '인원변화'],\n",
       "      dtype='object')"
      ]
     },
     "execution_count": 15,
     "metadata": {},
     "output_type": "execute_result"
    }
   ],
   "source": [
    "train.columns"
   ]
  },
  {
   "cell_type": "code",
   "execution_count": 16,
   "metadata": {},
   "outputs": [],
   "source": [
    "# 메뉴 변수 없이 사용할떄 해당 코드 사용['공휴일전후', '몇주차', '인원변화']\n",
    "\n",
    "lunch_train = train[['공휴일전후', '몇주차', '인원변화', '요일(중식)','월(중식)','일','주(중식)','출근', '휴가비율', '출장비율', '야근비율', '재택비율','본사출장자수','본사휴가자수','식사가능자수',]]\n",
    "lunch_test = test[['공휴일전후', '몇주차', '인원변화', '요일(중식)','월(중식)','일','주(중식)','출근', '휴가비율', '출장비율', '야근비율', '재택비율','본사출장자수','본사휴가자수','식사가능자수']]\n",
    "\n",
    "dinner_train= train[['공휴일전후', '몇주차', '인원변화', '요일(석식)','월(석식)','일','주(석식)','출근', '휴가비율', '출장비율', '야근비율', '재택비율','본사출장자수','본사휴가자수','식사가능자수']]\n",
    "dinner_test = test[['공휴일전후', '몇주차', '인원변화', '요일(석식)','월(석식)','일','주(석식)','출근', '휴가비율', '출장비율', '야근비율', '재택비율','본사출장자수','본사휴가자수','식사가능자수']]"
   ]
  },
  {
   "cell_type": "code",
   "execution_count": 17,
   "metadata": {},
   "outputs": [
    {
     "data": {
      "text/plain": [
       "Index(['공휴일전후', '몇주차', '인원변화', '요일(중식)', '월(중식)', '일', '주(중식)', '출근', '휴가비율',\n",
       "       '출장비율', '야근비율', '재택비율', '본사출장자수', '본사휴가자수', '식사가능자수'],\n",
       "      dtype='object')"
      ]
     },
     "execution_count": 17,
     "metadata": {},
     "output_type": "execute_result"
    }
   ],
   "source": [
    "lunch_train.columns"
   ]
  },
  {
   "cell_type": "code",
   "execution_count": 18,
   "metadata": {
    "scrolled": true
   },
   "outputs": [
    {
     "name": "stdout",
     "output_type": "stream",
     "text": [
      "(1187, 15)\n",
      "(50, 15)\n"
     ]
    }
   ],
   "source": [
    "print(lunch_train.shape)\n",
    "print(lunch_test.shape)"
   ]
  },
  {
   "cell_type": "code",
   "execution_count": 19,
   "metadata": {},
   "outputs": [
    {
     "name": "stdout",
     "output_type": "stream",
     "text": [
      "(1187, 15)\n",
      "(50, 15)\n"
     ]
    }
   ],
   "source": [
    "print(dinner_train.shape)\n",
    "print(dinner_test.shape)"
   ]
  },
  {
   "cell_type": "code",
   "execution_count": 20,
   "metadata": {},
   "outputs": [
    {
     "name": "stdout",
     "output_type": "stream",
     "text": [
      "Cat features are: []\n",
      "[]\n"
     ]
    }
   ],
   "source": [
    "cat_features = [f for f in lunch_train.columns if lunch_train[f].dtype == 'object']\n",
    "\n",
    "def column_index(df, cat_features):\n",
    "    cols = df.columns.values\n",
    "    sidx = np.argsort(cols)\n",
    "    return sidx[np.searchsorted(cols, cat_features, sorter=sidx)]\n",
    "\n",
    "cat_features_idx = column_index(lunch_train, cat_features)    \n",
    "print(\"Cat features are: %s\" % [f for f in cat_features])\n",
    "print(cat_features_idx)"
   ]
  },
  {
   "cell_type": "code",
   "execution_count": 21,
   "metadata": {},
   "outputs": [],
   "source": [
    "y_lunch = train[['중식계']]\n",
    "y_dinner = train[['석식계']]"
   ]
  },
  {
   "cell_type": "code",
   "execution_count": 22,
   "metadata": {},
   "outputs": [
    {
     "data": {
      "text/plain": [
       "Index(['공휴일전후', '몇주차', '인원변화', '요일(중식)', '월(중식)', '일', '주(중식)', '출근', '휴가비율',\n",
       "       '출장비율', '야근비율', '재택비율', '본사출장자수', '본사휴가자수', '식사가능자수'],\n",
       "      dtype='object')"
      ]
     },
     "execution_count": 22,
     "metadata": {},
     "output_type": "execute_result"
    }
   ],
   "source": [
    "lunch_train.columns"
   ]
  },
  {
   "cell_type": "markdown",
   "metadata": {},
   "source": [
    "#### 분포 확인 및 분포 조정"
   ]
  },
  {
   "cell_type": "markdown",
   "metadata": {},
   "source": [
    "# 중식 예측모델"
   ]
  },
  {
   "cell_type": "code",
   "execution_count": 41,
   "metadata": {},
   "outputs": [],
   "source": [
    "from automl_alex import LightGBMRegressor\n",
    "from sklearn.metrics import mean_absolute_error as MAE\n",
    "from IPython.display import clear_output\n",
    "import sklearn"
   ]
  },
  {
   "cell_type": "code",
   "execution_count": 32,
   "metadata": {},
   "outputs": [],
   "source": [
    "drop_columns = [[],['식사가능자수'], ['본사휴가자수'], ['본사출장자수'], ['인원변화']]\n",
    "ks = [2,4,6,8,10]"
   ]
  },
  {
   "cell_type": "code",
   "execution_count": 38,
   "metadata": {},
   "outputs": [
    {
     "name": "stderr",
     "output_type": "stream",
     "text": [
      "\u001b[32m15:11:44\u001b[0m | \u001b[1mregression optimize: minimize\u001b[0m\n",
      "\u001b[32m15:11:44\u001b[0m | \u001b[1m##################################################\u001b[0m\n",
      "\u001b[32m15:11:44\u001b[0m | \u001b[1m> Step 1: calc parameters and pruned score: get test 10 trials\u001b[0m\n",
      "\u001b[32m15:11:50\u001b[0m | \u001b[1m One iteration ~ 0.6 sec\u001b[0m\n",
      "\u001b[32m15:11:50\u001b[0m | \u001b[1m Possible iters ~ 1823.0\u001b[0m\n",
      "\u001b[32m15:11:50\u001b[0m | \u001b[1m--------------------------------------------------\u001b[0m\n",
      "\u001b[32m15:11:50\u001b[0m | \u001b[1m  Pruned Threshold Score: 74.1443\u001b[0m\n",
      "\u001b[32m15:11:50\u001b[0m | \u001b[1m##################################################\u001b[0m\n",
      "\u001b[32m15:11:50\u001b[0m | \u001b[1m> Step 2: Full opt with Threshold Score Pruner\u001b[0m\n",
      "\u001b[32m15:11:50\u001b[0m | \u001b[1m##################################################\u001b[0m\n",
      "\u001b[32m15:11:50\u001b[0m | \u001b[1m> Start optimization with the parameters:\u001b[0m\n",
      "\u001b[32m15:11:50\u001b[0m | \u001b[1mCV_Folds = 10\u001b[0m\n",
      "\u001b[32m15:11:50\u001b[0m | \u001b[1mScore_CV_Folds = 2\u001b[0m\n",
      "\u001b[32m15:11:50\u001b[0m | \u001b[1mFeature_Selection = False\u001b[0m\n",
      "\u001b[32m15:11:50\u001b[0m | \u001b[1mOpt_lvl = 3\u001b[0m\n",
      "\u001b[32m15:11:50\u001b[0m | \u001b[1mCold_start = 120\u001b[0m\n",
      "\u001b[32m15:11:50\u001b[0m | \u001b[1mEarly_stoping = 120\u001b[0m\n",
      "\u001b[32m15:11:50\u001b[0m | \u001b[1mMetric = mean_absolute_error\u001b[0m\n",
      "\u001b[32m15:11:50\u001b[0m | \u001b[1mDirection = minimize\u001b[0m\n",
      "\u001b[32m15:11:50\u001b[0m | \u001b[1m##################################################\u001b[0m\n",
      "Optimize: : 315it [03:26,  1.53it/s, | Model: LightGBM | OptScore: 65.6907 | Best mean_absolute_error: 63.507 ] \n",
      "\u001b[32m15:15:16\u001b[0m | \u001b[1m\n",
      " EarlyStopping Exceeded: Best Score: 63.507 mean_absolute_error\u001b[0m\n",
      "\u001b[32m15:15:16\u001b[0m | \u001b[1m> Finish Opt!\u001b[0m\n"
     ]
    },
    {
     "name": "stdout",
     "output_type": "stream",
     "text": [
      "Finished loading model, total used 1000 iterations\n",
      "Finished loading model, total used 1000 iterations\n",
      "Finished loading model, total used 1000 iterations\n",
      "Finished loading model, total used 1000 iterations\n",
      "Finished loading model, total used 1000 iterations\n",
      "Finished loading model, total used 1000 iterations\n",
      "Finished loading model, total used 1000 iterations\n",
      "Finished loading model, total used 1000 iterations\n",
      "Finished loading model, total used 1000 iterations\n"
     ]
    },
    {
     "name": "stderr",
     "output_type": "stream",
     "text": [
      "\u001b[32m15:15:18\u001b[0m | \u001b[1mBest Score: 63.507 mean_absolute_error\u001b[0m\n"
     ]
    },
    {
     "name": "stdout",
     "output_type": "stream",
     "text": [
      "Finished loading model, total used 1000 iterations\n",
      "['인원변화'] 24 10\n"
     ]
    }
   ],
   "source": [
    "random_seed = 0\n",
    "pred_lunch = np.array([0]*50).astype(np.float64)\n",
    "\n",
    "for dc in drop_columns:\n",
    "    for k in ks:\n",
    "        print(dc)\n",
    "        \n",
    "        lunch_model = LightGBMRegressor(random_state=random_seed)\n",
    "        \n",
    "        X_train = lunch_train.drop(columns=dc)\n",
    "        X_test = lunch_test.drop(columns=dc)\n",
    "        \n",
    "        lunch_model.opt(X_train, y_lunch,\n",
    "                        verbose=3,\n",
    "                        cold_start=120,\n",
    "                        folds=k,\n",
    "                        opt_lvl=3,\n",
    "                        early_stoping=120,\n",
    "                        auto_parameters=False,\n",
    "                        timeout=1100,\n",
    "                        metric=MAE\n",
    "                       )\n",
    "\n",
    "        pred_lunch += lunch_model.predict(X_test)\n",
    "\n",
    "        clear_output(True)\n",
    "                \n",
    "        random_seed += 1"
   ]
  },
  {
   "cell_type": "code",
   "execution_count": 42,
   "metadata": {},
   "outputs": [
    {
     "name": "stderr",
     "output_type": "stream",
     "text": [
      "\u001b[32m17:04:36\u001b[0m | \u001b[1mregression optimize: minimize\u001b[0m\n",
      "\u001b[32m17:04:36\u001b[0m | \u001b[1m##################################################\u001b[0m\n"
     ]
    },
    {
     "name": "stdout",
     "output_type": "stream",
     "text": [
      "['인원변화']\n"
     ]
    },
    {
     "name": "stderr",
     "output_type": "stream",
     "text": [
      "\u001b[32m17:04:37\u001b[0m | \u001b[1m> Step 1: calc parameters and pruned score: get test 10 trials\u001b[0m\n",
      "\u001b[32m17:04:43\u001b[0m | \u001b[1m One iteration ~ 0.6 sec\u001b[0m\n",
      "\u001b[32m17:04:43\u001b[0m | \u001b[1m Possible iters ~ 1754.0\u001b[0m\n",
      "\u001b[32m17:04:43\u001b[0m | \u001b[1m--------------------------------------------------\u001b[0m\n",
      "\u001b[32m17:04:43\u001b[0m | \u001b[1m  Pruned Threshold Score: 66.5278\u001b[0m\n",
      "\u001b[32m17:04:43\u001b[0m | \u001b[1m##################################################\u001b[0m\n",
      "\u001b[32m17:04:43\u001b[0m | \u001b[1m> Step 2: Full opt with Threshold Score Pruner\u001b[0m\n",
      "\u001b[32m17:04:43\u001b[0m | \u001b[1m##################################################\u001b[0m\n",
      "\u001b[32m17:04:43\u001b[0m | \u001b[1m> Start optimization with the parameters:\u001b[0m\n",
      "\u001b[32m17:04:43\u001b[0m | \u001b[1mCV_Folds = 10\u001b[0m\n",
      "\u001b[32m17:04:43\u001b[0m | \u001b[1mScore_CV_Folds = 2\u001b[0m\n",
      "\u001b[32m17:04:43\u001b[0m | \u001b[1mFeature_Selection = False\u001b[0m\n",
      "\u001b[32m17:04:43\u001b[0m | \u001b[1mOpt_lvl = 3\u001b[0m\n",
      "\u001b[32m17:04:43\u001b[0m | \u001b[1mCold_start = 120\u001b[0m\n",
      "\u001b[32m17:04:43\u001b[0m | \u001b[1mEarly_stoping = 120\u001b[0m\n",
      "\u001b[32m17:04:43\u001b[0m | \u001b[1mMetric = mean_absolute_error\u001b[0m\n",
      "\u001b[32m17:04:43\u001b[0m | \u001b[1mDirection = minimize\u001b[0m\n",
      "\u001b[32m17:04:43\u001b[0m | \u001b[1m##################################################\u001b[0m\n",
      "Optimize: : 118it [01:50,  1.07it/s, | Model: LightGBM | OptScore: 58.7224 | Best mean_absolute_error: 57.3706 ]\n",
      "\u001b[32m17:06:33\u001b[0m | \u001b[1m\n",
      " EarlyStopping Exceeded: Best Score: 57.3706 mean_absolute_error\u001b[0m\n",
      "\u001b[32m17:06:33\u001b[0m | \u001b[1m> Finish Opt!\u001b[0m\n"
     ]
    },
    {
     "name": "stdout",
     "output_type": "stream",
     "text": [
      "Finished loading model, total used 400 iterations\n",
      "Finished loading model, total used 400 iterations\n",
      "Finished loading model, total used 400 iterations\n",
      "Finished loading model, total used 400 iterations\n",
      "Finished loading model, total used 400 iterations\n",
      "Finished loading model, total used 400 iterations\n",
      "Finished loading model, total used 400 iterations\n",
      "Finished loading model, total used 400 iterations\n"
     ]
    },
    {
     "name": "stderr",
     "output_type": "stream",
     "text": [
      "\u001b[32m17:06:35\u001b[0m | \u001b[1mBest Score: 57.3706 mean_absolute_error\u001b[0m\n"
     ]
    },
    {
     "name": "stdout",
     "output_type": "stream",
     "text": [
      "Finished loading model, total used 400 iterations\n",
      "Finished loading model, total used 400 iterations\n",
      "['인원변화'] 24 10\n"
     ]
    }
   ],
   "source": [
    "random_seed = 0\n",
    "pred_dinner = np.array([0]*50).astype(np.float64)\n",
    "\n",
    "for dc in drop_columns:\n",
    "    for k in ks:\n",
    "        print(dc)\n",
    "        \n",
    "        dinner_model = LightGBMRegressor(random_state=random_seed)\n",
    "        \n",
    "        X_train = dinner_train.drop(columns=dc)\n",
    "        X_test = dinner_test.drop(columns=dc)\n",
    "        \n",
    "        dinner_model.opt(X_train, y_dinner,\n",
    "                        verbose=3,\n",
    "                        cold_start=120,\n",
    "                        folds=k,\n",
    "                        opt_lvl=3,\n",
    "                        early_stoping=120,\n",
    "                        auto_parameters=False,\n",
    "                        timeout=1100,\n",
    "                        metric=MAE\n",
    "                       )\n",
    "            \n",
    "        print(dc,random_seed,k)\n",
    "            \n",
    "        pred_dinner += dinner_model.predict(X_test)\n",
    "\n",
    "        clear_output(True)\n",
    "                \n",
    "        random_seed += 1"
   ]
  },
  {
   "cell_type": "code",
   "execution_count": 45,
   "metadata": {},
   "outputs": [
    {
     "data": {
      "text/html": [
       "<div>\n",
       "<style scoped>\n",
       "    .dataframe tbody tr th:only-of-type {\n",
       "        vertical-align: middle;\n",
       "    }\n",
       "\n",
       "    .dataframe tbody tr th {\n",
       "        vertical-align: top;\n",
       "    }\n",
       "\n",
       "    .dataframe thead th {\n",
       "        text-align: right;\n",
       "    }\n",
       "</style>\n",
       "<table border=\"1\" class=\"dataframe\">\n",
       "  <thead>\n",
       "    <tr style=\"text-align: right;\">\n",
       "      <th></th>\n",
       "      <th>일자</th>\n",
       "      <th>중식계</th>\n",
       "      <th>석식계</th>\n",
       "    </tr>\n",
       "  </thead>\n",
       "  <tbody>\n",
       "    <tr>\n",
       "      <th>0</th>\n",
       "      <td>2021-01-27</td>\n",
       "      <td>991.486653</td>\n",
       "      <td>329.091166</td>\n",
       "    </tr>\n",
       "    <tr>\n",
       "      <th>1</th>\n",
       "      <td>2021-01-28</td>\n",
       "      <td>920.097761</td>\n",
       "      <td>419.711235</td>\n",
       "    </tr>\n",
       "    <tr>\n",
       "      <th>2</th>\n",
       "      <td>2021-01-29</td>\n",
       "      <td>629.656172</td>\n",
       "      <td>221.335990</td>\n",
       "    </tr>\n",
       "    <tr>\n",
       "      <th>3</th>\n",
       "      <td>2021-02-01</td>\n",
       "      <td>1303.890239</td>\n",
       "      <td>547.042724</td>\n",
       "    </tr>\n",
       "    <tr>\n",
       "      <th>4</th>\n",
       "      <td>2021-02-02</td>\n",
       "      <td>1056.245561</td>\n",
       "      <td>473.475649</td>\n",
       "    </tr>\n",
       "  </tbody>\n",
       "</table>\n",
       "</div>"
      ],
      "text/plain": [
       "           일자          중식계         석식계\n",
       "0  2021-01-27   991.486653  329.091166\n",
       "1  2021-01-28   920.097761  419.711235\n",
       "2  2021-01-29   629.656172  221.335990\n",
       "3  2021-02-01  1303.890239  547.042724\n",
       "4  2021-02-02  1056.245561  473.475649"
      ]
     },
     "execution_count": 45,
     "metadata": {},
     "output_type": "execute_result"
    }
   ],
   "source": [
    "submission = pd.read_csv('../data/sample_submission.csv')\n",
    "N = len(ks)*len(drop_columns)\n",
    "\n",
    "submission.iloc[:,1] = pred_lunch/N\n",
    "submission.iloc[:,2] = pred_dinner/N\n",
    "submission.head()"
   ]
  },
  {
   "cell_type": "code",
   "execution_count": 48,
   "metadata": {},
   "outputs": [
    {
     "data": {
      "text/plain": [
       "(16.49537088386855, 9.859359321929544)"
      ]
     },
     "execution_count": 48,
     "metadata": {},
     "output_type": "execute_result"
    }
   ],
   "source": [
    "answer = pd.read_csv('../submission/20210630_lgbm_autoML.csv')\n",
    "\n",
    "lunch_answer = np.array(answer.iloc[:,1])\n",
    "dinner_answer = np.array(answer.iloc[:,2])\n",
    "\n",
    "abs(pred_lunch/N - lunch_answer).mean(), abs(pred_dinner/N - dinner_answer).mean()"
   ]
  },
  {
   "cell_type": "markdown",
   "metadata": {},
   "source": [
    "# 저장"
   ]
  },
  {
   "cell_type": "code",
   "execution_count": 49,
   "metadata": {},
   "outputs": [
    {
     "name": "stdout",
     "output_type": "stream",
     "text": [
      "오늘 날짜 : 20210701\n"
     ]
    }
   ],
   "source": [
    "import datetime\n",
    "today = str(datetime.datetime.now().date()).replace(\"-\",\"\")\n",
    "print(\"오늘 날짜 : \" + today)\n",
    "\n",
    "submission.to_csv(f'../submission/{today}_lgbm_knfold_drop.csv', index =False)"
   ]
  },
  {
   "cell_type": "code",
   "execution_count": null,
   "metadata": {},
   "outputs": [],
   "source": []
  }
 ],
 "metadata": {
  "kernelspec": {
   "display_name": "Python 3",
   "language": "python",
   "name": "python3"
  },
  "language_info": {
   "codemirror_mode": {
    "name": "ipython",
    "version": 3
   },
   "file_extension": ".py",
   "mimetype": "text/x-python",
   "name": "python",
   "nbconvert_exporter": "python",
   "pygments_lexer": "ipython3",
   "version": "3.8.10"
  }
 },
 "nbformat": 4,
 "nbformat_minor": 4
}

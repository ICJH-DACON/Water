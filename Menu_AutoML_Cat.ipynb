{
 "cells": [
  {
   "cell_type": "code",
   "execution_count": 1,
   "metadata": {},
   "outputs": [
    {
     "ename": "RuntimeError",
     "evalue": "module compiled against API version 0xe but this version of numpy is 0xd",
     "output_type": "error",
     "traceback": [
      "\u001b[1;31m---------------------------------------------------------------------------\u001b[0m",
      "\u001b[1;31mRuntimeError\u001b[0m                              Traceback (most recent call last)",
      "\u001b[1;31mRuntimeError\u001b[0m: module compiled against API version 0xe but this version of numpy is 0xd"
     ]
    }
   ],
   "source": [
    "import pandas as pd\n",
    "import numpy as np\n",
    "\n",
    "import matplotlib.pyplot as plt\n",
    "import seaborn as sns\n",
    "%matplotlib inline\n",
    "plt.rcParams['font.family'] = 'Gulim'"
   ]
  },
  {
   "cell_type": "code",
   "execution_count": 2,
   "metadata": {},
   "outputs": [],
   "source": [
    "from workalendar.asia import SouthKorea\n",
    "import pendulum"
   ]
  },
  {
   "cell_type": "code",
   "execution_count": 23,
   "metadata": {},
   "outputs": [],
   "source": [
    "train = pd.read_csv('../data/train.csv')\n",
    "test = pd.read_csv('../data/test.csv')"
   ]
  },
  {
   "cell_type": "markdown",
   "metadata": {},
   "source": [
    "## 전처리\n",
    "- 일자에서 월과 일을 분리\n",
    "- 요일을 레이블 인코딩화(EDA로 요일의 중요도 순 파악)\n",
    "- 월 별, 일 별 중식 석식 수요 차이 파악"
   ]
  },
  {
   "cell_type": "code",
   "execution_count": 24,
   "metadata": {},
   "outputs": [
    {
     "name": "stderr",
     "output_type": "stream",
     "text": [
      "<ipython-input-24-3deeb7b13432>:3: FutureWarning: weekofyear and week have been deprecated, please use DatetimeIndex.isocalendar().week instead, which returns a Series.  To exactly reproduce the behavior of week and weekofyear and return an Index, you may call pd.Int64Index(idx.isocalendar().week)\n",
      "  train['주'] = str(pd.DatetimeIndex(train['일자']).week)\n",
      "<ipython-input-24-3deeb7b13432>:4: FutureWarning: weekofyear and week have been deprecated, please use DatetimeIndex.isocalendar().week instead, which returns a Series.  To exactly reproduce the behavior of week and weekofyear and return an Index, you may call pd.Int64Index(idx.isocalendar().week)\n",
      "  test['주'] = str(pd.DatetimeIndex(test['일자']).week)\n"
     ]
    }
   ],
   "source": [
    "train['월'] = str(pd.DatetimeIndex(train['일자']).month)\n",
    "test['월'] = str(pd.DatetimeIndex(test['일자']).month)\n",
    "train['주'] = str(pd.DatetimeIndex(train['일자']).week)\n",
    "test['주'] = str(pd.DatetimeIndex(test['일자']).week)\n",
    "train['일'] = pd.DatetimeIndex(train['일자']).day\n",
    "test['일'] = pd.DatetimeIndex(test['일자']).day\n",
    "\n",
    "train['출근'] = train['본사정원수']-(train['본사휴가자수']+train['본사출장자수']+train['현본사소속재택근무자수'])\n",
    "train['휴가비율'] = train['본사휴가자수']/train['본사정원수']\n",
    "train['출장비율'] = train['본사출장자수']/train['본사정원수']\n",
    "train['야근비율'] = train['본사시간외근무명령서승인건수']/train['출근']\n",
    "train['재택비율'] = train['현본사소속재택근무자수']/train['본사정원수']\n",
    "\n",
    "test['출근'] = test['본사정원수']-(test['본사휴가자수']+test['본사출장자수']+test['현본사소속재택근무자수'])\n",
    "test['휴가비율'] = test['본사휴가자수']/test['본사정원수']\n",
    "test['출장비율'] = test['본사출장자수']/test['본사정원수']\n",
    "test['야근비율'] = test['본사시간외근무명령서승인건수']/test['출근']\n",
    "test['재택비율'] = test['현본사소속재택근무자수']/test['본사정원수']\n",
    "\n",
    "train['식사가능자수'] = train['본사정원수'] - train['본사휴가자수'] - train['현본사소속재택근무자수']\n",
    "test['식사가능자수'] = test['본사정원수'] - test['본사휴가자수'] - test['현본사소속재택근무자수']\n",
    "\n",
    "# train['중식참여율'] = train['중식계'] / train['식사가능자수']"
   ]
  },
  {
   "cell_type": "code",
   "execution_count": 25,
   "metadata": {},
   "outputs": [],
   "source": [
    "def is_holiday(date):\n",
    "    holidays = list(map(str, pd.Series(np.array(SouthKorea().holidays(int(date[:4])))[:, 0])))\n",
    "    \n",
    "    yesterday = str(np.datetime64(date) - 1)\n",
    "    tomorrow = str(np.datetime64(date) + 1)\n",
    "\n",
    "    if tomorrow in holidays and yesterday in holidays:\n",
    "        return \"3\"\n",
    "    if tomorrow in holidays:\n",
    "        return \"2\"\n",
    "    elif yesterday in holidays:\n",
    "        return \"1\"\n",
    "    else : \n",
    "        return \"0\"\n",
    "\n",
    "def week_of_month(x):\n",
    "    dt = pendulum.parse(x)\n",
    "    \n",
    "    wom = dt.week_of_month\n",
    "    if wom < 0:\n",
    "        wom += 52\n",
    "    return wom\n",
    "    \n",
    "\n",
    "df = pd.concat([train[['본사정원수', '일자']], test[['본사정원수', '일자']]])\n",
    "df['년월'] = df['일자'].apply(lambda x : x[:7])\n",
    "df = df[['년월', '본사정원수']].groupby(by=['년월'], as_index=False).mean()\n",
    "\n",
    "def member_change(date):\n",
    "    this_month = date[:7]\n",
    "    last_month = str(np.datetime64(this_month) - 1)\n",
    "    \n",
    "    this_month_member = int(df[df['년월'] == this_month]['본사정원수'])\n",
    "    last_month_member = int(df[df['년월'] == last_month]['본사정원수'])\n",
    "    \n",
    "    \n",
    "    return  this_month_member - last_month_member\n",
    "\n",
    "train['공휴일전후'] = train['일자'].apply(is_holiday)\n",
    "test['공휴일전후'] = test['일자'].apply(is_holiday)\n",
    "\n",
    "train['몇주차'] = train['일자'].apply(week_of_month)\n",
    "test['몇주차'] = test['일자'].apply(week_of_month)\n",
    "\n",
    "train = train[train['일자'] > '2016-03']\n",
    "train['인원변화'] = train['일자'].apply(member_change)\n",
    "test['인원변화'] = test['일자'].apply(member_change)\n",
    "\n",
    "train['day2']=\"0\"\n",
    "train.loc[train['일']>9, 'day2'] = \"1\"\n",
    "train.loc[train['일']>19, 'day2'] = \"2\"\n",
    "\n",
    "test['day2']=\"0\"\n",
    "test.loc[test['일']>9, 'day2'] = \"1\"\n",
    "test.loc[test['일']>19, 'day2'] = \"2\""
   ]
  },
  {
   "cell_type": "markdown",
   "metadata": {},
   "source": [
    "## 공휴일 변수 생성"
   ]
  },
  {
   "cell_type": "code",
   "execution_count": 26,
   "metadata": {},
   "outputs": [
    {
     "data": {
      "text/plain": [
       "Index(['일자', '요일', '본사정원수', '본사휴가자수', '본사출장자수', '본사시간외근무명령서승인건수',\n",
       "       '현본사소속재택근무자수', '조식메뉴', '중식메뉴', '석식메뉴', '중식계', '석식계', '월', '주', '일',\n",
       "       '출근', '휴가비율', '출장비율', '야근비율', '재택비율', '식사가능자수', '공휴일전후', '몇주차', '인원변화',\n",
       "       'day2'],\n",
       "      dtype='object')"
      ]
     },
     "execution_count": 26,
     "metadata": {},
     "output_type": "execute_result"
    }
   ],
   "source": [
    "train.columns"
   ]
  },
  {
   "cell_type": "code",
   "execution_count": 27,
   "metadata": {},
   "outputs": [],
   "source": [
    "# 메뉴 변수 없이 사용할떄 해당 코드 사용['공휴일전후', '몇주차', '인원변화']\n",
    "\n",
    "lunch_train = train[['공휴일전후', '몇주차', '인원변화', '요일','월','일','주','출근', '휴가비율', '출장비율', '야근비율', '재택비율','본사출장자수','본사휴가자수','식사가능자수','본사시간외근무명령서승인건수']]\n",
    "lunch_test = test[['공휴일전후', '몇주차', '인원변화', '요일','월','일','주','출근', '휴가비율', '출장비율', '야근비율', '재택비율','본사출장자수','본사휴가자수','식사가능자수','본사시간외근무명령서승인건수']]\n",
    "\n",
    "dinner_train= train[['공휴일전후', '몇주차', '인원변화', '요일','월','일','주','출근', '휴가비율', '출장비율', '야근비율', '재택비율','본사출장자수','본사휴가자수','식사가능자수','본사시간외근무명령서승인건수']]\n",
    "dinner_test = test[['공휴일전후', '몇주차', '인원변화', '요일','월','일','주','출근', '휴가비율', '출장비율', '야근비율', '재택비율','본사출장자수','본사휴가자수','식사가능자수','본사시간외근무명령서승인건수']]"
   ]
  },
  {
   "cell_type": "code",
   "execution_count": 28,
   "metadata": {},
   "outputs": [
    {
     "data": {
      "text/plain": [
       "Index(['공휴일전후', '몇주차', '인원변화', '요일', '월', '일', '주', '출근', '휴가비율', '출장비율',\n",
       "       '야근비율', '재택비율', '본사출장자수', '본사휴가자수', '식사가능자수', '본사시간외근무명령서승인건수'],\n",
       "      dtype='object')"
      ]
     },
     "execution_count": 28,
     "metadata": {},
     "output_type": "execute_result"
    }
   ],
   "source": [
    "lunch_train.columns"
   ]
  },
  {
   "cell_type": "code",
   "execution_count": 29,
   "metadata": {
    "scrolled": true
   },
   "outputs": [
    {
     "name": "stdout",
     "output_type": "stream",
     "text": [
      "(1187, 16)\n",
      "(50, 16)\n"
     ]
    }
   ],
   "source": [
    "print(lunch_train.shape)\n",
    "print(lunch_test.shape)"
   ]
  },
  {
   "cell_type": "code",
   "execution_count": 30,
   "metadata": {},
   "outputs": [
    {
     "name": "stdout",
     "output_type": "stream",
     "text": [
      "(1187, 16)\n",
      "(50, 16)\n"
     ]
    }
   ],
   "source": [
    "print(dinner_train.shape)\n",
    "print(dinner_test.shape)"
   ]
  },
  {
   "cell_type": "code",
   "execution_count": 31,
   "metadata": {},
   "outputs": [
    {
     "name": "stdout",
     "output_type": "stream",
     "text": [
      "Cat features are: ['공휴일전후', '요일', '월', '주']\n",
      "[0 3 4 6]\n"
     ]
    }
   ],
   "source": [
    "cat_features = [f for f in lunch_train.columns if lunch_train[f].dtype == 'object']\n",
    "\n",
    "def column_index(df, cat_features):\n",
    "    cols = df.columns.values\n",
    "    sidx = np.argsort(cols)\n",
    "    return sidx[np.searchsorted(cols, cat_features, sorter=sidx)]\n",
    "\n",
    "cat_features_idx = column_index(lunch_train, cat_features)    \n",
    "print(\"Cat features are: %s\" % [f for f in cat_features])\n",
    "print(cat_features_idx)"
   ]
  },
  {
   "cell_type": "code",
   "execution_count": 32,
   "metadata": {},
   "outputs": [],
   "source": [
    "y_lunch = train[['중식계']]\n",
    "y_dinner = train[['석식계']]"
   ]
  },
  {
   "cell_type": "markdown",
   "metadata": {},
   "source": [
    "#### 분포 확인 및 분포 조정"
   ]
  },
  {
   "cell_type": "markdown",
   "metadata": {},
   "source": [
    "# 중식 예측모델"
   ]
  },
  {
   "cell_type": "code",
   "execution_count": 54,
   "metadata": {},
   "outputs": [],
   "source": [
    "from automl_alex import LightGBMRegressor, CatBoostRegressor, AutoMLRegressor\n",
    "from sklearn.metrics import mean_absolute_error as MAE\n",
    "import sklearn"
   ]
  },
  {
   "cell_type": "code",
   "execution_count": 57,
   "metadata": {},
   "outputs": [
    {
     "name": "stderr",
     "output_type": "stream",
     "text": [
      "\u001b[32m21:25:04\u001b[0m | \u001b[1mregression optimize: minimize\u001b[0m\n",
      "--- Logging error in Loguru Handler #6 ---\n",
      "Record was: {'elapsed': datetime.timedelta(seconds=3380, microseconds=636107), 'exception': None, 'extra': {}, 'file': (name='_base.py', path='C:\\\\anaconda3\\\\envs\\\\machinelearning\\\\lib\\\\site-packages\\\\automl_alex\\\\_base.py'), 'function': 'opt', 'level': (name='INFO', no=20, icon='ℹ️'), 'line': 270, 'message': 'regression optimize: minimize', 'module': '_base', 'name': 'automl_alex._base', 'process': (id=10636, name='MainProcess'), 'thread': (id=6924, name='MainThread'), 'time': datetime(2021, 7, 15, 21, 25, 4, 488926, tzinfo=datetime.timezone(datetime.timedelta(seconds=32400), '대한민국 표준시'))}\n",
      "Traceback (most recent call last):\n",
      "  File \"C:\\anaconda3\\envs\\machinelearning\\lib\\site-packages\\loguru\\_handler.py\", line 177, in emit\n",
      "    self._sink.write(str_record)\n",
      "  File \"C:\\anaconda3\\envs\\machinelearning\\lib\\site-packages\\loguru\\_file_sink.py\", line 174, in write\n",
      "    self._terminate_file(is_rotating=True)\n",
      "  File \"C:\\anaconda3\\envs\\machinelearning\\lib\\site-packages\\loguru\\_file_sink.py\", line 205, in _terminate_file\n",
      "    os.rename(old_path, renamed_path)\n",
      "PermissionError: [WinError 32] 다른 프로세스가 파일을 사용 중이기 때문에 프로세스가 액세스 할 수 없습니다: 'C:\\\\Users\\\\김영봉\\\\Desktop\\\\Project\\\\DACON\\\\식수인원예측\\\\notebook\\\\.automl-alex_tmp\\\\log.log' -> 'C:\\\\Users\\\\김영봉\\\\Desktop\\\\Project\\\\DACON\\\\식수인원예측\\\\notebook\\\\.automl-alex_tmp\\\\log.2021-07-15_16-29-06_270718.log'\n",
      "--- End of logging error ---\n",
      "\u001b[32m21:25:04\u001b[0m | \u001b[1m##################################################\u001b[0m\n",
      "--- Logging error in Loguru Handler #8 ---\n",
      "Record was: {'elapsed': datetime.timedelta(seconds=3380, microseconds=650981), 'exception': None, 'extra': {}, 'file': (name='optimizer.py', path='C:\\\\anaconda3\\\\envs\\\\machinelearning\\\\lib\\\\site-packages\\\\automl_alex\\\\optimizer.py'), 'function': 'opt', 'level': (name='INFO', no=20, icon='ℹ️'), 'line': 557, 'message': '##################################################', 'module': 'optimizer', 'name': 'automl_alex.optimizer', 'process': (id=10636, name='MainProcess'), 'thread': (id=6924, name='MainThread'), 'time': datetime(2021, 7, 15, 21, 25, 4, 503800, tzinfo=datetime.timezone(datetime.timedelta(seconds=32400), '대한민국 표준시'))}\n",
      "Traceback (most recent call last):\n",
      "  File \"C:\\anaconda3\\envs\\machinelearning\\lib\\site-packages\\loguru\\_handler.py\", line 177, in emit\n",
      "    self._sink.write(str_record)\n",
      "  File \"C:\\anaconda3\\envs\\machinelearning\\lib\\site-packages\\loguru\\_file_sink.py\", line 174, in write\n",
      "    self._terminate_file(is_rotating=True)\n",
      "  File \"C:\\anaconda3\\envs\\machinelearning\\lib\\site-packages\\loguru\\_file_sink.py\", line 205, in _terminate_file\n",
      "    os.rename(old_path, renamed_path)\n",
      "PermissionError: [WinError 32] 다른 프로세스가 파일을 사용 중이기 때문에 프로세스가 액세스 할 수 없습니다: 'C:\\\\Users\\\\김영봉\\\\Desktop\\\\Project\\\\DACON\\\\식수인원예측\\\\notebook\\\\.automl-alex_tmp\\\\log.log' -> 'C:\\\\Users\\\\김영봉\\\\Desktop\\\\Project\\\\DACON\\\\식수인원예측\\\\notebook\\\\.automl-alex_tmp\\\\log.2021-07-15_16-29-06_270718.log'\n",
      "--- End of logging error ---\n"
     ]
    },
    {
     "ename": "KeyError",
     "evalue": "'CatBoostRegressor'",
     "output_type": "error",
     "traceback": [
      "\u001b[1;31m---------------------------------------------------------------------------\u001b[0m",
      "\u001b[1;31mKeyError\u001b[0m                                  Traceback (most recent call last)",
      "\u001b[1;32m<ipython-input-57-f20b87d68767>\u001b[0m in \u001b[0;36m<module>\u001b[1;34m\u001b[0m\n\u001b[0;32m      1\u001b[0m \u001b[0mlunch_model\u001b[0m \u001b[1;33m=\u001b[0m \u001b[0mCatBoostRegressor\u001b[0m\u001b[1;33m(\u001b[0m\u001b[0mrandom_state\u001b[0m\u001b[1;33m=\u001b[0m\u001b[1;36m42\u001b[0m\u001b[1;33m)\u001b[0m\u001b[1;33m\u001b[0m\u001b[1;33m\u001b[0m\u001b[0m\n\u001b[0;32m      2\u001b[0m \u001b[1;33m\u001b[0m\u001b[0m\n\u001b[1;32m----> 3\u001b[1;33m lunch_model.opt(lunch_train,  y_lunch,\n\u001b[0m\u001b[0;32m      4\u001b[0m             \u001b[0mverbose\u001b[0m\u001b[1;33m=\u001b[0m\u001b[1;36m3\u001b[0m\u001b[1;33m,\u001b[0m  \u001b[0mcold_start\u001b[0m\u001b[1;33m=\u001b[0m\u001b[1;36m120\u001b[0m\u001b[1;33m,\u001b[0m\u001b[0mfolds\u001b[0m\u001b[1;33m=\u001b[0m\u001b[1;36m8\u001b[0m\u001b[1;33m,\u001b[0m\u001b[0mopt_lvl\u001b[0m\u001b[1;33m=\u001b[0m\u001b[1;36m3\u001b[0m\u001b[1;33m,\u001b[0m\u001b[0mearly_stoping\u001b[0m\u001b[1;33m=\u001b[0m\u001b[1;36m120\u001b[0m\u001b[1;33m,\u001b[0m \u001b[0mauto_parameters\u001b[0m\u001b[1;33m=\u001b[0m\u001b[1;32mFalse\u001b[0m\u001b[1;33m,\u001b[0m\u001b[1;31m#metric=sklearn.metrics.roc_auc_score,\u001b[0m\u001b[1;33m\u001b[0m\u001b[1;33m\u001b[0m\u001b[0m\n\u001b[0;32m      5\u001b[0m       \u001b[0mtimeout\u001b[0m\u001b[1;33m=\u001b[0m\u001b[1;36m1100\u001b[0m\u001b[1;33m,\u001b[0m\u001b[0mmetric\u001b[0m\u001b[1;33m=\u001b[0m\u001b[0msklearn\u001b[0m\u001b[1;33m.\u001b[0m\u001b[0mmetrics\u001b[0m\u001b[1;33m.\u001b[0m\u001b[0mmean_absolute_error\u001b[0m \u001b[1;31m# optimization time in seconds,\u001b[0m\u001b[1;33m\u001b[0m\u001b[1;33m\u001b[0m\u001b[0m\n",
      "\u001b[1;32mC:\\anaconda3\\envs\\machinelearning\\lib\\site-packages\\automl_alex\\_base.py\u001b[0m in \u001b[0;36mopt\u001b[1;34m(self, X, y, timeout, metric, metric_round, combined_score_opt, cold_start, auto_parameters, folds, score_folds, opt_lvl, early_stoping, verbose)\u001b[0m\n\u001b[0;32m    288\u001b[0m         )\n\u001b[0;32m    289\u001b[0m \u001b[1;33m\u001b[0m\u001b[0m\n\u001b[1;32m--> 290\u001b[1;33m         history = self.optimizer.opt(\n\u001b[0m\u001b[0;32m    291\u001b[0m             \u001b[0mX\u001b[0m\u001b[1;33m,\u001b[0m\u001b[1;33m\u001b[0m\u001b[1;33m\u001b[0m\u001b[0m\n\u001b[0;32m    292\u001b[0m             \u001b[0my\u001b[0m\u001b[1;33m,\u001b[0m\u001b[1;33m\u001b[0m\u001b[1;33m\u001b[0m\u001b[0m\n",
      "\u001b[1;32mC:\\anaconda3\\envs\\machinelearning\\lib\\site-packages\\automl_alex\\optimizer.py\u001b[0m in \u001b[0;36mopt\u001b[1;34m(self, X, y, timeout, verbose, fit_end)\u001b[0m\n\u001b[0;32m    588\u001b[0m         \u001b[0mself\u001b[0m\u001b[1;33m.\u001b[0m\u001b[0mmodel_name\u001b[0m \u001b[1;33m=\u001b[0m \u001b[0mself\u001b[0m\u001b[1;33m.\u001b[0m\u001b[0mmodels_names\u001b[0m\u001b[1;33m[\u001b[0m\u001b[1;36m0\u001b[0m\u001b[1;33m]\u001b[0m\u001b[1;33m\u001b[0m\u001b[1;33m\u001b[0m\u001b[0m\n\u001b[0;32m    589\u001b[0m \u001b[1;33m\u001b[0m\u001b[0m\n\u001b[1;32m--> 590\u001b[1;33m         self.opt_model = automl_alex.models.all_models[self.model_name](\n\u001b[0m\u001b[0;32m    591\u001b[0m             \u001b[0mtype_of_estimator\u001b[0m\u001b[1;33m=\u001b[0m\u001b[0mself\u001b[0m\u001b[1;33m.\u001b[0m\u001b[0m_type_of_estimator\u001b[0m\u001b[1;33m,\u001b[0m\u001b[1;33m\u001b[0m\u001b[1;33m\u001b[0m\u001b[0m\n\u001b[0;32m    592\u001b[0m             \u001b[0mrandom_state\u001b[0m\u001b[1;33m=\u001b[0m\u001b[0mself\u001b[0m\u001b[1;33m.\u001b[0m\u001b[0m_random_state\u001b[0m\u001b[1;33m,\u001b[0m\u001b[1;33m\u001b[0m\u001b[1;33m\u001b[0m\u001b[0m\n",
      "\u001b[1;31mKeyError\u001b[0m: 'CatBoostRegressor'"
     ]
    }
   ],
   "source": [
    "lunch_model = CatBoostRegressor(random_state=42)\n",
    "\n",
    "lunch_model.opt(lunch_train,  y_lunch,\n",
    "            verbose=3,  cold_start=120,folds=8,opt_lvl=3,early_stoping=120, auto_parameters=False,#metric=sklearn.metrics.roc_auc_score,\n",
    "      timeout=1100,metric=sklearn.metrics.mean_absolute_error # optimization time in seconds,\n",
    "      )"
   ]
  },
  {
   "cell_type": "code",
   "execution_count": 58,
   "metadata": {},
   "outputs": [
    {
     "ename": "Exception",
     "evalue": "No fit models",
     "output_type": "error",
     "traceback": [
      "\u001b[1;31m---------------------------------------------------------------------------\u001b[0m",
      "\u001b[1;31mException\u001b[0m                                 Traceback (most recent call last)",
      "\u001b[1;32m<ipython-input-58-aa070236550e>\u001b[0m in \u001b[0;36m<module>\u001b[1;34m\u001b[0m\n\u001b[1;32m----> 1\u001b[1;33m \u001b[0mpredicts_Auto_lunch\u001b[0m \u001b[1;33m=\u001b[0m \u001b[0mlunch_model\u001b[0m\u001b[1;33m.\u001b[0m\u001b[0mpredict\u001b[0m\u001b[1;33m(\u001b[0m\u001b[0mlunch_test\u001b[0m\u001b[1;33m)\u001b[0m\u001b[1;33m\u001b[0m\u001b[1;33m\u001b[0m\u001b[0m\n\u001b[0m",
      "\u001b[1;32mC:\\anaconda3\\envs\\machinelearning\\lib\\site-packages\\automl_alex\\models\\model_catboost.py\u001b[0m in \u001b[0;36mpredict\u001b[1;34m(self, X)\u001b[0m\n\u001b[0;32m     77\u001b[0m         \"\"\"\n\u001b[0;32m     78\u001b[0m         \u001b[1;32mif\u001b[0m \u001b[0mself\u001b[0m\u001b[1;33m.\u001b[0m\u001b[0mmodel\u001b[0m \u001b[1;32mis\u001b[0m \u001b[1;32mNone\u001b[0m\u001b[1;33m:\u001b[0m\u001b[1;33m\u001b[0m\u001b[1;33m\u001b[0m\u001b[0m\n\u001b[1;32m---> 79\u001b[1;33m             \u001b[1;32mraise\u001b[0m \u001b[0mException\u001b[0m\u001b[1;33m(\u001b[0m\u001b[1;34m\"No fit models\"\u001b[0m\u001b[1;33m)\u001b[0m\u001b[1;33m\u001b[0m\u001b[1;33m\u001b[0m\u001b[0m\n\u001b[0m\u001b[0;32m     80\u001b[0m \u001b[1;33m\u001b[0m\u001b[0m\n\u001b[0;32m     81\u001b[0m         \u001b[1;32mif\u001b[0m \u001b[0mself\u001b[0m\u001b[1;33m.\u001b[0m\u001b[0m_type_of_estimator\u001b[0m \u001b[1;33m==\u001b[0m \u001b[1;34m\"classifier\"\u001b[0m\u001b[1;33m:\u001b[0m\u001b[1;33m\u001b[0m\u001b[1;33m\u001b[0m\u001b[0m\n",
      "\u001b[1;31mException\u001b[0m: No fit models"
     ]
    }
   ],
   "source": [
    "predicts_Auto_lunch = lunch_model.predict(lunch_test)"
   ]
  },
  {
   "cell_type": "code",
   "execution_count": null,
   "metadata": {},
   "outputs": [],
   "source": [
    "lunch_model.get_model_opt_params()"
   ]
  },
  {
   "cell_type": "code",
   "execution_count": 53,
   "metadata": {},
   "outputs": [
    {
     "name": "stderr",
     "output_type": "stream",
     "text": [
      "\u001b[32m21:24:13\u001b[0m | \u001b[1mregression optimize: minimize\u001b[0m\n",
      "--- Logging error in Loguru Handler #2 ---\n",
      "Record was: {'elapsed': datetime.timedelta(seconds=3329, microseconds=467113), 'exception': None, 'extra': {}, 'file': (name='_base.py', path='C:\\\\anaconda3\\\\envs\\\\machinelearning\\\\lib\\\\site-packages\\\\automl_alex\\\\_base.py'), 'function': 'opt', 'level': (name='INFO', no=20, icon='ℹ️'), 'line': 270, 'message': 'regression optimize: minimize', 'module': '_base', 'name': 'automl_alex._base', 'process': (id=10636, name='MainProcess'), 'thread': (id=6924, name='MainThread'), 'time': datetime(2021, 7, 15, 21, 24, 13, 319932, tzinfo=datetime.timezone(datetime.timedelta(seconds=32400), '대한민국 표준시'))}\n",
      "Traceback (most recent call last):\n",
      "  File \"C:\\anaconda3\\envs\\machinelearning\\lib\\site-packages\\loguru\\_handler.py\", line 177, in emit\n",
      "    self._sink.write(str_record)\n",
      "  File \"C:\\anaconda3\\envs\\machinelearning\\lib\\site-packages\\loguru\\_file_sink.py\", line 174, in write\n",
      "    self._terminate_file(is_rotating=True)\n",
      "  File \"C:\\anaconda3\\envs\\machinelearning\\lib\\site-packages\\loguru\\_file_sink.py\", line 205, in _terminate_file\n",
      "    os.rename(old_path, renamed_path)\n",
      "PermissionError: [WinError 32] 다른 프로세스가 파일을 사용 중이기 때문에 프로세스가 액세스 할 수 없습니다: 'C:\\\\Users\\\\김영봉\\\\Desktop\\\\Project\\\\DACON\\\\식수인원예측\\\\notebook\\\\.automl-alex_tmp\\\\log.log' -> 'C:\\\\Users\\\\김영봉\\\\Desktop\\\\Project\\\\DACON\\\\식수인원예측\\\\notebook\\\\.automl-alex_tmp\\\\log.2021-07-15_16-29-06_270718.log'\n",
      "--- End of logging error ---\n",
      "\u001b[32m21:24:13\u001b[0m | \u001b[1m##################################################\u001b[0m\n",
      "--- Logging error in Loguru Handler #4 ---\n",
      "Record was: {'elapsed': datetime.timedelta(seconds=3329, microseconds=485524), 'exception': None, 'extra': {}, 'file': (name='optimizer.py', path='C:\\\\anaconda3\\\\envs\\\\machinelearning\\\\lib\\\\site-packages\\\\automl_alex\\\\optimizer.py'), 'function': 'opt', 'level': (name='INFO', no=20, icon='ℹ️'), 'line': 557, 'message': '##################################################', 'module': 'optimizer', 'name': 'automl_alex.optimizer', 'process': (id=10636, name='MainProcess'), 'thread': (id=6924, name='MainThread'), 'time': datetime(2021, 7, 15, 21, 24, 13, 338343, tzinfo=datetime.timezone(datetime.timedelta(seconds=32400), '대한민국 표준시'))}\n",
      "Traceback (most recent call last):\n",
      "  File \"C:\\anaconda3\\envs\\machinelearning\\lib\\site-packages\\loguru\\_handler.py\", line 177, in emit\n",
      "    self._sink.write(str_record)\n",
      "  File \"C:\\anaconda3\\envs\\machinelearning\\lib\\site-packages\\loguru\\_file_sink.py\", line 174, in write\n",
      "    self._terminate_file(is_rotating=True)\n",
      "  File \"C:\\anaconda3\\envs\\machinelearning\\lib\\site-packages\\loguru\\_file_sink.py\", line 205, in _terminate_file\n",
      "    os.rename(old_path, renamed_path)\n",
      "PermissionError: [WinError 32] 다른 프로세스가 파일을 사용 중이기 때문에 프로세스가 액세스 할 수 없습니다: 'C:\\\\Users\\\\김영봉\\\\Desktop\\\\Project\\\\DACON\\\\식수인원예측\\\\notebook\\\\.automl-alex_tmp\\\\log.log' -> 'C:\\\\Users\\\\김영봉\\\\Desktop\\\\Project\\\\DACON\\\\식수인원예측\\\\notebook\\\\.automl-alex_tmp\\\\log.2021-07-15_16-29-06_270718.log'\n",
      "--- End of logging error ---\n"
     ]
    },
    {
     "ename": "KeyError",
     "evalue": "'CatBoostRegressor'",
     "output_type": "error",
     "traceback": [
      "\u001b[1;31m---------------------------------------------------------------------------\u001b[0m",
      "\u001b[1;31mKeyError\u001b[0m                                  Traceback (most recent call last)",
      "\u001b[1;32m<ipython-input-53-d460f25dd854>\u001b[0m in \u001b[0;36m<module>\u001b[1;34m\u001b[0m\n\u001b[0;32m      1\u001b[0m \u001b[0mdinner_model\u001b[0m \u001b[1;33m=\u001b[0m \u001b[0mCatBoostRegressor\u001b[0m\u001b[1;33m(\u001b[0m\u001b[0mrandom_state\u001b[0m\u001b[1;33m=\u001b[0m\u001b[1;36m42\u001b[0m\u001b[1;33m)\u001b[0m\u001b[1;33m\u001b[0m\u001b[1;33m\u001b[0m\u001b[0m\n\u001b[0;32m      2\u001b[0m \u001b[1;33m\u001b[0m\u001b[0m\n\u001b[1;32m----> 3\u001b[1;33m dinner_model.opt(lunch_train,  y_lunch,\n\u001b[0m\u001b[0;32m      4\u001b[0m                 \u001b[0mverbose\u001b[0m\u001b[1;33m=\u001b[0m\u001b[1;36m3\u001b[0m\u001b[1;33m,\u001b[0m  \u001b[0mcold_start\u001b[0m\u001b[1;33m=\u001b[0m\u001b[1;36m120\u001b[0m\u001b[1;33m,\u001b[0m\u001b[0mfolds\u001b[0m\u001b[1;33m=\u001b[0m\u001b[1;36m8\u001b[0m\u001b[1;33m,\u001b[0m\u001b[0mopt_lvl\u001b[0m\u001b[1;33m=\u001b[0m\u001b[1;36m3\u001b[0m\u001b[1;33m,\u001b[0m\u001b[0mearly_stoping\u001b[0m\u001b[1;33m=\u001b[0m\u001b[1;36m120\u001b[0m\u001b[1;33m,\u001b[0m \u001b[0mauto_parameters\u001b[0m\u001b[1;33m=\u001b[0m\u001b[1;32mFalse\u001b[0m\u001b[1;33m,\u001b[0m\u001b[1;31m#metric=sklearn.metrics.roc_auc_score,\u001b[0m\u001b[1;33m\u001b[0m\u001b[1;33m\u001b[0m\u001b[0m\n\u001b[0;32m      5\u001b[0m               \u001b[0mtimeout\u001b[0m\u001b[1;33m=\u001b[0m\u001b[1;36m1100\u001b[0m\u001b[1;33m,\u001b[0m\u001b[0mmetric\u001b[0m\u001b[1;33m=\u001b[0m\u001b[0msklearn\u001b[0m\u001b[1;33m.\u001b[0m\u001b[0mmetrics\u001b[0m\u001b[1;33m.\u001b[0m\u001b[0mmean_absolute_error\u001b[0m \u001b[1;31m# optimization time in seconds,\u001b[0m\u001b[1;33m\u001b[0m\u001b[1;33m\u001b[0m\u001b[0m\n",
      "\u001b[1;32mC:\\anaconda3\\envs\\machinelearning\\lib\\site-packages\\automl_alex\\_base.py\u001b[0m in \u001b[0;36mopt\u001b[1;34m(self, X, y, timeout, metric, metric_round, combined_score_opt, cold_start, auto_parameters, folds, score_folds, opt_lvl, early_stoping, verbose)\u001b[0m\n\u001b[0;32m    288\u001b[0m         )\n\u001b[0;32m    289\u001b[0m \u001b[1;33m\u001b[0m\u001b[0m\n\u001b[1;32m--> 290\u001b[1;33m         history = self.optimizer.opt(\n\u001b[0m\u001b[0;32m    291\u001b[0m             \u001b[0mX\u001b[0m\u001b[1;33m,\u001b[0m\u001b[1;33m\u001b[0m\u001b[1;33m\u001b[0m\u001b[0m\n\u001b[0;32m    292\u001b[0m             \u001b[0my\u001b[0m\u001b[1;33m,\u001b[0m\u001b[1;33m\u001b[0m\u001b[1;33m\u001b[0m\u001b[0m\n",
      "\u001b[1;32mC:\\anaconda3\\envs\\machinelearning\\lib\\site-packages\\automl_alex\\optimizer.py\u001b[0m in \u001b[0;36mopt\u001b[1;34m(self, X, y, timeout, verbose, fit_end)\u001b[0m\n\u001b[0;32m    588\u001b[0m         \u001b[0mself\u001b[0m\u001b[1;33m.\u001b[0m\u001b[0mmodel_name\u001b[0m \u001b[1;33m=\u001b[0m \u001b[0mself\u001b[0m\u001b[1;33m.\u001b[0m\u001b[0mmodels_names\u001b[0m\u001b[1;33m[\u001b[0m\u001b[1;36m0\u001b[0m\u001b[1;33m]\u001b[0m\u001b[1;33m\u001b[0m\u001b[1;33m\u001b[0m\u001b[0m\n\u001b[0;32m    589\u001b[0m \u001b[1;33m\u001b[0m\u001b[0m\n\u001b[1;32m--> 590\u001b[1;33m         self.opt_model = automl_alex.models.all_models[self.model_name](\n\u001b[0m\u001b[0;32m    591\u001b[0m             \u001b[0mtype_of_estimator\u001b[0m\u001b[1;33m=\u001b[0m\u001b[0mself\u001b[0m\u001b[1;33m.\u001b[0m\u001b[0m_type_of_estimator\u001b[0m\u001b[1;33m,\u001b[0m\u001b[1;33m\u001b[0m\u001b[1;33m\u001b[0m\u001b[0m\n\u001b[0;32m    592\u001b[0m             \u001b[0mrandom_state\u001b[0m\u001b[1;33m=\u001b[0m\u001b[0mself\u001b[0m\u001b[1;33m.\u001b[0m\u001b[0m_random_state\u001b[0m\u001b[1;33m,\u001b[0m\u001b[1;33m\u001b[0m\u001b[1;33m\u001b[0m\u001b[0m\n",
      "\u001b[1;31mKeyError\u001b[0m: 'CatBoostRegressor'"
     ]
    }
   ],
   "source": [
    "dinner_model = CatBoostRegressor(random_state=42)\n",
    "\n",
    "dinner_model.opt(lunch_train,  y_lunch,\n",
    "                verbose=3,  cold_start=120,folds=8,opt_lvl=3,early_stoping=120, auto_parameters=False,#metric=sklearn.metrics.roc_auc_score,\n",
    "              timeout=1100,metric=sklearn.metrics.mean_absolute_error # optimization time in seconds,\n",
    "              )"
   ]
  },
  {
   "cell_type": "code",
   "execution_count": 44,
   "metadata": {},
   "outputs": [
    {
     "data": {
      "text/plain": [
       "(Index(['공휴일전후', '몇주차', '인원변화', '요일', '월', '일', '주', '출근', '휴가비율', '출장비율',\n",
       "        '야근비율', '재택비율', '본사출장자수', '본사휴가자수', '식사가능자수', '본사시간외근무명령서승인건수'],\n",
       "       dtype='object'),\n",
       " Index(['공휴일전후', '몇주차', '인원변화', '요일', '월', '일', '주', '출근', '휴가비율', '출장비율',\n",
       "        '야근비율', '재택비율', '본사출장자수', '본사휴가자수', '식사가능자수', '본사시간외근무명령서승인건수'],\n",
       "       dtype='object'))"
      ]
     },
     "execution_count": 44,
     "metadata": {},
     "output_type": "execute_result"
    }
   ],
   "source": [
    "lunch_train.columns, lunch_test.columns, "
   ]
  },
  {
   "cell_type": "code",
   "execution_count": 45,
   "metadata": {},
   "outputs": [],
   "source": [
    "predicts_Auto_dinner = dinner_model.predict(dinner_test)"
   ]
  },
  {
   "cell_type": "code",
   "execution_count": 46,
   "metadata": {},
   "outputs": [],
   "source": [
    "submission = pd.read_csv('../data/sample_submission.csv')"
   ]
  },
  {
   "cell_type": "code",
   "execution_count": 47,
   "metadata": {},
   "outputs": [
    {
     "data": {
      "text/html": [
       "<div>\n",
       "<style scoped>\n",
       "    .dataframe tbody tr th:only-of-type {\n",
       "        vertical-align: middle;\n",
       "    }\n",
       "\n",
       "    .dataframe tbody tr th {\n",
       "        vertical-align: top;\n",
       "    }\n",
       "\n",
       "    .dataframe thead th {\n",
       "        text-align: right;\n",
       "    }\n",
       "</style>\n",
       "<table border=\"1\" class=\"dataframe\">\n",
       "  <thead>\n",
       "    <tr style=\"text-align: right;\">\n",
       "      <th></th>\n",
       "      <th>일자</th>\n",
       "      <th>중식계</th>\n",
       "      <th>석식계</th>\n",
       "    </tr>\n",
       "  </thead>\n",
       "  <tbody>\n",
       "    <tr>\n",
       "      <th>0</th>\n",
       "      <td>2021-01-27</td>\n",
       "      <td>1022.000418</td>\n",
       "      <td>386.208373</td>\n",
       "    </tr>\n",
       "    <tr>\n",
       "      <th>1</th>\n",
       "      <td>2021-01-28</td>\n",
       "      <td>942.895740</td>\n",
       "      <td>446.545413</td>\n",
       "    </tr>\n",
       "    <tr>\n",
       "      <th>2</th>\n",
       "      <td>2021-01-29</td>\n",
       "      <td>606.124002</td>\n",
       "      <td>226.351950</td>\n",
       "    </tr>\n",
       "    <tr>\n",
       "      <th>3</th>\n",
       "      <td>2021-02-01</td>\n",
       "      <td>1285.863560</td>\n",
       "      <td>506.678670</td>\n",
       "    </tr>\n",
       "    <tr>\n",
       "      <th>4</th>\n",
       "      <td>2021-02-02</td>\n",
       "      <td>1057.748842</td>\n",
       "      <td>453.229518</td>\n",
       "    </tr>\n",
       "  </tbody>\n",
       "</table>\n",
       "</div>"
      ],
      "text/plain": [
       "           일자          중식계         석식계\n",
       "0  2021-01-27  1022.000418  386.208373\n",
       "1  2021-01-28   942.895740  446.545413\n",
       "2  2021-01-29   606.124002  226.351950\n",
       "3  2021-02-01  1285.863560  506.678670\n",
       "4  2021-02-02  1057.748842  453.229518"
      ]
     },
     "execution_count": 47,
     "metadata": {},
     "output_type": "execute_result"
    }
   ],
   "source": [
    "submission.iloc[:,1] = predicts_Auto_lunch\n",
    "submission.iloc[:,2] = predicts_Auto_dinner\n",
    "submission.head()"
   ]
  },
  {
   "cell_type": "code",
   "execution_count": 50,
   "metadata": {},
   "outputs": [
    {
     "name": "stdout",
     "output_type": "stream",
     "text": [
      "lunch_MAE :  25.385260160973232\n",
      "dinner_MAE :  43.00003275954029\n",
      "total_MAE :  34.19264646025676\n",
      "lunch_MAE :  34.62573286811751\n",
      "dinner_MAE :  49.91989531195473\n",
      "total_MAE :  42.27281409003612\n"
     ]
    }
   ],
   "source": [
    "def compare_ans(DIR):\n",
    "    answer = pd.read_csv(DIR)\n",
    "\n",
    "    lunch_answer = np.array(answer.iloc[:,1])\n",
    "    dinner_answer = np.array(answer.iloc[:,2])\n",
    "    \n",
    "    lunch_MAE = abs(predicts_Auto_lunch - lunch_answer).mean()\n",
    "    dinner_MAE = abs(predicts_Auto_dinner - dinner_answer).mean()\n",
    "    \n",
    "    print(\"lunch_MAE : \", lunch_MAE)\n",
    "    print(\"dinner_MAE : \", dinner_MAE)\n",
    "    print(\"total_MAE : \", (lunch_MAE+dinner_MAE)/2)\n",
    "    \n",
    "    \n",
    "compare_ans('../submission/20210715_lgbm_autoML.csv')\n",
    "compare_ans('../submission/20210715_lgbm_autoML_ensenble.csv')"
   ]
  },
  {
   "cell_type": "code",
   "execution_count": 51,
   "metadata": {},
   "outputs": [
    {
     "data": {
      "text/plain": [
       "25.539537282882215"
      ]
     },
     "execution_count": 51,
     "metadata": {},
     "output_type": "execute_result"
    }
   ],
   "source": [
    "import math\n",
    "\n",
    "math.cos(math.pi*68.44/180)*69.5"
   ]
  },
  {
   "cell_type": "markdown",
   "metadata": {},
   "source": [
    "# 저장"
   ]
  },
  {
   "cell_type": "code",
   "execution_count": 52,
   "metadata": {},
   "outputs": [
    {
     "name": "stdout",
     "output_type": "stream",
     "text": [
      "오늘 날짜 : 20210715\n"
     ]
    }
   ],
   "source": [
    "import datetime\n",
    "today = str(datetime.datetime.now().date()).replace(\"-\",\"\")\n",
    "print(\"오늘 날짜 : \" + today)\n",
    "\n",
    "submission.to_csv(f'../submission/{today}_cat_autoML.csv', index =False)"
   ]
  },
  {
   "cell_type": "code",
   "execution_count": 69,
   "metadata": {},
   "outputs": [],
   "source": [
    "answer = pd.read_csv('../submission/20210715_pycaret_(2).csv')"
   ]
  },
  {
   "cell_type": "code",
   "execution_count": 84,
   "metadata": {},
   "outputs": [],
   "source": [
    "best_submission = pd.read_csv('../data/sample_submission.csv')\n",
    "best_submission.iloc[:,1:] = submission.iloc[:,1:]*5/9 +  answer.iloc[:,1:]*4/9\n",
    "best_submission.to_csv(f'../submission/{today}_lgbm_autoML_ensenble.csv', index =False)"
   ]
  }
 ],
 "metadata": {
  "kernelspec": {
   "display_name": "Python 3",
   "language": "python",
   "name": "python3"
  },
  "language_info": {
   "codemirror_mode": {
    "name": "ipython",
    "version": 3
   },
   "file_extension": ".py",
   "mimetype": "text/x-python",
   "name": "python",
   "nbconvert_exporter": "python",
   "pygments_lexer": "ipython3",
   "version": "3.8.10"
  }
 },
 "nbformat": 4,
 "nbformat_minor": 4
}

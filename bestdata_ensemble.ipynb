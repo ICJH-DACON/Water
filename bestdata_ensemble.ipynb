{
 "cells": [
  {
   "cell_type": "code",
   "execution_count": 1,
   "id": "61c219c4",
   "metadata": {},
   "outputs": [
    {
     "ename": "RuntimeError",
     "evalue": "module compiled against API version 0xe but this version of numpy is 0xd",
     "output_type": "error",
     "traceback": [
      "\u001b[1;31m---------------------------------------------------------------------------\u001b[0m",
      "\u001b[1;31mRuntimeError\u001b[0m                              Traceback (most recent call last)",
      "\u001b[1;31mRuntimeError\u001b[0m: module compiled against API version 0xe but this version of numpy is 0xd"
     ]
    }
   ],
   "source": [
    "import pandas as pd"
   ]
  },
  {
   "cell_type": "code",
   "execution_count": 25,
   "id": "0dcf66e5",
   "metadata": {},
   "outputs": [],
   "source": [
    "submission = pd.read_csv('../data/sample_submission.csv')\n",
    "\n",
    "best_data1 = pd.read_csv('../submission/20210715_lgbm_autoML.csv')\n",
    "best_data2 = pd.read_csv('../submission/20210716_lgbm_autoML_in.csv')\n",
    "\n",
    "best_data3= pd.read_csv('../submission/20210701_pycaret_(2)-69.8998.csv')\n",
    "best_data4= pd.read_csv('../submission/20210715_pycaret_(2).csv')\n",
    "\n",
    "best_data5= pd.read_csv('../submission/20210717_pycaret_(2).csv')"
   ]
  },
  {
   "cell_type": "code",
   "execution_count": 26,
   "id": "d2ccc0cb",
   "metadata": {},
   "outputs": [
    {
     "data": {
      "text/html": [
       "<div>\n",
       "<style scoped>\n",
       "    .dataframe tbody tr th:only-of-type {\n",
       "        vertical-align: middle;\n",
       "    }\n",
       "\n",
       "    .dataframe tbody tr th {\n",
       "        vertical-align: top;\n",
       "    }\n",
       "\n",
       "    .dataframe thead th {\n",
       "        text-align: right;\n",
       "    }\n",
       "</style>\n",
       "<table border=\"1\" class=\"dataframe\">\n",
       "  <thead>\n",
       "    <tr style=\"text-align: right;\">\n",
       "      <th></th>\n",
       "      <th>일자</th>\n",
       "      <th>중식계</th>\n",
       "      <th>석식계</th>\n",
       "    </tr>\n",
       "  </thead>\n",
       "  <tbody>\n",
       "    <tr>\n",
       "      <th>0</th>\n",
       "      <td>2021-01-27</td>\n",
       "      <td>987.440388</td>\n",
       "      <td>315.235787</td>\n",
       "    </tr>\n",
       "    <tr>\n",
       "      <th>1</th>\n",
       "      <td>2021-01-28</td>\n",
       "      <td>924.001336</td>\n",
       "      <td>413.200692</td>\n",
       "    </tr>\n",
       "    <tr>\n",
       "      <th>2</th>\n",
       "      <td>2021-01-29</td>\n",
       "      <td>623.654554</td>\n",
       "      <td>201.173574</td>\n",
       "    </tr>\n",
       "    <tr>\n",
       "      <th>3</th>\n",
       "      <td>2021-02-01</td>\n",
       "      <td>1285.269203</td>\n",
       "      <td>525.168245</td>\n",
       "    </tr>\n",
       "    <tr>\n",
       "      <th>4</th>\n",
       "      <td>2021-02-02</td>\n",
       "      <td>1069.937500</td>\n",
       "      <td>452.460425</td>\n",
       "    </tr>\n",
       "  </tbody>\n",
       "</table>\n",
       "</div>"
      ],
      "text/plain": [
       "           일자          중식계         석식계\n",
       "0  2021-01-27   987.440388  315.235787\n",
       "1  2021-01-28   924.001336  413.200692\n",
       "2  2021-01-29   623.654554  201.173574\n",
       "3  2021-02-01  1285.269203  525.168245\n",
       "4  2021-02-02  1069.937500  452.460425"
      ]
     },
     "execution_count": 26,
     "metadata": {},
     "output_type": "execute_result"
    }
   ],
   "source": [
    "submission.iloc[:,1:] = (best_data1.iloc[:,1:]*0.4 + best_data2.iloc[:,1:]*0.6)\n",
    "\n",
    "submission.head()"
   ]
  },
  {
   "cell_type": "code",
   "execution_count": 27,
   "id": "b09f662b",
   "metadata": {},
   "outputs": [
    {
     "data": {
      "text/plain": [
       "중식계    66.134258\n",
       "석식계    27.376310\n",
       "dtype: float64"
      ]
     },
     "execution_count": 27,
     "metadata": {},
     "output_type": "execute_result"
    }
   ],
   "source": [
    "abs(best_data1.iloc[:,1:] - best_data5.iloc[:,1:]).mean()"
   ]
  },
  {
   "cell_type": "code",
   "execution_count": 28,
   "id": "d6bff7ec",
   "metadata": {},
   "outputs": [
    {
     "data": {
      "text/plain": [
       "중식계    99.029147\n",
       "석식계    23.865164\n",
       "dtype: float64"
      ]
     },
     "execution_count": 28,
     "metadata": {},
     "output_type": "execute_result"
    }
   ],
   "source": [
    "abs(best_data3.iloc[:,1:] - submission.iloc[:,1:]).mean()"
   ]
  },
  {
   "cell_type": "code",
   "execution_count": 29,
   "id": "da5b2e00",
   "metadata": {},
   "outputs": [
    {
     "data": {
      "text/plain": [
       "중식계    99.641503\n",
       "석식계    25.344166\n",
       "dtype: float64"
      ]
     },
     "execution_count": 29,
     "metadata": {},
     "output_type": "execute_result"
    }
   ],
   "source": [
    "abs(best_data3.iloc[:,1:] - best_data1.iloc[:,1:]).mean()"
   ]
  },
  {
   "cell_type": "code",
   "execution_count": 30,
   "id": "d5d6c7b0",
   "metadata": {},
   "outputs": [
    {
     "data": {
      "text/plain": [
       "중식계    40.482167\n",
       "석식계    12.563572\n",
       "dtype: float64"
      ]
     },
     "execution_count": 30,
     "metadata": {},
     "output_type": "execute_result"
    }
   ],
   "source": [
    "abs(best_data5.iloc[:,1:] - best_data3.iloc[:,1:]).mean()"
   ]
  },
  {
   "cell_type": "code",
   "execution_count": 38,
   "id": "4aede918",
   "metadata": {},
   "outputs": [
    {
     "data": {
      "text/html": [
       "<div>\n",
       "<style scoped>\n",
       "    .dataframe tbody tr th:only-of-type {\n",
       "        vertical-align: middle;\n",
       "    }\n",
       "\n",
       "    .dataframe tbody tr th {\n",
       "        vertical-align: top;\n",
       "    }\n",
       "\n",
       "    .dataframe thead th {\n",
       "        text-align: right;\n",
       "    }\n",
       "</style>\n",
       "<table border=\"1\" class=\"dataframe\">\n",
       "  <thead>\n",
       "    <tr style=\"text-align: right;\">\n",
       "      <th></th>\n",
       "      <th>일자</th>\n",
       "      <th>중식계</th>\n",
       "      <th>석식계</th>\n",
       "    </tr>\n",
       "  </thead>\n",
       "  <tbody>\n",
       "    <tr>\n",
       "      <th>0</th>\n",
       "      <td>2021-01-27</td>\n",
       "      <td>1065.436637</td>\n",
       "      <td>339.025500</td>\n",
       "    </tr>\n",
       "    <tr>\n",
       "      <th>1</th>\n",
       "      <td>2021-01-28</td>\n",
       "      <td>1015.699511</td>\n",
       "      <td>410.042833</td>\n",
       "    </tr>\n",
       "    <tr>\n",
       "      <th>2</th>\n",
       "      <td>2021-01-29</td>\n",
       "      <td>671.618207</td>\n",
       "      <td>222.970263</td>\n",
       "    </tr>\n",
       "    <tr>\n",
       "      <th>3</th>\n",
       "      <td>2021-02-01</td>\n",
       "      <td>1283.212812</td>\n",
       "      <td>517.444419</td>\n",
       "    </tr>\n",
       "    <tr>\n",
       "      <th>4</th>\n",
       "      <td>2021-02-02</td>\n",
       "      <td>1091.949944</td>\n",
       "      <td>455.125062</td>\n",
       "    </tr>\n",
       "  </tbody>\n",
       "</table>\n",
       "</div>"
      ],
      "text/plain": [
       "           일자          중식계         석식계\n",
       "0  2021-01-27  1065.436637  339.025500\n",
       "1  2021-01-28  1015.699511  410.042833\n",
       "2  2021-01-29   671.618207  222.970263\n",
       "3  2021-02-01  1283.212812  517.444419\n",
       "4  2021-02-02  1091.949944  455.125062"
      ]
     },
     "execution_count": 38,
     "metadata": {},
     "output_type": "execute_result"
    }
   ],
   "source": [
    "submission.iloc[:,1] = (best_data1.iloc[:,1]*1/3 + best_data3.iloc[:,1]*1/3 + best_data5.iloc[:,1]*1/3)\n",
    "submission.iloc[:,2] = best_data1.iloc[:,2]*1/2 + best_data5.iloc[:,2]*1/2 \n",
    "\n",
    "submission.head()"
   ]
  },
  {
   "cell_type": "code",
   "execution_count": 39,
   "id": "59f79bc5",
   "metadata": {},
   "outputs": [
    {
     "name": "stdout",
     "output_type": "stream",
     "text": [
      "오늘 날짜 : 20210717\n"
     ]
    }
   ],
   "source": [
    "import datetime\n",
    "today = str(datetime.datetime.now().date()).replace(\"-\",\"\")\n",
    "print(\"오늘 날짜 : \" + today)\n",
    "\n",
    "submission.to_csv(f'../submission/{today}_best_data_ensemble3.csv', index =False)"
   ]
  },
  {
   "cell_type": "code",
   "execution_count": 36,
   "id": "7d1f1c24",
   "metadata": {},
   "outputs": [
    {
     "data": {
      "text/plain": [
       "486.56708443217883"
      ]
     },
     "execution_count": 36,
     "metadata": {},
     "output_type": "execute_result"
    }
   ],
   "source": [
    "(best_data1.iloc[:,2]*1/3 + best_data5.iloc[:,2]*1/3 + best_data3.iloc[:,2]*1/3 ).mean()"
   ]
  },
  {
   "cell_type": "code",
   "execution_count": 37,
   "id": "2461e60d",
   "metadata": {},
   "outputs": [
    {
     "data": {
      "text/plain": [
       "485.38534961687344"
      ]
     },
     "execution_count": 37,
     "metadata": {},
     "output_type": "execute_result"
    }
   ],
   "source": [
    "submission.iloc[:,2].mean()"
   ]
  }
 ],
 "metadata": {
  "kernelspec": {
   "display_name": "Python 3",
   "language": "python",
   "name": "python3"
  },
  "language_info": {
   "codemirror_mode": {
    "name": "ipython",
    "version": 3
   },
   "file_extension": ".py",
   "mimetype": "text/x-python",
   "name": "python",
   "nbconvert_exporter": "python",
   "pygments_lexer": "ipython3",
   "version": "3.8.10"
  }
 },
 "nbformat": 4,
 "nbformat_minor": 5
}

{
 "cells": [
  {
   "cell_type": "code",
   "execution_count": 1,
   "metadata": {},
   "outputs": [
    {
     "ename": "RuntimeError",
     "evalue": "module compiled against API version 0xe but this version of numpy is 0xd",
     "output_type": "error",
     "traceback": [
      "\u001b[1;31m---------------------------------------------------------------------------\u001b[0m",
      "\u001b[1;31mRuntimeError\u001b[0m                              Traceback (most recent call last)",
      "\u001b[1;31mRuntimeError\u001b[0m: module compiled against API version 0xe but this version of numpy is 0xd"
     ]
    }
   ],
   "source": [
    "import pandas as pd\n",
    "import numpy as np\n",
    "\n",
    "import matplotlib.pyplot as plt\n",
    "import seaborn as sns\n",
    "%matplotlib inline\n",
    "plt.rcParams['font.family'] = 'Gulim'"
   ]
  },
  {
   "cell_type": "code",
   "execution_count": 2,
   "metadata": {},
   "outputs": [],
   "source": [
    "from workalendar.asia import SouthKorea\n",
    "import pendulum"
   ]
  },
  {
   "cell_type": "code",
   "execution_count": 3,
   "metadata": {},
   "outputs": [],
   "source": [
    "train = pd.read_csv('../data/train.csv')\n",
    "test = pd.read_csv('../data/test.csv')"
   ]
  },
  {
   "cell_type": "markdown",
   "metadata": {},
   "source": [
    "## 전처리\n",
    "- 일자에서 월과 일을 분리\n",
    "- 요일을 레이블 인코딩화(EDA로 요일의 중요도 순 파악)\n",
    "- 월 별, 일 별 중식 석식 수요 차이 파악"
   ]
  },
  {
   "cell_type": "code",
   "execution_count": 4,
   "metadata": {},
   "outputs": [
    {
     "name": "stderr",
     "output_type": "stream",
     "text": [
      "<ipython-input-4-b11c832c5082>:3: FutureWarning: weekofyear and week have been deprecated, please use DatetimeIndex.isocalendar().week instead, which returns a Series.  To exactly reproduce the behavior of week and weekofyear and return an Index, you may call pd.Int64Index(idx.isocalendar().week)\n",
      "  train['주'] = pd.DatetimeIndex(train['일자']).week\n",
      "<ipython-input-4-b11c832c5082>:4: FutureWarning: weekofyear and week have been deprecated, please use DatetimeIndex.isocalendar().week instead, which returns a Series.  To exactly reproduce the behavior of week and weekofyear and return an Index, you may call pd.Int64Index(idx.isocalendar().week)\n",
      "  test['주'] = pd.DatetimeIndex(test['일자']).week\n"
     ]
    }
   ],
   "source": [
    "train['월'] = pd.DatetimeIndex(train['일자']).month\n",
    "test['월'] = pd.DatetimeIndex(test['일자']).month\n",
    "train['주'] = pd.DatetimeIndex(train['일자']).week\n",
    "test['주'] = pd.DatetimeIndex(test['일자']).week\n",
    "train['일'] = pd.DatetimeIndex(train['일자']).day\n",
    "test['일'] = pd.DatetimeIndex(test['일자']).day\n",
    "\n",
    "train['출근'] = train['본사정원수']-(train['본사휴가자수']+train['본사출장자수']+train['현본사소속재택근무자수'])\n",
    "train['휴가비율'] = train['본사휴가자수']/train['본사정원수']\n",
    "train['출장비율'] = train['본사출장자수']/train['본사정원수']\n",
    "train['야근비율'] = train['본사시간외근무명령서승인건수']/train['출근']\n",
    "train['재택비율'] = train['현본사소속재택근무자수']/train['본사정원수']\n",
    "\n",
    "test['출근'] = test['본사정원수']-(test['본사휴가자수']+test['본사출장자수']+test['현본사소속재택근무자수'])\n",
    "test['휴가비율'] = test['본사휴가자수']/test['본사정원수']\n",
    "test['출장비율'] = test['본사출장자수']/test['본사정원수']\n",
    "test['야근비율'] = test['본사시간외근무명령서승인건수']/test['출근']\n",
    "test['재택비율'] = test['현본사소속재택근무자수']/test['본사정원수']\n",
    "\n",
    "train['식사가능자수'] = train['본사정원수'] - train['본사휴가자수'] - train['현본사소속재택근무자수']\n",
    "test['식사가능자수'] = test['본사정원수'] - test['본사휴가자수'] - test['현본사소속재택근무자수']\n",
    "\n",
    "# train['중식참여율'] = train['중식계'] / train['식사가능자수']"
   ]
  },
  {
   "cell_type": "code",
   "execution_count": 5,
   "metadata": {},
   "outputs": [],
   "source": [
    "month_rank4dinner = {\n",
    "    1: 11,\n",
    "    2: 2,\n",
    "    3: 1,\n",
    "    4: 4,\n",
    "    5: 7,\n",
    "    6: 6,\n",
    "    7: 10,\n",
    "    8: 8,\n",
    "    9: 5,\n",
    "    10: 3,\n",
    "    11: 9,\n",
    "    12: 12\n",
    "}\n",
    "train['월(석식)'] = train['월'].map(month_rank4dinner)\n",
    "test['월(석식)'] = test['월'].map(month_rank4dinner)\n",
    "\n",
    "month_rank4lunch = {\n",
    "    1: 3,\n",
    "    2: 1,\n",
    "    3: 2,\n",
    "    4: 6,\n",
    "    5: 7,\n",
    "    6: 8,\n",
    "    7: 10,\n",
    "    8: 9,\n",
    "    9: 5,\n",
    "    10: 4,\n",
    "    11: 11,\n",
    "    12: 12\n",
    "}\n",
    "train['월(중식)'] = train['월'].map(month_rank4lunch)\n",
    "test['월(중식)'] = test['월'].map(month_rank4lunch)\n",
    "\n",
    "weekday_rank4dinner = {\n",
    "    '월': 1,\n",
    "    '화': 2,\n",
    "    '수': 4,\n",
    "    '목': 3,\n",
    "    '금': 5,\n",
    "}\n",
    "\n",
    "weekday_rank4lunch = {\n",
    "    '월': 1,\n",
    "    '화': 2,\n",
    "    '수': 3,\n",
    "    '목': 4,\n",
    "    '금': 5,\n",
    "}\n",
    "\n",
    "train['요일(석식)'] = train['요일'].map(weekday_rank4dinner)\n",
    "test['요일(석식)'] = test['요일'].map(weekday_rank4dinner)\n",
    "\n",
    "train['요일(중식)'] = train['요일'].map(weekday_rank4lunch)\n",
    "test['요일(중식)'] = test['요일'].map(weekday_rank4lunch)"
   ]
  },
  {
   "cell_type": "code",
   "execution_count": 6,
   "metadata": {
    "scrolled": true
   },
   "outputs": [],
   "source": [
    "rank = pd.DataFrame(range(1,53))\n",
    "week_rank_lunch = pd.pivot_table(train,values='중식계',index='주').sort_values(by='중식계').reset_index().drop('중식계',axis=1)\n",
    "week_rank_dinner = pd.pivot_table(train,values='석식계',index='주').sort_values(by='석식계').reset_index().drop('석식계',axis=1)\n",
    "\n",
    "\n",
    "week_rank4lunch = {}\n",
    "for i in range(len(rank)):\n",
    "    week_rank4lunch[week_rank_lunch['주'][i]] = rank[0][i]\n",
    "\n",
    "\n",
    "week_rank4dinner = {}\n",
    "for i in range(len(rank)):\n",
    "    week_rank4dinner[week_rank_dinner['주'][i]] = rank[0][i]\n",
    "    \n",
    "    \n",
    "train['주(중식)'] = train['주'].map(week_rank4lunch)\n",
    "test['주(중식)'] = test['주'].map(week_rank4lunch)\n",
    "\n",
    "train['주(석식)'] = train['주'].map(week_rank4dinner)\n",
    "test['주(석식)'] = test['주'].map(week_rank4dinner)"
   ]
  },
  {
   "cell_type": "code",
   "execution_count": 7,
   "metadata": {},
   "outputs": [],
   "source": [
    "def is_holiday(date):\n",
    "    holidays = list(map(str, pd.Series(np.array(SouthKorea().holidays(int(date[:4])))[:, 0])))\n",
    "    \n",
    "    yesterday = str(np.datetime64(date) - 1)\n",
    "    tomorrow = str(np.datetime64(date) + 1)\n",
    "\n",
    "    if tomorrow in holidays and yesterday in holidays:\n",
    "        return 3\n",
    "    if tomorrow in holidays:\n",
    "        return 2\n",
    "    elif yesterday in holidays:\n",
    "        return 1\n",
    "    else : \n",
    "        return 0\n",
    "\n",
    "def week_of_month(x):\n",
    "    dt = pendulum.parse(x)\n",
    "    \n",
    "    wom = dt.week_of_month\n",
    "    if wom < 0:\n",
    "        wom += 52\n",
    "    return wom\n",
    "    \n",
    "\n",
    "df = pd.concat([train[['본사정원수', '일자']], test[['본사정원수', '일자']]])\n",
    "df['년월'] = df['일자'].apply(lambda x : x[:7])\n",
    "df = df[['년월', '본사정원수']].groupby(by=['년월'], as_index=False).mean()\n",
    "\n",
    "def member_change(date):\n",
    "    this_month = date[:7]\n",
    "    last_month = str(np.datetime64(this_month) - 1)\n",
    "    \n",
    "    this_month_member = int(df[df['년월'] == this_month]['본사정원수'])\n",
    "    last_month_member = int(df[df['년월'] == last_month]['본사정원수'])\n",
    "    \n",
    "    \n",
    "    return  this_month_member - last_month_member\n",
    "\n",
    "train['공휴일전후'] = train['일자'].apply(is_holiday)\n",
    "test['공휴일전후'] = test['일자'].apply(is_holiday)\n",
    "\n",
    "train['몇주차'] = train['일자'].apply(week_of_month)\n",
    "test['몇주차'] = test['일자'].apply(week_of_month)\n",
    "\n",
    "train = train[train['일자'] > '2016-03']\n",
    "train['인원변화'] = train['일자'].apply(member_change)\n",
    "test['인원변화'] = test['일자'].apply(member_change)"
   ]
  },
  {
   "cell_type": "markdown",
   "metadata": {},
   "source": [
    "## 공휴일 변수 생성"
   ]
  },
  {
   "cell_type": "code",
   "execution_count": 8,
   "metadata": {},
   "outputs": [
    {
     "data": {
      "text/plain": [
       "Index(['일자', '요일', '본사정원수', '본사휴가자수', '본사출장자수', '본사시간외근무명령서승인건수',\n",
       "       '현본사소속재택근무자수', '조식메뉴', '중식메뉴', '석식메뉴', '중식계', '석식계', '월', '주', '일',\n",
       "       '출근', '휴가비율', '출장비율', '야근비율', '재택비율', '식사가능자수', '월(석식)', '월(중식)',\n",
       "       '요일(석식)', '요일(중식)', '주(중식)', '주(석식)', '공휴일전후', '몇주차', '인원변화'],\n",
       "      dtype='object')"
      ]
     },
     "execution_count": 8,
     "metadata": {},
     "output_type": "execute_result"
    }
   ],
   "source": [
    "train.columns"
   ]
  },
  {
   "cell_type": "code",
   "execution_count": 9,
   "metadata": {},
   "outputs": [],
   "source": [
    "# 메뉴 변수 없이 사용할떄 해당 코드 사용['공휴일전후', '몇주차', '인원변화']\n",
    "\n",
    "lunch_train = train[['공휴일전후', '몇주차', '인원변화', '요일(중식)','월(중식)','일','주(중식)','출근', '휴가비율', '출장비율', '야근비율', '재택비율','본사출장자수','본사휴가자수','식사가능자수','본사시간외근무명령서승인건수']]\n",
    "lunch_test = test[['공휴일전후', '몇주차', '인원변화', '요일(중식)','월(중식)','일','주(중식)','출근', '휴가비율', '출장비율', '야근비율', '재택비율','본사출장자수','본사휴가자수','식사가능자수','본사시간외근무명령서승인건수']]\n",
    "\n",
    "dinner_train= train[['공휴일전후', '몇주차', '인원변화', '요일(석식)','월(석식)','일','주(석식)','출근', '휴가비율', '출장비율', '야근비율', '재택비율','본사출장자수','본사휴가자수','식사가능자수','본사시간외근무명령서승인건수']]\n",
    "dinner_test = test[['공휴일전후', '몇주차', '인원변화', '요일(석식)','월(석식)','일','주(석식)','출근', '휴가비율', '출장비율', '야근비율', '재택비율','본사출장자수','본사휴가자수','식사가능자수','본사시간외근무명령서승인건수']]"
   ]
  },
  {
   "cell_type": "code",
   "execution_count": 10,
   "metadata": {},
   "outputs": [
    {
     "data": {
      "text/plain": [
       "Index(['공휴일전후', '몇주차', '인원변화', '요일(중식)', '월(중식)', '일', '주(중식)', '출근', '휴가비율',\n",
       "       '출장비율', '야근비율', '재택비율', '본사출장자수', '본사휴가자수', '식사가능자수', '본사시간외근무명령서승인건수'],\n",
       "      dtype='object')"
      ]
     },
     "execution_count": 10,
     "metadata": {},
     "output_type": "execute_result"
    }
   ],
   "source": [
    "lunch_train.columns"
   ]
  },
  {
   "cell_type": "code",
   "execution_count": 11,
   "metadata": {
    "scrolled": true
   },
   "outputs": [
    {
     "name": "stdout",
     "output_type": "stream",
     "text": [
      "(1187, 16)\n",
      "(50, 16)\n"
     ]
    }
   ],
   "source": [
    "print(lunch_train.shape)\n",
    "print(lunch_test.shape)"
   ]
  },
  {
   "cell_type": "code",
   "execution_count": 12,
   "metadata": {},
   "outputs": [
    {
     "name": "stdout",
     "output_type": "stream",
     "text": [
      "(1187, 16)\n",
      "(50, 16)\n"
     ]
    }
   ],
   "source": [
    "print(dinner_train.shape)\n",
    "print(dinner_test.shape)"
   ]
  },
  {
   "cell_type": "code",
   "execution_count": 13,
   "metadata": {},
   "outputs": [
    {
     "name": "stdout",
     "output_type": "stream",
     "text": [
      "Cat features are: []\n",
      "[]\n"
     ]
    }
   ],
   "source": [
    "cat_features = [f for f in lunch_train.columns if lunch_train[f].dtype == 'object']\n",
    "\n",
    "def column_index(df, cat_features):\n",
    "    cols = df.columns.values\n",
    "    sidx = np.argsort(cols)\n",
    "    return sidx[np.searchsorted(cols, cat_features, sorter=sidx)]\n",
    "\n",
    "cat_features_idx = column_index(lunch_train, cat_features)    \n",
    "print(\"Cat features are: %s\" % [f for f in cat_features])\n",
    "print(cat_features_idx)"
   ]
  },
  {
   "cell_type": "code",
   "execution_count": 14,
   "metadata": {},
   "outputs": [],
   "source": [
    "y_lunch = train[['중식계']]\n",
    "y_dinner = train[['석식계']]"
   ]
  },
  {
   "cell_type": "markdown",
   "metadata": {},
   "source": [
    "#### 분포 확인 및 분포 조정"
   ]
  },
  {
   "cell_type": "markdown",
   "metadata": {},
   "source": [
    "# 중식 예측모델"
   ]
  },
  {
   "cell_type": "code",
   "execution_count": 15,
   "metadata": {},
   "outputs": [],
   "source": [
    "from xgboost import XGBRegressor"
   ]
  },
  {
   "cell_type": "code",
   "execution_count": 16,
   "metadata": {},
   "outputs": [],
   "source": [
    "import hyperopt\n",
    "from hyperopt import fmin, tpe, hp, STATUS_OK, Trials\n",
    "from sklearn.metrics import mean_absolute_error as MAE"
   ]
  },
  {
   "cell_type": "code",
   "execution_count": 17,
   "metadata": {},
   "outputs": [],
   "source": [
    "X_train, X_valid, y_train, y_valid = train_test_split(lunch_train, y_lunch, test_size=0.2)"
   ]
  },
  {
   "cell_type": "code",
   "execution_count": 18,
   "metadata": {},
   "outputs": [],
   "source": [
    "reg_candidate = [1e-5, 1e-4, 1e-3, 1e-2, 0.1, 1, 5, 10, 100]\n",
    "\n",
    "# space 정의, Hyperparameter의 이름을 key 값으로 입력\n",
    "space={'max_depth': hp.quniform(\"max_depth\", 5, 15, 1),\n",
    "       'learning_rate': hp.quniform ('learning_rate', 0.01, 0.05, 0.005),\n",
    "       'reg_alpha' : hp.choice('reg_alpha', reg_candidate),\n",
    "       'reg_lambda' : hp.choice('reg_lambda', reg_candidate),\n",
    "       'subsample': hp.quniform('subsample', 0.6, 1, 0.05),\n",
    "       'colsample_bytree' : hp.quniform('colsample_bytree', 0.6, 1, 0.05),\n",
    "       'min_child_weight' : hp.quniform('min_child_weight', 1, 10, 1),\n",
    "       'n_estimators': hp.quniform('n_estimators', 200, 1500, 100)\n",
    "      }\n",
    "y_lunch = np.array(y_lunch).reshape(-1,1)\n",
    "\n",
    "def hyperparameter_tuning_L(space):\n",
    "    n_fold = 4\n",
    "    kf = KFold(n_splits=n_fold, random_state=42, shuffle=True)\n",
    "    mae_log = 0\n",
    "    \n",
    "    for train_index, test_index in kf.split(lunch_train):\n",
    "        X_train, X_valid = lunch_train.iloc[train_index], lunch_train.iloc[test_index]\n",
    "        y_train, y_valid = y_lunch[train_index], y_lunch[test_index]\n",
    "\n",
    "        model=XGBRegressor(n_estimators =int(space['n_estimators']), \n",
    "                           max_depth = int(space['max_depth']), \n",
    "                           learning_rate = space['learning_rate'],\n",
    "                           reg_alpha = space['reg_alpha'],\n",
    "                           reg_lambda = space['reg_lambda'],\n",
    "                           subsample = space['subsample'],\n",
    "                           colsample_bytree = space['colsample_bytree'], \n",
    "                           min_child_weight = int(space['min_child_weight']),\n",
    "                           random_state=42, \n",
    "                          )\n",
    "\n",
    "        evaluation = [(X_train, y_train), (X_valid, y_valid)]\n",
    "\n",
    "        model.fit(X_train, y_train,\n",
    "                  eval_set=evaluation, \n",
    "                  eval_metric=\"mae\",\n",
    "                  early_stopping_rounds=20,\n",
    "                  verbose=0)\n",
    "\n",
    "        pred = model.predict(X_valid)\n",
    "        mae= MAE(y_valid, pred)   \n",
    "        \n",
    "        mae_log += mae/n_fold\n",
    "    # 평가 방식 선정\n",
    "    return {'loss':mae_log, 'status': STATUS_OK, 'model': model}"
   ]
  },
  {
   "cell_type": "code",
   "execution_count": 39,
   "metadata": {},
   "outputs": [
    {
     "name": "stdout",
     "output_type": "stream",
     "text": [
      "100%|███████████████████████████████████████████████| 200/200 [06:37<00:00,  1.99s/trial, best loss: 65.15730193531516]\n",
      "{'colsample_bytree': 1.0, 'learning_rate': 0.045, 'max_depth': 7, 'min_child_weight': 8, 'n_estimators': 800, 'reg_alpha': 0.01, 'reg_lambda': 1, 'subsample': 0.7000000000000001, 'random_state': 42}\n"
     ]
    }
   ],
   "source": [
    "# Trials 객체 선언합니다.\n",
    "trials = Trials()\n",
    "# best에 최적의 하이퍼 파라미터를 return 받습니다.\n",
    "best_L = fmin(fn=hyperparameter_tuning_L,\n",
    "              space=space,\n",
    "              algo=tpe.suggest,\n",
    "              max_evals=200, # 최대 반복 횟수를 지정합니다.\n",
    "              trials=trials,\n",
    "              rstate= np.random.seed(42))\n",
    "\n",
    "# 최적화된 결과를 int로 변환해야하는 파라미터는 타입 변환을 수행합니다.\n",
    "best_L['max_depth'] = int(best_L['max_depth'])\n",
    "best_L['min_child_weight'] = int(best_L['min_child_weight'])\n",
    "best_L['n_estimators'] = int(best_L['n_estimators'])\n",
    "best_L['reg_alpha'] = reg_candidate[int(best_L['reg_alpha'])]\n",
    "best_L['reg_lambda'] = reg_candidate[int(best_L['reg_lambda'])]\n",
    "best_L['random_state'] = 42\n",
    "print(best_L)"
   ]
  },
  {
   "cell_type": "code",
   "execution_count": 40,
   "metadata": {},
   "outputs": [
    {
     "data": {
      "text/plain": [
       "XGBRegressor(base_score=0.5, booster='gbtree', colsample_bylevel=1,\n",
       "             colsample_bynode=1, colsample_bytree=1.0, gamma=0, gpu_id=-1,\n",
       "             importance_type='gain', interaction_constraints='',\n",
       "             learning_rate=0.045, max_delta_step=0, max_depth=7,\n",
       "             min_child_weight=8, missing=nan, monotone_constraints='()',\n",
       "             n_estimators=800, n_jobs=8, num_parallel_tree=1, random_state=42,\n",
       "             reg_alpha=0.01, reg_lambda=1, scale_pos_weight=1,\n",
       "             subsample=0.7000000000000001, tree_method='exact',\n",
       "             validate_parameters=1, verbosity=None)"
      ]
     },
     "execution_count": 40,
     "metadata": {},
     "output_type": "execute_result"
    }
   ],
   "source": [
    "lunch_model = XGBRegressor(**best_L)\n",
    "lunch_model.fit(lunch_train, y_lunch)"
   ]
  },
  {
   "cell_type": "code",
   "execution_count": 41,
   "metadata": {},
   "outputs": [
    {
     "data": {
      "text/plain": [
       "array([ 987.0721 ,  925.5664 ,  574.9289 , 1287.2858 , 1058.0447 ,\n",
       "       1064.3463 ,  947.3401 ,  678.55347, 1308.8759 , 1102.2638 ,\n",
       "        847.9991 , 1306.2465 , 1115.3147 , 1081.7671 ,  937.07214,\n",
       "        668.40485, 1226.1538 , 1100.4045 ,  938.4504 ,  893.7255 ,\n",
       "        659.5558 , 1203.507  , 1027.8278 ,  943.44086,  645.87335,\n",
       "       1290.6382 , 1150.6448 , 1068.634  ,  971.3472 ,  696.14185,\n",
       "       1281.4982 , 1023.01404, 1045.217  ,  933.1107 ,  634.32227,\n",
       "       1217.2712 ,  991.4329 ,  936.5295 ,  879.3581 ,  591.96576,\n",
       "       1187.7836 ,  988.056  ,  975.9513 ,  864.7479 ,  652.5291 ,\n",
       "       1225.3322 , 1074.6904 ,  978.58844,  896.70935,  633.7066 ],\n",
       "      dtype=float32)"
      ]
     },
     "execution_count": 41,
     "metadata": {},
     "output_type": "execute_result"
    }
   ],
   "source": [
    "lunch_predict = lunch_model.predict(lunch_test)\n",
    "lunch_predict"
   ]
  },
  {
   "cell_type": "code",
   "execution_count": 47,
   "metadata": {},
   "outputs": [],
   "source": [
    "y_dinner = np.array(y_dinner).reshape(-1,1)\n",
    "\n",
    "def hyperparameter_tuning_D(space):\n",
    "    n_fold = 4\n",
    "    kf = KFold(n_splits=n_fold, random_state=42, shuffle=True)\n",
    "    mae_log = 0\n",
    "    \n",
    "    for train_index, test_index in kf.split(dinner_train):\n",
    "        X_train, X_valid = dinner_train.iloc[train_index], dinner_train.iloc[test_index]\n",
    "        y_train, y_valid = y_dinner[train_index], y_dinner[test_index]\n",
    "\n",
    "        model=XGBRegressor(n_estimators =int(space['n_estimators']), \n",
    "                           max_depth = int(space['max_depth']), \n",
    "                           learning_rate = 0.05,\n",
    "                           reg_alpha = space['reg_alpha'],\n",
    "                           reg_lambda = space['reg_lambda'],\n",
    "                           subsample = space['subsample'],\n",
    "                           colsample_bytree = space['colsample_bytree'], \n",
    "                           min_child_weight = int(space['min_child_weight']),\n",
    "                           random_state=42, \n",
    "                          )\n",
    "\n",
    "        evaluation = [(X_train, y_train), (X_valid, y_valid)]\n",
    "\n",
    "        model.fit(X_train, y_train,\n",
    "                  eval_set=evaluation, \n",
    "                  eval_metric=\"mae\",\n",
    "                  early_stopping_rounds=20,\n",
    "                  verbose=0)\n",
    "\n",
    "        pred = model.predict(X_valid)\n",
    "        mae= MAE(y_valid, pred)   \n",
    "        \n",
    "        mae_log += mae/n_fold\n",
    "\n",
    "    return {'loss':mae_log, 'status': STATUS_OK, 'model': model}"
   ]
  },
  {
   "cell_type": "code",
   "execution_count": 48,
   "metadata": {},
   "outputs": [
    {
     "name": "stdout",
     "output_type": "stream",
     "text": [
      " 42%|███████████████████▉                            | 83/200 [02:22<03:20,  1.71s/trial, best loss: 54.27227861434967]\n"
     ]
    },
    {
     "ename": "KeyboardInterrupt",
     "evalue": "",
     "output_type": "error",
     "traceback": [
      "\u001b[1;31m---------------------------------------------------------------------------\u001b[0m",
      "\u001b[1;31mKeyboardInterrupt\u001b[0m                         Traceback (most recent call last)",
      "\u001b[1;32m<ipython-input-48-4c2aed649d5b>\u001b[0m in \u001b[0;36m<module>\u001b[1;34m\u001b[0m\n\u001b[0;32m      1\u001b[0m \u001b[0mtrials\u001b[0m \u001b[1;33m=\u001b[0m \u001b[0mTrials\u001b[0m\u001b[1;33m(\u001b[0m\u001b[1;33m)\u001b[0m\u001b[1;33m\u001b[0m\u001b[1;33m\u001b[0m\u001b[0m\n\u001b[0;32m      2\u001b[0m \u001b[1;33m\u001b[0m\u001b[0m\n\u001b[1;32m----> 3\u001b[1;33m best_D = fmin(fn=hyperparameter_tuning_D,\n\u001b[0m\u001b[0;32m      4\u001b[0m               \u001b[0mspace\u001b[0m\u001b[1;33m=\u001b[0m\u001b[0mspace\u001b[0m\u001b[1;33m,\u001b[0m\u001b[1;33m\u001b[0m\u001b[1;33m\u001b[0m\u001b[0m\n\u001b[0;32m      5\u001b[0m               \u001b[0malgo\u001b[0m\u001b[1;33m=\u001b[0m\u001b[0mtpe\u001b[0m\u001b[1;33m.\u001b[0m\u001b[0msuggest\u001b[0m\u001b[1;33m,\u001b[0m\u001b[1;33m\u001b[0m\u001b[1;33m\u001b[0m\u001b[0m\n",
      "\u001b[1;32mC:\\anaconda3\\envs\\machinelearning\\lib\\site-packages\\hyperopt\\fmin.py\u001b[0m in \u001b[0;36mfmin\u001b[1;34m(fn, space, algo, max_evals, timeout, loss_threshold, trials, rstate, allow_trials_fmin, pass_expr_memo_ctrl, catch_eval_exceptions, verbose, return_argmin, points_to_evaluate, max_queue_len, show_progressbar, early_stop_fn, trials_save_file)\u001b[0m\n\u001b[0;32m    505\u001b[0m \u001b[1;33m\u001b[0m\u001b[0m\n\u001b[0;32m    506\u001b[0m     \u001b[1;32mif\u001b[0m \u001b[0mallow_trials_fmin\u001b[0m \u001b[1;32mand\u001b[0m \u001b[0mhasattr\u001b[0m\u001b[1;33m(\u001b[0m\u001b[0mtrials\u001b[0m\u001b[1;33m,\u001b[0m \u001b[1;34m\"fmin\"\u001b[0m\u001b[1;33m)\u001b[0m\u001b[1;33m:\u001b[0m\u001b[1;33m\u001b[0m\u001b[1;33m\u001b[0m\u001b[0m\n\u001b[1;32m--> 507\u001b[1;33m         return trials.fmin(\n\u001b[0m\u001b[0;32m    508\u001b[0m             \u001b[0mfn\u001b[0m\u001b[1;33m,\u001b[0m\u001b[1;33m\u001b[0m\u001b[1;33m\u001b[0m\u001b[0m\n\u001b[0;32m    509\u001b[0m             \u001b[0mspace\u001b[0m\u001b[1;33m,\u001b[0m\u001b[1;33m\u001b[0m\u001b[1;33m\u001b[0m\u001b[0m\n",
      "\u001b[1;32mC:\\anaconda3\\envs\\machinelearning\\lib\\site-packages\\hyperopt\\base.py\u001b[0m in \u001b[0;36mfmin\u001b[1;34m(self, fn, space, algo, max_evals, timeout, loss_threshold, max_queue_len, rstate, verbose, pass_expr_memo_ctrl, catch_eval_exceptions, return_argmin, show_progressbar, early_stop_fn, trials_save_file)\u001b[0m\n\u001b[0;32m    680\u001b[0m         \u001b[1;32mfrom\u001b[0m \u001b[1;33m.\u001b[0m\u001b[0mfmin\u001b[0m \u001b[1;32mimport\u001b[0m \u001b[0mfmin\u001b[0m\u001b[1;33m\u001b[0m\u001b[1;33m\u001b[0m\u001b[0m\n\u001b[0;32m    681\u001b[0m \u001b[1;33m\u001b[0m\u001b[0m\n\u001b[1;32m--> 682\u001b[1;33m         return fmin(\n\u001b[0m\u001b[0;32m    683\u001b[0m             \u001b[0mfn\u001b[0m\u001b[1;33m,\u001b[0m\u001b[1;33m\u001b[0m\u001b[1;33m\u001b[0m\u001b[0m\n\u001b[0;32m    684\u001b[0m             \u001b[0mspace\u001b[0m\u001b[1;33m,\u001b[0m\u001b[1;33m\u001b[0m\u001b[1;33m\u001b[0m\u001b[0m\n",
      "\u001b[1;32mC:\\anaconda3\\envs\\machinelearning\\lib\\site-packages\\hyperopt\\fmin.py\u001b[0m in \u001b[0;36mfmin\u001b[1;34m(fn, space, algo, max_evals, timeout, loss_threshold, trials, rstate, allow_trials_fmin, pass_expr_memo_ctrl, catch_eval_exceptions, verbose, return_argmin, points_to_evaluate, max_queue_len, show_progressbar, early_stop_fn, trials_save_file)\u001b[0m\n\u001b[0;32m    551\u001b[0m \u001b[1;33m\u001b[0m\u001b[0m\n\u001b[0;32m    552\u001b[0m     \u001b[1;31m# next line is where the fmin is actually executed\u001b[0m\u001b[1;33m\u001b[0m\u001b[1;33m\u001b[0m\u001b[1;33m\u001b[0m\u001b[0m\n\u001b[1;32m--> 553\u001b[1;33m     \u001b[0mrval\u001b[0m\u001b[1;33m.\u001b[0m\u001b[0mexhaust\u001b[0m\u001b[1;33m(\u001b[0m\u001b[1;33m)\u001b[0m\u001b[1;33m\u001b[0m\u001b[1;33m\u001b[0m\u001b[0m\n\u001b[0m\u001b[0;32m    554\u001b[0m \u001b[1;33m\u001b[0m\u001b[0m\n\u001b[0;32m    555\u001b[0m     \u001b[1;32mif\u001b[0m \u001b[0mreturn_argmin\u001b[0m\u001b[1;33m:\u001b[0m\u001b[1;33m\u001b[0m\u001b[1;33m\u001b[0m\u001b[0m\n",
      "\u001b[1;32mC:\\anaconda3\\envs\\machinelearning\\lib\\site-packages\\hyperopt\\fmin.py\u001b[0m in \u001b[0;36mexhaust\u001b[1;34m(self)\u001b[0m\n\u001b[0;32m    354\u001b[0m     \u001b[1;32mdef\u001b[0m \u001b[0mexhaust\u001b[0m\u001b[1;33m(\u001b[0m\u001b[0mself\u001b[0m\u001b[1;33m)\u001b[0m\u001b[1;33m:\u001b[0m\u001b[1;33m\u001b[0m\u001b[1;33m\u001b[0m\u001b[0m\n\u001b[0;32m    355\u001b[0m         \u001b[0mn_done\u001b[0m \u001b[1;33m=\u001b[0m \u001b[0mlen\u001b[0m\u001b[1;33m(\u001b[0m\u001b[0mself\u001b[0m\u001b[1;33m.\u001b[0m\u001b[0mtrials\u001b[0m\u001b[1;33m)\u001b[0m\u001b[1;33m\u001b[0m\u001b[1;33m\u001b[0m\u001b[0m\n\u001b[1;32m--> 356\u001b[1;33m         \u001b[0mself\u001b[0m\u001b[1;33m.\u001b[0m\u001b[0mrun\u001b[0m\u001b[1;33m(\u001b[0m\u001b[0mself\u001b[0m\u001b[1;33m.\u001b[0m\u001b[0mmax_evals\u001b[0m \u001b[1;33m-\u001b[0m \u001b[0mn_done\u001b[0m\u001b[1;33m,\u001b[0m \u001b[0mblock_until_done\u001b[0m\u001b[1;33m=\u001b[0m\u001b[0mself\u001b[0m\u001b[1;33m.\u001b[0m\u001b[0masynchronous\u001b[0m\u001b[1;33m)\u001b[0m\u001b[1;33m\u001b[0m\u001b[1;33m\u001b[0m\u001b[0m\n\u001b[0m\u001b[0;32m    357\u001b[0m         \u001b[0mself\u001b[0m\u001b[1;33m.\u001b[0m\u001b[0mtrials\u001b[0m\u001b[1;33m.\u001b[0m\u001b[0mrefresh\u001b[0m\u001b[1;33m(\u001b[0m\u001b[1;33m)\u001b[0m\u001b[1;33m\u001b[0m\u001b[1;33m\u001b[0m\u001b[0m\n\u001b[0;32m    358\u001b[0m         \u001b[1;32mreturn\u001b[0m \u001b[0mself\u001b[0m\u001b[1;33m\u001b[0m\u001b[1;33m\u001b[0m\u001b[0m\n",
      "\u001b[1;32mC:\\anaconda3\\envs\\machinelearning\\lib\\site-packages\\hyperopt\\fmin.py\u001b[0m in \u001b[0;36mrun\u001b[1;34m(self, N, block_until_done)\u001b[0m\n\u001b[0;32m    290\u001b[0m                 \u001b[1;32melse\u001b[0m\u001b[1;33m:\u001b[0m\u001b[1;33m\u001b[0m\u001b[1;33m\u001b[0m\u001b[0m\n\u001b[0;32m    291\u001b[0m                     \u001b[1;31m# -- loop over trials and do the jobs directly\u001b[0m\u001b[1;33m\u001b[0m\u001b[1;33m\u001b[0m\u001b[1;33m\u001b[0m\u001b[0m\n\u001b[1;32m--> 292\u001b[1;33m                     \u001b[0mself\u001b[0m\u001b[1;33m.\u001b[0m\u001b[0mserial_evaluate\u001b[0m\u001b[1;33m(\u001b[0m\u001b[1;33m)\u001b[0m\u001b[1;33m\u001b[0m\u001b[1;33m\u001b[0m\u001b[0m\n\u001b[0m\u001b[0;32m    293\u001b[0m \u001b[1;33m\u001b[0m\u001b[0m\n\u001b[0;32m    294\u001b[0m                 \u001b[0mself\u001b[0m\u001b[1;33m.\u001b[0m\u001b[0mtrials\u001b[0m\u001b[1;33m.\u001b[0m\u001b[0mrefresh\u001b[0m\u001b[1;33m(\u001b[0m\u001b[1;33m)\u001b[0m\u001b[1;33m\u001b[0m\u001b[1;33m\u001b[0m\u001b[0m\n",
      "\u001b[1;32mC:\\anaconda3\\envs\\machinelearning\\lib\\site-packages\\hyperopt\\fmin.py\u001b[0m in \u001b[0;36mserial_evaluate\u001b[1;34m(self, N)\u001b[0m\n\u001b[0;32m    168\u001b[0m                 \u001b[0mctrl\u001b[0m \u001b[1;33m=\u001b[0m \u001b[0mbase\u001b[0m\u001b[1;33m.\u001b[0m\u001b[0mCtrl\u001b[0m\u001b[1;33m(\u001b[0m\u001b[0mself\u001b[0m\u001b[1;33m.\u001b[0m\u001b[0mtrials\u001b[0m\u001b[1;33m,\u001b[0m \u001b[0mcurrent_trial\u001b[0m\u001b[1;33m=\u001b[0m\u001b[0mtrial\u001b[0m\u001b[1;33m)\u001b[0m\u001b[1;33m\u001b[0m\u001b[1;33m\u001b[0m\u001b[0m\n\u001b[0;32m    169\u001b[0m                 \u001b[1;32mtry\u001b[0m\u001b[1;33m:\u001b[0m\u001b[1;33m\u001b[0m\u001b[1;33m\u001b[0m\u001b[0m\n\u001b[1;32m--> 170\u001b[1;33m                     \u001b[0mresult\u001b[0m \u001b[1;33m=\u001b[0m \u001b[0mself\u001b[0m\u001b[1;33m.\u001b[0m\u001b[0mdomain\u001b[0m\u001b[1;33m.\u001b[0m\u001b[0mevaluate\u001b[0m\u001b[1;33m(\u001b[0m\u001b[0mspec\u001b[0m\u001b[1;33m,\u001b[0m \u001b[0mctrl\u001b[0m\u001b[1;33m)\u001b[0m\u001b[1;33m\u001b[0m\u001b[1;33m\u001b[0m\u001b[0m\n\u001b[0m\u001b[0;32m    171\u001b[0m                 \u001b[1;32mexcept\u001b[0m \u001b[0mException\u001b[0m \u001b[1;32mas\u001b[0m \u001b[0me\u001b[0m\u001b[1;33m:\u001b[0m\u001b[1;33m\u001b[0m\u001b[1;33m\u001b[0m\u001b[0m\n\u001b[0;32m    172\u001b[0m                     \u001b[0mlogger\u001b[0m\u001b[1;33m.\u001b[0m\u001b[0merror\u001b[0m\u001b[1;33m(\u001b[0m\u001b[1;34m\"job exception: %s\"\u001b[0m \u001b[1;33m%\u001b[0m \u001b[0mstr\u001b[0m\u001b[1;33m(\u001b[0m\u001b[0me\u001b[0m\u001b[1;33m)\u001b[0m\u001b[1;33m)\u001b[0m\u001b[1;33m\u001b[0m\u001b[1;33m\u001b[0m\u001b[0m\n",
      "\u001b[1;32mC:\\anaconda3\\envs\\machinelearning\\lib\\site-packages\\hyperopt\\base.py\u001b[0m in \u001b[0;36mevaluate\u001b[1;34m(self, config, ctrl, attach_attachments)\u001b[0m\n\u001b[0;32m    905\u001b[0m                 \u001b[0mprint_node_on_error\u001b[0m\u001b[1;33m=\u001b[0m\u001b[0mself\u001b[0m\u001b[1;33m.\u001b[0m\u001b[0mrec_eval_print_node_on_error\u001b[0m\u001b[1;33m,\u001b[0m\u001b[1;33m\u001b[0m\u001b[1;33m\u001b[0m\u001b[0m\n\u001b[0;32m    906\u001b[0m             )\n\u001b[1;32m--> 907\u001b[1;33m             \u001b[0mrval\u001b[0m \u001b[1;33m=\u001b[0m \u001b[0mself\u001b[0m\u001b[1;33m.\u001b[0m\u001b[0mfn\u001b[0m\u001b[1;33m(\u001b[0m\u001b[0mpyll_rval\u001b[0m\u001b[1;33m)\u001b[0m\u001b[1;33m\u001b[0m\u001b[1;33m\u001b[0m\u001b[0m\n\u001b[0m\u001b[0;32m    908\u001b[0m \u001b[1;33m\u001b[0m\u001b[0m\n\u001b[0;32m    909\u001b[0m         \u001b[1;32mif\u001b[0m \u001b[0misinstance\u001b[0m\u001b[1;33m(\u001b[0m\u001b[0mrval\u001b[0m\u001b[1;33m,\u001b[0m \u001b[1;33m(\u001b[0m\u001b[0mfloat\u001b[0m\u001b[1;33m,\u001b[0m \u001b[0mint\u001b[0m\u001b[1;33m,\u001b[0m \u001b[0mnp\u001b[0m\u001b[1;33m.\u001b[0m\u001b[0mnumber\u001b[0m\u001b[1;33m)\u001b[0m\u001b[1;33m)\u001b[0m\u001b[1;33m:\u001b[0m\u001b[1;33m\u001b[0m\u001b[1;33m\u001b[0m\u001b[0m\n",
      "\u001b[1;32m<ipython-input-47-0788d0940342>\u001b[0m in \u001b[0;36mhyperparameter_tuning_D\u001b[1;34m(space)\u001b[0m\n\u001b[0;32m     23\u001b[0m         \u001b[0mevaluation\u001b[0m \u001b[1;33m=\u001b[0m \u001b[1;33m[\u001b[0m\u001b[1;33m(\u001b[0m\u001b[0mX_train\u001b[0m\u001b[1;33m,\u001b[0m \u001b[0my_train\u001b[0m\u001b[1;33m)\u001b[0m\u001b[1;33m,\u001b[0m \u001b[1;33m(\u001b[0m\u001b[0mX_valid\u001b[0m\u001b[1;33m,\u001b[0m \u001b[0my_valid\u001b[0m\u001b[1;33m)\u001b[0m\u001b[1;33m]\u001b[0m\u001b[1;33m\u001b[0m\u001b[1;33m\u001b[0m\u001b[0m\n\u001b[0;32m     24\u001b[0m \u001b[1;33m\u001b[0m\u001b[0m\n\u001b[1;32m---> 25\u001b[1;33m         model.fit(X_train, y_train,\n\u001b[0m\u001b[0;32m     26\u001b[0m                   \u001b[0meval_set\u001b[0m\u001b[1;33m=\u001b[0m\u001b[0mevaluation\u001b[0m\u001b[1;33m,\u001b[0m\u001b[1;33m\u001b[0m\u001b[1;33m\u001b[0m\u001b[0m\n\u001b[0;32m     27\u001b[0m                   \u001b[0meval_metric\u001b[0m\u001b[1;33m=\u001b[0m\u001b[1;34m\"mae\"\u001b[0m\u001b[1;33m,\u001b[0m\u001b[1;33m\u001b[0m\u001b[1;33m\u001b[0m\u001b[0m\n",
      "\u001b[1;32mC:\\anaconda3\\envs\\machinelearning\\lib\\site-packages\\xgboost\\core.py\u001b[0m in \u001b[0;36minner_f\u001b[1;34m(*args, **kwargs)\u001b[0m\n\u001b[0;32m    434\u001b[0m         \u001b[1;32mfor\u001b[0m \u001b[0mk\u001b[0m\u001b[1;33m,\u001b[0m \u001b[0marg\u001b[0m \u001b[1;32min\u001b[0m \u001b[0mzip\u001b[0m\u001b[1;33m(\u001b[0m\u001b[0msig\u001b[0m\u001b[1;33m.\u001b[0m\u001b[0mparameters\u001b[0m\u001b[1;33m,\u001b[0m \u001b[0margs\u001b[0m\u001b[1;33m)\u001b[0m\u001b[1;33m:\u001b[0m\u001b[1;33m\u001b[0m\u001b[1;33m\u001b[0m\u001b[0m\n\u001b[0;32m    435\u001b[0m             \u001b[0mkwargs\u001b[0m\u001b[1;33m[\u001b[0m\u001b[0mk\u001b[0m\u001b[1;33m]\u001b[0m \u001b[1;33m=\u001b[0m \u001b[0marg\u001b[0m\u001b[1;33m\u001b[0m\u001b[1;33m\u001b[0m\u001b[0m\n\u001b[1;32m--> 436\u001b[1;33m         \u001b[1;32mreturn\u001b[0m \u001b[0mf\u001b[0m\u001b[1;33m(\u001b[0m\u001b[1;33m**\u001b[0m\u001b[0mkwargs\u001b[0m\u001b[1;33m)\u001b[0m\u001b[1;33m\u001b[0m\u001b[1;33m\u001b[0m\u001b[0m\n\u001b[0m\u001b[0;32m    437\u001b[0m \u001b[1;33m\u001b[0m\u001b[0m\n\u001b[0;32m    438\u001b[0m     \u001b[1;32mreturn\u001b[0m \u001b[0minner_f\u001b[0m\u001b[1;33m\u001b[0m\u001b[1;33m\u001b[0m\u001b[0m\n",
      "\u001b[1;32mC:\\anaconda3\\envs\\machinelearning\\lib\\site-packages\\xgboost\\sklearn.py\u001b[0m in \u001b[0;36mfit\u001b[1;34m(self, X, y, sample_weight, base_margin, eval_set, eval_metric, early_stopping_rounds, verbose, xgb_model, sample_weight_eval_set, base_margin_eval_set, feature_weights, callbacks)\u001b[0m\n\u001b[0;32m    734\u001b[0m \u001b[1;33m\u001b[0m\u001b[0m\n\u001b[0;32m    735\u001b[0m         \u001b[0mmodel\u001b[0m\u001b[1;33m,\u001b[0m \u001b[0mfeval\u001b[0m\u001b[1;33m,\u001b[0m \u001b[0mparams\u001b[0m \u001b[1;33m=\u001b[0m \u001b[0mself\u001b[0m\u001b[1;33m.\u001b[0m\u001b[0m_configure_fit\u001b[0m\u001b[1;33m(\u001b[0m\u001b[0mxgb_model\u001b[0m\u001b[1;33m,\u001b[0m \u001b[0meval_metric\u001b[0m\u001b[1;33m,\u001b[0m \u001b[0mparams\u001b[0m\u001b[1;33m)\u001b[0m\u001b[1;33m\u001b[0m\u001b[1;33m\u001b[0m\u001b[0m\n\u001b[1;32m--> 736\u001b[1;33m         self._Booster = train(\n\u001b[0m\u001b[0;32m    737\u001b[0m             \u001b[0mparams\u001b[0m\u001b[1;33m,\u001b[0m\u001b[1;33m\u001b[0m\u001b[1;33m\u001b[0m\u001b[0m\n\u001b[0;32m    738\u001b[0m             \u001b[0mtrain_dmatrix\u001b[0m\u001b[1;33m,\u001b[0m\u001b[1;33m\u001b[0m\u001b[1;33m\u001b[0m\u001b[0m\n",
      "\u001b[1;32mC:\\anaconda3\\envs\\machinelearning\\lib\\site-packages\\xgboost\\training.py\u001b[0m in \u001b[0;36mtrain\u001b[1;34m(params, dtrain, num_boost_round, evals, obj, feval, maximize, early_stopping_rounds, evals_result, verbose_eval, xgb_model, callbacks)\u001b[0m\n\u001b[0;32m    187\u001b[0m     \u001b[0mBooster\u001b[0m \u001b[1;33m:\u001b[0m \u001b[0ma\u001b[0m \u001b[0mtrained\u001b[0m \u001b[0mbooster\u001b[0m \u001b[0mmodel\u001b[0m\u001b[1;33m\u001b[0m\u001b[1;33m\u001b[0m\u001b[0m\n\u001b[0;32m    188\u001b[0m     \"\"\"\n\u001b[1;32m--> 189\u001b[1;33m     bst = _train_internal(params, dtrain,\n\u001b[0m\u001b[0;32m    190\u001b[0m                           \u001b[0mnum_boost_round\u001b[0m\u001b[1;33m=\u001b[0m\u001b[0mnum_boost_round\u001b[0m\u001b[1;33m,\u001b[0m\u001b[1;33m\u001b[0m\u001b[1;33m\u001b[0m\u001b[0m\n\u001b[0;32m    191\u001b[0m                           \u001b[0mevals\u001b[0m\u001b[1;33m=\u001b[0m\u001b[0mevals\u001b[0m\u001b[1;33m,\u001b[0m\u001b[1;33m\u001b[0m\u001b[1;33m\u001b[0m\u001b[0m\n",
      "\u001b[1;32mC:\\anaconda3\\envs\\machinelearning\\lib\\site-packages\\xgboost\\training.py\u001b[0m in \u001b[0;36m_train_internal\u001b[1;34m(params, dtrain, num_boost_round, evals, obj, feval, xgb_model, callbacks, evals_result, maximize, verbose_eval, early_stopping_rounds)\u001b[0m\n\u001b[0;32m     80\u001b[0m             \u001b[1;32mbreak\u001b[0m\u001b[1;33m\u001b[0m\u001b[1;33m\u001b[0m\u001b[0m\n\u001b[0;32m     81\u001b[0m         \u001b[0mbst\u001b[0m\u001b[1;33m.\u001b[0m\u001b[0mupdate\u001b[0m\u001b[1;33m(\u001b[0m\u001b[0mdtrain\u001b[0m\u001b[1;33m,\u001b[0m \u001b[0mi\u001b[0m\u001b[1;33m,\u001b[0m \u001b[0mobj\u001b[0m\u001b[1;33m)\u001b[0m\u001b[1;33m\u001b[0m\u001b[1;33m\u001b[0m\u001b[0m\n\u001b[1;32m---> 82\u001b[1;33m         \u001b[1;32mif\u001b[0m \u001b[0mcallbacks\u001b[0m\u001b[1;33m.\u001b[0m\u001b[0mafter_iteration\u001b[0m\u001b[1;33m(\u001b[0m\u001b[0mbst\u001b[0m\u001b[1;33m,\u001b[0m \u001b[0mi\u001b[0m\u001b[1;33m,\u001b[0m \u001b[0mdtrain\u001b[0m\u001b[1;33m,\u001b[0m \u001b[0mevals\u001b[0m\u001b[1;33m)\u001b[0m\u001b[1;33m:\u001b[0m\u001b[1;33m\u001b[0m\u001b[1;33m\u001b[0m\u001b[0m\n\u001b[0m\u001b[0;32m     83\u001b[0m             \u001b[1;32mbreak\u001b[0m\u001b[1;33m\u001b[0m\u001b[1;33m\u001b[0m\u001b[0m\n\u001b[0;32m     84\u001b[0m \u001b[1;33m\u001b[0m\u001b[0m\n",
      "\u001b[1;32mC:\\anaconda3\\envs\\machinelearning\\lib\\site-packages\\xgboost\\callback.py\u001b[0m in \u001b[0;36mafter_iteration\u001b[1;34m(self, model, epoch, dtrain, evals)\u001b[0m\n\u001b[0;32m    430\u001b[0m             \u001b[1;32mfor\u001b[0m \u001b[0m_\u001b[0m\u001b[1;33m,\u001b[0m \u001b[0mname\u001b[0m \u001b[1;32min\u001b[0m \u001b[0mevals\u001b[0m\u001b[1;33m:\u001b[0m\u001b[1;33m\u001b[0m\u001b[1;33m\u001b[0m\u001b[0m\n\u001b[0;32m    431\u001b[0m                 \u001b[1;32massert\u001b[0m \u001b[0mname\u001b[0m\u001b[1;33m.\u001b[0m\u001b[0mfind\u001b[0m\u001b[1;33m(\u001b[0m\u001b[1;34m'-'\u001b[0m\u001b[1;33m)\u001b[0m \u001b[1;33m==\u001b[0m \u001b[1;33m-\u001b[0m\u001b[1;36m1\u001b[0m\u001b[1;33m,\u001b[0m \u001b[1;34m'Dataset name should not contain `-`'\u001b[0m\u001b[1;33m\u001b[0m\u001b[1;33m\u001b[0m\u001b[0m\n\u001b[1;32m--> 432\u001b[1;33m             \u001b[0mscore\u001b[0m \u001b[1;33m=\u001b[0m \u001b[0mmodel\u001b[0m\u001b[1;33m.\u001b[0m\u001b[0meval_set\u001b[0m\u001b[1;33m(\u001b[0m\u001b[0mevals\u001b[0m\u001b[1;33m,\u001b[0m \u001b[0mepoch\u001b[0m\u001b[1;33m,\u001b[0m \u001b[0mself\u001b[0m\u001b[1;33m.\u001b[0m\u001b[0mmetric\u001b[0m\u001b[1;33m)\u001b[0m\u001b[1;33m\u001b[0m\u001b[1;33m\u001b[0m\u001b[0m\n\u001b[0m\u001b[0;32m    433\u001b[0m             \u001b[0mscore\u001b[0m \u001b[1;33m=\u001b[0m \u001b[0mscore\u001b[0m\u001b[1;33m.\u001b[0m\u001b[0msplit\u001b[0m\u001b[1;33m(\u001b[0m\u001b[1;33m)\u001b[0m\u001b[1;33m[\u001b[0m\u001b[1;36m1\u001b[0m\u001b[1;33m:\u001b[0m\u001b[1;33m]\u001b[0m  \u001b[1;31m# into datasets\u001b[0m\u001b[1;33m\u001b[0m\u001b[1;33m\u001b[0m\u001b[0m\n\u001b[0;32m    434\u001b[0m             \u001b[1;31m# split up `test-error:0.1234`\u001b[0m\u001b[1;33m\u001b[0m\u001b[1;33m\u001b[0m\u001b[1;33m\u001b[0m\u001b[0m\n",
      "\u001b[1;32mC:\\anaconda3\\envs\\machinelearning\\lib\\site-packages\\xgboost\\core.py\u001b[0m in \u001b[0;36meval_set\u001b[1;34m(self, evals, iteration, feval)\u001b[0m\n\u001b[0;32m   1563\u001b[0m         \u001b[0mevnames\u001b[0m \u001b[1;33m=\u001b[0m \u001b[0mc_array\u001b[0m\u001b[1;33m(\u001b[0m\u001b[0mctypes\u001b[0m\u001b[1;33m.\u001b[0m\u001b[0mc_char_p\u001b[0m\u001b[1;33m,\u001b[0m \u001b[1;33m[\u001b[0m\u001b[0mc_str\u001b[0m\u001b[1;33m(\u001b[0m\u001b[0md\u001b[0m\u001b[1;33m[\u001b[0m\u001b[1;36m1\u001b[0m\u001b[1;33m]\u001b[0m\u001b[1;33m)\u001b[0m \u001b[1;32mfor\u001b[0m \u001b[0md\u001b[0m \u001b[1;32min\u001b[0m \u001b[0mevals\u001b[0m\u001b[1;33m]\u001b[0m\u001b[1;33m)\u001b[0m\u001b[1;33m\u001b[0m\u001b[1;33m\u001b[0m\u001b[0m\n\u001b[0;32m   1564\u001b[0m         \u001b[0mmsg\u001b[0m \u001b[1;33m=\u001b[0m \u001b[0mctypes\u001b[0m\u001b[1;33m.\u001b[0m\u001b[0mc_char_p\u001b[0m\u001b[1;33m(\u001b[0m\u001b[1;33m)\u001b[0m\u001b[1;33m\u001b[0m\u001b[1;33m\u001b[0m\u001b[0m\n\u001b[1;32m-> 1565\u001b[1;33m         _check_call(_LIB.XGBoosterEvalOneIter(self.handle,\n\u001b[0m\u001b[0;32m   1566\u001b[0m                                               \u001b[0mctypes\u001b[0m\u001b[1;33m.\u001b[0m\u001b[0mc_int\u001b[0m\u001b[1;33m(\u001b[0m\u001b[0miteration\u001b[0m\u001b[1;33m)\u001b[0m\u001b[1;33m,\u001b[0m\u001b[1;33m\u001b[0m\u001b[1;33m\u001b[0m\u001b[0m\n\u001b[0;32m   1567\u001b[0m                                               \u001b[0mdmats\u001b[0m\u001b[1;33m,\u001b[0m \u001b[0mevnames\u001b[0m\u001b[1;33m,\u001b[0m\u001b[1;33m\u001b[0m\u001b[1;33m\u001b[0m\u001b[0m\n",
      "\u001b[1;31mKeyboardInterrupt\u001b[0m: "
     ]
    }
   ],
   "source": [
    "trials = Trials()\n",
    "\n",
    "best_D = fmin(fn=hyperparameter_tuning_D,\n",
    "              space=space,\n",
    "              algo=tpe.suggest,\n",
    "              max_evals=200, # 최대 반복 횟수를 지정합니다.\n",
    "              trials=trials,\n",
    "              rstate= np.random.seed(42))\n",
    "              \n",
    "best_D['max_depth'] = int(best_D['max_depth'])\n",
    "best_D['min_child_weight'] = int(best_D['min_child_weight'])\n",
    "best_D['n_estimators'] = int(best_D['n_estimators'])\n",
    "best_D['reg_alpha'] = reg_candidate[int(best_D['reg_alpha'])]\n",
    "best_D['reg_lambda'] = reg_candidate[int(best_D['reg_lambda'])]\n",
    "best_D['random_state'] = 42\n",
    "print (best_D)"
   ]
  },
  {
   "cell_type": "code",
   "execution_count": 44,
   "metadata": {},
   "outputs": [],
   "source": [
    "dinner_model = XGBRegressor(**best_D)\n",
    "dinner_model.fit(dinner_train, y_dinner)\n",
    "\n",
    "dinner_predict = dinner_model.predict(dinner_test)"
   ]
  },
  {
   "cell_type": "code",
   "execution_count": 58,
   "metadata": {},
   "outputs": [
    {
     "data": {
      "text/html": [
       "<div>\n",
       "<style scoped>\n",
       "    .dataframe tbody tr th:only-of-type {\n",
       "        vertical-align: middle;\n",
       "    }\n",
       "\n",
       "    .dataframe tbody tr th {\n",
       "        vertical-align: top;\n",
       "    }\n",
       "\n",
       "    .dataframe thead th {\n",
       "        text-align: right;\n",
       "    }\n",
       "</style>\n",
       "<table border=\"1\" class=\"dataframe\">\n",
       "  <thead>\n",
       "    <tr style=\"text-align: right;\">\n",
       "      <th></th>\n",
       "      <th>일자</th>\n",
       "      <th>중식계</th>\n",
       "      <th>석식계</th>\n",
       "    </tr>\n",
       "  </thead>\n",
       "  <tbody>\n",
       "    <tr>\n",
       "      <th>0</th>\n",
       "      <td>2021-01-27</td>\n",
       "      <td>987.072083</td>\n",
       "      <td>280.855011</td>\n",
       "    </tr>\n",
       "    <tr>\n",
       "      <th>1</th>\n",
       "      <td>2021-01-28</td>\n",
       "      <td>925.566406</td>\n",
       "      <td>399.208191</td>\n",
       "    </tr>\n",
       "    <tr>\n",
       "      <th>2</th>\n",
       "      <td>2021-01-29</td>\n",
       "      <td>574.928894</td>\n",
       "      <td>217.562180</td>\n",
       "    </tr>\n",
       "    <tr>\n",
       "      <th>3</th>\n",
       "      <td>2021-02-01</td>\n",
       "      <td>1287.285767</td>\n",
       "      <td>540.310852</td>\n",
       "    </tr>\n",
       "    <tr>\n",
       "      <th>4</th>\n",
       "      <td>2021-02-02</td>\n",
       "      <td>1058.044678</td>\n",
       "      <td>480.341980</td>\n",
       "    </tr>\n",
       "  </tbody>\n",
       "</table>\n",
       "</div>"
      ],
      "text/plain": [
       "           일자          중식계         석식계\n",
       "0  2021-01-27   987.072083  280.855011\n",
       "1  2021-01-28   925.566406  399.208191\n",
       "2  2021-01-29   574.928894  217.562180\n",
       "3  2021-02-01  1287.285767  540.310852\n",
       "4  2021-02-02  1058.044678  480.341980"
      ]
     },
     "execution_count": 58,
     "metadata": {},
     "output_type": "execute_result"
    }
   ],
   "source": [
    "submission = pd.read_csv('../data/sample_submission.csv')\n",
    "\n",
    "submission.iloc[:,1] = lunch_predict\n",
    "submission.iloc[:,2] = dinner_predict\n",
    "submission.head()"
   ]
  },
  {
   "cell_type": "code",
   "execution_count": 63,
   "metadata": {},
   "outputs": [
    {
     "data": {
      "text/plain": [
       "중식계    974.384827\n",
       "석식계    475.232971\n",
       "dtype: float32"
      ]
     },
     "execution_count": 63,
     "metadata": {},
     "output_type": "execute_result"
    }
   ],
   "source": [
    "submission.mean()"
   ]
  },
  {
   "cell_type": "code",
   "execution_count": 60,
   "metadata": {},
   "outputs": [],
   "source": [
    "def compare_ans(DIR):\n",
    "    answer = pd.read_csv(DIR)\n",
    "    lunch_answer = np.array(answer.iloc[:,1])\n",
    "\n",
    "    dinner_answer = np.array(answer.iloc[:,2])\n",
    "    \n",
    "    lunch_MAE = abs(submission.iloc[:,1] - lunch_answer).mean()\n",
    "    dinner_MAE = abs(submission.iloc[:,2] - dinner_answer).mean()\n",
    "    \n",
    "    print(\"lunch_MAE : \", lunch_MAE)\n",
    "    print(\"dinner_MAE : \", dinner_MAE)\n",
    "    print(\"total_MAE : \", (lunch_MAE+dinner_MAE)/2)"
   ]
  },
  {
   "cell_type": "code",
   "execution_count": 61,
   "metadata": {},
   "outputs": [
    {
     "name": "stdout",
     "output_type": "stream",
     "text": [
      "lunch_MAE :  27.249404003531243\n",
      "dinner_MAE :  36.29071565157031\n",
      "total_MAE :  31.770059827550774\n",
      "../submission\\20210624_pycaret_(4-2)_제출해봐야할거.csv None\n",
      "\n",
      "lunch_MAE :  52.288494465300474\n",
      "dinner_MAE :  43.794179843398524\n",
      "total_MAE :  48.0413371543495\n",
      "../submission\\20210625_cat.csv None\n",
      "\n",
      "lunch_MAE :  48.20858501519929\n",
      "dinner_MAE :  46.05437324579555\n",
      "total_MAE :  47.131479130497425\n",
      "../submission\\20210625_cat_10fold.csv None\n",
      "\n",
      "lunch_MAE :  48.5874154198538\n",
      "dinner_MAE :  46.28641963324848\n",
      "total_MAE :  47.43691752655114\n",
      "../submission\\20210627_cat_15_KJH.csv None\n",
      "\n",
      "lunch_MAE :  64.41096871433142\n",
      "dinner_MAE :  61.84023420729628\n",
      "total_MAE :  63.12560146081385\n",
      "../submission\\20210627_cat_after_2020.csv None\n",
      "\n",
      "lunch_MAE :  48.5874154198538\n",
      "dinner_MAE :  46.28641963324848\n",
      "total_MAE :  47.43691752655114\n",
      "../submission\\20210627_cat_KJH.csv None\n",
      "\n",
      "lunch_MAE :  48.5874154198538\n",
      "dinner_MAE :  46.28641963324848\n",
      "total_MAE :  47.43691752655114\n",
      "../submission\\20210627_pycaret_KJH.csv None\n",
      "\n",
      "lunch_MAE :  34.967863521764954\n",
      "dinner_MAE :  33.89394217044779\n",
      "total_MAE :  34.43090284610637\n",
      "../submission\\20210627_pycaret_menu.csv None\n",
      "\n",
      "lunch_MAE :  62.636777890117315\n",
      "dinner_MAE :  44.32471099791863\n",
      "total_MAE :  53.48074444401797\n",
      "../submission\\20210628_cat_15_.csv None\n",
      "\n",
      "lunch_MAE :  47.59447160755004\n",
      "dinner_MAE :  44.87566496976472\n",
      "total_MAE :  46.23506828865738\n",
      "../submission\\20210628_cat_15_KJH.csv None\n",
      "\n",
      "lunch_MAE :  34.718053301696784\n",
      "dinner_MAE :  43.48133541332744\n",
      "total_MAE :  39.099694357512114\n",
      "../submission\\20210628_cat_8_.csv None\n",
      "\n",
      "lunch_MAE :  28.526515251776235\n",
      "dinner_MAE :  33.6937608171324\n",
      "total_MAE :  31.110138034454316\n",
      "../submission\\20210628_cat_xgb_8.csv None\n",
      "\n",
      "lunch_MAE :  22.636417961494722\n",
      "dinner_MAE :  27.157953209729243\n",
      "total_MAE :  24.897185585611982\n",
      "../submission\\20210628_pycaret_ADD_FEATURE.csv None\n",
      "\n",
      "lunch_MAE :  21.548347098317073\n",
      "dinner_MAE :  30.176181285132667\n",
      "total_MAE :  25.86226419172487\n",
      "../submission\\20210629_best_data_ensemble.csv None\n",
      "\n",
      "lunch_MAE :  24.83988776711825\n",
      "dinner_MAE :  35.653091516676824\n",
      "total_MAE :  30.246489641897536\n",
      "../submission\\20210629_lgbm_autoML.csv None\n",
      "\n",
      "lunch_MAE :  21.548347098317073\n",
      "dinner_MAE :  21.095560481493685\n",
      "total_MAE :  21.32195378990538\n",
      "../submission\\20210630_best_data_ensemble.csv None\n",
      "\n",
      "lunch_MAE :  34.718053301696784\n",
      "dinner_MAE :  41.83797235946469\n",
      "total_MAE :  38.278012830580735\n",
      "../submission\\20210630_cat_8_.csv None\n",
      "\n",
      "lunch_MAE :  24.83988776711825\n",
      "dinner_MAE :  18.583348560680705\n",
      "total_MAE :  21.711618163899477\n",
      "../submission\\20210630_lgbm_autoML.csv None\n",
      "\n",
      "lunch_MAE :  35.673270890221914\n",
      "dinner_MAE :  25.214417982498976\n",
      "total_MAE :  30.443844436360443\n",
      "../submission\\20210701_lgbm_autoML.csv None\n",
      "\n",
      "lunch_MAE :  20.49065009956575\n",
      "dinner_MAE :  19.99309415111168\n",
      "total_MAE :  20.241872125338716\n",
      "../submission\\20210701_lgbm_knfold_drop.csv None\n",
      "\n",
      "lunch_MAE :  94.21703010811818\n",
      "dinner_MAE :  27.63388012480037\n",
      "total_MAE :  60.925455116459275\n",
      "../submission\\20210701_pycaret_(2)-69.8998.csv None\n",
      "\n",
      "lunch_MAE :  25.030862865883\n",
      "dinner_MAE :  29.428258312705342\n",
      "total_MAE :  27.229560589294174\n",
      "../submission\\20210714_lgbm_autoML_20.csv None\n",
      "\n",
      "lunch_MAE :  24.087433729292954\n",
      "dinner_MAE :  19.51377512344079\n",
      "total_MAE :  21.800604426366874\n",
      "../submission\\20210714_lgbm_autoML_8.csv None\n",
      "\n",
      "lunch_MAE :  25.234548167341618\n",
      "dinner_MAE :  52.4147962110968\n",
      "total_MAE :  38.82467218921921\n",
      "../submission\\20210715_cat_autoML.csv None\n",
      "\n",
      "lunch_MAE :  18.943983862416136\n",
      "dinner_MAE :  27.44102556382135\n",
      "total_MAE :  23.192504713118744\n",
      "../submission\\20210715_lgbm_autoML.csv None\n",
      "\n",
      "lunch_MAE :  28.10112446390446\n",
      "dinner_MAE :  25.95495561533992\n",
      "total_MAE :  27.02804003962219\n",
      "../submission\\20210715_lgbm_autoML_ensenble.csv None\n",
      "\n",
      "lunch_MAE :  36.71124861378862\n",
      "dinner_MAE :  35.61391987597361\n",
      "total_MAE :  36.16258424488112\n",
      "../submission\\20210715_lgbm_sort_autoML.csv None\n",
      "\n",
      "lunch_MAE :  56.72983210950302\n",
      "dinner_MAE :  33.69573894751546\n",
      "total_MAE :  45.212785528509244\n",
      "../submission\\20210715_pycaret_(2).csv None\n",
      "\n",
      "lunch_MAE :  26.50448834140625\n",
      "dinner_MAE :  30.426696093164065\n",
      "total_MAE :  28.465592217285156\n",
      "../submission\\20210715_xgb_autoML.csv None\n",
      "\n",
      "lunch_MAE :  29.382928331362862\n",
      "dinner_MAE :  47.21119720744885\n",
      "total_MAE :  38.297062769405855\n",
      "../submission\\20210716_autoML.csv None\n",
      "\n",
      "lunch_MAE :  29.45560737817307\n",
      "dinner_MAE :  38.78982536211174\n",
      "total_MAE :  34.122716370142406\n",
      "../submission\\20210716_cat_autoML.csv None\n",
      "\n",
      "lunch_MAE :  21.573558398288537\n",
      "dinner_MAE :  26.79874176888838\n",
      "total_MAE :  24.18615008358846\n",
      "../submission\\20210716_lgbm_autoML.csv None\n",
      "\n",
      "lunch_MAE :  28.000867753040904\n",
      "dinner_MAE :  23.622401674017027\n",
      "total_MAE :  25.811634713528967\n",
      "../submission\\20210716_lgbm_autoML_ensenble.csv None\n",
      "\n",
      "lunch_MAE :  22.07424041523855\n",
      "dinner_MAE :  27.775978598860657\n",
      "total_MAE :  24.925109507049605\n",
      "../submission\\20210716_lgbm_autoML_in.csv None\n",
      "\n",
      "lunch_MAE :  24.38934239307444\n",
      "dinner_MAE :  37.039358805567275\n",
      "total_MAE :  30.71435059932086\n",
      "../submission\\20210716_lgbm_sort_autoML.csv None\n",
      "\n",
      "lunch_MAE :  47.394810806412806\n",
      "dinner_MAE :  25.627104376939243\n",
      "total_MAE :  36.510957591676025\n",
      "../submission\\20210717_best_data_ensemble.csv None\n",
      "\n",
      "lunch_MAE :  50.19413045415698\n",
      "dinner_MAE :  25.521674526114083\n",
      "total_MAE :  37.85790249013553\n",
      "../submission\\20210717_best_data_ensemble2.csv None\n",
      "\n",
      "lunch_MAE :  50.19413045415698\n",
      "dinner_MAE :  25.471340788784282\n",
      "total_MAE :  37.83273562147063\n",
      "../submission\\20210717_best_data_ensemble3.csv None\n",
      "\n",
      "lunch_MAE :  62.83485443372056\n",
      "dinner_MAE :  31.01351041820179\n",
      "total_MAE :  46.92418242596118\n",
      "../submission\\20210717_pycaret_(2).csv None\n",
      "\n",
      "lunch_MAE :  30.239625497971932\n",
      "dinner_MAE :  50.26081350525003\n",
      "total_MAE :  40.25021950161098\n",
      "../submission\\20210718_autoML_5.csv None\n",
      "\n",
      "lunch_MAE :  28.674962274388353\n",
      "dinner_MAE :  32.18815763620056\n",
      "total_MAE :  30.431559955294453\n",
      "../submission\\20210718_pycaret.csv None\n",
      "\n",
      "lunch_MAE :  64.1359295528223\n",
      "dinner_MAE :  37.97666624060559\n",
      "total_MAE :  51.05629789671394\n",
      "../submission\\20210718_pycaret_(2).csv None\n",
      "\n",
      "lunch_MAE :  51.11704802064884\n",
      "dinner_MAE :  36.4138974672335\n",
      "total_MAE :  43.76547274394117\n",
      "../submission\\20210719_best_data_ensemble.csv None\n",
      "\n",
      "lunch_MAE :  43.50960798916338\n",
      "dinner_MAE :  26.98117714862836\n",
      "total_MAE :  35.245392568895866\n",
      "../submission\\20210719_best_data_ensemble3.csv None\n",
      "\n",
      "lunch_MAE :  27.36350536157173\n",
      "dinner_MAE :  27.375702841930796\n",
      "total_MAE :  27.369604101751264\n",
      "../submission\\20210719_lgbm_autoML.csv None\n",
      "\n",
      "lunch_MAE :  31.757067307011834\n",
      "dinner_MAE :  36.4138974672335\n",
      "total_MAE :  34.08548238712267\n",
      "../submission\\20210719_pycaret.csv None\n",
      "\n",
      "lunch_MAE :  27.192661684323458\n",
      "dinner_MAE :  30.12520270570378\n",
      "total_MAE :  28.65893219501362\n",
      "../submission\\20210720_lgbm_autoML_22.csv None\n",
      "\n",
      "lunch_MAE :  30.517623229551496\n",
      "dinner_MAE :  26.275656645705286\n",
      "total_MAE :  28.396639937628393\n",
      "../submission\\20210720_optuna_AutoML.csv None\n",
      "\n",
      "lunch_MAE :  30.517623229551496\n",
      "dinner_MAE :  26.275656645705286\n",
      "total_MAE :  28.396639937628393\n",
      "../submission\\20210720_optuna_lgbm.csv None\n",
      "\n",
      "lunch_MAE :  39.89868090891336\n",
      "dinner_MAE :  36.4138974672335\n",
      "total_MAE :  38.15628918807343\n",
      "../submission\\20210721_best_data_ensemble.csv None\n",
      "\n",
      "lunch_MAE :  23.71180279040098\n",
      "dinner_MAE :  29.718517138198422\n",
      "total_MAE :  26.7151599642997\n",
      "../submission\\20210721_lgbm_knfold_drop.csv None\n",
      "\n",
      "lunch_MAE :  39.89868090891336\n",
      "dinner_MAE :  36.4138974672335\n",
      "total_MAE :  38.15628918807343\n",
      "../submission\\20210722_best_data_ensemble.csv None\n",
      "\n",
      "lunch_MAE :  51.11704802064884\n",
      "dinner_MAE :  26.275656645705286\n",
      "total_MAE :  38.69635233317706\n",
      "../submission\\20210722_best_data_ensemble2.csv None\n",
      "\n",
      "lunch_MAE :  19.790092567249598\n",
      "dinner_MAE :  34.56419728041983\n",
      "total_MAE :  27.177144923834717\n",
      "../submission\\20210722_hyperOpt_lgbm.csv None\n",
      "\n",
      "lunch_MAE :  13.696215538281244\n",
      "dinner_MAE :  16.281801649023432\n",
      "total_MAE :  14.989008593652338\n",
      "../submission\\20210722_hyperOpt_xgb.csv None\n",
      "\n",
      "lunch_MAE :  15.727453388281251\n",
      "dinner_MAE :  19.66674534394531\n",
      "total_MAE :  17.697099366113278\n",
      "../submission\\20210722_hyperOpt_xgb2.csv None\n",
      "\n",
      "lunch_MAE :  19.790092567249598\n",
      "dinner_MAE :  18.02539572507823\n",
      "total_MAE :  18.907744146163914\n",
      "../submission\\20210722_mix_lgbm.csv None\n",
      "\n",
      "lunch_MAE :  21.536023572282147\n",
      "dinner_MAE :  18.02539572507823\n",
      "total_MAE :  19.780709648680187\n",
      "../submission\\20210722_optuna_lgbm.csv None\n",
      "\n"
     ]
    }
   ],
   "source": [
    "import glob\n",
    "\n",
    "files = glob.glob('../submission/*')\n",
    "\n",
    "for file in files[:-1]:\n",
    "    print(file, compare_ans(file), end=\"\\n\\n\" )"
   ]
  },
  {
   "cell_type": "markdown",
   "metadata": {},
   "source": [
    "# 저장"
   ]
  },
  {
   "cell_type": "code",
   "execution_count": 62,
   "metadata": {},
   "outputs": [
    {
     "name": "stdout",
     "output_type": "stream",
     "text": [
      "오늘 날짜 : 20210722\n"
     ]
    }
   ],
   "source": [
    "import datetime\n",
    "today = str(datetime.datetime.now().date()).replace(\"-\",\"\")\n",
    "print(\"오늘 날짜 : \" + today)\n",
    "\n",
    "submission.to_csv(f'../submission/{today}_hyperOpt_xgb2.csv', index =False)"
   ]
  },
  {
   "cell_type": "code",
   "execution_count": 67,
   "metadata": {},
   "outputs": [
    {
     "data": {
      "text/plain": [
       "8.68240888334652"
      ]
     },
     "execution_count": 67,
     "metadata": {},
     "output_type": "execute_result"
    }
   ],
   "source": [
    "import math\n",
    "    \n",
    "math.cos(80/180*math.pi)*50"
   ]
  },
  {
   "cell_type": "code",
   "execution_count": 69,
   "metadata": {},
   "outputs": [
    {
     "data": {
      "text/plain": [
       "0.3339388032056354"
      ]
     },
     "execution_count": 69,
     "metadata": {},
     "output_type": "execute_result"
    }
   ],
   "source": [
    "1/3 + 2/3"
   ]
  }
 ],
 "metadata": {
  "kernelspec": {
   "display_name": "Python 3",
   "language": "python",
   "name": "python3"
  },
  "language_info": {
   "codemirror_mode": {
    "name": "ipython",
    "version": 3
   },
   "file_extension": ".py",
   "mimetype": "text/x-python",
   "name": "python",
   "nbconvert_exporter": "python",
   "pygments_lexer": "ipython3",
   "version": "3.8.10"
  }
 },
 "nbformat": 4,
 "nbformat_minor": 4
}

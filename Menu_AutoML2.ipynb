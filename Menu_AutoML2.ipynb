{
 "cells": [
  {
   "cell_type": "code",
   "execution_count": 1,
   "metadata": {},
   "outputs": [
    {
     "ename": "RuntimeError",
     "evalue": "module compiled against API version 0xe but this version of numpy is 0xd",
     "output_type": "error",
     "traceback": [
      "\u001b[1;31m---------------------------------------------------------------------------\u001b[0m",
      "\u001b[1;31mRuntimeError\u001b[0m                              Traceback (most recent call last)",
      "\u001b[1;31mRuntimeError\u001b[0m: module compiled against API version 0xe but this version of numpy is 0xd"
     ]
    }
   ],
   "source": [
    "import pandas as pd\n",
    "import numpy as np\n",
    "\n",
    "import matplotlib.pyplot as plt\n",
    "import seaborn as sns\n",
    "%matplotlib inline\n",
    "plt.rcParams['font.family'] = 'Gulim'"
   ]
  },
  {
   "cell_type": "code",
   "execution_count": 2,
   "metadata": {},
   "outputs": [],
   "source": [
    "from workalendar.asia import SouthKorea\n",
    "import pendulum"
   ]
  },
  {
   "cell_type": "code",
   "execution_count": 3,
   "metadata": {},
   "outputs": [],
   "source": [
    "train = pd.read_csv('../data/train.csv')\n",
    "test = pd.read_csv('../data/test.csv')"
   ]
  },
  {
   "cell_type": "markdown",
   "metadata": {},
   "source": [
    "## 전처리\n",
    "- 일자에서 월과 일을 분리\n",
    "- 요일을 레이블 인코딩화(EDA로 요일의 중요도 순 파악)\n",
    "- 월 별, 일 별 중식 석식 수요 차이 파악"
   ]
  },
  {
   "cell_type": "code",
   "execution_count": 4,
   "metadata": {},
   "outputs": [
    {
     "name": "stderr",
     "output_type": "stream",
     "text": [
      "<ipython-input-4-048b95631755>:3: FutureWarning: weekofyear and week have been deprecated, please use DatetimeIndex.isocalendar().week instead, which returns a Series.  To exactly reproduce the behavior of week and weekofyear and return an Index, you may call pd.Int64Index(idx.isocalendar().week)\n",
      "  train['주'] = str(pd.DatetimeIndex(train['일자']).week)\n",
      "<ipython-input-4-048b95631755>:4: FutureWarning: weekofyear and week have been deprecated, please use DatetimeIndex.isocalendar().week instead, which returns a Series.  To exactly reproduce the behavior of week and weekofyear and return an Index, you may call pd.Int64Index(idx.isocalendar().week)\n",
      "  test['주'] = str(pd.DatetimeIndex(test['일자']).week)\n"
     ]
    }
   ],
   "source": [
    "train['월'] = str(pd.DatetimeIndex(train['일자']).month)\n",
    "test['월'] = str(pd.DatetimeIndex(test['일자']).month)\n",
    "train['주'] = str(pd.DatetimeIndex(train['일자']).week)\n",
    "test['주'] = str(pd.DatetimeIndex(test['일자']).week)\n",
    "train['일'] = pd.DatetimeIndex(train['일자']).day\n",
    "test['일'] = pd.DatetimeIndex(test['일자']).day\n",
    "\n",
    "train['출근'] = train['본사정원수']-(train['본사휴가자수']+train['본사출장자수']+train['현본사소속재택근무자수'])\n",
    "train['휴가비율'] = train['본사휴가자수']/train['본사정원수']\n",
    "train['출장비율'] = train['본사출장자수']/train['본사정원수']\n",
    "train['야근비율'] = train['본사시간외근무명령서승인건수']/train['출근']\n",
    "train['재택비율'] = train['현본사소속재택근무자수']/train['본사정원수']\n",
    "\n",
    "test['출근'] = test['본사정원수']-(test['본사휴가자수']+test['본사출장자수']+test['현본사소속재택근무자수'])\n",
    "test['휴가비율'] = test['본사휴가자수']/test['본사정원수']\n",
    "test['출장비율'] = test['본사출장자수']/test['본사정원수']\n",
    "test['야근비율'] = test['본사시간외근무명령서승인건수']/test['출근']\n",
    "test['재택비율'] = test['현본사소속재택근무자수']/test['본사정원수']\n",
    "\n",
    "train['식사가능자수'] = train['본사정원수'] - train['본사휴가자수'] - train['현본사소속재택근무자수']\n",
    "test['식사가능자수'] = test['본사정원수'] - test['본사휴가자수'] - test['현본사소속재택근무자수']"
   ]
  },
  {
   "cell_type": "code",
   "execution_count": 5,
   "metadata": {},
   "outputs": [],
   "source": [
    "def is_holiday(date):\n",
    "    holidays = list(map(str, pd.Series(np.array(SouthKorea().holidays(int(date[:4])))[:, 0])))\n",
    "    \n",
    "    yesterday = str(np.datetime64(date) - 1)\n",
    "    tomorrow = str(np.datetime64(date) + 1)\n",
    "\n",
    "    if tomorrow in holidays and yesterday in holidays:\n",
    "        return '3'\n",
    "    if tomorrow in holidays:\n",
    "        return '2'\n",
    "    elif yesterday in holidays:\n",
    "        return '1'\n",
    "    else : \n",
    "        return '0'\n",
    "\n",
    "def week_of_month(x):\n",
    "    dt = pendulum.parse(x)\n",
    "    \n",
    "    wom = dt.week_of_month\n",
    "    if wom < 0:\n",
    "        wom += 52\n",
    "    return str(wom)\n",
    "    \n",
    "\n",
    "df = pd.concat([train[['본사정원수', '일자']], test[['본사정원수', '일자']]])\n",
    "df['년월'] = df['일자'].apply(lambda x : x[:7])\n",
    "df = df[['년월', '본사정원수']].groupby(by=['년월'], as_index=False).mean()\n",
    "\n",
    "def member_change(date):\n",
    "    this_month = date[:7]\n",
    "    last_month = str(np.datetime64(this_month) - 1)\n",
    "    \n",
    "    this_month_member = int(df[df['년월'] == this_month]['본사정원수'])\n",
    "    last_month_member = int(df[df['년월'] == last_month]['본사정원수'])\n",
    "    \n",
    "    \n",
    "    return  this_month_member - last_month_member\n",
    "\n",
    "train['공휴일전후'] = train['일자'].apply(is_holiday)\n",
    "test['공휴일전후'] = test['일자'].apply(is_holiday)\n",
    "\n",
    "train['몇주차'] = train['일자'].apply(week_of_month)\n",
    "test['몇주차'] = test['일자'].apply(week_of_month)\n",
    "\n",
    "train = train[train['일자'] > '2016-03']\n",
    "train['인원변화'] = train['일자'].apply(member_change)\n",
    "test['인원변화'] = test['일자'].apply(member_change)\n",
    "\n",
    "train['day2']=0\n",
    "train.loc[train['일']>9, 'day2'] = 1\n",
    "train.loc[train['일']>19, 'day2'] = 2\n",
    "\n",
    "test['day2']=0\n",
    "test.loc[test['일']>9, 'day2'] = 1\n",
    "test.loc[test['일']>19, 'day2'] = 2"
   ]
  },
  {
   "cell_type": "markdown",
   "metadata": {},
   "source": [
    "## 공휴일 변수 생성"
   ]
  },
  {
   "cell_type": "code",
   "execution_count": 6,
   "metadata": {},
   "outputs": [
    {
     "data": {
      "text/plain": [
       "Index(['일자', '요일', '본사정원수', '본사휴가자수', '본사출장자수', '본사시간외근무명령서승인건수',\n",
       "       '현본사소속재택근무자수', '조식메뉴', '중식메뉴', '석식메뉴', '중식계', '석식계', '월', '주', '일',\n",
       "       '출근', '휴가비율', '출장비율', '야근비율', '재택비율', '식사가능자수', '공휴일전후', '몇주차', '인원변화',\n",
       "       'day2'],\n",
       "      dtype='object')"
      ]
     },
     "execution_count": 6,
     "metadata": {},
     "output_type": "execute_result"
    }
   ],
   "source": [
    "train.columns"
   ]
  },
  {
   "cell_type": "code",
   "execution_count": 7,
   "metadata": {},
   "outputs": [],
   "source": [
    "# 메뉴 변수 없이 사용할떄 해당 코드 사용['공휴일전후', '몇주차', '인원변화']\n",
    "\n",
    "lunch_train = train[['공휴일전후', '몇주차', '인원변화', '요일','월','day2','주','출근', '휴가비율', '출장비율', '야근비율', '재택비율','본사출장자수','본사휴가자수','식사가능자수','본사시간외근무명령서승인건수']]\n",
    "lunch_test = test[['공휴일전후', '몇주차', '인원변화', '요일','월','day2','주','출근', '휴가비율', '출장비율', '야근비율', '재택비율','본사출장자수','본사휴가자수','식사가능자수','본사시간외근무명령서승인건수']]\n",
    "\n",
    "dinner_train= train[['공휴일전후', '몇주차', '인원변화', '요일','월','day2','주','출근', '휴가비율', '출장비율', '야근비율', '재택비율','본사출장자수','본사휴가자수','식사가능자수','본사시간외근무명령서승인건수']]\n",
    "dinner_test = test[['공휴일전후', '몇주차', '인원변화', '요일','월','day2','주','출근', '휴가비율', '출장비율', '야근비율', '재택비율','본사출장자수','본사휴가자수','식사가능자수','본사시간외근무명령서승인건수']]"
   ]
  },
  {
   "cell_type": "code",
   "execution_count": 8,
   "metadata": {},
   "outputs": [
    {
     "data": {
      "text/plain": [
       "Index(['공휴일전후', '몇주차', '인원변화', '요일', '월', 'day2', '주', '출근', '휴가비율', '출장비율',\n",
       "       '야근비율', '재택비율', '본사출장자수', '본사휴가자수', '식사가능자수', '본사시간외근무명령서승인건수'],\n",
       "      dtype='object')"
      ]
     },
     "execution_count": 8,
     "metadata": {},
     "output_type": "execute_result"
    }
   ],
   "source": [
    "lunch_train.columns"
   ]
  },
  {
   "cell_type": "code",
   "execution_count": 9,
   "metadata": {
    "scrolled": true
   },
   "outputs": [
    {
     "name": "stdout",
     "output_type": "stream",
     "text": [
      "(1187, 16)\n",
      "(50, 16)\n"
     ]
    }
   ],
   "source": [
    "print(lunch_train.shape)\n",
    "print(lunch_test.shape)"
   ]
  },
  {
   "cell_type": "code",
   "execution_count": 10,
   "metadata": {},
   "outputs": [
    {
     "name": "stdout",
     "output_type": "stream",
     "text": [
      "(1187, 16)\n",
      "(50, 16)\n"
     ]
    }
   ],
   "source": [
    "print(dinner_train.shape)\n",
    "print(dinner_test.shape)"
   ]
  },
  {
   "cell_type": "code",
   "execution_count": 11,
   "metadata": {},
   "outputs": [
    {
     "name": "stdout",
     "output_type": "stream",
     "text": [
      "Cat features are: ['공휴일전후', '몇주차', '요일', '월', '주']\n",
      "[0 1 3 4 6]\n"
     ]
    }
   ],
   "source": [
    "cat_features = [f for f in lunch_train.columns if lunch_train[f].dtype == 'object']\n",
    "\n",
    "def column_index(df, cat_features):\n",
    "    cols = df.columns.values\n",
    "    sidx = np.argsort(cols)\n",
    "    return sidx[np.searchsorted(cols, cat_features, sorter=sidx)]\n",
    "\n",
    "cat_features_idx = column_index(lunch_train, cat_features)    \n",
    "print(\"Cat features are: %s\" % [f for f in cat_features])\n",
    "print(cat_features_idx)"
   ]
  },
  {
   "cell_type": "code",
   "execution_count": 12,
   "metadata": {},
   "outputs": [],
   "source": [
    "y_lunch = train[['중식계']]\n",
    "y_dinner = train[['석식계']]"
   ]
  },
  {
   "cell_type": "markdown",
   "metadata": {},
   "source": [
    "#### 분포 확인 및 분포 조정"
   ]
  },
  {
   "cell_type": "markdown",
   "metadata": {},
   "source": [
    "# 중식 예측모델"
   ]
  },
  {
   "cell_type": "code",
   "execution_count": 13,
   "metadata": {},
   "outputs": [],
   "source": [
    "from automl_alex import LightGBMRegressor, CatBoostRegressor, AutoMLRegressor\n",
    "from sklearn.metrics import mean_absolute_error as MAE\n",
    "import sklearn"
   ]
  },
  {
   "cell_type": "markdown",
   "metadata": {},
   "source": []
  },
  {
   "cell_type": "code",
   "execution_count": 14,
   "metadata": {},
   "outputs": [
    {
     "name": "stderr",
     "output_type": "stream",
     "text": [
      "\u001b[32m18:36:25\u001b[0m | \u001b[1m> Start Fit Base Model\u001b[0m\n",
      "\u001b[32m18:36:44\u001b[0m | \u001b[1m##################################################\u001b[0m\n",
      "\u001b[32m18:36:44\u001b[0m | \u001b[1m> Start Fit Models 2\u001b[0m\n",
      "\u001b[32m18:36:44\u001b[0m | \u001b[1m##################################################\u001b[0m\n",
      "\u001b[32m18:36:44\u001b[0m | \u001b[1m##################################################\u001b[0m\n",
      "\u001b[32m18:36:45\u001b[0m | \u001b[1m> Step 1: calc parameters and pruned score: get test 10 trials\u001b[0m\n",
      "\u001b[32m18:37:16\u001b[0m | \u001b[1m One iteration ~ 3.0 sec\u001b[0m\n",
      "\u001b[32m18:37:16\u001b[0m | \u001b[1m Possible iters ~ 315.0\u001b[0m\n",
      "\u001b[32m18:37:16\u001b[0m | \u001b[1m--------------------------------------------------\u001b[0m\n",
      "\u001b[32m18:37:16\u001b[0m | \u001b[1m  Pruned Threshold Score: 80.2\u001b[0m\n",
      "\u001b[32m18:37:16\u001b[0m | \u001b[1m##################################################\u001b[0m\n",
      "\u001b[32m18:37:16\u001b[0m | \u001b[1m> Step 2: Full opt with Threshold Score Pruner\u001b[0m\n",
      "\u001b[32m18:37:16\u001b[0m | \u001b[1m##################################################\u001b[0m\n",
      "\u001b[32m18:37:16\u001b[0m | \u001b[1m> Start optimization with the parameters:\u001b[0m\n",
      "\u001b[32m18:37:16\u001b[0m | \u001b[1mCV_Folds = 20\u001b[0m\n",
      "\u001b[32m18:37:16\u001b[0m | \u001b[1mScore_CV_Folds = 3\u001b[0m\n",
      "\u001b[32m18:37:16\u001b[0m | \u001b[1mFeature_Selection = False\u001b[0m\n",
      "\u001b[32m18:37:16\u001b[0m | \u001b[1mOpt_lvl = 3\u001b[0m\n",
      "\u001b[32m18:37:16\u001b[0m | \u001b[1mCold_start = 15\u001b[0m\n",
      "\u001b[32m18:37:16\u001b[0m | \u001b[1mEarly_stoping = 120\u001b[0m\n",
      "\u001b[32m18:37:16\u001b[0m | \u001b[1mMetric = mean_absolute_error\u001b[0m\n",
      "\u001b[32m18:37:16\u001b[0m | \u001b[1mDirection = minimize\u001b[0m\n",
      "\u001b[32m18:37:16\u001b[0m | \u001b[1m##################################################\u001b[0m\n",
      "Optimize: : 210it [14:30,  4.14s/it, | Model: LightGBM | OptScore: 69.4327 | Best mean_absolute_error: 67.8686 ]\n",
      "\u001b[32m18:51:46\u001b[0m | \u001b[1m> Finish Opt!\u001b[0m\n",
      "\u001b[32m18:51:46\u001b[0m | \u001b[1mBest Score: 67.8686 mean_absolute_error\u001b[0m\n",
      "\u001b[32m18:51:46\u001b[0m | \u001b[1m##################################################\u001b[0m\n",
      "\u001b[32m18:51:46\u001b[0m | \u001b[1m> Fit Best Models\u001b[0m\n",
      "\u001b[32m18:51:46\u001b[0m | \u001b[1m##################################################\u001b[0m\n",
      "\u001b[32m18:52:04\u001b[0m | \u001b[1mSave DataPrepare\u001b[0m\n",
      "\u001b[32m18:52:26\u001b[0m | \u001b[1mSave DataPrepare\u001b[0m\n",
      "\u001b[32m18:52:47\u001b[0m | \u001b[1mSave DataPrepare\u001b[0m\n",
      "\u001b[32m18:53:07\u001b[0m | \u001b[1mSave DataPrepare\u001b[0m\n",
      "\u001b[32m18:53:27\u001b[0m | \u001b[1mSave DataPrepare\u001b[0m\n",
      "\u001b[32m18:53:28\u001b[0m | \u001b[1m##################################################\u001b[0m\n",
      "\u001b[32m18:53:28\u001b[0m | \u001b[1m> Finish!\u001b[0m\n"
     ]
    },
    {
     "data": {
      "text/plain": [
       "<automl_alex.automl_alex.AutoMLRegressor at 0x1cd8a514700>"
      ]
     },
     "execution_count": 14,
     "metadata": {},
     "output_type": "execute_result"
    }
   ],
   "source": [
    "lunch_model = AutoMLRegressor(random_state=42, metric=MAE)\n",
    "\n",
    "lunch_model.fit(lunch_train, y_lunch,\n",
    "                verbose=3,\n",
    "                folds=20,\n",
    "                opt_lvl=3,\n",
    "                early_stoping=120,\n",
    "                auto_parameters=False,\n",
    "                timeout=1100\n",
    "               )"
   ]
  },
  {
   "cell_type": "code",
   "execution_count": 15,
   "metadata": {},
   "outputs": [],
   "source": [
    "predicts_Auto_lunch_5 = lunch_model.predict(lunch_test)"
   ]
  },
  {
   "cell_type": "code",
   "execution_count": 16,
   "metadata": {},
   "outputs": [
    {
     "name": "stderr",
     "output_type": "stream",
     "text": [
      "\u001b[32m18:53:37\u001b[0m | \u001b[1m> Start Fit Base Model\u001b[0m\n",
      "\u001b[32m18:53:57\u001b[0m | \u001b[1m##################################################\u001b[0m\n",
      "\u001b[32m18:53:57\u001b[0m | \u001b[1m> Start Fit Models 2\u001b[0m\n",
      "\u001b[32m18:53:57\u001b[0m | \u001b[1m##################################################\u001b[0m\n",
      "\u001b[32m18:53:57\u001b[0m | \u001b[1m##################################################\u001b[0m\n",
      "\u001b[32m18:53:57\u001b[0m | \u001b[1m> Step 1: calc parameters and pruned score: get test 10 trials\u001b[0m\n",
      "\u001b[32m18:54:29\u001b[0m | \u001b[1m One iteration ~ 3.2 sec\u001b[0m\n",
      "\u001b[32m18:54:29\u001b[0m | \u001b[1m Possible iters ~ 298.0\u001b[0m\n",
      "\u001b[32m18:54:29\u001b[0m | \u001b[1m--------------------------------------------------\u001b[0m\n",
      "\u001b[32m18:54:29\u001b[0m | \u001b[1m  Pruned Threshold Score: 74.8146\u001b[0m\n",
      "\u001b[32m18:54:29\u001b[0m | \u001b[1m##################################################\u001b[0m\n",
      "\u001b[32m18:54:29\u001b[0m | \u001b[1m> Step 2: Full opt with Threshold Score Pruner\u001b[0m\n",
      "\u001b[32m18:54:29\u001b[0m | \u001b[1m##################################################\u001b[0m\n",
      "\u001b[32m18:54:29\u001b[0m | \u001b[1m> Start optimization with the parameters:\u001b[0m\n",
      "\u001b[32m18:54:29\u001b[0m | \u001b[1mCV_Folds = 20\u001b[0m\n",
      "\u001b[32m18:54:29\u001b[0m | \u001b[1mScore_CV_Folds = 3\u001b[0m\n",
      "\u001b[32m18:54:29\u001b[0m | \u001b[1mFeature_Selection = False\u001b[0m\n",
      "\u001b[32m18:54:29\u001b[0m | \u001b[1mOpt_lvl = 3\u001b[0m\n",
      "\u001b[32m18:54:29\u001b[0m | \u001b[1mCold_start = 15\u001b[0m\n",
      "\u001b[32m18:54:29\u001b[0m | \u001b[1mEarly_stoping = 120\u001b[0m\n",
      "\u001b[32m18:54:29\u001b[0m | \u001b[1mMetric = mean_absolute_error\u001b[0m\n",
      "\u001b[32m18:54:29\u001b[0m | \u001b[1mDirection = minimize\u001b[0m\n",
      "\u001b[32m18:54:29\u001b[0m | \u001b[1m##################################################\u001b[0m\n",
      "Optimize: : 286it [14:24,  3.02s/it, | Model: LightGBM | OptScore: 70.9676 | Best mean_absolute_error: 62.0717 ]\n",
      "\u001b[32m19:08:54\u001b[0m | \u001b[1m> Finish Opt!\u001b[0m\n",
      "\u001b[32m19:08:54\u001b[0m | \u001b[1mBest Score: 62.0717 mean_absolute_error\u001b[0m\n",
      "\u001b[32m19:08:54\u001b[0m | \u001b[1m##################################################\u001b[0m\n",
      "\u001b[32m19:08:54\u001b[0m | \u001b[1m> Fit Best Models\u001b[0m\n",
      "\u001b[32m19:08:54\u001b[0m | \u001b[1m##################################################\u001b[0m\n",
      "\u001b[32m19:09:04\u001b[0m | \u001b[1mSave DataPrepare\u001b[0m\n",
      "\u001b[32m19:09:25\u001b[0m | \u001b[1mSave DataPrepare\u001b[0m\n",
      "\u001b[32m19:09:37\u001b[0m | \u001b[1mSave DataPrepare\u001b[0m\n",
      "\u001b[32m19:09:50\u001b[0m | \u001b[1mSave DataPrepare\u001b[0m\n",
      "\u001b[32m19:10:05\u001b[0m | \u001b[1mSave DataPrepare\u001b[0m\n",
      "\u001b[32m19:10:07\u001b[0m | \u001b[1m##################################################\u001b[0m\n",
      "\u001b[32m19:10:07\u001b[0m | \u001b[1m> Finish!\u001b[0m\n"
     ]
    },
    {
     "data": {
      "text/plain": [
       "<automl_alex.automl_alex.AutoMLRegressor at 0x1cd8bafb4c0>"
      ]
     },
     "execution_count": 16,
     "metadata": {},
     "output_type": "execute_result"
    }
   ],
   "source": [
    "dinner_model = AutoMLRegressor(random_state=42, metric=MAE)\n",
    "\n",
    "dinner_model.fit(dinner_train, y_dinner,         \n",
    "                 verbose=3,\n",
    "                 folds=20,\n",
    "                 opt_lvl=3,\n",
    "                 early_stoping=120,\n",
    "                 auto_parameters=False,\n",
    "                 timeout=1100\n",
    "                )"
   ]
  },
  {
   "cell_type": "code",
   "execution_count": 17,
   "metadata": {},
   "outputs": [],
   "source": [
    "predicts_Auto_dinner_5 = dinner_model.predict(dinner_test)"
   ]
  },
  {
   "cell_type": "code",
   "execution_count": 18,
   "metadata": {},
   "outputs": [
    {
     "data": {
      "text/html": [
       "<div>\n",
       "<style scoped>\n",
       "    .dataframe tbody tr th:only-of-type {\n",
       "        vertical-align: middle;\n",
       "    }\n",
       "\n",
       "    .dataframe tbody tr th {\n",
       "        vertical-align: top;\n",
       "    }\n",
       "\n",
       "    .dataframe thead th {\n",
       "        text-align: right;\n",
       "    }\n",
       "</style>\n",
       "<table border=\"1\" class=\"dataframe\">\n",
       "  <thead>\n",
       "    <tr style=\"text-align: right;\">\n",
       "      <th></th>\n",
       "      <th>일자</th>\n",
       "      <th>중식계</th>\n",
       "      <th>석식계</th>\n",
       "    </tr>\n",
       "  </thead>\n",
       "  <tbody>\n",
       "    <tr>\n",
       "      <th>0</th>\n",
       "      <td>2021-01-27</td>\n",
       "      <td>1014.029644</td>\n",
       "      <td>399.877308</td>\n",
       "    </tr>\n",
       "    <tr>\n",
       "      <th>1</th>\n",
       "      <td>2021-01-28</td>\n",
       "      <td>941.116418</td>\n",
       "      <td>417.799554</td>\n",
       "    </tr>\n",
       "    <tr>\n",
       "      <th>2</th>\n",
       "      <td>2021-01-29</td>\n",
       "      <td>638.111483</td>\n",
       "      <td>251.144302</td>\n",
       "    </tr>\n",
       "    <tr>\n",
       "      <th>3</th>\n",
       "      <td>2021-02-01</td>\n",
       "      <td>1269.110930</td>\n",
       "      <td>508.407070</td>\n",
       "    </tr>\n",
       "    <tr>\n",
       "      <th>4</th>\n",
       "      <td>2021-02-02</td>\n",
       "      <td>1064.668107</td>\n",
       "      <td>455.232010</td>\n",
       "    </tr>\n",
       "  </tbody>\n",
       "</table>\n",
       "</div>"
      ],
      "text/plain": [
       "           일자          중식계         석식계\n",
       "0  2021-01-27  1014.029644  399.877308\n",
       "1  2021-01-28   941.116418  417.799554\n",
       "2  2021-01-29   638.111483  251.144302\n",
       "3  2021-02-01  1269.110930  508.407070\n",
       "4  2021-02-02  1064.668107  455.232010"
      ]
     },
     "execution_count": 18,
     "metadata": {},
     "output_type": "execute_result"
    }
   ],
   "source": [
    "submission2 = pd.read_csv('../data/sample_submission.csv')\n",
    "\n",
    "submission2.iloc[:,1] = predicts_Auto_lunch_5\n",
    "submission2.iloc[:,2] = predicts_Auto_dinner_5\n",
    "submission2.head()"
   ]
  },
  {
   "cell_type": "code",
   "execution_count": 20,
   "metadata": {},
   "outputs": [
    {
     "name": "stdout",
     "output_type": "stream",
     "text": [
      "오늘 날짜 : 20210718\n"
     ]
    }
   ],
   "source": [
    "import datetime\n",
    "today = str(datetime.datetime.now().date()).replace(\"-\",\"\")\n",
    "print(\"오늘 날짜 : \" + today)\n",
    "\n",
    "submission2.to_csv(f'../submission/{today}_autoML_5.csv', index =False)"
   ]
  },
  {
   "cell_type": "code",
   "execution_count": null,
   "metadata": {},
   "outputs": [],
   "source": []
  }
 ],
 "metadata": {
  "kernelspec": {
   "display_name": "Python 3",
   "language": "python",
   "name": "python3"
  },
  "language_info": {
   "codemirror_mode": {
    "name": "ipython",
    "version": 3
   },
   "file_extension": ".py",
   "mimetype": "text/x-python",
   "name": "python",
   "nbconvert_exporter": "python",
   "pygments_lexer": "ipython3",
   "version": "3.8.10"
  }
 },
 "nbformat": 4,
 "nbformat_minor": 4
}

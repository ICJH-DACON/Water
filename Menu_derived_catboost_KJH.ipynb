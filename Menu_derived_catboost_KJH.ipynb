{
 "cells": [
  {
   "cell_type": "code",
   "execution_count": 27,
   "metadata": {},
   "outputs": [],
   "source": [
    "import pandas as pd\n",
    "import numpy as np\n",
    "from pycaret.regression import setup, compare_models, blend_models,tune_model,predict_model,get_config, finalize_model\n",
    "\n",
    "import matplotlib.pyplot as plt\n",
    "import seaborn as sns\n",
    "%matplotlib inline\n",
    "plt.rcParams['font.family'] = 'Gulim'"
   ]
  },
  {
   "cell_type": "code",
   "execution_count": 2,
   "metadata": {},
   "outputs": [],
   "source": [
    "from workalendar.asia import SouthKorea\n",
    "import pendulum"
   ]
  },
  {
   "cell_type": "code",
   "execution_count": 3,
   "metadata": {},
   "outputs": [],
   "source": [
    "train = pd.read_csv('../data/train.csv')\n",
    "test = pd.read_csv('../data/test.csv')"
   ]
  },
  {
   "cell_type": "markdown",
   "metadata": {},
   "source": [
    "## 전처리\n",
    "- 일자에서 월과 일을 분리\n",
    "- 요일을 레이블 인코딩화(EDA로 요일의 중요도 순 파악)\n",
    "- 월 별, 일 별 중식 석식 수요 차이 파악"
   ]
  },
  {
   "cell_type": "code",
   "execution_count": 4,
   "metadata": {},
   "outputs": [],
   "source": [
    "train['월'] = pd.DatetimeIndex(train['일자']).month.astype(str)\n",
    "test['월'] = pd.DatetimeIndex(test['일자']).month.astype(str)\n",
    "train['주'] = pd.DatetimeIndex(train['일자']).week.astype(str)\n",
    "test['주'] = pd.DatetimeIndex(test['일자']).week.astype(str)\n",
    "train['일'] = pd.DatetimeIndex(train['일자']).day.astype(str)\n",
    "test['일'] = pd.DatetimeIndex(test['일자']).day.astype(str)\n",
    "\n",
    "train['출근'] = train['본사정원수']-(train['본사휴가자수']+train['본사출장자수']+train['현본사소속재택근무자수'])\n",
    "train['휴가비율'] = train['본사휴가자수']/train['본사정원수']\n",
    "train['출장비율'] = train['본사출장자수']/train['본사정원수']\n",
    "train['야근비율'] = train['본사시간외근무명령서승인건수']/train['출근']\n",
    "train['재택비율'] = train['현본사소속재택근무자수']/train['본사정원수']\n",
    "\n",
    "test['출근'] = test['본사정원수']-(test['본사휴가자수']+test['본사출장자수']+test['현본사소속재택근무자수'])\n",
    "test['휴가비율'] = test['본사휴가자수']/test['본사정원수']\n",
    "test['출장비율'] = test['본사출장자수']/test['본사정원수']\n",
    "test['야근비율'] = test['본사시간외근무명령서승인건수']/test['출근']\n",
    "test['재택비율'] = test['현본사소속재택근무자수']/test['본사정원수']"
   ]
  },
  {
   "cell_type": "markdown",
   "metadata": {},
   "source": [
    "## 공휴일 변수 생성"
   ]
  },
  {
   "cell_type": "code",
   "execution_count": 5,
   "metadata": {},
   "outputs": [],
   "source": [
    "def is_holiday(date):\n",
    "    holidays = list(map(str, pd.Series(np.array(SouthKorea().holidays(int(date[:4])))[:, 0])))\n",
    "    \n",
    "    yesterday = str(np.datetime64(date) - 1)\n",
    "    tomorrow = str(np.datetime64(date) + 1)\n",
    "\n",
    "    if tomorrow in holidays and yesterday in holidays:\n",
    "        return'S'\n",
    "    if tomorrow in holidays:\n",
    "        return 'T'\n",
    "    elif yesterday in holidays:\n",
    "        return 'Y'\n",
    "    else : \n",
    "        return 'N'\n",
    "\n",
    "def week_of_month(x):\n",
    "    dt = pendulum.parse(x)\n",
    "    \n",
    "    wom = dt.week_of_month\n",
    "    if wom < 0:\n",
    "        wom += 52\n",
    "    return str(wom)\n",
    "    \n",
    "\n",
    "df = pd.concat([train[['본사정원수', '일자']], test[['본사정원수', '일자']]])\n",
    "df['년월'] = df['일자'].apply(lambda x : x[:7])\n",
    "df = df[['년월', '본사정원수']].groupby(by=['년월'], as_index=False).mean()\n",
    "\n",
    "def member_change(date):\n",
    "    this_month = date[:7]\n",
    "    last_month = str(np.datetime64(this_month) - 1)\n",
    "    \n",
    "    this_month_member = int(df[df['년월'] == this_month]['본사정원수'])\n",
    "    last_month_member = int(df[df['년월'] == last_month]['본사정원수'])\n",
    "    \n",
    "    \n",
    "    return  this_month_member - last_month_member\n",
    "\n",
    "train['공휴일전후'] = train['일자'].apply(is_holiday)\n",
    "test['공휴일전후'] = test['일자'].apply(is_holiday)\n",
    "\n",
    "train['몇주차'] = train['일자'].apply(week_of_month)\n",
    "test['몇주차'] = test['일자'].apply(week_of_month)\n",
    "\n",
    "train = train[train['일자'] > '2016-03']\n",
    "train['인원변화'] = train['일자'].apply(member_change)\n",
    "test['인원변화'] = test['일자'].apply(member_change)"
   ]
  },
  {
   "cell_type": "markdown",
   "metadata": {},
   "source": [
    "## 최종 데이터 셋 구축"
   ]
  },
  {
   "cell_type": "code",
   "execution_count": 6,
   "metadata": {},
   "outputs": [
    {
     "data": {
      "text/plain": [
       "Index(['일자', '요일', '본사정원수', '본사휴가자수', '본사출장자수', '본사시간외근무명령서승인건수',\n",
       "       '현본사소속재택근무자수', '조식메뉴', '중식메뉴', '석식메뉴', '중식계', '석식계', '월', '주', '일',\n",
       "       '출근', '휴가비율', '출장비율', '야근비율', '재택비율', '공휴일전후', '몇주차', '인원변화'],\n",
       "      dtype='object')"
      ]
     },
     "execution_count": 6,
     "metadata": {},
     "output_type": "execute_result"
    }
   ],
   "source": [
    "train.columns"
   ]
  },
  {
   "cell_type": "code",
   "execution_count": 7,
   "metadata": {},
   "outputs": [],
   "source": [
    "lunch_train = train.drop(columns=['본사정원수', '본사시간외근무명령서승인건수', '현본사소속재택근무자수','일자','석식계', '조식메뉴', '중식메뉴', '석식메뉴'])\n",
    "lunch_test = test.drop(columns=['본사정원수', '본사시간외근무명령서승인건수', '현본사소속재택근무자수','일자',  '조식메뉴', '중식메뉴', '석식메뉴'])\n",
    "\n",
    "\n",
    "dinner_train = train.drop(columns=['본사정원수', '본사시간외근무명령서승인건수', '현본사소속재택근무자수','일자', '중식계', '조식메뉴', '중식메뉴', '석식메뉴'])\n",
    "dinner_test = test.drop(columns=['본사정원수', '본사시간외근무명령서승인건수', '현본사소속재택근무자수','일자', '조식메뉴', '중식메뉴', '석식메뉴'])"
   ]
  },
  {
   "cell_type": "code",
   "execution_count": 8,
   "metadata": {
    "scrolled": true
   },
   "outputs": [
    {
     "name": "stdout",
     "output_type": "stream",
     "text": [
      "(1187, 15)\n",
      "(50, 14)\n"
     ]
    }
   ],
   "source": [
    "print(lunch_train.shape)\n",
    "print(lunch_test.shape)"
   ]
  },
  {
   "cell_type": "code",
   "execution_count": 9,
   "metadata": {},
   "outputs": [
    {
     "name": "stdout",
     "output_type": "stream",
     "text": [
      "(1187, 15)\n",
      "(50, 14)\n"
     ]
    }
   ],
   "source": [
    "print(dinner_train.shape)\n",
    "print(dinner_test.shape)"
   ]
  },
  {
   "cell_type": "code",
   "execution_count": 10,
   "metadata": {},
   "outputs": [
    {
     "data": {
      "text/plain": [
       "Index(['요일', '본사휴가자수', '본사출장자수', '석식계', '월', '주', '일', '출근', '휴가비율', '출장비율',\n",
       "       '야근비율', '재택비율', '공휴일전후', '몇주차', '인원변화'],\n",
       "      dtype='object')"
      ]
     },
     "execution_count": 10,
     "metadata": {},
     "output_type": "execute_result"
    }
   ],
   "source": [
    "dinner_train.columns"
   ]
  },
  {
   "cell_type": "markdown",
   "metadata": {},
   "source": [
    "# 중식 예측모델"
   ]
  },
  {
   "cell_type": "code",
   "execution_count": 11,
   "metadata": {},
   "outputs": [],
   "source": [
    "y_lunch = np.array(lunch_train['중식계'])\n",
    "y_lunch = y_lunch.reshape(-1)\n",
    "lunch_train.drop(columns=['중식계'], inplace=True)\n",
    "\n",
    "y_dinner = np.array(dinner_train['석식계'])\n",
    "y_dinner = y_dinner.reshape(-1)\n",
    "dinner_train.drop(columns=['석식계'], inplace=True)"
   ]
  },
  {
   "cell_type": "code",
   "execution_count": 12,
   "metadata": {},
   "outputs": [
    {
     "name": "stdout",
     "output_type": "stream",
     "text": [
      "Cat features are: ['요일', '월', '주', '일', '공휴일전후', '몇주차']\n",
      "[ 0  3  4  5 11 12]\n"
     ]
    }
   ],
   "source": [
    "cat_features = [f for f in lunch_train.columns if lunch_train[f].dtype == 'object']\n",
    "\n",
    "def column_index(df, cat_features):\n",
    "    cols = df.columns.values\n",
    "    sidx = np.argsort(cols)\n",
    "    return sidx[np.searchsorted(cols, cat_features, sorter=sidx)]\n",
    "\n",
    "cat_features_idx = column_index(lunch_train, cat_features)    \n",
    "print(\"Cat features are: %s\" % [f for f in cat_features])\n",
    "print(cat_features_idx)"
   ]
  },
  {
   "cell_type": "code",
   "execution_count": 13,
   "metadata": {},
   "outputs": [
    {
     "name": "stdout",
     "output_type": "stream",
     "text": [
      "0:\tlearn: 170.9283998\ttest: 170.9185250\ttest1: 140.3802004\tbest: 140.3802004 (0)\ttotal: 153ms\tremaining: 7m 39s\n",
      "400:\tlearn: 64.2251641\ttest: 65.4156728\ttest1: 66.4415805\tbest: 66.4271195 (394)\ttotal: 6.61s\tremaining: 42.9s\n",
      "800:\tlearn: 53.2053019\ttest: 57.5650923\ttest1: 67.1230960\tbest: 66.4120082 (405)\ttotal: 12.9s\tremaining: 35.5s\n",
      "Stopped by overfitting detector  (500 iterations wait)\n",
      "\n",
      "bestTest = 66.41200821\n",
      "bestIteration = 405\n",
      "\n",
      "Shrink model to first 406 iterations.\n",
      "0:\tlearn: 167.0498352\ttest: 167.0411551\ttest1: 169.3008715\tbest: 169.3008715 (0)\ttotal: 17.9ms\tremaining: 53.7s\n",
      "400:\tlearn: 65.1539986\ttest: 65.8404852\ttest1: 75.7648236\tbest: 75.7648236 (400)\ttotal: 6.41s\tremaining: 41.5s\n",
      "800:\tlearn: 54.0647641\ttest: 57.3916182\ttest1: 69.5471939\tbest: 69.5212755 (797)\ttotal: 12.7s\tremaining: 34.9s\n",
      "1200:\tlearn: 47.4867334\ttest: 52.9922104\ttest1: 67.8804323\tbest: 67.8629163 (1196)\ttotal: 19s\tremaining: 28.5s\n",
      "1600:\tlearn: 42.6568690\ttest: 50.2131840\ttest1: 67.1088776\tbest: 67.1026908 (1588)\ttotal: 25.5s\tremaining: 22.2s\n",
      "2000:\tlearn: 39.0598873\ttest: 48.3314052\ttest1: 66.9326606\tbest: 66.8781535 (1975)\ttotal: 31.9s\tremaining: 15.9s\n",
      "2400:\tlearn: 36.4587336\ttest: 47.1642043\ttest1: 66.7043785\tbest: 66.6242289 (2363)\ttotal: 38.2s\tremaining: 9.54s\n",
      "2800:\tlearn: 34.5251865\ttest: 46.2463525\ttest1: 66.8188453\tbest: 66.6242289 (2363)\ttotal: 44.5s\tremaining: 3.16s\n",
      "Stopped by overfitting detector  (500 iterations wait)\n",
      "\n",
      "bestTest = 66.62422888\n",
      "bestIteration = 2363\n",
      "\n",
      "Shrink model to first 2364 iterations.\n",
      "0:\tlearn: 170.8650568\ttest: 170.8595077\ttest1: 140.7555695\tbest: 140.7555695 (0)\ttotal: 18.9ms\tremaining: 56.7s\n",
      "400:\tlearn: 66.7647340\ttest: 66.9009579\ttest1: 51.9046903\tbest: 51.2799686 (319)\ttotal: 6.14s\tremaining: 39.8s\n",
      "800:\tlearn: 55.5814075\ttest: 58.6443787\ttest1: 52.1159404\tbest: 51.2799686 (319)\ttotal: 12.4s\tremaining: 34s\n",
      "Stopped by overfitting detector  (500 iterations wait)\n",
      "\n",
      "bestTest = 51.27996864\n",
      "bestIteration = 319\n",
      "\n",
      "Shrink model to first 320 iterations.\n",
      "0:\tlearn: 165.6571405\ttest: 165.6535698\ttest1: 176.8760801\tbest: 176.8760801 (0)\ttotal: 16.3ms\tremaining: 48.9s\n",
      "400:\tlearn: 64.0960573\ttest: 66.5677109\ttest1: 82.2278341\tbest: 82.2278341 (400)\ttotal: 6.15s\tremaining: 39.9s\n",
      "800:\tlearn: 52.1103675\ttest: 57.4816283\ttest1: 77.9822862\tbest: 77.9822862 (800)\ttotal: 12.2s\tremaining: 33.5s\n",
      "1200:\tlearn: 46.0144364\ttest: 52.7891333\ttest1: 77.0700946\tbest: 76.9972865 (1178)\ttotal: 18.5s\tremaining: 27.6s\n",
      "1600:\tlearn: 41.7644516\ttest: 50.2025934\ttest1: 76.6917819\tbest: 76.5291910 (1535)\ttotal: 25.1s\tremaining: 22s\n",
      "2000:\tlearn: 38.8002891\ttest: 48.6219905\ttest1: 76.9813331\tbest: 76.5291910 (1535)\ttotal: 31.5s\tremaining: 15.7s\n",
      "Stopped by overfitting detector  (500 iterations wait)\n",
      "\n",
      "bestTest = 76.52919096\n",
      "bestIteration = 1535\n",
      "\n",
      "Shrink model to first 1536 iterations.\n",
      "0:\tlearn: 165.9183147\ttest: 165.9130693\ttest1: 174.6240531\tbest: 174.6240531 (0)\ttotal: 27.5ms\tremaining: 1m 22s\n",
      "400:\tlearn: 64.4397058\ttest: 65.4520090\ttest1: 78.9999629\tbest: 78.9999629 (400)\ttotal: 6.75s\tremaining: 43.8s\n",
      "800:\tlearn: 53.2590785\ttest: 57.6216765\ttest1: 75.9592754\tbest: 75.9592754 (800)\ttotal: 13s\tremaining: 35.7s\n",
      "1200:\tlearn: 46.6203360\ttest: 52.7332265\ttest1: 75.8103148\tbest: 75.7285569 (1065)\ttotal: 19.5s\tremaining: 29.2s\n",
      "Stopped by overfitting detector  (500 iterations wait)\n",
      "\n",
      "bestTest = 75.72855687\n",
      "bestIteration = 1065\n",
      "\n",
      "Shrink model to first 1066 iterations.\n",
      "0:\tlearn: 166.5828768\ttest: 166.5146573\ttest1: 171.5691206\tbest: 171.5691206 (0)\ttotal: 28.8ms\tremaining: 1m 26s\n",
      "400:\tlearn: 64.0786010\ttest: 64.8145677\ttest1: 77.5319715\tbest: 77.5319715 (400)\ttotal: 6.37s\tremaining: 41.3s\n",
      "800:\tlearn: 52.2017344\ttest: 56.1250568\ttest1: 75.7433951\tbest: 75.6763518 (791)\ttotal: 12.6s\tremaining: 34.6s\n",
      "1200:\tlearn: 45.8971348\ttest: 51.8747580\ttest1: 75.1119652\tbest: 75.1119652 (1200)\ttotal: 19.2s\tremaining: 28.7s\n",
      "1600:\tlearn: 41.8006539\ttest: 49.6440251\ttest1: 74.6276466\tbest: 74.6042705 (1591)\ttotal: 25.4s\tremaining: 22.2s\n",
      "2000:\tlearn: 38.5410283\ttest: 47.9564915\ttest1: 74.2740435\tbest: 74.2740435 (2000)\ttotal: 31.8s\tremaining: 15.9s\n",
      "2400:\tlearn: 35.9463116\ttest: 46.7928363\ttest1: 73.9871133\tbest: 73.9870833 (2399)\ttotal: 38.1s\tremaining: 9.5s\n",
      "2800:\tlearn: 33.9611388\ttest: 45.9804052\ttest1: 73.8516827\tbest: 73.8258006 (2789)\ttotal: 44.6s\tremaining: 3.17s\n",
      "2999:\tlearn: 33.1159697\ttest: 45.6167071\ttest1: 73.8062101\tbest: 73.8025264 (2993)\ttotal: 47.8s\tremaining: 0us\n",
      "\n",
      "bestTest = 73.80252635\n",
      "bestIteration = 2993\n",
      "\n",
      "Shrink model to first 2994 iterations.\n",
      "0:\tlearn: 165.1197777\ttest: 165.0712021\ttest1: 182.6327693\tbest: 182.6327693 (0)\ttotal: 29.8ms\tremaining: 1m 29s\n",
      "400:\tlearn: 62.9764368\ttest: 63.7693957\ttest1: 94.8597202\tbest: 94.8413495 (399)\ttotal: 6.33s\tremaining: 41s\n",
      "800:\tlearn: 52.2906280\ttest: 55.5970204\ttest1: 89.3367144\tbest: 89.3367144 (800)\ttotal: 12.7s\tremaining: 34.8s\n",
      "1200:\tlearn: 46.5859081\ttest: 51.6355349\ttest1: 87.4977112\tbest: 87.4977112 (1200)\ttotal: 19.1s\tremaining: 28.5s\n",
      "1600:\tlearn: 42.4696836\ttest: 49.2504912\ttest1: 86.7895842\tbest: 86.6645432 (1529)\ttotal: 25.3s\tremaining: 22.1s\n",
      "2000:\tlearn: 39.4701992\ttest: 47.7289623\ttest1: 86.9199450\tbest: 86.6645432 (1529)\ttotal: 31.6s\tremaining: 15.8s\n",
      "Stopped by overfitting detector  (500 iterations wait)\n",
      "\n",
      "bestTest = 86.66454319\n",
      "bestIteration = 1529\n",
      "\n",
      "Shrink model to first 1530 iterations.\n",
      "0:\tlearn: 164.4076410\ttest: 164.2257449\ttest1: 187.1283774\tbest: 187.1283774 (0)\ttotal: 17.6ms\tremaining: 52.9s\n",
      "400:\tlearn: 63.9104679\ttest: 64.3879070\ttest1: 95.5950883\tbest: 95.5069351 (399)\ttotal: 6.11s\tremaining: 39.6s\n",
      "800:\tlearn: 52.6888077\ttest: 56.1035922\ttest1: 91.4007772\tbest: 91.2741285 (795)\ttotal: 12.5s\tremaining: 34.3s\n",
      "1200:\tlearn: 46.7729050\ttest: 52.2044194\ttest1: 90.2130822\tbest: 90.1828418 (1196)\ttotal: 18.8s\tremaining: 28.1s\n",
      "1600:\tlearn: 42.6790657\ttest: 49.7972720\ttest1: 90.0593613\tbest: 89.7620029 (1380)\ttotal: 25.1s\tremaining: 21.9s\n",
      "Stopped by overfitting detector  (500 iterations wait)\n",
      "\n",
      "bestTest = 89.76200291\n",
      "bestIteration = 1380\n",
      "\n",
      "Shrink model to first 1381 iterations.\n"
     ]
    }
   ],
   "source": [
    "from sklearn.model_selection import KFold\n",
    "from catboost import CatBoostRegressor\n",
    "\n",
    "n_fold = 8\n",
    "\n",
    "kfold = KFold(n_splits=n_fold, shuffle=False)\n",
    "# for each fold\n",
    "\n",
    "lunch_models = [CatBoostRegressor(n_estimators = 3000, learning_rate = 0.01, loss_function='MAE') for _ in range(n_fold)]\n",
    "lunch_preds = []\n",
    "lunch_trues = []\n",
    "\n",
    "for idx, (tr_idx, val_idx) in enumerate(kfold.split(lunch_train, y_lunch)):\n",
    "    X_tr, X_val = lunch_train.iloc[tr_idx], lunch_train.iloc[val_idx]\n",
    "    y_tr, y_val = y_lunch[tr_idx], y_lunch[val_idx]\n",
    "\n",
    "    temp_model = lunch_models[idx]\n",
    "    temp_model.fit(X_tr, y_tr,\n",
    "                   eval_set=[(X_tr, y_tr), (X_val, y_val)],\n",
    "                   early_stopping_rounds= 500,\n",
    "                   cat_features=cat_features,\n",
    "                   verbose=400)\n",
    "    \n",
    "    lunch_models[idx] = temp_model\n",
    "    \n",
    "    pred = temp_model.predict(X_val)\n",
    "    true = y_val\n",
    "    lunch_preds.extend(pred)\n",
    "    lunch_trues.extend(true)"
   ]
  },
  {
   "cell_type": "markdown",
   "metadata": {},
   "source": [
    "### 테스트 데이터 예측"
   ]
  },
  {
   "cell_type": "code",
   "execution_count": 14,
   "metadata": {},
   "outputs": [
    {
     "data": {
      "text/plain": [
       "73.32027400441419"
      ]
     },
     "execution_count": 14,
     "metadata": {},
     "output_type": "execute_result"
    }
   ],
   "source": [
    "lunch = np.array([0]*50).astype(np.float64)\n",
    "\n",
    "for model in lunch_models:\n",
    "    lunch += model.predict(lunch_test)\n",
    "    \n",
    "lunch /= n_fold\n",
    "\n",
    "lunch_preds = np.array(lunch_preds)\n",
    "lunch_trues = np.array(lunch_trues)\n",
    "\n",
    "abs(lunch_trues-lunch_preds).mean()"
   ]
  },
  {
   "cell_type": "markdown",
   "metadata": {},
   "source": [
    "# 석식 예측모델"
   ]
  },
  {
   "cell_type": "code",
   "execution_count": 15,
   "metadata": {
    "scrolled": true
   },
   "outputs": [
    {
     "name": "stdout",
     "output_type": "stream",
     "text": [
      "0:\tlearn: 101.2100472\ttest: 101.2100472\ttest1: 78.3517440\tbest: 78.3517440 (0)\ttotal: 20.5ms\tremaining: 1m 1s\n",
      "400:\tlearn: 55.3424580\ttest: 56.6481056\ttest1: 69.0899874\tbest: 69.0686236 (399)\ttotal: 6.03s\tremaining: 39.1s\n",
      "800:\tlearn: 47.2447129\ttest: 50.5077191\ttest1: 68.5574055\tbest: 67.8384449 (719)\ttotal: 12.3s\tremaining: 33.7s\n",
      "Stopped by overfitting detector  (400 iterations wait)\n",
      "\n",
      "bestTest = 67.83844492\n",
      "bestIteration = 719\n",
      "\n",
      "Shrink model to first 720 iterations.\n",
      "0:\tlearn: 99.1308853\ttest: 99.1346137\ttest1: 90.1131534\tbest: 90.1131534 (0)\ttotal: 13.8ms\tremaining: 41.4s\n",
      "400:\tlearn: 55.0267691\ttest: 56.4601150\ttest1: 64.7512760\tbest: 64.7466210 (399)\ttotal: 6.23s\tremaining: 40.4s\n",
      "800:\tlearn: 47.4892392\ttest: 51.2332610\ttest1: 63.3006489\tbest: 63.2838623 (797)\ttotal: 12.2s\tremaining: 33.5s\n",
      "1200:\tlearn: 42.3410501\ttest: 47.9508680\ttest1: 61.7884913\tbest: 61.7821049 (1197)\ttotal: 18.4s\tremaining: 27.6s\n",
      "1600:\tlearn: 38.2449111\ttest: 45.9205139\ttest1: 61.5849851\tbest: 61.5445862 (1480)\ttotal: 24.6s\tremaining: 21.5s\n",
      "2000:\tlearn: 34.9022287\ttest: 44.3033583\ttest1: 61.1309527\tbest: 61.1237230 (1998)\ttotal: 30.9s\tremaining: 15.4s\n",
      "2400:\tlearn: 32.3165468\ttest: 43.1324093\ttest1: 61.1215216\tbest: 61.0005466 (2263)\ttotal: 37.2s\tremaining: 9.29s\n",
      "Stopped by overfitting detector  (400 iterations wait)\n",
      "\n",
      "bestTest = 61.00054661\n",
      "bestIteration = 2263\n",
      "\n",
      "Shrink model to first 2264 iterations.\n",
      "0:\tlearn: 99.7450472\ttest: 99.7397967\ttest1: 84.4476500\tbest: 84.4476500 (0)\ttotal: 18.8ms\tremaining: 56.3s\n",
      "400:\tlearn: 55.2351067\ttest: 56.6245200\ttest1: 61.2249216\tbest: 61.2206140 (398)\ttotal: 5.99s\tremaining: 38.8s\n",
      "800:\tlearn: 47.3627955\ttest: 51.4653440\ttest1: 58.6138888\tbest: 58.5970858 (798)\ttotal: 12s\tremaining: 33s\n",
      "1200:\tlearn: 42.2451195\ttest: 48.2336553\ttest1: 57.7658459\tbest: 57.7144265 (1145)\ttotal: 18.2s\tremaining: 27.2s\n",
      "1600:\tlearn: 38.4149790\ttest: 46.1093526\ttest1: 57.2736821\tbest: 57.2463383 (1581)\ttotal: 24.3s\tremaining: 21.2s\n",
      "2000:\tlearn: 35.3164231\ttest: 44.5337273\ttest1: 56.9259095\tbest: 56.8903327 (1977)\ttotal: 30.5s\tremaining: 15.2s\n",
      "2400:\tlearn: 32.9429133\ttest: 43.3911331\ttest1: 56.8856103\tbest: 56.8822942 (2368)\ttotal: 36.7s\tremaining: 9.16s\n",
      "2800:\tlearn: 30.8653929\ttest: 42.4935413\ttest1: 56.6663857\tbest: 56.6663857 (2800)\ttotal: 45.3s\tremaining: 3.22s\n",
      "2999:\tlearn: 30.0400059\ttest: 42.1486728\ttest1: 56.7081227\tbest: 56.6609152 (2805)\ttotal: 49.7s\tremaining: 0us\n",
      "\n",
      "bestTest = 56.66091523\n",
      "bestIteration = 2805\n",
      "\n",
      "Shrink model to first 2806 iterations.\n",
      "0:\tlearn: 98.1399316\ttest: 98.1399316\ttest1: 96.7325666\tbest: 96.7325666 (0)\ttotal: 41ms\tremaining: 2m 3s\n",
      "400:\tlearn: 55.3875279\ttest: 56.9577329\ttest1: 66.3839948\tbest: 66.3839948 (400)\ttotal: 8.54s\tremaining: 55.4s\n",
      "800:\tlearn: 47.8246841\ttest: 51.7751016\ttest1: 63.8263472\tbest: 63.8252708 (797)\ttotal: 17s\tremaining: 46.7s\n",
      "1200:\tlearn: 42.6353994\ttest: 48.7126841\ttest1: 63.6268641\tbest: 63.5560894 (1066)\ttotal: 25.7s\tremaining: 38.5s\n",
      "1600:\tlearn: 38.4023658\ttest: 46.6171886\ttest1: 63.4106920\tbest: 63.4106920 (1600)\ttotal: 34.4s\tremaining: 30.1s\n",
      "2000:\tlearn: 35.4117847\ttest: 45.3786732\ttest1: 63.2096366\tbest: 63.1077982 (1839)\ttotal: 43.3s\tremaining: 21.6s\n",
      "2400:\tlearn: 33.0444522\ttest: 44.3363165\ttest1: 63.1382544\tbest: 63.0907761 (2088)\ttotal: 52.1s\tremaining: 13s\n",
      "Stopped by overfitting detector  (400 iterations wait)\n",
      "\n",
      "bestTest = 63.09077612\n",
      "bestIteration = 2088\n",
      "\n",
      "Shrink model to first 2089 iterations.\n",
      "0:\tlearn: 97.4430789\ttest: 97.4430789\ttest1: 101.5090531\tbest: 101.5090531 (0)\ttotal: 24.8ms\tremaining: 1m 14s\n",
      "400:\tlearn: 54.3991974\ttest: 55.6648504\ttest1: 70.4169548\tbest: 70.4169548 (400)\ttotal: 8.44s\tremaining: 54.7s\n",
      "800:\tlearn: 46.8115793\ttest: 50.5873354\ttest1: 68.4288832\tbest: 68.4264281 (793)\ttotal: 18s\tremaining: 49.4s\n",
      "1200:\tlearn: 41.4321678\ttest: 47.2936055\ttest1: 67.5777442\tbest: 67.5674881 (1195)\ttotal: 27.2s\tremaining: 40.7s\n",
      "1600:\tlearn: 37.4273420\ttest: 45.4008590\ttest1: 67.5193787\tbest: 67.5193787 (1600)\ttotal: 38.4s\tremaining: 33.5s\n",
      "2000:\tlearn: 34.3537844\ttest: 44.2994252\ttest1: 67.6782081\tbest: 67.4195279 (1821)\ttotal: 49.4s\tremaining: 24.6s\n",
      "Stopped by overfitting detector  (400 iterations wait)\n",
      "\n",
      "bestTest = 67.4195279\n",
      "bestIteration = 1821\n",
      "\n",
      "Shrink model to first 1822 iterations.\n",
      "0:\tlearn: 98.0257160\ttest: 98.0257160\ttest1: 97.4722963\tbest: 97.4722963 (0)\ttotal: 37ms\tremaining: 1m 50s\n",
      "400:\tlearn: 54.8715187\ttest: 56.5033159\ttest1: 61.6306539\tbest: 61.6063227 (376)\ttotal: 9.9s\tremaining: 1m 4s\n",
      "800:\tlearn: 46.7650576\ttest: 51.5516455\ttest1: 60.7794186\tbest: 60.7435304 (786)\ttotal: 19.4s\tremaining: 53.3s\n",
      "1200:\tlearn: 41.5117318\ttest: 48.6241456\ttest1: 59.9753021\tbest: 59.9085241 (1170)\ttotal: 29.1s\tremaining: 43.6s\n",
      "Stopped by overfitting detector  (400 iterations wait)\n",
      "\n",
      "bestTest = 59.9085241\n",
      "bestIteration = 1170\n",
      "\n",
      "Shrink model to first 1171 iterations.\n",
      "0:\tlearn: 93.8581703\ttest: 93.8581703\ttest1: 127.0530395\tbest: 127.0530395 (0)\ttotal: 31.7ms\tremaining: 1m 35s\n",
      "400:\tlearn: 55.5330529\ttest: 56.9525272\ttest1: 78.7845957\tbest: 78.7812573 (399)\ttotal: 8.62s\tremaining: 55.8s\n",
      "800:\tlearn: 47.8487206\ttest: 51.8193996\ttest1: 72.2091071\tbest: 72.2091071 (800)\ttotal: 17.6s\tremaining: 48.3s\n",
      "1200:\tlearn: 42.6321313\ttest: 48.5050443\ttest1: 70.0153955\tbest: 70.0153955 (1200)\ttotal: 26.6s\tremaining: 39.9s\n",
      "1600:\tlearn: 38.3810768\ttest: 46.1583951\ttest1: 68.1915189\tbest: 68.1831520 (1596)\ttotal: 35.6s\tremaining: 31.1s\n",
      "2000:\tlearn: 35.2779237\ttest: 44.5481146\ttest1: 67.1988186\tbest: 67.1929809 (1996)\ttotal: 45.8s\tremaining: 22.9s\n",
      "2400:\tlearn: 32.8996088\ttest: 43.4129390\ttest1: 66.6499159\tbest: 66.6477854 (2398)\ttotal: 55.2s\tremaining: 13.8s\n",
      "2800:\tlearn: 30.8736644\ttest: 42.4032260\ttest1: 66.1121520\tbest: 66.1106797 (2791)\ttotal: 1m 4s\tremaining: 4.58s\n",
      "2999:\tlearn: 30.0808649\ttest: 42.1263201\ttest1: 65.8005598\tbest: 65.8002843 (2998)\ttotal: 1m 9s\tremaining: 0us\n",
      "\n",
      "bestTest = 65.8002843\n",
      "bestIteration = 2998\n",
      "\n",
      "Shrink model to first 2999 iterations.\n",
      "0:\tlearn: 94.6084302\ttest: 94.6084302\ttest1: 123.3966206\tbest: 123.3966206 (0)\ttotal: 27.2ms\tremaining: 1m 21s\n",
      "400:\tlearn: 57.2932368\ttest: 58.8023785\ttest1: 87.4785960\tbest: 87.4731396 (399)\ttotal: 9.43s\tremaining: 1m 1s\n",
      "800:\tlearn: 49.0818801\ttest: 53.2968959\ttest1: 70.8127023\tbest: 70.8127023 (800)\ttotal: 19.8s\tremaining: 54.5s\n",
      "1200:\tlearn: 42.8588813\ttest: 49.4169035\ttest1: 66.1576594\tbest: 66.1576594 (1200)\ttotal: 31.1s\tremaining: 46.6s\n",
      "1600:\tlearn: 38.7600614\ttest: 47.2974198\ttest1: 64.7291810\tbest: 64.7244359 (1594)\ttotal: 42.4s\tremaining: 37.1s\n",
      "2000:\tlearn: 35.3917546\ttest: 45.4555894\ttest1: 64.6368710\tbest: 64.5794665 (1815)\ttotal: 53s\tremaining: 26.4s\n",
      "Stopped by overfitting detector  (400 iterations wait)\n",
      "\n",
      "bestTest = 64.57946646\n",
      "bestIteration = 1815\n",
      "\n",
      "Shrink model to first 1816 iterations.\n"
     ]
    }
   ],
   "source": [
    "dinner_models = [CatBoostRegressor(n_estimators = 3000, learning_rate = 0.01, loss_function='MAE') for _ in range(n_fold)]\n",
    "dinner_preds = []\n",
    "dinner_trues = []\n",
    "\n",
    "for idx, (tr_idx, val_idx) in enumerate(kfold.split(dinner_train, y_dinner)):\n",
    "    X_tr, X_val = dinner_train.iloc[tr_idx, :-1], dinner_train.iloc[val_idx, :-1]\n",
    "    y_tr, y_val = y_dinner[tr_idx], y_dinner[val_idx]\n",
    "\n",
    "    temp_model = dinner_models[idx]\n",
    "    temp_model.fit(X_tr, y_tr,\n",
    "                   eval_set=[(X_tr, y_tr), (X_val, y_val)],\n",
    "                   early_stopping_rounds= 400,\n",
    "                   cat_features=cat_features,\n",
    "                   verbose=400)\n",
    "    \n",
    "    dinner_models[idx] = temp_model\n",
    "    \n",
    "    pred = temp_model.predict(X_val)\n",
    "    true = y_val\n",
    "    dinner_preds.extend(pred)\n",
    "    dinner_trues.extend(true)"
   ]
  },
  {
   "cell_type": "code",
   "execution_count": 16,
   "metadata": {},
   "outputs": [],
   "source": [
    "dinner = np.array([0]*50).astype(np.float64)\n",
    "\n",
    "for model in dinner_models:\n",
    "    dinner += model.predict(dinner_test)\n",
    "    \n",
    "dinner /= n_fold"
   ]
  },
  {
   "cell_type": "code",
   "execution_count": 17,
   "metadata": {},
   "outputs": [
    {
     "data": {
      "text/plain": [
       "63.283636873757565"
      ]
     },
     "execution_count": 17,
     "metadata": {},
     "output_type": "execute_result"
    }
   ],
   "source": [
    "dinner_preds = np.array(dinner_preds)\n",
    "dinner_trues = np.array(dinner_trues)\n",
    "\n",
    "abs(dinner_preds - dinner_trues).mean()"
   ]
  },
  {
   "cell_type": "markdown",
   "metadata": {},
   "source": [
    "## 테스트"
   ]
  },
  {
   "cell_type": "markdown",
   "metadata": {},
   "source": [
    "### 테스트 데이터 예측"
   ]
  },
  {
   "cell_type": "code",
   "execution_count": 18,
   "metadata": {},
   "outputs": [
    {
     "data": {
      "text/html": [
       "<div>\n",
       "<style scoped>\n",
       "    .dataframe tbody tr th:only-of-type {\n",
       "        vertical-align: middle;\n",
       "    }\n",
       "\n",
       "    .dataframe tbody tr th {\n",
       "        vertical-align: top;\n",
       "    }\n",
       "\n",
       "    .dataframe thead th {\n",
       "        text-align: right;\n",
       "    }\n",
       "</style>\n",
       "<table border=\"1\" class=\"dataframe\">\n",
       "  <thead>\n",
       "    <tr style=\"text-align: right;\">\n",
       "      <th></th>\n",
       "      <th>일자</th>\n",
       "      <th>중식계</th>\n",
       "      <th>석식계</th>\n",
       "    </tr>\n",
       "  </thead>\n",
       "  <tbody>\n",
       "    <tr>\n",
       "      <th>0</th>\n",
       "      <td>2021-01-27</td>\n",
       "      <td>980.339179</td>\n",
       "      <td>378.145258</td>\n",
       "    </tr>\n",
       "    <tr>\n",
       "      <th>1</th>\n",
       "      <td>2021-01-28</td>\n",
       "      <td>923.460265</td>\n",
       "      <td>436.246958</td>\n",
       "    </tr>\n",
       "    <tr>\n",
       "      <th>2</th>\n",
       "      <td>2021-01-29</td>\n",
       "      <td>642.737459</td>\n",
       "      <td>271.585611</td>\n",
       "    </tr>\n",
       "    <tr>\n",
       "      <th>3</th>\n",
       "      <td>2021-02-01</td>\n",
       "      <td>1254.598595</td>\n",
       "      <td>559.605847</td>\n",
       "    </tr>\n",
       "    <tr>\n",
       "      <th>4</th>\n",
       "      <td>2021-02-02</td>\n",
       "      <td>1052.021885</td>\n",
       "      <td>519.487092</td>\n",
       "    </tr>\n",
       "  </tbody>\n",
       "</table>\n",
       "</div>"
      ],
      "text/plain": [
       "           일자          중식계         석식계\n",
       "0  2021-01-27   980.339179  378.145258\n",
       "1  2021-01-28   923.460265  436.246958\n",
       "2  2021-01-29   642.737459  271.585611\n",
       "3  2021-02-01  1254.598595  559.605847\n",
       "4  2021-02-02  1052.021885  519.487092"
      ]
     },
     "execution_count": 18,
     "metadata": {},
     "output_type": "execute_result"
    }
   ],
   "source": [
    "submission = pd.read_csv('../data/sample_submission.csv')\n",
    "submission.iloc[:,1] = lunch\n",
    "submission.iloc[:,2] = dinner\n",
    "\n",
    "submission.head()"
   ]
  },
  {
   "cell_type": "code",
   "execution_count": 26,
   "metadata": {},
   "outputs": [
    {
     "data": {
      "text/plain": [
       "(22.28195860049858, 28.876761236154426)"
      ]
     },
     "execution_count": 26,
     "metadata": {},
     "output_type": "execute_result"
    }
   ],
   "source": [
    "answer = pd.read_csv('../submission/20210629_lgbm_autoML.csv')\n",
    "\n",
    "lunch_answer = np.array(answer.iloc[:,1])\n",
    "dinner_answer = np.array(answer.iloc[:,2])\n",
    "\n",
    "abs(lunch - lunch_answer).mean(), abs(dinner - dinner_answer).mean()"
   ]
  },
  {
   "cell_type": "code",
   "execution_count": 20,
   "metadata": {},
   "outputs": [
    {
     "data": {
      "text/html": [
       "<div>\n",
       "<style scoped>\n",
       "    .dataframe tbody tr th:only-of-type {\n",
       "        vertical-align: middle;\n",
       "    }\n",
       "\n",
       "    .dataframe tbody tr th {\n",
       "        vertical-align: top;\n",
       "    }\n",
       "\n",
       "    .dataframe thead th {\n",
       "        text-align: right;\n",
       "    }\n",
       "</style>\n",
       "<table border=\"1\" class=\"dataframe\">\n",
       "  <thead>\n",
       "    <tr style=\"text-align: right;\">\n",
       "      <th></th>\n",
       "      <th>일자</th>\n",
       "      <th>중식계</th>\n",
       "      <th>석식계</th>\n",
       "    </tr>\n",
       "  </thead>\n",
       "  <tbody>\n",
       "    <tr>\n",
       "      <th>0</th>\n",
       "      <td>2021-01-27</td>\n",
       "      <td>980.339179</td>\n",
       "      <td>378.145258</td>\n",
       "    </tr>\n",
       "    <tr>\n",
       "      <th>1</th>\n",
       "      <td>2021-01-28</td>\n",
       "      <td>923.460265</td>\n",
       "      <td>436.246958</td>\n",
       "    </tr>\n",
       "    <tr>\n",
       "      <th>2</th>\n",
       "      <td>2021-01-29</td>\n",
       "      <td>642.737459</td>\n",
       "      <td>271.585611</td>\n",
       "    </tr>\n",
       "    <tr>\n",
       "      <th>3</th>\n",
       "      <td>2021-02-01</td>\n",
       "      <td>1254.598595</td>\n",
       "      <td>559.605847</td>\n",
       "    </tr>\n",
       "    <tr>\n",
       "      <th>4</th>\n",
       "      <td>2021-02-02</td>\n",
       "      <td>1052.021885</td>\n",
       "      <td>519.487092</td>\n",
       "    </tr>\n",
       "    <tr>\n",
       "      <th>5</th>\n",
       "      <td>2021-02-03</td>\n",
       "      <td>1027.269737</td>\n",
       "      <td>411.969418</td>\n",
       "    </tr>\n",
       "    <tr>\n",
       "      <th>6</th>\n",
       "      <td>2021-02-04</td>\n",
       "      <td>987.826589</td>\n",
       "      <td>485.122461</td>\n",
       "    </tr>\n",
       "    <tr>\n",
       "      <th>7</th>\n",
       "      <td>2021-02-05</td>\n",
       "      <td>721.355384</td>\n",
       "      <td>355.792550</td>\n",
       "    </tr>\n",
       "    <tr>\n",
       "      <th>8</th>\n",
       "      <td>2021-02-08</td>\n",
       "      <td>1278.224544</td>\n",
       "      <td>611.835782</td>\n",
       "    </tr>\n",
       "    <tr>\n",
       "      <th>9</th>\n",
       "      <td>2021-02-09</td>\n",
       "      <td>1049.820041</td>\n",
       "      <td>551.773263</td>\n",
       "    </tr>\n",
       "    <tr>\n",
       "      <th>10</th>\n",
       "      <td>2021-02-10</td>\n",
       "      <td>813.742535</td>\n",
       "      <td>187.989832</td>\n",
       "    </tr>\n",
       "  </tbody>\n",
       "</table>\n",
       "</div>"
      ],
      "text/plain": [
       "            일자          중식계         석식계\n",
       "0   2021-01-27   980.339179  378.145258\n",
       "1   2021-01-28   923.460265  436.246958\n",
       "2   2021-01-29   642.737459  271.585611\n",
       "3   2021-02-01  1254.598595  559.605847\n",
       "4   2021-02-02  1052.021885  519.487092\n",
       "5   2021-02-03  1027.269737  411.969418\n",
       "6   2021-02-04   987.826589  485.122461\n",
       "7   2021-02-05   721.355384  355.792550\n",
       "8   2021-02-08  1278.224544  611.835782\n",
       "9   2021-02-09  1049.820041  551.773263\n",
       "10  2021-02-10   813.742535  187.989832"
      ]
     },
     "execution_count": 20,
     "metadata": {},
     "output_type": "execute_result"
    }
   ],
   "source": [
    "submission.head(11)"
   ]
  },
  {
   "cell_type": "markdown",
   "metadata": {},
   "source": [
    "# 저장"
   ]
  },
  {
   "cell_type": "code",
   "execution_count": 21,
   "metadata": {},
   "outputs": [
    {
     "name": "stdout",
     "output_type": "stream",
     "text": [
      "오늘 날짜 : 20210630\n"
     ]
    }
   ],
   "source": [
    "import datetime\n",
    "today = str(datetime.datetime.now().date()).replace(\"-\",\"\")\n",
    "print(\"오늘 날짜 : \" + today)\n",
    "\n",
    "submission.to_csv(f'../submission/{today}_cat_8_.csv', index =False)"
   ]
  },
  {
   "cell_type": "code",
   "execution_count": 22,
   "metadata": {},
   "outputs": [],
   "source": [
    "def plot_feature_importance(importance, names, model_type):\n",
    "    \n",
    "    feature_importance = np.array(importance)\n",
    "    feature_names = np.array(names)\n",
    "    \n",
    "    data={'feature_names':feature_names,'feature_importance':feature_importance}\n",
    "    fi_df = pd.DataFrame(data)\n",
    "    \n",
    "    fi_df.sort_values(by=['feature_importance'], ascending=False,inplace=True)\n",
    "\n",
    "    plt.figure(figsize=(10,8))\n",
    "\n",
    "    sns.barplot(x=fi_df['feature_importance'], y=fi_df['feature_names'])\n",
    "\n",
    "    plt.title(model_type + ' Feature Importance')\n",
    "    plt.xlabel('Feature Importance')\n",
    "    plt.ylabel('Feature Names')"
   ]
  },
  {
   "cell_type": "code",
   "execution_count": 23,
   "metadata": {},
   "outputs": [
    {
     "data": {
      "image/png": "[encoded data removed]",
      "text/plain": [
       "<Figure size 720x576 with 1 Axes>"
      ]
     },
     "metadata": {
      "needs_background": "light"
     },
     "output_type": "display_data"
    },
    {
     "data": {
      "image/png": "[encoded data removed]",
      "text/plain": [
       "<Figure size 720x576 with 1 Axes>"
      ]
     },
     "metadata": {
      "needs_background": "light"
     },
     "output_type": "display_data"
    },
    {
     "data": {
      "image/png": "[encoded data removed]",
      "text/plain": [
       "<Figure size 720x576 with 1 Axes>"
      ]
     },
     "metadata": {
      "needs_background": "light"
     },
     "output_type": "display_data"
    },
    {
     "data": {
      "image/png": "[encoded data removed]",
      "text/plain": [
       "<Figure size 720x576 with 1 Axes>"
      ]
     },
     "metadata": {
      "needs_background": "light"
     },
     "output_type": "display_data"
    },
    {
     "data": {
      "image/png": "[encoded data removed]",
      "text/plain": [
       "<Figure size 720x576 with 1 Axes>"
      ]
     },
     "metadata": {
      "needs_background": "light"
     },
     "output_type": "display_data"
    },
    {
     "data": {
      "image/png": "[encoded data removed]",
      "text/plain": [
       "<Figure size 720x576 with 1 Axes>"
      ]
     },
     "metadata": {
      "needs_background": "light"
     },
     "output_type": "display_data"
    },
    {
     "data": {
      "image/png": "[encoded data removed]",
      "text/plain": [
       "<Figure size 720x576 with 1 Axes>"
      ]
     },
     "metadata": {
      "needs_background": "light"
     },
     "output_type": "display_data"
    },
    {
     "data": {
      "image/png": "[encoded data removed]",
      "text/plain": [
       "<Figure size 720x576 with 1 Axes>"
      ]
     },
     "metadata": {
      "needs_background": "light"
     },
     "output_type": "display_data"
    }
   ],
   "source": [
    "for i in range(n_fold):\n",
    "    plot_feature_importance(dinner_models[0].get_feature_importance(),dinner_train.iloc[:,:-1].columns,\"CATBOOST\")"
   ]
  },
  {
   "cell_type": "code",
   "execution_count": null,
   "metadata": {},
   "outputs": [],
   "source": []
  }
 ],
 "metadata": {
  "kernelspec": {
   "display_name": "Python 3",
   "language": "python",
   "name": "python3"
  },
  "language_info": {
   "codemirror_mode": {
    "name": "ipython",
    "version": 3
   },
   "file_extension": ".py",
   "mimetype": "text/x-python",
   "name": "python",
   "nbconvert_exporter": "python",
   "pygments_lexer": "ipython3",
   "version": "3.8.8"
  }
 },
 "nbformat": 4,
 "nbformat_minor": 4
}

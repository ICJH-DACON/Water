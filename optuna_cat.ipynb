{
 "cells": [
  {
   "cell_type": "code",
   "execution_count": 1,
   "metadata": {},
   "outputs": [
    {
     "ename": "RuntimeError",
     "evalue": "module compiled against API version 0xe but this version of numpy is 0xd",
     "output_type": "error",
     "traceback": [
      "\u001b[1;31m---------------------------------------------------------------------------\u001b[0m",
      "\u001b[1;31mRuntimeError\u001b[0m                              Traceback (most recent call last)",
      "\u001b[1;31mRuntimeError\u001b[0m: module compiled against API version 0xe but this version of numpy is 0xd"
     ]
    }
   ],
   "source": [
    "import pandas as pd\n",
    "import numpy as np\n",
    "\n",
    "import matplotlib.pyplot as plt\n",
    "import seaborn as sns\n",
    "%matplotlib inline\n",
    "plt.rcParams['font.family'] = 'Gulim'\n",
    "\n",
    "import warnings\n",
    "warnings.filterwarnings(action='ignore')"
   ]
  },
  {
   "cell_type": "code",
   "execution_count": 2,
   "metadata": {},
   "outputs": [],
   "source": [
    "from workalendar.asia import SouthKorea\n",
    "import pendulum"
   ]
  },
  {
   "cell_type": "code",
   "execution_count": 3,
   "metadata": {},
   "outputs": [],
   "source": [
    "train = pd.read_csv('../data/train.csv')\n",
    "test = pd.read_csv('../data/test.csv')"
   ]
  },
  {
   "cell_type": "markdown",
   "metadata": {},
   "source": [
    "## 전처리\n",
    "- 일자에서 월과 일을 분리\n",
    "- 요일을 레이블 인코딩화(EDA로 요일의 중요도 순 파악)\n",
    "- 월 별, 일 별 중식 석식 수요 차이 파악"
   ]
  },
  {
   "cell_type": "code",
   "execution_count": 4,
   "metadata": {},
   "outputs": [],
   "source": [
    "train['월'] = pd.DatetimeIndex(train['일자']).month\n",
    "test['월'] = pd.DatetimeIndex(test['일자']).month\n",
    "train['주'] = pd.DatetimeIndex(train['일자']).week\n",
    "test['주'] = pd.DatetimeIndex(test['일자']).week\n",
    "train['일'] = pd.DatetimeIndex(train['일자']).day\n",
    "test['일'] = pd.DatetimeIndex(test['일자']).day\n",
    "\n",
    "train['출근'] = train['본사정원수']-(train['본사휴가자수']+train['본사출장자수']+train['현본사소속재택근무자수'])\n",
    "train['휴가비율'] = train['본사휴가자수']/train['본사정원수']\n",
    "train['출장비율'] = train['본사출장자수']/train['본사정원수']\n",
    "train['야근비율'] = train['본사시간외근무명령서승인건수']/train['출근']\n",
    "train['재택비율'] = train['현본사소속재택근무자수']/train['본사정원수']\n",
    "\n",
    "test['출근'] = test['본사정원수']-(test['본사휴가자수']+test['본사출장자수']+test['현본사소속재택근무자수'])\n",
    "test['휴가비율'] = test['본사휴가자수']/test['본사정원수']\n",
    "test['출장비율'] = test['본사출장자수']/test['본사정원수']\n",
    "test['야근비율'] = test['본사시간외근무명령서승인건수']/test['출근']\n",
    "test['재택비율'] = test['현본사소속재택근무자수']/test['본사정원수']\n",
    "\n",
    "train['식사가능자수'] = train['본사정원수'] - train['본사휴가자수'] - train['현본사소속재택근무자수']\n",
    "test['식사가능자수'] = test['본사정원수'] - test['본사휴가자수'] - test['현본사소속재택근무자수']\n",
    "\n",
    "# train['중식참여율'] = train['중식계'] / train['식사가능자수']"
   ]
  },
  {
   "cell_type": "code",
   "execution_count": 5,
   "metadata": {},
   "outputs": [],
   "source": [
    "month_rank4dinner = {\n",
    "    1: 11,\n",
    "    2: 2,\n",
    "    3: 1,\n",
    "    4: 4,\n",
    "    5: 7,\n",
    "    6: 6,\n",
    "    7: 10,\n",
    "    8: 8,\n",
    "    9: 5,\n",
    "    10: 3,\n",
    "    11: 9,\n",
    "    12: 12\n",
    "}\n",
    "train['월(석식)'] = train['월'].map(month_rank4dinner)\n",
    "test['월(석식)'] = test['월'].map(month_rank4dinner)\n",
    "\n",
    "month_rank4lunch = {\n",
    "    1: 3,\n",
    "    2: 1,\n",
    "    3: 2,\n",
    "    4: 6,\n",
    "    5: 7,\n",
    "    6: 8,\n",
    "    7: 10,\n",
    "    8: 9,\n",
    "    9: 5,\n",
    "    10: 4,\n",
    "    11: 11,\n",
    "    12: 12\n",
    "}\n",
    "train['월(중식)'] = train['월'].map(month_rank4lunch)\n",
    "test['월(중식)'] = test['월'].map(month_rank4lunch)\n",
    "\n",
    "weekday_rank4dinner = {\n",
    "    '월': 1,\n",
    "    '화': 2,\n",
    "    '수': 4,\n",
    "    '목': 3,\n",
    "    '금': 5,\n",
    "}\n",
    "\n",
    "weekday_rank4lunch = {\n",
    "    '월': 1,\n",
    "    '화': 2,\n",
    "    '수': 3,\n",
    "    '목': 4,\n",
    "    '금': 5,\n",
    "}\n",
    "\n",
    "train['요일(석식)'] = train['요일'].map(weekday_rank4dinner)\n",
    "test['요일(석식)'] = test['요일'].map(weekday_rank4dinner)\n",
    "\n",
    "train['요일(중식)'] = train['요일'].map(weekday_rank4lunch)\n",
    "test['요일(중식)'] = test['요일'].map(weekday_rank4lunch)"
   ]
  },
  {
   "cell_type": "code",
   "execution_count": 6,
   "metadata": {
    "scrolled": true
   },
   "outputs": [],
   "source": [
    "rank = pd.DataFrame(range(1,53))\n",
    "week_rank_lunch = pd.pivot_table(train,values='중식계',index='주').sort_values(by='중식계').reset_index().drop('중식계',axis=1)\n",
    "week_rank_dinner = pd.pivot_table(train,values='석식계',index='주').sort_values(by='석식계').reset_index().drop('석식계',axis=1)\n",
    "\n",
    "\n",
    "week_rank4lunch = {}\n",
    "for i in range(len(rank)):\n",
    "    week_rank4lunch[week_rank_lunch['주'][i]] = rank[0][i]\n",
    "\n",
    "\n",
    "week_rank4dinner = {}\n",
    "for i in range(len(rank)):\n",
    "    week_rank4dinner[week_rank_dinner['주'][i]] = rank[0][i]\n",
    "    \n",
    "    \n",
    "train['주(중식)'] = train['주'].map(week_rank4lunch)\n",
    "test['주(중식)'] = test['주'].map(week_rank4lunch)\n",
    "\n",
    "train['주(석식)'] = train['주'].map(week_rank4dinner)\n",
    "test['주(석식)'] = test['주'].map(week_rank4dinner)"
   ]
  },
  {
   "cell_type": "code",
   "execution_count": 7,
   "metadata": {},
   "outputs": [],
   "source": [
    "def is_holiday(date):\n",
    "    holidays = list(map(str, pd.Series(np.array(SouthKorea().holidays(int(date[:4])))[:, 0])))\n",
    "    \n",
    "    yesterday = str(np.datetime64(date) - 1)\n",
    "    tomorrow = str(np.datetime64(date) + 1)\n",
    "\n",
    "    if tomorrow in holidays and yesterday in holidays:\n",
    "        return 3\n",
    "    if tomorrow in holidays:\n",
    "        return 2\n",
    "    elif yesterday in holidays:\n",
    "        return 1\n",
    "    else : \n",
    "        return 0\n",
    "\n",
    "def week_of_month(x):\n",
    "    dt = pendulum.parse(x)\n",
    "    \n",
    "    wom = dt.week_of_month\n",
    "    if wom < 0:\n",
    "        wom += 52\n",
    "    return wom\n",
    "    \n",
    "\n",
    "df = pd.concat([train[['본사정원수', '일자']], test[['본사정원수', '일자']]])\n",
    "df['년월'] = df['일자'].apply(lambda x : x[:7])\n",
    "df = df[['년월', '본사정원수']].groupby(by=['년월'], as_index=False).mean()\n",
    "\n",
    "def member_change(date):\n",
    "    this_month = date[:7]\n",
    "    last_month = str(np.datetime64(this_month) - 1)\n",
    "    \n",
    "    this_month_member = int(df[df['년월'] == this_month]['본사정원수'])\n",
    "    last_month_member = int(df[df['년월'] == last_month]['본사정원수'])\n",
    "    \n",
    "    \n",
    "    return  this_month_member - last_month_member\n",
    "\n",
    "train['공휴일전후'] = train['일자'].apply(is_holiday)\n",
    "test['공휴일전후'] = test['일자'].apply(is_holiday)\n",
    "\n",
    "train['몇주차'] = train['일자'].apply(week_of_month)\n",
    "test['몇주차'] = test['일자'].apply(week_of_month)\n",
    "\n",
    "train = train[train['일자'] > '2016-03']\n",
    "train['인원변화'] = train['일자'].apply(member_change)\n",
    "test['인원변화'] = test['일자'].apply(member_change)"
   ]
  },
  {
   "cell_type": "markdown",
   "metadata": {},
   "source": [
    "## 공휴일 변수 생성"
   ]
  },
  {
   "cell_type": "code",
   "execution_count": 8,
   "metadata": {},
   "outputs": [
    {
     "data": {
      "text/plain": [
       "Index(['일자', '요일', '본사정원수', '본사휴가자수', '본사출장자수', '본사시간외근무명령서승인건수',\n",
       "       '현본사소속재택근무자수', '조식메뉴', '중식메뉴', '석식메뉴', '중식계', '석식계', '월', '주', '일',\n",
       "       '출근', '휴가비율', '출장비율', '야근비율', '재택비율', '식사가능자수', '월(석식)', '월(중식)',\n",
       "       '요일(석식)', '요일(중식)', '주(중식)', '주(석식)', '공휴일전후', '몇주차', '인원변화'],\n",
       "      dtype='object')"
      ]
     },
     "execution_count": 8,
     "metadata": {},
     "output_type": "execute_result"
    }
   ],
   "source": [
    "train.columns"
   ]
  },
  {
   "cell_type": "code",
   "execution_count": 9,
   "metadata": {},
   "outputs": [],
   "source": [
    "# 메뉴 변수 없이 사용할떄 해당 코드 사용['공휴일전후', '몇주차', '인원변화']\n",
    "\n",
    "lunch_train = train[['공휴일전후', '몇주차', '인원변화', '요일(중식)','월(중식)','일','주(중식)','출근', '휴가비율', '출장비율', '야근비율', '재택비율','본사출장자수','본사휴가자수','식사가능자수','본사시간외근무명령서승인건수']]\n",
    "lunch_test = test[['공휴일전후', '몇주차', '인원변화', '요일(중식)','월(중식)','일','주(중식)','출근', '휴가비율', '출장비율', '야근비율', '재택비율','본사출장자수','본사휴가자수','식사가능자수','본사시간외근무명령서승인건수']]\n",
    "\n",
    "dinner_train= train[['공휴일전후', '몇주차', '인원변화', '요일(석식)','월(석식)','일','주(석식)','출근', '휴가비율', '출장비율', '야근비율', '재택비율','본사출장자수','본사휴가자수','식사가능자수','본사시간외근무명령서승인건수']]\n",
    "dinner_test = test[['공휴일전후', '몇주차', '인원변화', '요일(석식)','월(석식)','일','주(석식)','출근', '휴가비율', '출장비율', '야근비율', '재택비율','본사출장자수','본사휴가자수','식사가능자수','본사시간외근무명령서승인건수']]\n",
    "\n",
    "y_lunch = np.array(train[['중식계']])\n",
    "y_dinner = np.array(train[['석식계']])"
   ]
  },
  {
   "cell_type": "code",
   "execution_count": 10,
   "metadata": {},
   "outputs": [
    {
     "data": {
      "text/plain": [
       "Index(['공휴일전후', '몇주차', '인원변화', '요일(중식)', '월(중식)', '일', '주(중식)', '출근', '휴가비율',\n",
       "       '출장비율', '야근비율', '재택비율', '본사출장자수', '본사휴가자수', '식사가능자수', '본사시간외근무명령서승인건수'],\n",
       "      dtype='object')"
      ]
     },
     "execution_count": 10,
     "metadata": {},
     "output_type": "execute_result"
    }
   ],
   "source": [
    "lunch_train.columns"
   ]
  },
  {
   "cell_type": "code",
   "execution_count": 11,
   "metadata": {
    "scrolled": true
   },
   "outputs": [
    {
     "name": "stdout",
     "output_type": "stream",
     "text": [
      "(1187, 16)\n",
      "(50, 16)\n",
      "(1187, 16)\n",
      "(50, 16)\n"
     ]
    }
   ],
   "source": [
    "print(lunch_train.shape)\n",
    "print(lunch_test.shape)\n",
    "print(dinner_train.shape)\n",
    "print(dinner_test.shape)"
   ]
  },
  {
   "cell_type": "code",
   "execution_count": 12,
   "metadata": {},
   "outputs": [
    {
     "name": "stdout",
     "output_type": "stream",
     "text": [
      "Cat features are: []\n",
      "[]\n"
     ]
    }
   ],
   "source": [
    "cat_features = [f for f in lunch_train.columns if lunch_train[f].dtype == 'object']\n",
    "\n",
    "def column_index(df, cat_features):\n",
    "    cols = df.columns.values\n",
    "    sidx = np.argsort(cols)\n",
    "    return sidx[np.searchsorted(cols, cat_features, sorter=sidx)]\n",
    "\n",
    "cat_features_idx = column_index(lunch_train, cat_features)    \n",
    "print(\"Cat features are: %s\" % [f for f in cat_features])\n",
    "print(cat_features_idx)"
   ]
  },
  {
   "cell_type": "markdown",
   "metadata": {},
   "source": [
    "#### 분포 확인 및 분포 조정"
   ]
  },
  {
   "cell_type": "markdown",
   "metadata": {},
   "source": [
    "# 중식 예측모델"
   ]
  },
  {
   "cell_type": "code",
   "execution_count": 17,
   "metadata": {},
   "outputs": [],
   "source": [
    "import optuna\n",
    "from catboost import CatBoostRegressor\n",
    "from optuna import Trial\n",
    "from optuna.samplers import TPESampler\n",
    "from sklearn.metrics import log_loss\n",
    "from sklearn.model_selection import train_test_split, KFold"
   ]
  },
  {
   "cell_type": "code",
   "execution_count": 18,
   "metadata": {},
   "outputs": [],
   "source": [
    "# from automl_alex import LightGBMRegressor, CatBoostRegressor, AutoMLRegressor\n",
    "from sklearn.metrics import mean_absolute_error as MAE\n",
    "import sklearn"
   ]
  },
  {
   "cell_type": "code",
   "execution_count": 32,
   "metadata": {},
   "outputs": [],
   "source": [
    "def objective_lunch(trial: Trial) -> float:    \n",
    "    params_cat = {\n",
    "        \"random_state\": 42,\n",
    "        \"learning_rate\": 0.05,\n",
    "        \"n_estimators\": 10000,\n",
    "        \"verbose\" : 1,\n",
    "        \"objective\" : \"MAE\",\n",
    "        \"eval_metric\" : \"MAE\",\n",
    "        \"max_depth\": trial.suggest_int(\"max_depth\", 1, 16),\n",
    "        \"colsample_bylevel\": trial.suggest_float(\"colsample_bylevel\", 0.8, 1.0),\n",
    "        \"subsample\": trial.suggest_float(\"subsample\", 0.3, 1.0),\n",
    "        \"min_child_samples\": trial.suggest_int(\"min_child_samples\", 5, 100),\n",
    "        \"max_bin\": trial.suggest_int(\"max_bin\", 200, 500),\n",
    "    }\n",
    "    \n",
    "    n_fold = 4\n",
    "    kf = KFold(n_splits=n_fold, random_state=42, shuffle=True)\n",
    "    mae_log = 0\n",
    "    \n",
    "    for train_index, test_index in kf.split(lunch_train):\n",
    "        X_train, X_valid = lunch_train.iloc[train_index], lunch_train.iloc[test_index]\n",
    "        y_train, y_valid = y_lunch[train_index], y_lunch[test_index]\n",
    "\n",
    "        model = CatBoostRegressor(**params_cat)\n",
    "\n",
    "        evaluation = [(X_train, y_train), (X_valid, y_valid)]\n",
    "\n",
    "        model.fit(X_train, y_train,\n",
    "                  eval_set=evaluation, \n",
    "                  early_stopping_rounds=100,\n",
    "                  verbose=0)\n",
    "\n",
    "        pred = model.predict(X_valid)\n",
    "        mae= MAE(y_valid, pred)   \n",
    "        \n",
    "        mae_log += mae/n_fold\n",
    "    \n",
    "    return mae"
   ]
  },
  {
   "cell_type": "code",
   "execution_count": 54,
   "metadata": {},
   "outputs": [
    {
     "name": "stderr",
     "output_type": "stream",
     "text": [
      "\u001b[32m[I 2021-07-23 12:23:52,033]\u001b[0m A new study created in memory with name: cat_parameter_opt\u001b[0m\n",
      "\u001b[32m[I 2021-07-23 12:23:57,683]\u001b[0m Trial 0 finished with value: 66.1292241834929 and parameters: {'max_depth': 6, 'colsample_bylevel': 0.9901428612819833, 'subsample': 0.8123957592679836, 'min_child_samples': 62, 'max_bin': 246}. Best is trial 0 with value: 66.1292241834929.\u001b[0m\n",
      "\u001b[32m[I 2021-07-23 12:24:01,945]\u001b[0m Trial 1 finished with value: 66.72067151684455 and parameters: {'max_depth': 3, 'colsample_bylevel': 0.8116167224336399, 'subsample': 0.9063233020424546, 'min_child_samples': 62, 'max_bin': 413}. Best is trial 0 with value: 66.1292241834929.\u001b[0m\n",
      "\u001b[32m[I 2021-07-23 12:24:06,964]\u001b[0m Trial 2 finished with value: 70.96760989506923 and parameters: {'max_depth': 1, 'colsample_bylevel': 0.9939819704323989, 'subsample': 0.8827098485602951, 'min_child_samples': 25, 'max_bin': 254}. Best is trial 0 with value: 66.1292241834929.\u001b[0m\n",
      "\u001b[32m[I 2021-07-23 12:24:10,903]\u001b[0m Trial 3 finished with value: 65.7968117356165 and parameters: {'max_depth': 3, 'colsample_bylevel': 0.8608484485919076, 'subsample': 0.6673295021425665, 'min_child_samples': 46, 'max_bin': 287}. Best is trial 3 with value: 65.7968117356165.\u001b[0m\n",
      "\u001b[32m[I 2021-07-23 12:24:42,984]\u001b[0m Trial 4 finished with value: 72.92291469517603 and parameters: {'max_depth': 10, 'colsample_bylevel': 0.8278987721304084, 'subsample': 0.5045012539746527, 'min_child_samples': 40, 'max_bin': 337}. Best is trial 3 with value: 65.7968117356165.\u001b[0m\n",
      "\u001b[32m[I 2021-07-23 12:27:09,415]\u001b[0m Trial 5 finished with value: 80.8279652245315 and parameters: {'max_depth': 13, 'colsample_bylevel': 0.8399347564316719, 'subsample': 0.6599641068895281, 'min_child_samples': 61, 'max_bin': 213}. Best is trial 3 with value: 65.7968117356165.\u001b[0m\n",
      "\u001b[32m[I 2021-07-23 12:27:44,972]\u001b[0m Trial 6 finished with value: 76.22927383820823 and parameters: {'max_depth': 10, 'colsample_bylevel': 0.8341048247374584, 'subsample': 0.3455361150896956, 'min_child_samples': 96, 'max_bin': 490}. Best is trial 3 with value: 65.7968117356165.\u001b[0m\n",
      "\u001b[32m[I 2021-07-23 12:31:04,041]\u001b[0m Trial 7 finished with value: 80.59319094421024 and parameters: {'max_depth': 13, 'colsample_bylevel': 0.8609227538346742, 'subsample': 0.3683704798044687, 'min_child_samples': 70, 'max_bin': 332}. Best is trial 3 with value: 65.7968117356165.\u001b[0m\n",
      "\u001b[32m[I 2021-07-23 12:31:10,610]\u001b[0m Trial 8 finished with value: 67.05882715100093 and parameters: {'max_depth': 2, 'colsample_bylevel': 0.8990353820222541, 'subsample': 0.32407196478065287, 'min_child_samples': 92, 'max_bin': 277}. Best is trial 3 with value: 65.7968117356165.\u001b[0m\n",
      "\u001b[32m[I 2021-07-23 12:32:02,373]\u001b[0m Trial 9 finished with value: 72.14762618987118 and parameters: {'max_depth': 11, 'colsample_bylevel': 0.8623422152178822, 'subsample': 0.6640476148244676, 'min_child_samples': 57, 'max_bin': 255}. Best is trial 3 with value: 65.7968117356165.\u001b[0m\n",
      "\u001b[32m[I 2021-07-23 12:32:09,079]\u001b[0m Trial 10 finished with value: 67.65500428517203 and parameters: {'max_depth': 6, 'colsample_bylevel': 0.9505975159717354, 'subsample': 0.5282599179671775, 'min_child_samples': 7, 'max_bin': 414}. Best is trial 3 with value: 65.7968117356165.\u001b[0m\n",
      "\u001b[32m[I 2021-07-23 12:32:16,057]\u001b[0m Trial 11 finished with value: 66.30346946022881 and parameters: {'max_depth': 6, 'colsample_bylevel': 0.9226779317566419, 'subsample': 0.7981485771668848, 'min_child_samples': 33, 'max_bin': 209}. Best is trial 3 with value: 65.7968117356165.\u001b[0m\n",
      "\u001b[32m[I 2021-07-23 12:32:21,595]\u001b[0m Trial 12 finished with value: 66.2188643039508 and parameters: {'max_depth': 6, 'colsample_bylevel': 0.9983889404847366, 'subsample': 0.7716866125091035, 'min_child_samples': 79, 'max_bin': 289}. Best is trial 3 with value: 65.7968117356165.\u001b[0m\n",
      "\u001b[32m[I 2021-07-23 12:32:25,256]\u001b[0m Trial 13 finished with value: 65.92693917432675 and parameters: {'max_depth': 4, 'colsample_bylevel': 0.8962440563827649, 'subsample': 0.9984280019020484, 'min_child_samples': 43, 'max_bin': 202}. Best is trial 3 with value: 65.7968117356165.\u001b[0m\n",
      "\u001b[32m[I 2021-07-23 12:32:31,095]\u001b[0m Trial 14 finished with value: 66.10516624403476 and parameters: {'max_depth': 4, 'colsample_bylevel': 0.8801799584261927, 'subsample': 0.9783856882799968, 'min_child_samples': 42, 'max_bin': 201}. Best is trial 3 with value: 65.7968117356165.\u001b[0m\n",
      "\u001b[32m[I 2021-07-23 12:32:40,376]\u001b[0m Trial 15 finished with value: 71.20520455259346 and parameters: {'max_depth': 1, 'colsample_bylevel': 0.9290659339583609, 'subsample': 0.536866526863155, 'min_child_samples': 16, 'max_bin': 307}. Best is trial 3 with value: 65.7968117356165.\u001b[0m\n",
      "\u001b[32m[I 2021-07-23 12:32:44,918]\u001b[0m Trial 16 finished with value: 65.89131630024266 and parameters: {'max_depth': 4, 'colsample_bylevel': 0.8944786982118674, 'subsample': 0.9825505273522873, 'min_child_samples': 47, 'max_bin': 393}. Best is trial 3 with value: 65.7968117356165.\u001b[0m\n",
      "\u001b[32m[I 2021-07-23 12:32:57,077]\u001b[0m Trial 17 finished with value: 69.19995384574649 and parameters: {'max_depth': 8, 'colsample_bylevel': 0.8690956244875746, 'subsample': 0.43468458501036855, 'min_child_samples': 27, 'max_bin': 386}. Best is trial 3 with value: 65.7968117356165.\u001b[0m\n",
      "\u001b[32m[I 2021-07-23 13:05:11,640]\u001b[0m Trial 18 finished with value: 90.62622724593844 and parameters: {'max_depth': 16, 'colsample_bylevel': 0.928472411227899, 'subsample': 0.6093266868272454, 'min_child_samples': 49, 'max_bin': 481}. Best is trial 3 with value: 65.7968117356165.\u001b[0m\n",
      "\u001b[32m[I 2021-07-23 13:05:16,326]\u001b[0m Trial 19 finished with value: 66.26018411639433 and parameters: {'max_depth': 4, 'colsample_bylevel': 0.8000027076286477, 'subsample': 0.913822464363699, 'min_child_samples': 17, 'max_bin': 378}. Best is trial 3 with value: 65.7968117356165.\u001b[0m\n"
     ]
    },
    {
     "name": "stdout",
     "output_type": "stream",
     "text": [
      "Best Score: 65.7968117356165\n",
      "Best trial: {'max_depth': 3, 'colsample_bylevel': 0.8608484485919076, 'subsample': 0.6673295021425665, 'min_child_samples': 46, 'max_bin': 287}\n"
     ]
    }
   ],
   "source": [
    "sampler = TPESampler(seed=42)\n",
    "study = optuna.create_study(\n",
    "    study_name=\"cat_parameter_opt\",\n",
    "    direction=\"minimize\",\n",
    "    sampler=sampler,\n",
    ")\n",
    "study.optimize(objective_lunch, n_trials=20)\n",
    "lunch_param = study.best_trial.params\n",
    "\n",
    "print(\"Best Score:\", study.best_value)\n",
    "print(\"Best trial:\", study.best_trial.params)"
   ]
  },
  {
   "cell_type": "code",
   "execution_count": 67,
   "metadata": {},
   "outputs": [
    {
     "name": "stdout",
     "output_type": "stream",
     "text": [
      "64.20218143298891\n"
     ]
    }
   ],
   "source": [
    "lunch_mae = 0\n",
    "lunch_pred = np.array([0]*50).astype('float64')\n",
    "n_fold = 12\n",
    "kf = KFold(n_splits=n_fold, random_state=42, shuffle=True)\n",
    "\n",
    "for train_index, test_index in kf.split(lunch_train):\n",
    "    X_train, X_valid = lunch_train.iloc[train_index], lunch_train.iloc[test_index]\n",
    "    y_train, y_valid = y_lunch[train_index], y_lunch[test_index]\n",
    "\n",
    "    model = CatBoostRegressor(**lunch_param)\n",
    "\n",
    "    evaluation = [(X_train, y_train), (X_valid, y_valid)]\n",
    "\n",
    "    model.fit(X_train, y_train,\n",
    "              eval_set=evaluation, \n",
    "              early_stopping_rounds=100,\n",
    "              verbose=0)\n",
    "\n",
    "    pred = model.predict(X_valid)\n",
    "    lunch_mae += MAE(y_valid, pred)/n_fold\n",
    "    \n",
    "    lunch_pred += model.predict(lunch_test)/n_fold\n",
    "    \n",
    "print(lunch_mae)"
   ]
  },
  {
   "cell_type": "code",
   "execution_count": 51,
   "metadata": {},
   "outputs": [],
   "source": [
    "def objective_dinner(trial: Trial) -> float: \n",
    "    params_cat = {\n",
    "        \"random_state\": 42,\n",
    "        \"learning_rate\": 0.05,\n",
    "        \"n_estimators\": 10000,\n",
    "        \"verbose\" : 1,\n",
    "        \"objective\" : \"MAE\",\n",
    "        \"eval_metric\" : \"MAE\",\n",
    "        \"max_depth\": trial.suggest_int(\"max_depth\", 1, 16),\n",
    "        \"colsample_bylevel\": trial.suggest_float(\"colsample_bylevel\", 0.8, 1.0),\n",
    "        \"subsample\": trial.suggest_float(\"subsample\", 0.3, 1.0),\n",
    "        \"min_child_samples\": trial.suggest_int(\"min_child_samples\", 5, 100),\n",
    "        \"max_bin\": trial.suggest_int(\"max_bin\", 200, 500),\n",
    "    }\n",
    "    \n",
    "    n_fold = 4\n",
    "    kf = KFold(n_splits=n_fold, random_state=42, shuffle=True)\n",
    "    mae_log = 0\n",
    "    \n",
    "    for train_index, test_index in kf.split(dinner_train):\n",
    "        X_train, X_valid = dinner_train.iloc[train_index], dinner_train.iloc[test_index]\n",
    "        y_train, y_valid = y_dinner[train_index], y_dinner[test_index]\n",
    "\n",
    "        model = CatBoostRegressor(**params_cat)\n",
    "\n",
    "        evaluation = [(X_train, y_train), (X_valid, y_valid)]\n",
    "\n",
    "        model.fit(X_train, y_train,\n",
    "                  eval_set=evaluation, \n",
    "                  early_stopping_rounds=100,\n",
    "                  verbose=0)\n",
    "\n",
    "        pred = model.predict(X_valid)\n",
    "        mae= MAE(y_valid, pred)   \n",
    "        \n",
    "        mae_log += mae/n_fold\n",
    "    \n",
    "    return mae_log"
   ]
  },
  {
   "cell_type": "code",
   "execution_count": 52,
   "metadata": {},
   "outputs": [
    {
     "name": "stderr",
     "output_type": "stream",
     "text": [
      "\u001b[32m[I 2021-07-23 11:40:32,678]\u001b[0m A new study created in memory with name: cat_parameter_opt\u001b[0m\n",
      "Custom logger is already specified. Specify more than one logger at same time is not thread safe.\u001b[32m[I 2021-07-23 11:40:36,180]\u001b[0m Trial 0 finished with value: 56.092123296262514 and parameters: {'max_depth': 6, 'colsample_bylevel': 0.9901428612819833, 'subsample': 0.8123957592679836, 'min_child_samples': 62, 'max_bin': 246}. Best is trial 0 with value: 56.092123296262514.\u001b[0m\n",
      "\u001b[32m[I 2021-07-23 11:40:38,264]\u001b[0m Trial 1 finished with value: 58.36617224597725 and parameters: {'max_depth': 3, 'colsample_bylevel': 0.8116167224336399, 'subsample': 0.9063233020424546, 'min_child_samples': 62, 'max_bin': 413}. Best is trial 0 with value: 56.092123296262514.\u001b[0m\n",
      "\u001b[32m[I 2021-07-23 11:40:41,589]\u001b[0m Trial 2 finished with value: 60.3366394991943 and parameters: {'max_depth': 1, 'colsample_bylevel': 0.9939819704323989, 'subsample': 0.8827098485602951, 'min_child_samples': 25, 'max_bin': 254}. Best is trial 0 with value: 56.092123296262514.\u001b[0m\n",
      "\u001b[32m[I 2021-07-23 11:40:44,838]\u001b[0m Trial 3 finished with value: 57.18021221084695 and parameters: {'max_depth': 3, 'colsample_bylevel': 0.8608484485919076, 'subsample': 0.6673295021425665, 'min_child_samples': 46, 'max_bin': 287}. Best is trial 0 with value: 56.092123296262514.\u001b[0m\n",
      "\u001b[32m[I 2021-07-23 11:41:13,643]\u001b[0m Trial 4 finished with value: 59.995532356387145 and parameters: {'max_depth': 10, 'colsample_bylevel': 0.8278987721304084, 'subsample': 0.5045012539746527, 'min_child_samples': 40, 'max_bin': 337}. Best is trial 0 with value: 56.092123296262514.\u001b[0m\n",
      "\u001b[32m[I 2021-07-23 11:46:33,418]\u001b[0m Trial 5 finished with value: 63.95457545952762 and parameters: {'max_depth': 13, 'colsample_bylevel': 0.8399347564316719, 'subsample': 0.6599641068895281, 'min_child_samples': 61, 'max_bin': 213}. Best is trial 0 with value: 56.092123296262514.\u001b[0m\n",
      "\u001b[32m[I 2021-07-23 11:47:13,190]\u001b[0m Trial 6 finished with value: 59.8039513798128 and parameters: {'max_depth': 10, 'colsample_bylevel': 0.8341048247374584, 'subsample': 0.3455361150896956, 'min_child_samples': 96, 'max_bin': 490}. Best is trial 0 with value: 56.092123296262514.\u001b[0m\n",
      "\u001b[32m[I 2021-07-23 11:54:24,009]\u001b[0m Trial 7 finished with value: 65.01464337154988 and parameters: {'max_depth': 13, 'colsample_bylevel': 0.8609227538346742, 'subsample': 0.3683704798044687, 'min_child_samples': 70, 'max_bin': 332}. Best is trial 0 with value: 56.092123296262514.\u001b[0m\n",
      "\u001b[32m[I 2021-07-23 11:54:26,696]\u001b[0m Trial 8 finished with value: 59.15986331809107 and parameters: {'max_depth': 2, 'colsample_bylevel': 0.8990353820222541, 'subsample': 0.32407196478065287, 'min_child_samples': 92, 'max_bin': 277}. Best is trial 0 with value: 56.092123296262514.\u001b[0m\n",
      "\u001b[32m[I 2021-07-23 11:55:17,805]\u001b[0m Trial 9 finished with value: 60.00658200950056 and parameters: {'max_depth': 11, 'colsample_bylevel': 0.8623422152178822, 'subsample': 0.6640476148244676, 'min_child_samples': 57, 'max_bin': 255}. Best is trial 0 with value: 56.092123296262514.\u001b[0m\n",
      "\u001b[32m[I 2021-07-23 11:55:22,375]\u001b[0m Trial 10 finished with value: 55.9141210468037 and parameters: {'max_depth': 6, 'colsample_bylevel': 0.9865723999890444, 'subsample': 0.7872824623508248, 'min_child_samples': 6, 'max_bin': 207}. Best is trial 10 with value: 55.9141210468037.\u001b[0m\n",
      "\u001b[32m[I 2021-07-23 11:55:26,066]\u001b[0m Trial 11 finished with value: 55.54418143665878 and parameters: {'max_depth': 6, 'colsample_bylevel': 0.9956170942525168, 'subsample': 0.821262629615515, 'min_child_samples': 5, 'max_bin': 205}. Best is trial 11 with value: 55.54418143665878.\u001b[0m\n",
      "\u001b[32m[I 2021-07-23 11:55:31,349]\u001b[0m Trial 12 finished with value: 56.00625654302257 and parameters: {'max_depth': 6, 'colsample_bylevel': 0.9523623499242457, 'subsample': 0.79220733949424, 'min_child_samples': 5, 'max_bin': 206}. Best is trial 11 with value: 55.54418143665878.\u001b[0m\n",
      "\u001b[32m[I 2021-07-23 11:55:36,691]\u001b[0m Trial 13 finished with value: 56.21679152498327 and parameters: {'max_depth': 6, 'colsample_bylevel': 0.9591058209746817, 'subsample': 0.9984280019020484, 'min_child_samples': 6, 'max_bin': 202}. Best is trial 11 with value: 55.54418143665878.\u001b[0m\n",
      "\u001b[32m[I 2021-07-23 11:55:48,133]\u001b[0m Trial 14 finished with value: 56.4715737081184 and parameters: {'max_depth': 8, 'colsample_bylevel': 0.9557027582115248, 'subsample': 0.7601808464254701, 'min_child_samples': 19, 'max_bin': 374}. Best is trial 11 with value: 55.54418143665878.\u001b[0m\n",
      "\u001b[32m[I 2021-07-23 11:55:50,981]\u001b[0m Trial 15 finished with value: 56.96578166917422 and parameters: {'max_depth': 4, 'colsample_bylevel': 0.9297349934132142, 'subsample': 0.9815505958338491, 'min_child_samples': 18, 'max_bin': 464}. Best is trial 11 with value: 55.54418143665878.\u001b[0m\n",
      "\u001b[32m[I 2021-07-23 11:55:58,900]\u001b[0m Trial 16 finished with value: 57.49642546801013 and parameters: {'max_depth': 8, 'colsample_bylevel': 0.980155181267955, 'subsample': 0.515995326553824, 'min_child_samples': 32, 'max_bin': 201}. Best is trial 11 with value: 55.54418143665878.\u001b[0m\n",
      "\u001b[32m[I 2021-07-23 11:56:02,442]\u001b[0m Trial 17 finished with value: 56.551289586045684 and parameters: {'max_depth': 5, 'colsample_bylevel': 0.9205943321715595, 'subsample': 0.9107094041720106, 'min_child_samples': 5, 'max_bin': 307}. Best is trial 11 with value: 55.54418143665878.\u001b[0m\n",
      "\u001b[32m[I 2021-07-23 12:23:30,146]\u001b[0m Trial 18 finished with value: 67.56982287232472 and parameters: {'max_depth': 16, 'colsample_bylevel': 0.9732736318675752, 'subsample': 0.7298500858354966, 'min_child_samples': 14, 'max_bin': 235}. Best is trial 11 with value: 55.54418143665878.\u001b[0m\n",
      "\u001b[32m[I 2021-07-23 12:23:37,941]\u001b[0m Trial 19 finished with value: 56.480982816196544 and parameters: {'max_depth': 7, 'colsample_bylevel': 0.9967798245195794, 'subsample': 0.5695436133505449, 'min_child_samples': 30, 'max_bin': 390}. Best is trial 11 with value: 55.54418143665878.\u001b[0m\n"
     ]
    },
    {
     "name": "stdout",
     "output_type": "stream",
     "text": [
      "Best Score: 55.54418143665878\n",
      "Best trial: {'max_depth': 6, 'colsample_bylevel': 0.9956170942525168, 'subsample': 0.821262629615515, 'min_child_samples': 5, 'max_bin': 205}\n"
     ]
    }
   ],
   "source": [
    "sampler = TPESampler(seed=42)\n",
    "study = optuna.create_study(\n",
    "    study_name=\"cat_parameter_opt\",\n",
    "    direction=\"minimize\",\n",
    "    sampler=sampler,\n",
    ")\n",
    "study.optimize(objective_dinner, n_trials=20)\n",
    "dinner_param = study.best_trial.params\n",
    "\n",
    "print(\"Best Score:\", study.best_value)\n",
    "print(\"Best trial:\", study.best_trial.params)"
   ]
  },
  {
   "cell_type": "code",
   "execution_count": 53,
   "metadata": {},
   "outputs": [
    {
     "name": "stdout",
     "output_type": "stream",
     "text": [
      "53.30713963391145\n"
     ]
    }
   ],
   "source": [
    "dinner_mae = 0\n",
    "dinner_pred = np.array([0]*50).astype('float64')\n",
    "\n",
    "for train_index, test_index in kf.split(dinner_train):\n",
    "    X_train, X_valid = dinner_train.iloc[train_index], dinner_train.iloc[test_index]\n",
    "    y_train, y_valid = y_dinner[train_index], y_dinner[test_index]\n",
    "\n",
    "    model = CatBoostRegressor(**dinner_param)\n",
    "\n",
    "    evaluation = [(X_train, y_train), (X_valid, y_valid)]\n",
    "\n",
    "    model.fit(X_train, y_train,\n",
    "              eval_set=evaluation, \n",
    "              early_stopping_rounds=100,\n",
    "              verbose=0)\n",
    "\n",
    "    pred = model.predict(X_valid)\n",
    "    dinner_mae += MAE(y_valid, pred)/n_fold\n",
    "    \n",
    "    dinner_pred += model.predict(dinner_test)/n_fold\n",
    "    \n",
    "print(dinner_mae)"
   ]
  },
  {
   "cell_type": "code",
   "execution_count": 68,
   "metadata": {},
   "outputs": [
    {
     "data": {
      "text/html": [
       "<div>\n",
       "<style scoped>\n",
       "    .dataframe tbody tr th:only-of-type {\n",
       "        vertical-align: middle;\n",
       "    }\n",
       "\n",
       "    .dataframe tbody tr th {\n",
       "        vertical-align: top;\n",
       "    }\n",
       "\n",
       "    .dataframe thead th {\n",
       "        text-align: right;\n",
       "    }\n",
       "</style>\n",
       "<table border=\"1\" class=\"dataframe\">\n",
       "  <thead>\n",
       "    <tr style=\"text-align: right;\">\n",
       "      <th></th>\n",
       "      <th>일자</th>\n",
       "      <th>중식계</th>\n",
       "      <th>석식계</th>\n",
       "    </tr>\n",
       "  </thead>\n",
       "  <tbody>\n",
       "    <tr>\n",
       "      <th>0</th>\n",
       "      <td>2021-01-27</td>\n",
       "      <td>988.245069</td>\n",
       "      <td>338.878168</td>\n",
       "    </tr>\n",
       "    <tr>\n",
       "      <th>1</th>\n",
       "      <td>2021-01-28</td>\n",
       "      <td>921.191764</td>\n",
       "      <td>425.128727</td>\n",
       "    </tr>\n",
       "    <tr>\n",
       "      <th>2</th>\n",
       "      <td>2021-01-29</td>\n",
       "      <td>628.100691</td>\n",
       "      <td>225.429082</td>\n",
       "    </tr>\n",
       "    <tr>\n",
       "      <th>3</th>\n",
       "      <td>2021-02-01</td>\n",
       "      <td>1309.418597</td>\n",
       "      <td>539.132832</td>\n",
       "    </tr>\n",
       "    <tr>\n",
       "      <th>4</th>\n",
       "      <td>2021-02-02</td>\n",
       "      <td>1063.044738</td>\n",
       "      <td>488.659505</td>\n",
       "    </tr>\n",
       "  </tbody>\n",
       "</table>\n",
       "</div>"
      ],
      "text/plain": [
       "           일자          중식계         석식계\n",
       "0  2021-01-27   988.245069  338.878168\n",
       "1  2021-01-28   921.191764  425.128727\n",
       "2  2021-01-29   628.100691  225.429082\n",
       "3  2021-02-01  1309.418597  539.132832\n",
       "4  2021-02-02  1063.044738  488.659505"
      ]
     },
     "execution_count": 68,
     "metadata": {},
     "output_type": "execute_result"
    }
   ],
   "source": [
    "submission = pd.read_csv('../data/sample_submission.csv')\n",
    "\n",
    "submission.iloc[:,1] = lunch_pred\n",
    "submission.iloc[:,2] = dinner_pred\n",
    "submission.head()"
   ]
  },
  {
   "cell_type": "code",
   "execution_count": 63,
   "metadata": {},
   "outputs": [
    {
     "data": {
      "text/plain": [
       "중식계    971.967640\n",
       "석식계    475.127619\n",
       "dtype: float64"
      ]
     },
     "execution_count": 63,
     "metadata": {},
     "output_type": "execute_result"
    }
   ],
   "source": [
    "submission.iloc[:,1:].mean()"
   ]
  },
  {
   "cell_type": "code",
   "execution_count": 59,
   "metadata": {},
   "outputs": [],
   "source": [
    "def compare_ans(DIR):\n",
    "    answer = pd.read_csv(DIR)\n",
    "\n",
    "    lunch_answer = np.array(answer.iloc[:,1])\n",
    "    dinner_answer = np.array(answer.iloc[:,2])\n",
    "    \n",
    "    lunch_MAE = abs(submission.iloc[:,1] - lunch_answer).mean()\n",
    "    dinner_MAE = abs(submission.iloc[:,2] - dinner_answer).mean()\n",
    "    \n",
    "    print(\"lunch_MAE : \", lunch_MAE)\n",
    "    print(\"dinner_MAE : \", dinner_MAE)\n",
    "    print(\"total_MAE : \", (lunch_MAE+dinner_MAE)/2)"
   ]
  },
  {
   "cell_type": "code",
   "execution_count": 60,
   "metadata": {},
   "outputs": [
    {
     "name": "stdout",
     "output_type": "stream",
     "text": [
      "lunch_MAE :  14.502630285785663\n",
      "dinner_MAE :  20.716353899615097\n",
      "total_MAE :  17.60949209270038\n",
      "../submission\\20210624_pycaret_(4-2)_제출해봐야할거.csv None\n",
      "\n",
      "lunch_MAE :  46.6653142924422\n",
      "dinner_MAE :  29.062117930950215\n",
      "total_MAE :  37.863716111696206\n",
      "../submission\\20210625_cat.csv None\n",
      "\n",
      "lunch_MAE :  40.48944839591298\n",
      "dinner_MAE :  23.722537308464027\n",
      "total_MAE :  32.10599285218851\n",
      "../submission\\20210625_cat_10fold.csv None\n",
      "\n",
      "lunch_MAE :  39.19760242344971\n",
      "dinner_MAE :  20.72612936904833\n",
      "total_MAE :  29.96186589624902\n",
      "../submission\\20210627_cat_15_KJH.csv None\n",
      "\n",
      "lunch_MAE :  59.89625302543101\n",
      "dinner_MAE :  45.495865556589436\n",
      "total_MAE :  52.69605929101022\n",
      "../submission\\20210627_cat_after_2020.csv None\n",
      "\n",
      "lunch_MAE :  39.19760242344971\n",
      "dinner_MAE :  20.72612936904833\n",
      "total_MAE :  29.96186589624902\n",
      "../submission\\20210627_cat_KJH.csv None\n",
      "\n",
      "lunch_MAE :  39.19760242344971\n",
      "dinner_MAE :  20.72612936904833\n",
      "total_MAE :  29.96186589624902\n",
      "../submission\\20210627_pycaret_KJH.csv None\n",
      "\n",
      "lunch_MAE :  28.94572979491563\n",
      "dinner_MAE :  22.150212481872778\n",
      "total_MAE :  25.547971138394203\n",
      "../submission\\20210627_pycaret_menu.csv None\n",
      "\n",
      "lunch_MAE :  60.653367043136825\n",
      "dinner_MAE :  19.920758424094597\n",
      "total_MAE :  40.28706273361571\n",
      "../submission\\20210628_cat_15_.csv None\n",
      "\n",
      "lunch_MAE :  43.72944006410813\n",
      "dinner_MAE :  20.173536288178376\n",
      "total_MAE :  31.951488176143254\n",
      "../submission\\20210628_cat_15_KJH.csv None\n",
      "\n",
      "lunch_MAE :  20.7972980341998\n",
      "dinner_MAE :  18.744186670337054\n",
      "total_MAE :  19.770742352268428\n",
      "../submission\\20210628_cat_8_.csv None\n",
      "\n",
      "lunch_MAE :  20.244432585228544\n",
      "dinner_MAE :  16.59026250890582\n",
      "total_MAE :  18.41734754706718\n",
      "../submission\\20210628_cat_xgb_8.csv None\n",
      "\n",
      "lunch_MAE :  18.457129055526263\n",
      "dinner_MAE :  18.038217529402765\n",
      "total_MAE :  18.247673292464512\n",
      "../submission\\20210628_pycaret_ADD_FEATURE.csv None\n",
      "\n",
      "lunch_MAE :  17.083721896471793\n",
      "dinner_MAE :  14.628625998457428\n",
      "total_MAE :  15.856173947464612\n",
      "../submission\\20210629_best_data_ensemble.csv None\n",
      "\n",
      "lunch_MAE :  20.876281131337656\n",
      "dinner_MAE :  21.167112741609408\n",
      "total_MAE :  21.021696936473532\n",
      "../submission\\20210629_lgbm_autoML.csv None\n",
      "\n",
      "lunch_MAE :  17.083721896471793\n",
      "dinner_MAE :  17.967089532908407\n",
      "total_MAE :  17.525405714690102\n",
      "../submission\\20210630_best_data_ensemble.csv None\n",
      "\n",
      "lunch_MAE :  20.7972980341998\n",
      "dinner_MAE :  18.40257660065712\n",
      "total_MAE :  19.599937317428463\n",
      "../submission\\20210630_cat_8_.csv None\n",
      "\n",
      "lunch_MAE :  20.876281131337656\n",
      "dinner_MAE :  21.13992841677325\n",
      "total_MAE :  21.008104774055454\n",
      "../submission\\20210630_lgbm_autoML.csv None\n",
      "\n",
      "lunch_MAE :  28.85783667472263\n",
      "dinner_MAE :  26.330589680575663\n",
      "total_MAE :  27.594213177649145\n",
      "../submission\\20210701_lgbm_autoML.csv None\n",
      "\n",
      "lunch_MAE :  8.843004097729509\n",
      "dinner_MAE :  18.78200213816339\n",
      "total_MAE :  13.812503117946449\n",
      "../submission\\20210701_lgbm_knfold_drop.csv None\n",
      "\n",
      "lunch_MAE :  97.5185269542951\n",
      "dinner_MAE :  24.015794251821152\n",
      "total_MAE :  60.76716060305812\n",
      "../submission\\20210701_pycaret_(2)-69.8998.csv None\n",
      "\n",
      "lunch_MAE :  23.831148887228554\n",
      "dinner_MAE :  31.478851610724664\n",
      "total_MAE :  27.65500024897661\n",
      "../submission\\20210714_lgbm_autoML_20.csv None\n",
      "\n",
      "lunch_MAE :  20.785584775459682\n",
      "dinner_MAE :  22.771805647775963\n",
      "total_MAE :  21.778695211617823\n",
      "../submission\\20210714_lgbm_autoML_8.csv None\n",
      "\n",
      "lunch_MAE :  26.23861596721369\n",
      "dinner_MAE :  37.59870405997672\n",
      "total_MAE :  31.918660013595204\n",
      "../submission\\20210715_cat_autoML.csv None\n",
      "\n",
      "lunch_MAE :  15.539805399275322\n",
      "dinner_MAE :  17.18061130606842\n",
      "total_MAE :  16.360208352671872\n",
      "../submission\\20210715_lgbm_autoML.csv None\n",
      "\n",
      "lunch_MAE :  27.268924278593676\n",
      "dinner_MAE :  17.919201445174608\n",
      "total_MAE :  22.59406286188414\n",
      "../submission\\20210715_lgbm_autoML_ensenble.csv None\n",
      "\n",
      "lunch_MAE :  26.56952374115075\n",
      "dinner_MAE :  23.88954899379795\n",
      "total_MAE :  25.22953636747435\n",
      "../submission\\20210715_lgbm_sort_autoML.csv None\n",
      "\n",
      "lunch_MAE :  58.60095138308177\n",
      "dinner_MAE :  32.232758275571655\n",
      "total_MAE :  45.41685482932671\n",
      "../submission\\20210715_pycaret_(2).csv None\n",
      "\n",
      "lunch_MAE :  18.651046718892005\n",
      "dinner_MAE :  17.91999676005753\n",
      "total_MAE :  18.285521739474767\n",
      "../submission\\20210715_xgb_autoML.csv None\n",
      "\n",
      "lunch_MAE :  28.00390164077608\n",
      "dinner_MAE :  36.17552180235257\n",
      "total_MAE :  32.08971172156433\n",
      "../submission\\20210716_autoML.csv None\n",
      "\n",
      "lunch_MAE :  26.553155015484244\n",
      "dinner_MAE :  26.664870393693544\n",
      "total_MAE :  26.609012704588892\n",
      "../submission\\20210716_cat_autoML.csv None\n",
      "\n",
      "lunch_MAE :  21.13544366361748\n",
      "dinner_MAE :  17.018612587911615\n",
      "total_MAE :  19.07702812576455\n",
      "../submission\\20210716_lgbm_autoML.csv None\n",
      "\n",
      "lunch_MAE :  28.29997692435334\n",
      "dinner_MAE :  15.684812238782133\n",
      "total_MAE :  21.992394581567737\n",
      "../submission\\20210716_lgbm_autoML_ensenble.csv None\n",
      "\n",
      "lunch_MAE :  18.436467525318157\n",
      "dinner_MAE :  18.70652897975418\n",
      "total_MAE :  18.571498252536166\n",
      "../submission\\20210716_lgbm_autoML_in.csv None\n",
      "\n",
      "lunch_MAE :  19.07497716854437\n",
      "dinner_MAE :  25.452522073925312\n",
      "total_MAE :  22.26374962123484\n",
      "../submission\\20210716_lgbm_sort_autoML.csv None\n",
      "\n",
      "lunch_MAE :  48.988695030498114\n",
      "dinner_MAE :  19.055424744764778\n",
      "total_MAE :  34.02205988763144\n",
      "../submission\\20210717_best_data_ensemble.csv None\n",
      "\n",
      "lunch_MAE :  52.37624209038081\n",
      "dinner_MAE :  19.46495570428608\n",
      "total_MAE :  35.92059889733345\n",
      "../submission\\20210717_best_data_ensemble2.csv None\n",
      "\n",
      "lunch_MAE :  52.37624209038081\n",
      "dinner_MAE :  18.932315802161828\n",
      "total_MAE :  35.65427894627132\n",
      "../submission\\20210717_best_data_ensemble3.csv None\n",
      "\n",
      "lunch_MAE :  63.34608918853726\n",
      "dinner_MAE :  29.328597415148934\n",
      "total_MAE :  46.3373433018431\n",
      "../submission\\20210717_pycaret_(2).csv None\n",
      "\n",
      "lunch_MAE :  25.845899152022422\n",
      "dinner_MAE :  32.653866804895735\n",
      "total_MAE :  29.249882978459077\n",
      "../submission\\20210718_autoML_5.csv None\n",
      "\n",
      "lunch_MAE :  26.179551563097007\n",
      "dinner_MAE :  27.273154359094466\n",
      "total_MAE :  26.726352961095735\n",
      "../submission\\20210718_pycaret.csv None\n",
      "\n",
      "lunch_MAE :  64.72284191177388\n",
      "dinner_MAE :  37.498465388829715\n",
      "total_MAE :  51.1106536503018\n",
      "../submission\\20210718_pycaret_(2).csv None\n",
      "\n",
      "lunch_MAE :  53.252273485913065\n",
      "dinner_MAE :  28.061238714498216\n",
      "total_MAE :  40.65675610020564\n",
      "../submission\\20210719_best_data_ensemble.csv None\n",
      "\n",
      "lunch_MAE :  45.381881352021274\n",
      "dinner_MAE :  18.579875184229206\n",
      "total_MAE :  31.980878268125238\n",
      "../submission\\20210719_best_data_ensemble3.csv None\n",
      "\n",
      "lunch_MAE :  21.348921703893257\n",
      "dinner_MAE :  16.105894778107924\n",
      "total_MAE :  18.72740824100059\n",
      "../submission\\20210719_lgbm_autoML.csv None\n",
      "\n",
      "lunch_MAE :  27.080227685796608\n",
      "dinner_MAE :  28.061238714498216\n",
      "total_MAE :  27.570733200147412\n",
      "../submission\\20210719_pycaret.csv None\n",
      "\n",
      "lunch_MAE :  20.54833003130436\n",
      "dinner_MAE :  22.558468082460404\n",
      "total_MAE :  21.553399056882384\n",
      "../submission\\20210720_lgbm_autoML_22.csv None\n",
      "\n",
      "lunch_MAE :  30.601182881231463\n",
      "dinner_MAE :  30.74860895810889\n",
      "total_MAE :  30.674895919670178\n",
      "../submission\\20210720_optuna_AutoML.csv None\n",
      "\n",
      "lunch_MAE :  30.601182881231463\n",
      "dinner_MAE :  30.74860895810889\n",
      "total_MAE :  30.674895919670178\n",
      "../submission\\20210720_optuna_lgbm.csv None\n",
      "\n",
      "lunch_MAE :  41.8765069281814\n",
      "dinner_MAE :  28.061238714498216\n",
      "total_MAE :  34.96887282133981\n",
      "../submission\\20210721_best_data_ensemble.csv None\n",
      "\n",
      "lunch_MAE :  19.169220008154777\n",
      "dinner_MAE :  22.58863116658589\n",
      "total_MAE :  20.878925587370333\n",
      "../submission\\20210721_lgbm_knfold_drop.csv None\n",
      "\n",
      "lunch_MAE :  41.8765069281814\n",
      "dinner_MAE :  28.061238714498216\n",
      "total_MAE :  34.96887282133981\n",
      "../submission\\20210722_best_data_ensemble.csv None\n",
      "\n",
      "lunch_MAE :  53.252273485913065\n",
      "dinner_MAE :  30.74860895810889\n",
      "total_MAE :  42.00044122201098\n",
      "../submission\\20210722_best_data_ensemble2.csv None\n",
      "\n",
      "lunch_MAE :  53.252273485913065\n",
      "dinner_MAE :  26.859351718500175\n",
      "total_MAE :  40.05581260220662\n",
      "../submission\\20210722_best_data_ensemble5.csv None\n",
      "\n",
      "lunch_MAE :  12.501433448499466\n",
      "dinner_MAE :  22.38405687573109\n",
      "total_MAE :  17.44274516211528\n",
      "../submission\\20210722_hyperOpt_lgbm.csv None\n",
      "\n",
      "lunch_MAE :  22.10070667219231\n",
      "dinner_MAE :  25.956260615674445\n",
      "total_MAE :  24.028483643933377\n",
      "../submission\\20210722_hyperOpt_xgb.csv None\n",
      "\n",
      "lunch_MAE :  24.427741878954137\n",
      "dinner_MAE :  32.74725844250312\n",
      "total_MAE :  28.587500160728627\n",
      "../submission\\20210722_hyperOpt_xgb2.csv None\n",
      "\n",
      "lunch_MAE :  12.501433448499466\n",
      "dinner_MAE :  21.78358448512315\n",
      "total_MAE :  17.142508966811306\n",
      "../submission\\20210722_mix_lgbm.csv None\n",
      "\n",
      "lunch_MAE :  12.82865571984242\n",
      "dinner_MAE :  21.78358448512315\n",
      "total_MAE :  17.306120102482787\n",
      "../submission\\20210722_optuna_lgbm.csv None\n",
      "\n",
      "lunch_MAE :  53.252273485913065\n",
      "dinner_MAE :  26.310531675159137\n",
      "total_MAE :  39.7814025805361\n",
      "../submission\\20210723_best_data_ensemble5.csv None\n",
      "\n"
     ]
    }
   ],
   "source": [
    "import glob\n",
    "\n",
    "files = glob.glob('../submission/*')\n",
    "\n",
    "for file in files[:-1]:\n",
    "    print(file, compare_ans(file), end=\"\\n\\n\" )"
   ]
  },
  {
   "cell_type": "markdown",
   "metadata": {},
   "source": [
    "# 저장"
   ]
  },
  {
   "cell_type": "code",
   "execution_count": 64,
   "metadata": {},
   "outputs": [
    {
     "name": "stdout",
     "output_type": "stream",
     "text": [
      "오늘 날짜 : 20210723\n"
     ]
    }
   ],
   "source": [
    "import datetime\n",
    "today = str(datetime.datetime.now().date()).replace(\"-\",\"\")\n",
    "print(\"오늘 날짜 : \" + today)\n",
    "\n",
    "submission.to_csv(f'../submission/{today}_optuna_cat.csv', index =False)"
   ]
  },
  {
   "cell_type": "code",
   "execution_count": 146,
   "metadata": {},
   "outputs": [],
   "source": [
    "hyperOpt = pd.read_csv('../submission/20210722_hyperOpt_lgbm.csv')"
   ]
  },
  {
   "cell_type": "code",
   "execution_count": 150,
   "metadata": {},
   "outputs": [],
   "source": [
    "submission_mix = submission.copy()"
   ]
  },
  {
   "cell_type": "code",
   "execution_count": 155,
   "metadata": {},
   "outputs": [],
   "source": [
    "submission_mix.iloc[:,1] = hyperOpt.iloc[:,1]"
   ]
  },
  {
   "cell_type": "code",
   "execution_count": 160,
   "metadata": {},
   "outputs": [
    {
     "data": {
      "text/html": [
       "<div>\n",
       "<style scoped>\n",
       "    .dataframe tbody tr th:only-of-type {\n",
       "        vertical-align: middle;\n",
       "    }\n",
       "\n",
       "    .dataframe tbody tr th {\n",
       "        vertical-align: top;\n",
       "    }\n",
       "\n",
       "    .dataframe thead th {\n",
       "        text-align: right;\n",
       "    }\n",
       "</style>\n",
       "<table border=\"1\" class=\"dataframe\">\n",
       "  <thead>\n",
       "    <tr style=\"text-align: right;\">\n",
       "      <th></th>\n",
       "      <th>일자</th>\n",
       "      <th>중식계</th>\n",
       "      <th>석식계</th>\n",
       "    </tr>\n",
       "  </thead>\n",
       "  <tbody>\n",
       "    <tr>\n",
       "      <th>0</th>\n",
       "      <td>2021-01-27</td>\n",
       "      <td>1006.208305</td>\n",
       "      <td>308.383648</td>\n",
       "    </tr>\n",
       "    <tr>\n",
       "      <th>1</th>\n",
       "      <td>2021-01-28</td>\n",
       "      <td>924.785410</td>\n",
       "      <td>416.512028</td>\n",
       "    </tr>\n",
       "    <tr>\n",
       "      <th>2</th>\n",
       "      <td>2021-01-29</td>\n",
       "      <td>634.318068</td>\n",
       "      <td>216.336773</td>\n",
       "    </tr>\n",
       "    <tr>\n",
       "      <th>3</th>\n",
       "      <td>2021-02-01</td>\n",
       "      <td>1293.689435</td>\n",
       "      <td>529.224504</td>\n",
       "    </tr>\n",
       "  </tbody>\n",
       "</table>\n",
       "</div>"
      ],
      "text/plain": [
       "           일자          중식계         석식계\n",
       "0  2021-01-27  1006.208305  308.383648\n",
       "1  2021-01-28   924.785410  416.512028\n",
       "2  2021-01-29   634.318068  216.336773\n",
       "3  2021-02-01  1293.689435  529.224504"
      ]
     },
     "execution_count": 160,
     "metadata": {},
     "output_type": "execute_result"
    }
   ],
   "source": [
    "submission_mix.head(4)"
   ]
  },
  {
   "cell_type": "code",
   "execution_count": 161,
   "metadata": {},
   "outputs": [],
   "source": [
    "submission_mix.to_csv(f'../submission/{today}_mix_lgbm.csv', index =False)"
   ]
  },
  {
   "cell_type": "code",
   "execution_count": null,
   "metadata": {},
   "outputs": [],
   "source": []
  }
 ],
 "metadata": {
  "kernelspec": {
   "display_name": "Python 3",
   "language": "python",
   "name": "python3"
  },
  "language_info": {
   "codemirror_mode": {
    "name": "ipython",
    "version": 3
   },
   "file_extension": ".py",
   "mimetype": "text/x-python",
   "name": "python",
   "nbconvert_exporter": "python",
   "pygments_lexer": "ipython3",
   "version": "3.8.10"
  }
 },
 "nbformat": 4,
 "nbformat_minor": 4
}

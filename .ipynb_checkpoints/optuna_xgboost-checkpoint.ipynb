{
 "cells": [
  {
   "cell_type": "code",
   "execution_count": 2,
   "metadata": {},
   "outputs": [],
   "source": [
    "import pandas as pd\n",
    "import numpy as np\n",
    "\n",
    "import matplotlib.pyplot as plt\n",
    "import seaborn as sns\n",
    "%matplotlib inline\n",
    "plt.rcParams['font.family'] = 'Gulim'"
   ]
  },
  {
   "cell_type": "code",
   "execution_count": 3,
   "metadata": {},
   "outputs": [],
   "source": [
    "from workalendar.asia import SouthKorea\n",
    "import pendulum"
   ]
  },
  {
   "cell_type": "code",
   "execution_count": 4,
   "metadata": {},
   "outputs": [],
   "source": [
    "train = pd.read_csv('../data/train.csv')\n",
    "test = pd.read_csv('../data/test.csv')"
   ]
  },
  {
   "cell_type": "markdown",
   "metadata": {},
   "source": [
    "## 전처리\n",
    "- 일자에서 월과 일을 분리\n",
    "- 요일을 레이블 인코딩화(EDA로 요일의 중요도 순 파악)\n",
    "- 월 별, 일 별 중식 석식 수요 차이 파악"
   ]
  },
  {
   "cell_type": "code",
   "execution_count": 5,
   "metadata": {},
   "outputs": [
    {
     "name": "stderr",
     "output_type": "stream",
     "text": [
      "<ipython-input-5-b11c832c5082>:3: FutureWarning: weekofyear and week have been deprecated, please use DatetimeIndex.isocalendar().week instead, which returns a Series.  To exactly reproduce the behavior of week and weekofyear and return an Index, you may call pd.Int64Index(idx.isocalendar().week)\n",
      "  train['주'] = pd.DatetimeIndex(train['일자']).week\n",
      "<ipython-input-5-b11c832c5082>:4: FutureWarning: weekofyear and week have been deprecated, please use DatetimeIndex.isocalendar().week instead, which returns a Series.  To exactly reproduce the behavior of week and weekofyear and return an Index, you may call pd.Int64Index(idx.isocalendar().week)\n",
      "  test['주'] = pd.DatetimeIndex(test['일자']).week\n"
     ]
    }
   ],
   "source": [
    "train['월'] = pd.DatetimeIndex(train['일자']).month\n",
    "test['월'] = pd.DatetimeIndex(test['일자']).month\n",
    "train['주'] = pd.DatetimeIndex(train['일자']).week\n",
    "test['주'] = pd.DatetimeIndex(test['일자']).week\n",
    "train['일'] = pd.DatetimeIndex(train['일자']).day\n",
    "test['일'] = pd.DatetimeIndex(test['일자']).day\n",
    "\n",
    "train['출근'] = train['본사정원수']-(train['본사휴가자수']+train['본사출장자수']+train['현본사소속재택근무자수'])\n",
    "train['휴가비율'] = train['본사휴가자수']/train['본사정원수']\n",
    "train['출장비율'] = train['본사출장자수']/train['본사정원수']\n",
    "train['야근비율'] = train['본사시간외근무명령서승인건수']/train['출근']\n",
    "train['재택비율'] = train['현본사소속재택근무자수']/train['본사정원수']\n",
    "\n",
    "test['출근'] = test['본사정원수']-(test['본사휴가자수']+test['본사출장자수']+test['현본사소속재택근무자수'])\n",
    "test['휴가비율'] = test['본사휴가자수']/test['본사정원수']\n",
    "test['출장비율'] = test['본사출장자수']/test['본사정원수']\n",
    "test['야근비율'] = test['본사시간외근무명령서승인건수']/test['출근']\n",
    "test['재택비율'] = test['현본사소속재택근무자수']/test['본사정원수']\n",
    "\n",
    "train['식사가능자수'] = train['본사정원수'] - train['본사휴가자수'] - train['현본사소속재택근무자수']\n",
    "test['식사가능자수'] = test['본사정원수'] - test['본사휴가자수'] - test['현본사소속재택근무자수']\n",
    "\n",
    "# train['중식참여율'] = train['중식계'] / train['식사가능자수']"
   ]
  },
  {
   "cell_type": "code",
   "execution_count": 6,
   "metadata": {},
   "outputs": [],
   "source": [
    "month_rank4dinner = {\n",
    "    1: 11,\n",
    "    2: 2,\n",
    "    3: 1,\n",
    "    4: 4,\n",
    "    5: 7,\n",
    "    6: 6,\n",
    "    7: 10,\n",
    "    8: 8,\n",
    "    9: 5,\n",
    "    10: 3,\n",
    "    11: 9,\n",
    "    12: 12\n",
    "}\n",
    "train['월(석식)'] = train['월'].map(month_rank4dinner)\n",
    "test['월(석식)'] = test['월'].map(month_rank4dinner)\n",
    "\n",
    "month_rank4lunch = {\n",
    "    1: 3,\n",
    "    2: 1,\n",
    "    3: 2,\n",
    "    4: 6,\n",
    "    5: 7,\n",
    "    6: 8,\n",
    "    7: 10,\n",
    "    8: 9,\n",
    "    9: 5,\n",
    "    10: 4,\n",
    "    11: 11,\n",
    "    12: 12\n",
    "}\n",
    "train['월(중식)'] = train['월'].map(month_rank4lunch)\n",
    "test['월(중식)'] = test['월'].map(month_rank4lunch)\n",
    "\n",
    "weekday_rank4dinner = {\n",
    "    '월': 1,\n",
    "    '화': 2,\n",
    "    '수': 4,\n",
    "    '목': 3,\n",
    "    '금': 5,\n",
    "}\n",
    "\n",
    "weekday_rank4lunch = {\n",
    "    '월': 1,\n",
    "    '화': 2,\n",
    "    '수': 3,\n",
    "    '목': 4,\n",
    "    '금': 5,\n",
    "}\n",
    "\n",
    "train['요일(석식)'] = train['요일'].map(weekday_rank4dinner)\n",
    "test['요일(석식)'] = test['요일'].map(weekday_rank4dinner)\n",
    "\n",
    "train['요일(중식)'] = train['요일'].map(weekday_rank4lunch)\n",
    "test['요일(중식)'] = test['요일'].map(weekday_rank4lunch)"
   ]
  },
  {
   "cell_type": "code",
   "execution_count": 7,
   "metadata": {
    "scrolled": true
   },
   "outputs": [],
   "source": [
    "rank = pd.DataFrame(range(1,53))\n",
    "week_rank_lunch = pd.pivot_table(train,values='중식계',index='주').sort_values(by='중식계').reset_index().drop('중식계',axis=1)\n",
    "week_rank_dinner = pd.pivot_table(train,values='석식계',index='주').sort_values(by='석식계').reset_index().drop('석식계',axis=1)\n",
    "\n",
    "\n",
    "week_rank4lunch = {}\n",
    "for i in range(len(rank)):\n",
    "    week_rank4lunch[week_rank_lunch['주'][i]] = rank[0][i]\n",
    "\n",
    "\n",
    "week_rank4dinner = {}\n",
    "for i in range(len(rank)):\n",
    "    week_rank4dinner[week_rank_dinner['주'][i]] = rank[0][i]\n",
    "    \n",
    "    \n",
    "train['주(중식)'] = train['주'].map(week_rank4lunch)\n",
    "test['주(중식)'] = test['주'].map(week_rank4lunch)\n",
    "\n",
    "train['주(석식)'] = train['주'].map(week_rank4dinner)\n",
    "test['주(석식)'] = test['주'].map(week_rank4dinner)"
   ]
  },
  {
   "cell_type": "code",
   "execution_count": 8,
   "metadata": {},
   "outputs": [],
   "source": [
    "def is_holiday(date):\n",
    "    holidays = list(map(str, pd.Series(np.array(SouthKorea().holidays(int(date[:4])))[:, 0])))\n",
    "    \n",
    "    yesterday = str(np.datetime64(date) - 1)\n",
    "    tomorrow = str(np.datetime64(date) + 1)\n",
    "\n",
    "    if tomorrow in holidays and yesterday in holidays:\n",
    "        return 3\n",
    "    if tomorrow in holidays:\n",
    "        return 2\n",
    "    elif yesterday in holidays:\n",
    "        return 1\n",
    "    else : \n",
    "        return 0\n",
    "\n",
    "def week_of_month(x):\n",
    "    dt = pendulum.parse(x)\n",
    "    \n",
    "    wom = dt.week_of_month\n",
    "    if wom < 0:\n",
    "        wom += 52\n",
    "    return wom\n",
    "    \n",
    "\n",
    "df = pd.concat([train[['본사정원수', '일자']], test[['본사정원수', '일자']]])\n",
    "df['년월'] = df['일자'].apply(lambda x : x[:7])\n",
    "df = df[['년월', '본사정원수']].groupby(by=['년월'], as_index=False).mean()\n",
    "\n",
    "def member_change(date):\n",
    "    this_month = date[:7]\n",
    "    last_month = str(np.datetime64(this_month) - 1)\n",
    "    \n",
    "    this_month_member = int(df[df['년월'] == this_month]['본사정원수'])\n",
    "    last_month_member = int(df[df['년월'] == last_month]['본사정원수'])\n",
    "    \n",
    "    \n",
    "    return  this_month_member - last_month_member\n",
    "\n",
    "train['공휴일전후'] = train['일자'].apply(is_holiday)\n",
    "test['공휴일전후'] = test['일자'].apply(is_holiday)\n",
    "\n",
    "train['몇주차'] = train['일자'].apply(week_of_month)\n",
    "test['몇주차'] = test['일자'].apply(week_of_month)\n",
    "\n",
    "train = train[train['일자'] > '2016-03']\n",
    "train['인원변화'] = train['일자'].apply(member_change)\n",
    "test['인원변화'] = test['일자'].apply(member_change)"
   ]
  },
  {
   "cell_type": "markdown",
   "metadata": {},
   "source": [
    "## 공휴일 변수 생성"
   ]
  },
  {
   "cell_type": "code",
   "execution_count": 9,
   "metadata": {},
   "outputs": [
    {
     "data": {
      "text/plain": [
       "Index(['일자', '요일', '본사정원수', '본사휴가자수', '본사출장자수', '본사시간외근무명령서승인건수',\n",
       "       '현본사소속재택근무자수', '조식메뉴', '중식메뉴', '석식메뉴', '중식계', '석식계', '월', '주', '일',\n",
       "       '출근', '휴가비율', '출장비율', '야근비율', '재택비율', '식사가능자수', '월(석식)', '월(중식)',\n",
       "       '요일(석식)', '요일(중식)', '주(중식)', '주(석식)', '공휴일전후', '몇주차', '인원변화'],\n",
       "      dtype='object')"
      ]
     },
     "execution_count": 9,
     "metadata": {},
     "output_type": "execute_result"
    }
   ],
   "source": [
    "train.columns"
   ]
  },
  {
   "cell_type": "code",
   "execution_count": 10,
   "metadata": {},
   "outputs": [],
   "source": [
    "# 메뉴 변수 없이 사용할떄 해당 코드 사용['공휴일전후', '몇주차', '인원변화']\n",
    "\n",
    "lunch_train = train[['공휴일전후', '몇주차', '인원변화', '요일(중식)','월(중식)','일','주(중식)','출근', '휴가비율', '출장비율', '야근비율', '재택비율','본사출장자수','본사휴가자수','식사가능자수','본사시간외근무명령서승인건수']]\n",
    "lunch_test = test[['공휴일전후', '몇주차', '인원변화', '요일(중식)','월(중식)','일','주(중식)','출근', '휴가비율', '출장비율', '야근비율', '재택비율','본사출장자수','본사휴가자수','식사가능자수','본사시간외근무명령서승인건수']]\n",
    "\n",
    "dinner_train= train[['공휴일전후', '몇주차', '인원변화', '요일(석식)','월(석식)','일','주(석식)','출근', '휴가비율', '출장비율', '야근비율', '재택비율','본사출장자수','본사휴가자수','식사가능자수','본사시간외근무명령서승인건수']]\n",
    "dinner_test = test[['공휴일전후', '몇주차', '인원변화', '요일(석식)','월(석식)','일','주(석식)','출근', '휴가비율', '출장비율', '야근비율', '재택비율','본사출장자수','본사휴가자수','식사가능자수','본사시간외근무명령서승인건수']]"
   ]
  },
  {
   "cell_type": "code",
   "execution_count": 11,
   "metadata": {},
   "outputs": [
    {
     "data": {
      "text/plain": [
       "Index(['공휴일전후', '몇주차', '인원변화', '요일(중식)', '월(중식)', '일', '주(중식)', '출근', '휴가비율',\n",
       "       '출장비율', '야근비율', '재택비율', '본사출장자수', '본사휴가자수', '식사가능자수', '본사시간외근무명령서승인건수'],\n",
       "      dtype='object')"
      ]
     },
     "execution_count": 11,
     "metadata": {},
     "output_type": "execute_result"
    }
   ],
   "source": [
    "lunch_train.columns"
   ]
  },
  {
   "cell_type": "code",
   "execution_count": 12,
   "metadata": {
    "scrolled": true
   },
   "outputs": [
    {
     "name": "stdout",
     "output_type": "stream",
     "text": [
      "(1187, 16)\n",
      "(50, 16)\n"
     ]
    }
   ],
   "source": [
    "print(lunch_train.shape)\n",
    "print(lunch_test.shape)"
   ]
  },
  {
   "cell_type": "code",
   "execution_count": 13,
   "metadata": {},
   "outputs": [
    {
     "name": "stdout",
     "output_type": "stream",
     "text": [
      "(1187, 16)\n",
      "(50, 16)\n"
     ]
    }
   ],
   "source": [
    "print(dinner_train.shape)\n",
    "print(dinner_test.shape)"
   ]
  },
  {
   "cell_type": "code",
   "execution_count": 14,
   "metadata": {},
   "outputs": [
    {
     "name": "stdout",
     "output_type": "stream",
     "text": [
      "Cat features are: []\n",
      "[]\n"
     ]
    }
   ],
   "source": [
    "cat_features = [f for f in lunch_train.columns if lunch_train[f].dtype == 'object']\n",
    "\n",
    "def column_index(df, cat_features):\n",
    "    cols = df.columns.values\n",
    "    sidx = np.argsort(cols)\n",
    "    return sidx[np.searchsorted(cols, cat_features, sorter=sidx)]\n",
    "\n",
    "cat_features_idx = column_index(lunch_train, cat_features)    \n",
    "print(\"Cat features are: %s\" % [f for f in cat_features])\n",
    "print(cat_features_idx)"
   ]
  },
  {
   "cell_type": "code",
   "execution_count": 15,
   "metadata": {},
   "outputs": [],
   "source": [
    "y_lunch = train[['중식계']]\n",
    "y_dinner = train[['석식계']]"
   ]
  },
  {
   "cell_type": "markdown",
   "metadata": {},
   "source": [
    "#### 분포 확인 및 분포 조정"
   ]
  },
  {
   "cell_type": "markdown",
   "metadata": {},
   "source": [
    "# 중식 예측모델"
   ]
  },
  {
   "cell_type": "code",
   "execution_count": 19,
   "metadata": {},
   "outputs": [],
   "source": [
    "import optuna\n",
    "from lightgbm import LGBMRegressor\n",
    "from optuna import Trial\n",
    "from optuna.samplers import TPESampler\n",
    "from sklearn.metrics import log_loss\n",
    "from sklearn.model_selection import train_test_split"
   ]
  },
  {
   "cell_type": "code",
   "execution_count": 20,
   "metadata": {},
   "outputs": [],
   "source": [
    "# from automl_alex import LightGBMRegressor, CatBoostRegressor, AutoMLRegressor\n",
    "from sklearn.metrics import mean_absolute_error as MAE\n",
    "import sklearn"
   ]
  },
  {
   "cell_type": "code",
   "execution_count": 30,
   "metadata": {},
   "outputs": [],
   "source": [
    "def objective_lunch(trial: Trial) -> float:\n",
    "    params_lgb = {\n",
    "        \"random_state\": 42,\n",
    "        \"verbosity\": -1,\n",
    "        \"learning_rate\": 0.05,\n",
    "        \"n_estimators\": 10000,\n",
    "        \"metric\": \"mae\",\n",
    "        \"reg_alpha\": trial.suggest_float(\"reg_alpha\", 1e-8, 3e-5),\n",
    "        \"reg_lambda\": trial.suggest_float(\"reg_lambda\", 1e-8, 9e-2),\n",
    "        \"max_depth\": trial.suggest_int(\"max_depth\", 1, 20),\n",
    "        \"num_leaves\": trial.suggest_int(\"num_leaves\", 2, 256),\n",
    "        \"colsample_bytree\": trial.suggest_float(\"colsample_bytree\", 0.4, 1.0),\n",
    "        \"subsample\": trial.suggest_float(\"subsample\", 0.3, 1.0),\n",
    "        \"subsample_freq\": trial.suggest_int(\"subsample_freq\", 1, 10),\n",
    "        \"min_child_samples\": trial.suggest_int(\"min_child_samples\", 5, 100),\n",
    "        \"max_bin\": trial.suggest_int(\"max_bin\", 200, 500),\n",
    "    }\n",
    "    \n",
    "    X_train, X_valid, y_train, y_valid = train_test_split(lunch_train, y_lunch, test_size=0.2)\n",
    "\n",
    "    model = LGBMRegressor(**params_lgb)\n",
    "    model.fit(\n",
    "        X_train,\n",
    "        y_train,\n",
    "        eval_set=[(X_train, y_train), (X_valid, y_valid)],\n",
    "        early_stopping_rounds=100,\n",
    "        verbose=False,\n",
    "    \n",
    "    )\n",
    "\n",
    "    lgb_pred = model.predict(X_valid)\n",
    "    log_score = MAE(y_valid, lgb_pred)\n",
    "    \n",
    "    return log_score"
   ]
  },
  {
   "cell_type": "code",
   "execution_count": 39,
   "metadata": {},
   "outputs": [
    {
     "name": "stdout",
     "output_type": "stream",
     "text": [
      "Best Score: 56.90992958536936\n",
      "Best trial: {'reg_alpha': 1.622564509910422e-05, 'reg_lambda': 0.0727906280606794, 'max_depth': 12, 'num_leaves': 7, 'colsample_bytree': 0.7041252632987905, 'subsample': 0.9930902085857553, 'subsample_freq': 5, 'min_child_samples': 24, 'max_bin': 437}\n"
     ]
    }
   ],
   "source": [
    "sampler = TPESampler(seed=42)\n",
    "study = optuna.create_study(\n",
    "    study_name=\"lgbm_parameter_opt\",\n",
    "    direction=\"minimize\",\n",
    "    sampler=sampler,\n",
    ")\n",
    "study.optimize(objective_lunch, n_trials=1000)\n",
    "lunch_param = study.best_trial.params\n",
    "\n",
    "print(\"Best Score:\", study.best_value)\n",
    "print(\"Best trial:\", study.best_trial.params)"
   ]
  },
  {
   "cell_type": "code",
   "execution_count": 41,
   "metadata": {},
   "outputs": [
    {
     "data": {
      "text/plain": [
       "LGBMRegressor(boosting_type='gbdt', class_weight=None,\n",
       "       colsample_bytree=0.7041252632987905, importance_type='split',\n",
       "       learning_rate=0.1, max_bin=437, max_depth=12, min_child_samples=24,\n",
       "       min_child_weight=0.001, min_split_gain=0.0, n_estimators=100,\n",
       "       n_jobs=-1, num_leaves=7, objective=None, random_state=None,\n",
       "       reg_alpha=1.622564509910422e-05, reg_lambda=0.0727906280606794,\n",
       "       silent=True, subsample=0.9930902085857553, subsample_for_bin=200000,\n",
       "       subsample_freq=5)"
      ]
     },
     "execution_count": 41,
     "metadata": {},
     "output_type": "execute_result"
    }
   ],
   "source": [
    "X_train, X_valid, y_train, y_valid = train_test_split(lunch_train, y_lunch, test_size=0.2)\n",
    "\n",
    "lunch_model = LGBMRegressor(**lunch_param)\n",
    "lunch_model.fit(\n",
    "            X_train,\n",
    "            y_train,\n",
    "            eval_set=[(X_train, y_train), (X_valid, y_valid)],\n",
    "            early_stopping_rounds=100,\n",
    "            verbose=False,\n",
    "        )"
   ]
  },
  {
   "cell_type": "code",
   "execution_count": 45,
   "metadata": {},
   "outputs": [
    {
     "data": {
      "text/plain": [
       "array([1014.9777623 ,  909.47280049,  620.73854459, 1275.52885314,\n",
       "       1120.1193701 , 1127.0910706 ,  986.24555525,  708.89722304,\n",
       "       1283.51582216, 1122.94235589,  796.14195167, 1245.84667052,\n",
       "       1162.00161252, 1141.89353195,  993.62469507,  752.00117324,\n",
       "       1275.99392291, 1094.0339315 ,  927.92435468,  868.64589183,\n",
       "        586.10241297, 1189.69317269, 1063.32115747,  961.21331004,\n",
       "        642.78917573, 1277.47589973, 1129.91660887, 1066.60266004,\n",
       "        965.59432887,  717.72467543, 1272.38249029, 1040.64620536,\n",
       "       1042.94201421,  940.76896329,  685.8227375 , 1234.42374383,\n",
       "       1020.99966125,  906.05714052,  852.16730766,  596.73486267,\n",
       "       1213.45282297, 1059.7517666 ,  952.15550966,  839.7069533 ,\n",
       "        606.02660743, 1229.69615668, 1032.93963096,  955.71522891,\n",
       "        867.748619  ,  595.39489614])"
      ]
     },
     "execution_count": 45,
     "metadata": {},
     "output_type": "execute_result"
    }
   ],
   "source": [
    "lunch_predict = lunch_model.predict(lunch_test)\n",
    "lunch_predict"
   ]
  },
  {
   "cell_type": "code",
   "execution_count": 51,
   "metadata": {},
   "outputs": [],
   "source": [
    "def objective_dinner(trial: Trial) -> float:\n",
    "    params_lgb = {\n",
    "        \"random_state\": 42,\n",
    "        \"verbosity\": -1,\n",
    "        \"learning_rate\": 0.05,\n",
    "        \"n_estimators\": 10000,\n",
    "        \"metric\": \"mae\",\n",
    "        \"reg_alpha\": trial.suggest_float(\"reg_alpha\", 1e-8, 3e-5),\n",
    "        \"reg_lambda\": trial.suggest_float(\"reg_lambda\", 1e-8, 9e-2),\n",
    "        \"max_depth\": trial.suggest_int(\"max_depth\", 1, 20),\n",
    "        \"num_leaves\": trial.suggest_int(\"num_leaves\", 2, 256),\n",
    "        \"colsample_bytree\": trial.suggest_float(\"colsample_bytree\", 0.4, 1.0),\n",
    "        \"subsample\": trial.suggest_float(\"subsample\", 0.3, 1.0),\n",
    "        \"subsample_freq\": trial.suggest_int(\"subsample_freq\", 1, 10),\n",
    "        \"min_child_samples\": trial.suggest_int(\"min_child_samples\", 5, 100),\n",
    "        \"max_bin\": trial.suggest_int(\"max_bin\", 200, 500),\n",
    "    }\n",
    "    \n",
    "    X_train, X_valid, y_train, y_valid = train_test_split(dinner_train, y_dinner, test_size=0.2)\n",
    "\n",
    "    model = LGBMRegressor(**params_lgb)\n",
    "    model.fit(\n",
    "        X_train,\n",
    "        y_train,\n",
    "        eval_set=[(X_train, y_train), (X_valid, y_valid)],\n",
    "        early_stopping_rounds=100,\n",
    "        verbose=False,\n",
    "    \n",
    "    )\n",
    "\n",
    "    lgb_pred = model.predict(X_valid)\n",
    "    log_score = MAE(y_valid, lgb_pred)\n",
    "    \n",
    "    return log_score"
   ]
  },
  {
   "cell_type": "code",
   "execution_count": 52,
   "metadata": {},
   "outputs": [
    {
     "name": "stdout",
     "output_type": "stream",
     "text": [
      "Best Score: 45.37486993081729\n",
      "Best trial: {'reg_alpha': 1.718625207505066e-06, 'reg_lambda': 0.03536226882919215, 'max_depth': 13, 'num_leaves': 149, 'colsample_bytree': 0.7238257801656021, 'subsample': 0.9792806922458114, 'subsample_freq': 3, 'min_child_samples': 26, 'max_bin': 423}\n"
     ]
    }
   ],
   "source": [
    "sampler = TPESampler(seed=42)\n",
    "study = optuna.create_study(\n",
    "    study_name=\"lgbm_parameter_opt\",\n",
    "    direction=\"minimize\",\n",
    "    sampler=sampler,\n",
    ")\n",
    "study.optimize(objective_dinner, n_trials=1000)\n",
    "dinner_param = study.best_trial.params\n",
    "\n",
    "print(\"Best Score:\", study.best_value)\n",
    "print(\"Best trial:\", study.best_trial.params)"
   ]
  },
  {
   "cell_type": "code",
   "execution_count": 53,
   "metadata": {},
   "outputs": [
    {
     "data": {
      "text/plain": [
       "LGBMRegressor(boosting_type='gbdt', class_weight=None,\n",
       "       colsample_bytree=0.7238257801656021, importance_type='split',\n",
       "       learning_rate=0.1, max_bin=423, max_depth=13, min_child_samples=26,\n",
       "       min_child_weight=0.001, min_split_gain=0.0, n_estimators=100,\n",
       "       n_jobs=-1, num_leaves=149, objective=None, random_state=None,\n",
       "       reg_alpha=1.718625207505066e-06, reg_lambda=0.03536226882919215,\n",
       "       silent=True, subsample=0.9792806922458114, subsample_for_bin=200000,\n",
       "       subsample_freq=3)"
      ]
     },
     "execution_count": 53,
     "metadata": {},
     "output_type": "execute_result"
    }
   ],
   "source": [
    "X_train, X_valid, y_train, y_valid = train_test_split(dinner_train, y_dinner, test_size=0.2)\n",
    "\n",
    "dinner_model = LGBMRegressor(**dinner_param)\n",
    "dinner_model.fit(\n",
    "            X_train,\n",
    "            y_train,\n",
    "            eval_set=[(X_train, y_train), (X_valid, y_valid)],\n",
    "            early_stopping_rounds=100,\n",
    "            verbose=False,\n",
    "        )"
   ]
  },
  {
   "cell_type": "code",
   "execution_count": 54,
   "metadata": {},
   "outputs": [],
   "source": [
    "dinner_predict = dinner_model.predict(dinner_test)"
   ]
  },
  {
   "cell_type": "code",
   "execution_count": 58,
   "metadata": {},
   "outputs": [
    {
     "data": {
      "text/html": [
       "<div>\n",
       "<style scoped>\n",
       "    .dataframe tbody tr th:only-of-type {\n",
       "        vertical-align: middle;\n",
       "    }\n",
       "\n",
       "    .dataframe tbody tr th {\n",
       "        vertical-align: top;\n",
       "    }\n",
       "\n",
       "    .dataframe thead th {\n",
       "        text-align: right;\n",
       "    }\n",
       "</style>\n",
       "<table border=\"1\" class=\"dataframe\">\n",
       "  <thead>\n",
       "    <tr style=\"text-align: right;\">\n",
       "      <th></th>\n",
       "      <th>일자</th>\n",
       "      <th>중식계</th>\n",
       "      <th>석식계</th>\n",
       "    </tr>\n",
       "  </thead>\n",
       "  <tbody>\n",
       "    <tr>\n",
       "      <th>0</th>\n",
       "      <td>2021-01-27</td>\n",
       "      <td>1014.977762</td>\n",
       "      <td>296.478621</td>\n",
       "    </tr>\n",
       "    <tr>\n",
       "      <th>1</th>\n",
       "      <td>2021-01-28</td>\n",
       "      <td>909.472800</td>\n",
       "      <td>416.123827</td>\n",
       "    </tr>\n",
       "    <tr>\n",
       "      <th>2</th>\n",
       "      <td>2021-01-29</td>\n",
       "      <td>620.738545</td>\n",
       "      <td>201.016733</td>\n",
       "    </tr>\n",
       "    <tr>\n",
       "      <th>3</th>\n",
       "      <td>2021-02-01</td>\n",
       "      <td>1275.528853</td>\n",
       "      <td>525.256840</td>\n",
       "    </tr>\n",
       "    <tr>\n",
       "      <th>4</th>\n",
       "      <td>2021-02-02</td>\n",
       "      <td>1120.119370</td>\n",
       "      <td>445.076138</td>\n",
       "    </tr>\n",
       "  </tbody>\n",
       "</table>\n",
       "</div>"
      ],
      "text/plain": [
       "           일자          중식계         석식계\n",
       "0  2021-01-27  1014.977762  296.478621\n",
       "1  2021-01-28   909.472800  416.123827\n",
       "2  2021-01-29   620.738545  201.016733\n",
       "3  2021-02-01  1275.528853  525.256840\n",
       "4  2021-02-02  1120.119370  445.076138"
      ]
     },
     "execution_count": 58,
     "metadata": {},
     "output_type": "execute_result"
    }
   ],
   "source": [
    "submission = pd.read_csv('../data/sample_submission.csv')\n",
    "\n",
    "submission.iloc[:,1] = lunch_predict\n",
    "submission.iloc[:,2] = dinner_predict\n",
    "submission.head()"
   ]
  },
  {
   "cell_type": "code",
   "execution_count": 62,
   "metadata": {},
   "outputs": [
    {
     "name": "stdout",
     "output_type": "stream",
     "text": [
      "lunch_MAE :  27.932682612863115\n",
      "dinner_MAE :  25.158157576966723\n",
      "total_MAE :  26.545420094914917\n",
      "lunch_MAE :  57.73127840756888\n",
      "dinner_MAE :  41.33405452565974\n",
      "total_MAE :  49.53266646661431\n",
      "lunch_MAE :  52.07852964790631\n",
      "dinner_MAE :  29.854066446514597\n",
      "total_MAE :  40.96629804721045\n"
     ]
    }
   ],
   "source": [
    "def compare_ans(DIR):\n",
    "    answer = pd.read_csv(DIR)\n",
    "\n",
    "    lunch_answer = np.array(answer.iloc[:,1])\n",
    "    dinner_answer = np.array(answer.iloc[:,2])\n",
    "    \n",
    "    lunch_MAE = abs(submission.iloc[:,1] - lunch_answer).mean()\n",
    "    dinner_MAE = abs(submission.iloc[:,2] - dinner_answer).mean()\n",
    "    \n",
    "    print(\"lunch_MAE : \", lunch_MAE)\n",
    "    print(\"dinner_MAE : \", dinner_MAE)\n",
    "    print(\"total_MAE : \", (lunch_MAE+dinner_MAE)/2)\n",
    "    \n",
    "    \n",
    "compare_ans('../submission/20210701_lgbm_knfold_drop.csv')\n",
    "compare_ans('../submission/20210715_pycaret_(2).csv')\n",
    "compare_ans('../submission/20210719_best_data_ensemble.csv')\n",
    "compare_ans('../submission/20210719_best_data_ensemble.csv')\n",
    "compare_ans('../submission/2021071')"
   ]
  },
  {
   "cell_type": "code",
   "execution_count": 70,
   "metadata": {},
   "outputs": [
    {
     "name": "stdout",
     "output_type": "stream",
     "text": [
      "lunch_MAE :  28.054411287262766\n",
      "dinner_MAE :  33.613523594133746\n",
      "total_MAE :  30.833967440698256\n",
      "../submission\\20210624_pycaret_(4-2)_제출해봐야할거.csv None\n",
      "\n",
      "lunch_MAE :  55.113359637347266\n",
      "dinner_MAE :  37.351950671878306\n",
      "total_MAE :  46.232655154612786\n",
      "../submission\\20210625_cat.csv None\n",
      "\n",
      "lunch_MAE :  50.24057511286847\n",
      "dinner_MAE :  39.66195212739441\n",
      "total_MAE :  44.95126362013144\n",
      "../submission\\20210625_cat_10fold.csv None\n",
      "\n",
      "lunch_MAE :  51.229281587926096\n",
      "dinner_MAE :  38.820982925102236\n",
      "total_MAE :  45.02513225651417\n",
      "../submission\\20210627_cat_15_KJH.csv None\n",
      "\n",
      "lunch_MAE :  67.26376485036631\n",
      "dinner_MAE :  59.41562966586005\n",
      "total_MAE :  63.33969725811318\n",
      "../submission\\20210627_cat_after_2020.csv None\n",
      "\n",
      "lunch_MAE :  51.229281587926096\n",
      "dinner_MAE :  38.820982925102236\n",
      "total_MAE :  45.02513225651417\n",
      "../submission\\20210627_cat_KJH.csv None\n",
      "\n",
      "lunch_MAE :  51.229281587926096\n",
      "dinner_MAE :  38.820982925102236\n",
      "total_MAE :  45.02513225651417\n",
      "../submission\\20210627_pycaret_KJH.csv None\n",
      "\n",
      "lunch_MAE :  42.26215344850581\n",
      "dinner_MAE :  28.462419030081946\n",
      "total_MAE :  35.36228623929388\n",
      "../submission\\20210627_pycaret_menu.csv None\n",
      "\n",
      "lunch_MAE :  65.72661755947644\n",
      "dinner_MAE :  35.56453353302583\n",
      "total_MAE :  50.64557554625114\n",
      "../submission\\20210628_cat_15_.csv None\n",
      "\n",
      "lunch_MAE :  51.54301851140256\n",
      "dinner_MAE :  35.12857538900899\n",
      "total_MAE :  43.335796950205776\n",
      "../submission\\20210628_cat_15_KJH.csv None\n",
      "\n",
      "lunch_MAE :  36.2193588765493\n",
      "dinner_MAE :  35.98869837623468\n",
      "total_MAE :  36.104028626391994\n",
      "../submission\\20210628_cat_8_.csv None\n",
      "\n",
      "lunch_MAE :  34.52951575086949\n",
      "dinner_MAE :  30.063604194427253\n",
      "total_MAE :  32.296559972648375\n",
      "../submission\\20210628_cat_xgb_8.csv None\n",
      "\n",
      "lunch_MAE :  35.84310399186228\n",
      "dinner_MAE :  22.515448797247064\n",
      "total_MAE :  29.17927639455467\n",
      "../submission\\20210628_pycaret_ADD_FEATURE.csv None\n",
      "\n",
      "lunch_MAE :  32.63425205426974\n",
      "dinner_MAE :  26.5509410564256\n",
      "total_MAE :  29.59259655534767\n",
      "../submission\\20210629_best_data_ensemble.csv None\n",
      "\n",
      "lunch_MAE :  32.108038917752836\n",
      "dinner_MAE :  34.84587481961193\n",
      "total_MAE :  33.47695686868238\n",
      "../submission\\20210629_lgbm_autoML.csv None\n",
      "\n",
      "lunch_MAE :  32.63425205426974\n",
      "dinner_MAE :  21.3356160666154\n",
      "total_MAE :  26.98493406044257\n",
      "../submission\\20210630_best_data_ensemble.csv None\n",
      "\n",
      "lunch_MAE :  36.2193588765493\n",
      "dinner_MAE :  33.85586797048613\n",
      "total_MAE :  35.03761342351771\n",
      "../submission\\20210630_cat_8_.csv None\n",
      "\n",
      "lunch_MAE :  32.108038917752836\n",
      "dinner_MAE :  24.926913384240805\n",
      "total_MAE :  28.51747615099682\n",
      "../submission\\20210630_lgbm_autoML.csv None\n",
      "\n",
      "lunch_MAE :  44.14658699373113\n",
      "dinner_MAE :  27.428702149026375\n",
      "total_MAE :  35.78764457137875\n",
      "../submission\\20210701_lgbm_autoML.csv None\n",
      "\n",
      "lunch_MAE :  27.932682612863115\n",
      "dinner_MAE :  25.158157576966723\n",
      "total_MAE :  26.545420094914917\n",
      "../submission\\20210701_lgbm_knfold_drop.csv None\n",
      "\n",
      "lunch_MAE :  92.34115434333576\n",
      "dinner_MAE :  34.09942068025651\n",
      "total_MAE :  63.22028751179613\n",
      "../submission\\20210701_pycaret_(2)-69.8998.csv None\n",
      "\n",
      "lunch_MAE :  31.80174016308675\n",
      "dinner_MAE :  35.68321650096112\n",
      "total_MAE :  33.742478332023936\n",
      "../submission\\20210714_lgbm_autoML_20.csv None\n",
      "\n",
      "lunch_MAE :  29.628643658214415\n",
      "dinner_MAE :  31.173025822635992\n",
      "total_MAE :  30.400834740425204\n",
      "../submission\\20210714_lgbm_autoML_8.csv None\n",
      "\n",
      "lunch_MAE :  31.08485488696722\n",
      "dinner_MAE :  47.54730081137398\n",
      "total_MAE :  39.3160778491706\n",
      "../submission\\20210715_cat_autoML.csv None\n",
      "\n",
      "lunch_MAE :  30.54761503569336\n",
      "dinner_MAE :  22.604969609260465\n",
      "total_MAE :  26.576292322476913\n",
      "../submission\\20210715_lgbm_autoML.csv None\n",
      "\n",
      "lunch_MAE :  33.48397372040033\n",
      "dinner_MAE :  28.15561158239771\n",
      "total_MAE :  30.81979265139902\n",
      "../submission\\20210715_lgbm_autoML_ensenble.csv None\n",
      "\n",
      "lunch_MAE :  38.23353084321852\n",
      "dinner_MAE :  32.2415065606858\n",
      "total_MAE :  35.237518701952155\n",
      "../submission\\20210715_lgbm_sort_autoML.csv None\n",
      "\n",
      "lunch_MAE :  57.73127840756888\n",
      "dinner_MAE :  41.33405452565974\n",
      "total_MAE :  49.53266646661431\n",
      "../submission\\20210715_pycaret_(2).csv None\n",
      "\n",
      "lunch_MAE :  24.2924778017053\n",
      "dinner_MAE :  25.651475599714487\n",
      "total_MAE :  24.971976700709895\n",
      "../submission\\20210715_xgb_autoML.csv None\n",
      "\n",
      "lunch_MAE :  33.10038693343153\n",
      "dinner_MAE :  42.02098541168337\n",
      "total_MAE :  37.56068617255745\n",
      "../submission\\20210716_autoML.csv None\n",
      "\n",
      "lunch_MAE :  39.125385311838784\n",
      "dinner_MAE :  31.7656277360958\n",
      "total_MAE :  35.445506523967296\n",
      "../submission\\20210716_cat_autoML.csv None\n",
      "\n",
      "lunch_MAE :  29.88321313632449\n",
      "dinner_MAE :  23.93304563140855\n",
      "total_MAE :  26.90812938386652\n",
      "../submission\\20210716_lgbm_autoML.csv None\n",
      "\n",
      "lunch_MAE :  33.4779404892969\n",
      "dinner_MAE :  26.68773709151658\n",
      "total_MAE :  30.08283879040674\n",
      "../submission\\20210716_lgbm_autoML_ensenble.csv None\n",
      "\n",
      "lunch_MAE :  28.223977635350803\n",
      "dinner_MAE :  26.347785082061716\n",
      "total_MAE :  27.28588135870626\n",
      "../submission\\20210716_lgbm_autoML_in.csv None\n",
      "\n",
      "lunch_MAE :  26.5055936123783\n",
      "dinner_MAE :  32.95406835152653\n",
      "total_MAE :  29.729830981952414\n",
      "../submission\\20210716_lgbm_sort_autoML.csv None\n",
      "\n",
      "lunch_MAE :  48.116589426640914\n",
      "dinner_MAE :  29.86455092818277\n",
      "total_MAE :  38.99057017741184\n",
      "../submission\\20210717_best_data_ensemble.csv None\n",
      "\n",
      "lunch_MAE :  50.71758457059139\n",
      "dinner_MAE :  27.78195164187129\n",
      "total_MAE :  39.24976810623134\n",
      "../submission\\20210717_best_data_ensemble2.csv None\n",
      "\n",
      "lunch_MAE :  50.71758457059139\n",
      "dinner_MAE :  25.634556030662225\n",
      "total_MAE :  38.176070300626805\n",
      "../submission\\20210717_best_data_ensemble3.csv None\n",
      "\n",
      "lunch_MAE :  62.188537303983225\n",
      "dinner_MAE :  35.369611091812814\n",
      "total_MAE :  48.77907419789802\n",
      "../submission\\20210717_pycaret_(2).csv None\n",
      "\n",
      "lunch_MAE :  32.098294225256026\n",
      "dinner_MAE :  41.70267069058711\n",
      "total_MAE :  36.90048245792157\n",
      "../submission\\20210718_autoML_5.csv None\n",
      "\n",
      "lunch_MAE :  33.99998125819086\n",
      "dinner_MAE :  29.127422204665642\n",
      "total_MAE :  31.56370173142825\n",
      "../submission\\20210718_pycaret.csv None\n",
      "\n",
      "lunch_MAE :  63.644629122856514\n",
      "dinner_MAE :  41.52090891836312\n",
      "total_MAE :  52.58276902060982\n",
      "../submission\\20210718_pycaret_(2).csv None\n",
      "\n",
      "lunch_MAE :  52.07852964790631\n",
      "dinner_MAE :  29.854066446514597\n",
      "total_MAE :  40.96629804721045\n",
      "../submission\\20210719_best_data_ensemble.csv None\n",
      "\n",
      "lunch_MAE :  44.954770018432434\n",
      "dinner_MAE :  23.727243939218237\n",
      "total_MAE :  34.341006978825334\n",
      "../submission\\20210719_best_data_ensemble3.csv None\n",
      "\n",
      "lunch_MAE :  34.74825346118482\n",
      "dinner_MAE :  26.619029621545025\n",
      "total_MAE :  30.68364154136492\n",
      "../submission\\20210719_lgbm_autoML.csv None\n",
      "\n",
      "lunch_MAE :  35.70944396511145\n",
      "dinner_MAE :  29.854066446514597\n",
      "total_MAE :  32.78175520581302\n",
      "../submission\\20210719_pycaret.csv None\n",
      "\n"
     ]
    },
    {
     "ename": "IndexError",
     "evalue": "single positional indexer is out-of-bounds",
     "output_type": "error",
     "traceback": [
      "\u001b[1;31m---------------------------------------------------------------------------\u001b[0m",
      "\u001b[1;31mIndexError\u001b[0m                                Traceback (most recent call last)",
      "\u001b[1;32m<ipython-input-70-b403e7003817>\u001b[0m in \u001b[0;36m<module>\u001b[1;34m\u001b[0m\n\u001b[0;32m      4\u001b[0m \u001b[1;33m\u001b[0m\u001b[0m\n\u001b[0;32m      5\u001b[0m \u001b[1;32mfor\u001b[0m \u001b[0mfile\u001b[0m \u001b[1;32min\u001b[0m \u001b[0mfiles\u001b[0m\u001b[1;33m[\u001b[0m\u001b[1;33m:\u001b[0m\u001b[1;33m-\u001b[0m\u001b[1;36m1\u001b[0m\u001b[1;33m]\u001b[0m\u001b[1;33m:\u001b[0m\u001b[1;33m\u001b[0m\u001b[1;33m\u001b[0m\u001b[0m\n\u001b[1;32m----> 6\u001b[1;33m     \u001b[0mprint\u001b[0m\u001b[1;33m(\u001b[0m\u001b[0mfile\u001b[0m\u001b[1;33m,\u001b[0m \u001b[0mcompare_ans\u001b[0m\u001b[1;33m(\u001b[0m\u001b[0mfile\u001b[0m\u001b[1;33m)\u001b[0m\u001b[1;33m,\u001b[0m \u001b[0mend\u001b[0m\u001b[1;33m=\u001b[0m\u001b[1;34m\"\\n\\n\"\u001b[0m \u001b[1;33m)\u001b[0m\u001b[1;33m\u001b[0m\u001b[1;33m\u001b[0m\u001b[0m\n\u001b[0m",
      "\u001b[1;32m<ipython-input-62-d6e333cd4c05>\u001b[0m in \u001b[0;36mcompare_ans\u001b[1;34m(DIR)\u001b[0m\n\u001b[0;32m      2\u001b[0m     \u001b[0manswer\u001b[0m \u001b[1;33m=\u001b[0m \u001b[0mpd\u001b[0m\u001b[1;33m.\u001b[0m\u001b[0mread_csv\u001b[0m\u001b[1;33m(\u001b[0m\u001b[0mDIR\u001b[0m\u001b[1;33m)\u001b[0m\u001b[1;33m\u001b[0m\u001b[1;33m\u001b[0m\u001b[0m\n\u001b[0;32m      3\u001b[0m \u001b[1;33m\u001b[0m\u001b[0m\n\u001b[1;32m----> 4\u001b[1;33m     \u001b[0mlunch_answer\u001b[0m \u001b[1;33m=\u001b[0m \u001b[0mnp\u001b[0m\u001b[1;33m.\u001b[0m\u001b[0marray\u001b[0m\u001b[1;33m(\u001b[0m\u001b[0manswer\u001b[0m\u001b[1;33m.\u001b[0m\u001b[0miloc\u001b[0m\u001b[1;33m[\u001b[0m\u001b[1;33m:\u001b[0m\u001b[1;33m,\u001b[0m\u001b[1;36m1\u001b[0m\u001b[1;33m]\u001b[0m\u001b[1;33m)\u001b[0m\u001b[1;33m\u001b[0m\u001b[1;33m\u001b[0m\u001b[0m\n\u001b[0m\u001b[0;32m      5\u001b[0m     \u001b[0mdinner_answer\u001b[0m \u001b[1;33m=\u001b[0m \u001b[0mnp\u001b[0m\u001b[1;33m.\u001b[0m\u001b[0marray\u001b[0m\u001b[1;33m(\u001b[0m\u001b[0manswer\u001b[0m\u001b[1;33m.\u001b[0m\u001b[0miloc\u001b[0m\u001b[1;33m[\u001b[0m\u001b[1;33m:\u001b[0m\u001b[1;33m,\u001b[0m\u001b[1;36m2\u001b[0m\u001b[1;33m]\u001b[0m\u001b[1;33m)\u001b[0m\u001b[1;33m\u001b[0m\u001b[1;33m\u001b[0m\u001b[0m\n\u001b[0;32m      6\u001b[0m \u001b[1;33m\u001b[0m\u001b[0m\n",
      "\u001b[1;32mC:\\anaconda3\\envs\\machinelearning\\lib\\site-packages\\pandas\\core\\indexing.py\u001b[0m in \u001b[0;36m__getitem__\u001b[1;34m(self, key)\u001b[0m\n\u001b[0;32m    887\u001b[0m                     \u001b[1;31m# AttributeError for IntervalTree get_value\u001b[0m\u001b[1;33m\u001b[0m\u001b[1;33m\u001b[0m\u001b[1;33m\u001b[0m\u001b[0m\n\u001b[0;32m    888\u001b[0m                     \u001b[1;32mreturn\u001b[0m \u001b[0mself\u001b[0m\u001b[1;33m.\u001b[0m\u001b[0mobj\u001b[0m\u001b[1;33m.\u001b[0m\u001b[0m_get_value\u001b[0m\u001b[1;33m(\u001b[0m\u001b[1;33m*\u001b[0m\u001b[0mkey\u001b[0m\u001b[1;33m,\u001b[0m \u001b[0mtakeable\u001b[0m\u001b[1;33m=\u001b[0m\u001b[0mself\u001b[0m\u001b[1;33m.\u001b[0m\u001b[0m_takeable\u001b[0m\u001b[1;33m)\u001b[0m\u001b[1;33m\u001b[0m\u001b[1;33m\u001b[0m\u001b[0m\n\u001b[1;32m--> 889\u001b[1;33m             \u001b[1;32mreturn\u001b[0m \u001b[0mself\u001b[0m\u001b[1;33m.\u001b[0m\u001b[0m_getitem_tuple\u001b[0m\u001b[1;33m(\u001b[0m\u001b[0mkey\u001b[0m\u001b[1;33m)\u001b[0m\u001b[1;33m\u001b[0m\u001b[1;33m\u001b[0m\u001b[0m\n\u001b[0m\u001b[0;32m    890\u001b[0m         \u001b[1;32melse\u001b[0m\u001b[1;33m:\u001b[0m\u001b[1;33m\u001b[0m\u001b[1;33m\u001b[0m\u001b[0m\n\u001b[0;32m    891\u001b[0m             \u001b[1;31m# we by definition only have the 0th axis\u001b[0m\u001b[1;33m\u001b[0m\u001b[1;33m\u001b[0m\u001b[1;33m\u001b[0m\u001b[0m\n",
      "\u001b[1;32mC:\\anaconda3\\envs\\machinelearning\\lib\\site-packages\\pandas\\core\\indexing.py\u001b[0m in \u001b[0;36m_getitem_tuple\u001b[1;34m(self, tup)\u001b[0m\n\u001b[0;32m   1448\u001b[0m     \u001b[1;32mdef\u001b[0m \u001b[0m_getitem_tuple\u001b[0m\u001b[1;33m(\u001b[0m\u001b[0mself\u001b[0m\u001b[1;33m,\u001b[0m \u001b[0mtup\u001b[0m\u001b[1;33m:\u001b[0m \u001b[0mTuple\u001b[0m\u001b[1;33m)\u001b[0m\u001b[1;33m:\u001b[0m\u001b[1;33m\u001b[0m\u001b[1;33m\u001b[0m\u001b[0m\n\u001b[0;32m   1449\u001b[0m \u001b[1;33m\u001b[0m\u001b[0m\n\u001b[1;32m-> 1450\u001b[1;33m         \u001b[0mself\u001b[0m\u001b[1;33m.\u001b[0m\u001b[0m_has_valid_tuple\u001b[0m\u001b[1;33m(\u001b[0m\u001b[0mtup\u001b[0m\u001b[1;33m)\u001b[0m\u001b[1;33m\u001b[0m\u001b[1;33m\u001b[0m\u001b[0m\n\u001b[0m\u001b[0;32m   1451\u001b[0m         \u001b[1;32mwith\u001b[0m \u001b[0msuppress\u001b[0m\u001b[1;33m(\u001b[0m\u001b[0mIndexingError\u001b[0m\u001b[1;33m)\u001b[0m\u001b[1;33m:\u001b[0m\u001b[1;33m\u001b[0m\u001b[1;33m\u001b[0m\u001b[0m\n\u001b[0;32m   1452\u001b[0m             \u001b[1;32mreturn\u001b[0m \u001b[0mself\u001b[0m\u001b[1;33m.\u001b[0m\u001b[0m_getitem_lowerdim\u001b[0m\u001b[1;33m(\u001b[0m\u001b[0mtup\u001b[0m\u001b[1;33m)\u001b[0m\u001b[1;33m\u001b[0m\u001b[1;33m\u001b[0m\u001b[0m\n",
      "\u001b[1;32mC:\\anaconda3\\envs\\machinelearning\\lib\\site-packages\\pandas\\core\\indexing.py\u001b[0m in \u001b[0;36m_has_valid_tuple\u001b[1;34m(self, key)\u001b[0m\n\u001b[0;32m    721\u001b[0m         \u001b[1;32mfor\u001b[0m \u001b[0mi\u001b[0m\u001b[1;33m,\u001b[0m \u001b[0mk\u001b[0m \u001b[1;32min\u001b[0m \u001b[0menumerate\u001b[0m\u001b[1;33m(\u001b[0m\u001b[0mkey\u001b[0m\u001b[1;33m)\u001b[0m\u001b[1;33m:\u001b[0m\u001b[1;33m\u001b[0m\u001b[1;33m\u001b[0m\u001b[0m\n\u001b[0;32m    722\u001b[0m             \u001b[1;32mtry\u001b[0m\u001b[1;33m:\u001b[0m\u001b[1;33m\u001b[0m\u001b[1;33m\u001b[0m\u001b[0m\n\u001b[1;32m--> 723\u001b[1;33m                 \u001b[0mself\u001b[0m\u001b[1;33m.\u001b[0m\u001b[0m_validate_key\u001b[0m\u001b[1;33m(\u001b[0m\u001b[0mk\u001b[0m\u001b[1;33m,\u001b[0m \u001b[0mi\u001b[0m\u001b[1;33m)\u001b[0m\u001b[1;33m\u001b[0m\u001b[1;33m\u001b[0m\u001b[0m\n\u001b[0m\u001b[0;32m    724\u001b[0m             \u001b[1;32mexcept\u001b[0m \u001b[0mValueError\u001b[0m \u001b[1;32mas\u001b[0m \u001b[0merr\u001b[0m\u001b[1;33m:\u001b[0m\u001b[1;33m\u001b[0m\u001b[1;33m\u001b[0m\u001b[0m\n\u001b[0;32m    725\u001b[0m                 raise ValueError(\n",
      "\u001b[1;32mC:\\anaconda3\\envs\\machinelearning\\lib\\site-packages\\pandas\\core\\indexing.py\u001b[0m in \u001b[0;36m_validate_key\u001b[1;34m(self, key, axis)\u001b[0m\n\u001b[0;32m   1356\u001b[0m             \u001b[1;32mreturn\u001b[0m\u001b[1;33m\u001b[0m\u001b[1;33m\u001b[0m\u001b[0m\n\u001b[0;32m   1357\u001b[0m         \u001b[1;32melif\u001b[0m \u001b[0mis_integer\u001b[0m\u001b[1;33m(\u001b[0m\u001b[0mkey\u001b[0m\u001b[1;33m)\u001b[0m\u001b[1;33m:\u001b[0m\u001b[1;33m\u001b[0m\u001b[1;33m\u001b[0m\u001b[0m\n\u001b[1;32m-> 1358\u001b[1;33m             \u001b[0mself\u001b[0m\u001b[1;33m.\u001b[0m\u001b[0m_validate_integer\u001b[0m\u001b[1;33m(\u001b[0m\u001b[0mkey\u001b[0m\u001b[1;33m,\u001b[0m \u001b[0maxis\u001b[0m\u001b[1;33m)\u001b[0m\u001b[1;33m\u001b[0m\u001b[1;33m\u001b[0m\u001b[0m\n\u001b[0m\u001b[0;32m   1359\u001b[0m         \u001b[1;32melif\u001b[0m \u001b[0misinstance\u001b[0m\u001b[1;33m(\u001b[0m\u001b[0mkey\u001b[0m\u001b[1;33m,\u001b[0m \u001b[0mtuple\u001b[0m\u001b[1;33m)\u001b[0m\u001b[1;33m:\u001b[0m\u001b[1;33m\u001b[0m\u001b[1;33m\u001b[0m\u001b[0m\n\u001b[0;32m   1360\u001b[0m             \u001b[1;31m# a tuple should already have been caught by this point\u001b[0m\u001b[1;33m\u001b[0m\u001b[1;33m\u001b[0m\u001b[1;33m\u001b[0m\u001b[0m\n",
      "\u001b[1;32mC:\\anaconda3\\envs\\machinelearning\\lib\\site-packages\\pandas\\core\\indexing.py\u001b[0m in \u001b[0;36m_validate_integer\u001b[1;34m(self, key, axis)\u001b[0m\n\u001b[0;32m   1442\u001b[0m         \u001b[0mlen_axis\u001b[0m \u001b[1;33m=\u001b[0m \u001b[0mlen\u001b[0m\u001b[1;33m(\u001b[0m\u001b[0mself\u001b[0m\u001b[1;33m.\u001b[0m\u001b[0mobj\u001b[0m\u001b[1;33m.\u001b[0m\u001b[0m_get_axis\u001b[0m\u001b[1;33m(\u001b[0m\u001b[0maxis\u001b[0m\u001b[1;33m)\u001b[0m\u001b[1;33m)\u001b[0m\u001b[1;33m\u001b[0m\u001b[1;33m\u001b[0m\u001b[0m\n\u001b[0;32m   1443\u001b[0m         \u001b[1;32mif\u001b[0m \u001b[0mkey\u001b[0m \u001b[1;33m>=\u001b[0m \u001b[0mlen_axis\u001b[0m \u001b[1;32mor\u001b[0m \u001b[0mkey\u001b[0m \u001b[1;33m<\u001b[0m \u001b[1;33m-\u001b[0m\u001b[0mlen_axis\u001b[0m\u001b[1;33m:\u001b[0m\u001b[1;33m\u001b[0m\u001b[1;33m\u001b[0m\u001b[0m\n\u001b[1;32m-> 1444\u001b[1;33m             \u001b[1;32mraise\u001b[0m \u001b[0mIndexError\u001b[0m\u001b[1;33m(\u001b[0m\u001b[1;34m\"single positional indexer is out-of-bounds\"\u001b[0m\u001b[1;33m)\u001b[0m\u001b[1;33m\u001b[0m\u001b[1;33m\u001b[0m\u001b[0m\n\u001b[0m\u001b[0;32m   1445\u001b[0m \u001b[1;33m\u001b[0m\u001b[0m\n\u001b[0;32m   1446\u001b[0m     \u001b[1;31m# -------------------------------------------------------------------\u001b[0m\u001b[1;33m\u001b[0m\u001b[1;33m\u001b[0m\u001b[1;33m\u001b[0m\u001b[0m\n",
      "\u001b[1;31mIndexError\u001b[0m: single positional indexer is out-of-bounds"
     ]
    }
   ],
   "source": [
    "import glob\n",
    "\n",
    "files = glob.glob('../submission/*')\n",
    "\n",
    "for file in files[:-1]:\n",
    "    print(file, compare_ans(file), end=\"\\n\\n\" )"
   ]
  },
  {
   "cell_type": "code",
   "execution_count": 24,
   "metadata": {},
   "outputs": [
    {
     "data": {
      "text/plain": [
       "25.539537282882215"
      ]
     },
     "execution_count": 24,
     "metadata": {},
     "output_type": "execute_result"
    }
   ],
   "source": [
    "import math\n",
    "\n",
    "math.cos(math.pi*68.44/180)*69.5"
   ]
  },
  {
   "cell_type": "markdown",
   "metadata": {},
   "source": [
    "# 저장"
   ]
  },
  {
   "cell_type": "code",
   "execution_count": 71,
   "metadata": {},
   "outputs": [
    {
     "name": "stdout",
     "output_type": "stream",
     "text": [
      "오늘 날짜 : 20210720\n"
     ]
    }
   ],
   "source": [
    "import datetime\n",
    "today = str(datetime.datetime.now().date()).replace(\"-\",\"\")\n",
    "print(\"오늘 날짜 : \" + today)\n",
    "\n",
    "submission.to_csv(f'../submission/{today}_optuna_AutoML.csv', index =False)"
   ]
  },
  {
   "cell_type": "code",
   "execution_count": null,
   "metadata": {},
   "outputs": [],
   "source": []
  }
 ],
 "metadata": {
  "kernelspec": {
   "display_name": "Python 3",
   "language": "python",
   "name": "python3"
  },
  "language_info": {
   "codemirror_mode": {
    "name": "ipython",
    "version": 3
   },
   "file_extension": ".py",
   "mimetype": "text/x-python",
   "name": "python",
   "nbconvert_exporter": "python",
   "pygments_lexer": "ipython3",
   "version": "3.8.10"
  }
 },
 "nbformat": 4,
 "nbformat_minor": 4
}

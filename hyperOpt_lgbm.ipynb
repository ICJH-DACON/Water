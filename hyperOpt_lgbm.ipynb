{
 "cells": [
  {
   "cell_type": "code",
   "execution_count": 16,
   "metadata": {},
   "outputs": [],
   "source": [
    "import pandas as pd\n",
    "import numpy as np\n",
    "\n",
    "import matplotlib.pyplot as plt\n",
    "import seaborn as sns\n",
    "%matplotlib inline\n",
    "plt.rcParams['font.family'] = 'Gulim'\n",
    "\n",
    "import warnings\n",
    "warnings.filterwarnings(action='ignore')"
   ]
  },
  {
   "cell_type": "code",
   "execution_count": 17,
   "metadata": {},
   "outputs": [],
   "source": [
    "from workalendar.asia import SouthKorea\n",
    "import pendulum"
   ]
  },
  {
   "cell_type": "code",
   "execution_count": 18,
   "metadata": {},
   "outputs": [],
   "source": [
    "train = pd.read_csv('../data/train.csv')\n",
    "test = pd.read_csv('../data/test.csv')"
   ]
  },
  {
   "cell_type": "markdown",
   "metadata": {},
   "source": [
    "## 전처리\n",
    "- 일자에서 월과 일을 분리\n",
    "- 요일을 레이블 인코딩화(EDA로 요일의 중요도 순 파악)\n",
    "- 월 별, 일 별 중식 석식 수요 차이 파악"
   ]
  },
  {
   "cell_type": "code",
   "execution_count": 19,
   "metadata": {},
   "outputs": [],
   "source": [
    "train['월'] = pd.DatetimeIndex(train['일자']).month\n",
    "test['월'] = pd.DatetimeIndex(test['일자']).month\n",
    "train['주'] = pd.DatetimeIndex(train['일자']).week\n",
    "test['주'] = pd.DatetimeIndex(test['일자']).week\n",
    "train['일'] = pd.DatetimeIndex(train['일자']).day\n",
    "test['일'] = pd.DatetimeIndex(test['일자']).day\n",
    "\n",
    "train['출근'] = train['본사정원수']-(train['본사휴가자수']+train['본사출장자수']+train['현본사소속재택근무자수'])\n",
    "train['휴가비율'] = train['본사휴가자수']/train['본사정원수']\n",
    "train['출장비율'] = train['본사출장자수']/train['본사정원수']\n",
    "train['야근비율'] = train['본사시간외근무명령서승인건수']/train['출근']\n",
    "train['재택비율'] = train['현본사소속재택근무자수']/train['본사정원수']\n",
    "\n",
    "test['출근'] = test['본사정원수']-(test['본사휴가자수']+test['본사출장자수']+test['현본사소속재택근무자수'])\n",
    "test['휴가비율'] = test['본사휴가자수']/test['본사정원수']\n",
    "test['출장비율'] = test['본사출장자수']/test['본사정원수']\n",
    "test['야근비율'] = test['본사시간외근무명령서승인건수']/test['출근']\n",
    "test['재택비율'] = test['현본사소속재택근무자수']/test['본사정원수']\n",
    "\n",
    "train['식사가능자수'] = train['본사정원수'] - train['본사휴가자수'] - train['현본사소속재택근무자수']\n",
    "test['식사가능자수'] = test['본사정원수'] - test['본사휴가자수'] - test['현본사소속재택근무자수']\n",
    "\n",
    "# train['중식참여율'] = train['중식계'] / train['식사가능자수']"
   ]
  },
  {
   "cell_type": "code",
   "execution_count": 20,
   "metadata": {},
   "outputs": [],
   "source": [
    "month_rank4dinner = {\n",
    "    1: 11,\n",
    "    2: 2,\n",
    "    3: 1,\n",
    "    4: 4,\n",
    "    5: 7,\n",
    "    6: 6,\n",
    "    7: 10,\n",
    "    8: 8,\n",
    "    9: 5,\n",
    "    10: 3,\n",
    "    11: 9,\n",
    "    12: 12\n",
    "}\n",
    "train['월(석식)'] = train['월'].map(month_rank4dinner)\n",
    "test['월(석식)'] = test['월'].map(month_rank4dinner)\n",
    "\n",
    "month_rank4lunch = {\n",
    "    1: 3,\n",
    "    2: 1,\n",
    "    3: 2,\n",
    "    4: 6,\n",
    "    5: 7,\n",
    "    6: 8,\n",
    "    7: 10,\n",
    "    8: 9,\n",
    "    9: 5,\n",
    "    10: 4,\n",
    "    11: 11,\n",
    "    12: 12\n",
    "}\n",
    "train['월(중식)'] = train['월'].map(month_rank4lunch)\n",
    "test['월(중식)'] = test['월'].map(month_rank4lunch)\n",
    "\n",
    "weekday_rank4dinner = {\n",
    "    '월': 1,\n",
    "    '화': 2,\n",
    "    '수': 4,\n",
    "    '목': 3,\n",
    "    '금': 5,\n",
    "}\n",
    "\n",
    "weekday_rank4lunch = {\n",
    "    '월': 1,\n",
    "    '화': 2,\n",
    "    '수': 3,\n",
    "    '목': 4,\n",
    "    '금': 5,\n",
    "}\n",
    "\n",
    "train['요일(석식)'] = train['요일'].map(weekday_rank4dinner)\n",
    "test['요일(석식)'] = test['요일'].map(weekday_rank4dinner)\n",
    "\n",
    "train['요일(중식)'] = train['요일'].map(weekday_rank4lunch)\n",
    "test['요일(중식)'] = test['요일'].map(weekday_rank4lunch)"
   ]
  },
  {
   "cell_type": "code",
   "execution_count": 21,
   "metadata": {
    "scrolled": true
   },
   "outputs": [],
   "source": [
    "rank = pd.DataFrame(range(1,53))\n",
    "week_rank_lunch = pd.pivot_table(train,values='중식계',index='주').sort_values(by='중식계').reset_index().drop('중식계',axis=1)\n",
    "week_rank_dinner = pd.pivot_table(train,values='석식계',index='주').sort_values(by='석식계').reset_index().drop('석식계',axis=1)\n",
    "\n",
    "\n",
    "week_rank4lunch = {}\n",
    "for i in range(len(rank)):\n",
    "    week_rank4lunch[week_rank_lunch['주'][i]] = rank[0][i]\n",
    "\n",
    "\n",
    "week_rank4dinner = {}\n",
    "for i in range(len(rank)):\n",
    "    week_rank4dinner[week_rank_dinner['주'][i]] = rank[0][i]\n",
    "    \n",
    "    \n",
    "train['주(중식)'] = train['주'].map(week_rank4lunch)\n",
    "test['주(중식)'] = test['주'].map(week_rank4lunch)\n",
    "\n",
    "train['주(석식)'] = train['주'].map(week_rank4dinner)\n",
    "test['주(석식)'] = test['주'].map(week_rank4dinner)"
   ]
  },
  {
   "cell_type": "code",
   "execution_count": 22,
   "metadata": {},
   "outputs": [],
   "source": [
    "def is_holiday(date):\n",
    "    holidays = list(map(str, pd.Series(np.array(SouthKorea().holidays(int(date[:4])))[:, 0])))\n",
    "    \n",
    "    yesterday = str(np.datetime64(date) - 1)\n",
    "    tomorrow = str(np.datetime64(date) + 1)\n",
    "\n",
    "    if tomorrow in holidays and yesterday in holidays:\n",
    "        return 3\n",
    "    if tomorrow in holidays:\n",
    "        return 2\n",
    "    elif yesterday in holidays:\n",
    "        return 1\n",
    "    else : \n",
    "        return 0\n",
    "\n",
    "def week_of_month(x):\n",
    "    dt = pendulum.parse(x)\n",
    "    \n",
    "    wom = dt.week_of_month\n",
    "    if wom < 0:\n",
    "        wom += 52\n",
    "    return wom\n",
    "    \n",
    "\n",
    "df = pd.concat([train[['본사정원수', '일자']], test[['본사정원수', '일자']]])\n",
    "df['년월'] = df['일자'].apply(lambda x : x[:7])\n",
    "df = df[['년월', '본사정원수']].groupby(by=['년월'], as_index=False).mean()\n",
    "\n",
    "def member_change(date):\n",
    "    this_month = date[:7]\n",
    "    last_month = str(np.datetime64(this_month) - 1)\n",
    "    \n",
    "    this_month_member = int(df[df['년월'] == this_month]['본사정원수'])\n",
    "    last_month_member = int(df[df['년월'] == last_month]['본사정원수'])\n",
    "    \n",
    "    \n",
    "    return  this_month_member - last_month_member\n",
    "\n",
    "train['공휴일전후'] = train['일자'].apply(is_holiday)\n",
    "test['공휴일전후'] = test['일자'].apply(is_holiday)\n",
    "\n",
    "train['몇주차'] = train['일자'].apply(week_of_month)\n",
    "test['몇주차'] = test['일자'].apply(week_of_month)\n",
    "\n",
    "train = train[train['일자'] > '2016-03']\n",
    "train['인원변화'] = train['일자'].apply(member_change)\n",
    "test['인원변화'] = test['일자'].apply(member_change)"
   ]
  },
  {
   "cell_type": "markdown",
   "metadata": {},
   "source": [
    "## 공휴일 변수 생성"
   ]
  },
  {
   "cell_type": "code",
   "execution_count": 23,
   "metadata": {},
   "outputs": [
    {
     "data": {
      "text/plain": [
       "Index(['일자', '요일', '본사정원수', '본사휴가자수', '본사출장자수', '본사시간외근무명령서승인건수',\n",
       "       '현본사소속재택근무자수', '조식메뉴', '중식메뉴', '석식메뉴', '중식계', '석식계', '월', '주', '일',\n",
       "       '출근', '휴가비율', '출장비율', '야근비율', '재택비율', '식사가능자수', '월(석식)', '월(중식)',\n",
       "       '요일(석식)', '요일(중식)', '주(중식)', '주(석식)', '공휴일전후', '몇주차', '인원변화'],\n",
       "      dtype='object')"
      ]
     },
     "execution_count": 23,
     "metadata": {},
     "output_type": "execute_result"
    }
   ],
   "source": [
    "train.columns"
   ]
  },
  {
   "cell_type": "code",
   "execution_count": 24,
   "metadata": {},
   "outputs": [],
   "source": [
    "# 메뉴 변수 없이 사용할떄 해당 코드 사용['공휴일전후', '몇주차', '인원변화']\n",
    "\n",
    "lunch_train = train[['공휴일전후', '몇주차', '인원변화', '요일(중식)','월(중식)','일','주(중식)','출근', '휴가비율', '출장비율', '야근비율', '재택비율','본사출장자수','본사휴가자수','식사가능자수','본사시간외근무명령서승인건수']]\n",
    "lunch_test = test[['공휴일전후', '몇주차', '인원변화', '요일(중식)','월(중식)','일','주(중식)','출근', '휴가비율', '출장비율', '야근비율', '재택비율','본사출장자수','본사휴가자수','식사가능자수','본사시간외근무명령서승인건수']]\n",
    "\n",
    "dinner_train= train[['공휴일전후', '몇주차', '인원변화', '요일(석식)','월(석식)','일','주(석식)','출근', '휴가비율', '출장비율', '야근비율', '재택비율','본사출장자수','본사휴가자수','식사가능자수','본사시간외근무명령서승인건수']]\n",
    "dinner_test = test[['공휴일전후', '몇주차', '인원변화', '요일(석식)','월(석식)','일','주(석식)','출근', '휴가비율', '출장비율', '야근비율', '재택비율','본사출장자수','본사휴가자수','식사가능자수','본사시간외근무명령서승인건수']]"
   ]
  },
  {
   "cell_type": "code",
   "execution_count": 25,
   "metadata": {},
   "outputs": [
    {
     "data": {
      "text/plain": [
       "Index(['공휴일전후', '몇주차', '인원변화', '요일(중식)', '월(중식)', '일', '주(중식)', '출근', '휴가비율',\n",
       "       '출장비율', '야근비율', '재택비율', '본사출장자수', '본사휴가자수', '식사가능자수', '본사시간외근무명령서승인건수'],\n",
       "      dtype='object')"
      ]
     },
     "execution_count": 25,
     "metadata": {},
     "output_type": "execute_result"
    }
   ],
   "source": [
    "lunch_train.columns"
   ]
  },
  {
   "cell_type": "code",
   "execution_count": 26,
   "metadata": {
    "scrolled": true
   },
   "outputs": [
    {
     "name": "stdout",
     "output_type": "stream",
     "text": [
      "(1187, 16)\n",
      "(50, 16)\n"
     ]
    }
   ],
   "source": [
    "print(lunch_train.shape)\n",
    "print(lunch_test.shape)"
   ]
  },
  {
   "cell_type": "code",
   "execution_count": 27,
   "metadata": {},
   "outputs": [
    {
     "name": "stdout",
     "output_type": "stream",
     "text": [
      "(1187, 16)\n",
      "(50, 16)\n"
     ]
    }
   ],
   "source": [
    "print(dinner_train.shape)\n",
    "print(dinner_test.shape)"
   ]
  },
  {
   "cell_type": "code",
   "execution_count": 28,
   "metadata": {},
   "outputs": [
    {
     "name": "stdout",
     "output_type": "stream",
     "text": [
      "Cat features are: []\n",
      "[]\n"
     ]
    }
   ],
   "source": [
    "cat_features = [f for f in lunch_train.columns if lunch_train[f].dtype == 'object']\n",
    "\n",
    "def column_index(df, cat_features):\n",
    "    cols = df.columns.values\n",
    "    sidx = np.argsort(cols)\n",
    "    return sidx[np.searchsorted(cols, cat_features, sorter=sidx)]\n",
    "\n",
    "cat_features_idx = column_index(lunch_train, cat_features)    \n",
    "print(\"Cat features are: %s\" % [f for f in cat_features])\n",
    "print(cat_features_idx)"
   ]
  },
  {
   "cell_type": "code",
   "execution_count": 42,
   "metadata": {},
   "outputs": [],
   "source": [
    "y_lunch = np.array(train[['중식계']])\n",
    "\n",
    "\n",
    "y_dinner = np.array(train[['석식계']])"
   ]
  },
  {
   "cell_type": "markdown",
   "metadata": {},
   "source": [
    "#### 분포 확인 및 분포 조정"
   ]
  },
  {
   "cell_type": "markdown",
   "metadata": {},
   "source": [
    "# 중식 예측모델"
   ]
  },
  {
   "cell_type": "code",
   "execution_count": 43,
   "metadata": {},
   "outputs": [],
   "source": [
    "from lightgbm import LGBMRegressor\n",
    "\n",
    "import hyperopt\n",
    "from hyperopt import fmin, tpe, hp, STATUS_OK, Trials\n",
    "from sklearn.metrics import mean_absolute_error as MAE\n",
    "from sklearn.model_selection import train_test_split, KFold"
   ]
  },
  {
   "cell_type": "code",
   "execution_count": 59,
   "metadata": {},
   "outputs": [],
   "source": [
    "reg_candidate = [1e-5, 1e-4, 1e-3, 1e-2, 0.1, 1, 5, 10, 100]\n",
    "\n",
    "# space 정의, Hyperparameter의 이름을 key 값으로 입력\n",
    "space={'max_depth': hp.quniform(\"max_depth\", 5, 15, 1),\n",
    "       'learning_rate': hp.quniform ('learning_rate', 0.01, 0.05, 0.005),\n",
    "       'reg_alpha' : hp.choice('reg_alpha', reg_candidate),\n",
    "       'reg_lambda' : hp.choice('reg_lambda', reg_candidate),\n",
    "       'max_depth': hp.quniform(\"max_depth\", 1, 20, 1),\n",
    "       'subsample': hp.quniform('subsample', 0.6, 1, 0.05),\n",
    "       'num_leaves': hp.quniform(\"num_leaves\", 2, 256, 2),\n",
    "       'colsample_bytree' : hp.quniform('colsample_bytree', 0.6, 1, 0.05),\n",
    "       'subsample_freq': hp.quniform(\"subsample_freq\", 1, 10, 1),\n",
    "       'min_child_samples': hp.quniform(\"min_child_samples\", 5, 100, 5),\n",
    "       'max_bin': hp.quniform(\"max_bin\", 200, 500, 100),\n",
    "       'n_estimators': hp.quniform('n_estimators', 200, 10000, 200)\n",
    "      }\n",
    "\n",
    "def objective_lunch(space):\n",
    "    n_fold = 4\n",
    "    kf = KFold(n_splits=n_fold, random_state=42, shuffle=True)\n",
    "    mae = 0\n",
    "\n",
    "    for train_index, test_index in kf.split(lunch_train):\n",
    "        X_train, X_valid = lunch_train.iloc[train_index], lunch_train.iloc[test_index]\n",
    "        y_train, y_valid = y_lunch[train_index], y_lunch[test_index]\n",
    "\n",
    "        model = LGBMRegressor(n_estimators =int(space['n_estimators']), \n",
    "                              max_depth = int(space['max_depth']), \n",
    "                              learning_rate = space['learning_rate'],\n",
    "                              reg_alpha = space['reg_alpha'],\n",
    "                              reg_lambda = space['reg_lambda'],\n",
    "                              colsample_bytree = space['colsample_bytree'],\n",
    "                              num_leaves = int(space['num_leaves']),\n",
    "                              subsample = space['subsample'],\n",
    "                              subsample_freq = int(space['subsample_freq']),\n",
    "                              min_child_samples = int(space['min_child_samples']),\n",
    "                              max_bin = int(space['max_bin']),\n",
    "                              random_state=42, \n",
    "                              )\n",
    "\n",
    "        evaluation = [(X_train, y_train), (X_valid, y_valid)]\n",
    "\n",
    "        model.fit(X_train, y_train,\n",
    "                  eval_set=evaluation, \n",
    "                  eval_metric=\"mae\",\n",
    "                  early_stopping_rounds=100,\n",
    "                  verbose=0)\n",
    "\n",
    "        pred = model.predict(X_valid)\n",
    "        mae += MAE(y_valid, pred)/n_fold\n",
    "    \n",
    "    return {'loss': mae, 'status': STATUS_OK, 'model': model}"
   ]
  },
  {
   "cell_type": "code",
   "execution_count": 61,
   "metadata": {},
   "outputs": [
    {
     "name": "stdout",
     "output_type": "stream",
     "text": [
      "100%|█████████████████████████████████████████████| 1000/1000 [20:33<00:00,  1.23s/trial, best loss: 64.87415835306953]\n"
     ]
    },
    {
     "ename": "KeyError",
     "evalue": "'min_child_weight'",
     "output_type": "error",
     "traceback": [
      "\u001b[1;31m---------------------------------------------------------------------------\u001b[0m",
      "\u001b[1;31mKeyError\u001b[0m                                  Traceback (most recent call last)",
      "\u001b[1;32m<ipython-input-61-ac037bf7c7f3>\u001b[0m in \u001b[0;36m<module>\u001b[1;34m\u001b[0m\n\u001b[0;32m      9\u001b[0m \u001b[1;33m\u001b[0m\u001b[0m\n\u001b[0;32m     10\u001b[0m \u001b[0mbest_L\u001b[0m\u001b[1;33m[\u001b[0m\u001b[1;34m'max_depth'\u001b[0m\u001b[1;33m]\u001b[0m \u001b[1;33m=\u001b[0m \u001b[0mint\u001b[0m\u001b[1;33m(\u001b[0m\u001b[0mbest_L\u001b[0m\u001b[1;33m[\u001b[0m\u001b[1;34m'max_depth'\u001b[0m\u001b[1;33m]\u001b[0m\u001b[1;33m)\u001b[0m\u001b[1;33m\u001b[0m\u001b[1;33m\u001b[0m\u001b[0m\n\u001b[1;32m---> 11\u001b[1;33m \u001b[0mbest_L\u001b[0m\u001b[1;33m[\u001b[0m\u001b[1;34m'min_child_weight'\u001b[0m\u001b[1;33m]\u001b[0m \u001b[1;33m=\u001b[0m \u001b[0mint\u001b[0m\u001b[1;33m(\u001b[0m\u001b[0mbest_L\u001b[0m\u001b[1;33m[\u001b[0m\u001b[1;34m'min_child_weight'\u001b[0m\u001b[1;33m]\u001b[0m\u001b[1;33m)\u001b[0m\u001b[1;33m\u001b[0m\u001b[1;33m\u001b[0m\u001b[0m\n\u001b[0m\u001b[0;32m     12\u001b[0m \u001b[0mbest_L\u001b[0m\u001b[1;33m[\u001b[0m\u001b[1;34m'n_estimators'\u001b[0m\u001b[1;33m]\u001b[0m \u001b[1;33m=\u001b[0m \u001b[0mint\u001b[0m\u001b[1;33m(\u001b[0m\u001b[0mbest_L\u001b[0m\u001b[1;33m[\u001b[0m\u001b[1;34m'n_estimators'\u001b[0m\u001b[1;33m]\u001b[0m\u001b[1;33m)\u001b[0m\u001b[1;33m\u001b[0m\u001b[1;33m\u001b[0m\u001b[0m\n\u001b[0;32m     13\u001b[0m \u001b[0mbest_L\u001b[0m\u001b[1;33m[\u001b[0m\u001b[1;34m'reg_alpha'\u001b[0m\u001b[1;33m]\u001b[0m \u001b[1;33m=\u001b[0m \u001b[0mreg_candidate\u001b[0m\u001b[1;33m[\u001b[0m\u001b[0mint\u001b[0m\u001b[1;33m(\u001b[0m\u001b[0mbest_L\u001b[0m\u001b[1;33m[\u001b[0m\u001b[1;34m'reg_alpha'\u001b[0m\u001b[1;33m]\u001b[0m\u001b[1;33m)\u001b[0m\u001b[1;33m]\u001b[0m\u001b[1;33m\u001b[0m\u001b[1;33m\u001b[0m\u001b[0m\n",
      "\u001b[1;31mKeyError\u001b[0m: 'min_child_weight'"
     ]
    }
   ],
   "source": [
    "trials = Trials()\n",
    "\n",
    "best_L = fmin(fn=objective_lunch,\n",
    "              space=space,\n",
    "              algo=tpe.suggest,\n",
    "              max_evals=1000,\n",
    "              trials=trials,\n",
    "              rstate= np.random.seed(42))\n",
    "\n",
    "# best_L['max_depth'] = int(best_L['max_depth'])\n",
    "# best_L['min_child_weight'] = int(best_L['min_child_weight'])\n",
    "# best_L['n_estimators'] = int(best_L['n_estimators'])\n",
    "# best_L['reg_alpha'] = reg_candidate[int(best_L['reg_alpha'])]\n",
    "# best_L['reg_lambda'] = reg_candidate[int(best_L['reg_lambda'])]\n",
    "# best_L['random_state'] = 42\n",
    "print(best_L)"
   ]
  },
  {
   "cell_type": "code",
   "execution_count": 89,
   "metadata": {},
   "outputs": [
    {
     "data": {
      "text/plain": [
       "{'colsample_bytree': 1.0,\n",
       " 'learning_rate': 0.03,\n",
       " 'max_bin': 500,\n",
       " 'max_depth': 3,\n",
       " 'min_child_samples': 5,\n",
       " 'n_estimators': 3800,\n",
       " 'num_leaves': 192,\n",
       " 'reg_alpha': 0,\n",
       " 'reg_lambda': 1,\n",
       " 'subsample': 0.6,\n",
       " 'subsample_freq': 8,\n",
       " 'random_state': 42}"
      ]
     },
     "execution_count": 89,
     "metadata": {},
     "output_type": "execute_result"
    }
   ],
   "source": [
    "best_L['n_estimators'] =int(best_L['n_estimators'])\n",
    "best_L['max_depth'] = int(best_L['max_depth'])\n",
    "best_L['learning_rate'] = best_L['learning_rate']\n",
    "best_L['reg_alpha'] = best_L['reg_alpha']\n",
    "best_L['reg_lambda'] = best_L['reg_lambda']\n",
    "best_L['colsample_bytree'] = best_L['colsample_bytree']\n",
    "best_L['num_leaves'] = int(best_L['num_leaves'])\n",
    "best_L['subsample'] = best_L['subsample']\n",
    "best_L['subsample_freq'] = int(best_L['subsample_freq'])\n",
    "best_L['min_child_samples'] = int(best_L['min_child_samples'])\n",
    "best_L['max_bin'] = int(best_L['max_bin'])\n",
    "best_L['random_state'] = 42\n",
    "best_L"
   ]
  },
  {
   "cell_type": "code",
   "execution_count": 103,
   "metadata": {},
   "outputs": [
    {
     "name": "stdout",
     "output_type": "stream",
     "text": [
      "64.5178111504131\n"
     ]
    }
   ],
   "source": [
    "n_fold = 12\n",
    "kf = KFold(n_splits=n_fold, random_state=42, shuffle=True)\n",
    "mae = 0\n",
    "lunch_pred = np.array([0]*50).astype('float64')\n",
    "\n",
    "for train_index, test_index in kf.split(lunch_train):\n",
    "    X_train, X_valid = lunch_train.iloc[train_index], lunch_train.iloc[test_index]\n",
    "    y_train, y_valid = y_lunch[train_index], y_lunch[test_index]\n",
    "\n",
    "    model = LGBMRegressor(**best_L)\n",
    "\n",
    "    evaluation = [(X_train, y_train), (X_valid, y_valid)]\n",
    "\n",
    "    model.fit(X_train, y_train,\n",
    "              eval_set=evaluation, \n",
    "              eval_metric=\"mae\",\n",
    "              early_stopping_rounds=100,\n",
    "              verbose=0)\n",
    "\n",
    "    pred = model.predict(X_valid)\n",
    "    mae += MAE(y_valid, pred)/n_fold\n",
    "    \n",
    "    lunch_pred += model.predict(lunch_test)/n_fold\n",
    "    \n",
    "print(mae)"
   ]
  },
  {
   "cell_type": "code",
   "execution_count": 88,
   "metadata": {},
   "outputs": [
    {
     "data": {
      "text/plain": [
       "array([1006.20830477,  924.78541004,  634.31806768, 1293.68943466,\n",
       "       1067.48369494, 1016.67449057,  962.2796037 ,  697.37758196,\n",
       "       1288.3125234 , 1079.45719681,  849.87186624, 1292.15376788,\n",
       "       1123.97555609, 1090.90522573,  941.29604359,  678.61670739,\n",
       "       1238.89025445, 1066.49550133,  943.12806947,  888.86095364,\n",
       "        606.85703237, 1159.79817032, 1020.80130802,  938.85652552,\n",
       "        671.8927145 , 1310.14620387, 1156.27337253, 1029.92694838,\n",
       "        943.10527776,  703.82809543, 1265.01750497, 1029.26461239,\n",
       "       1017.35885328,  913.58017519,  657.9436712 , 1233.61477279,\n",
       "       1003.73335645,  917.45531516,  845.43491634,  614.15734095,\n",
       "       1217.58349532, 1012.54034195,  953.91216617,  856.16507513,\n",
       "        636.37143761, 1227.69826118, 1023.58153816,  938.88585661,\n",
       "        868.40183704,  622.47725378])"
      ]
     },
     "execution_count": 88,
     "metadata": {},
     "output_type": "execute_result"
    }
   ],
   "source": [
    "lunch_pred"
   ]
  },
  {
   "cell_type": "code",
   "execution_count": 91,
   "metadata": {},
   "outputs": [],
   "source": [
    "def objective_dinner(space):\n",
    "    n_fold = 4\n",
    "    kf = KFold(n_splits=n_fold, random_state=42, shuffle=True)\n",
    "    mae = 0\n",
    "\n",
    "    for train_index, test_index in kf.split(dinner_train):\n",
    "        X_train, X_valid = dinner_train.iloc[train_index], dinner_train.iloc[test_index]\n",
    "        y_train, y_valid = y_dinner[train_index], y_dinner[test_index]\n",
    "\n",
    "        model = LGBMRegressor(n_estimators =int(space['n_estimators']), \n",
    "                              max_depth = int(space['max_depth']), \n",
    "                              learning_rate = space['learning_rate'],\n",
    "                              reg_alpha = space['reg_alpha'],\n",
    "                              reg_lambda = space['reg_lambda'],\n",
    "                              colsample_bytree = space['colsample_bytree'],\n",
    "                              num_leaves = int(space['num_leaves']),\n",
    "                              subsample = space['subsample'],\n",
    "                              subsample_freq = int(space['subsample_freq']),\n",
    "                              min_child_samples = int(space['min_child_samples']),\n",
    "                              max_bin = int(space['max_bin']),\n",
    "                              random_state=42, \n",
    "                              )\n",
    "\n",
    "        evaluation = [(X_train, y_train), (X_valid, y_valid)]\n",
    "\n",
    "        model.fit(X_train, y_train,\n",
    "                  eval_set=evaluation, \n",
    "                  eval_metric=\"mae\",\n",
    "                  early_stopping_rounds=100,\n",
    "                  verbose=0)\n",
    "\n",
    "        pred = model.predict(X_valid)\n",
    "        mae += MAE(y_valid, pred)/n_fold\n",
    "    \n",
    "    return {'loss': mae, 'status': STATUS_OK, 'model': model}"
   ]
  },
  {
   "cell_type": "code",
   "execution_count": 92,
   "metadata": {},
   "outputs": [
    {
     "name": "stdout",
     "output_type": "stream",
     "text": [
      "100%|█████████████████████████████████████████████| 1000/1000 [19:42<00:00,  1.18s/trial, best loss: 54.01905622689223]\n",
      "{'colsample_bytree': 0.9, 'learning_rate': 0.03, 'max_bin': 200, 'max_depth': 6, 'min_child_samples': 10, 'n_estimators': 400, 'num_leaves': 228, 'reg_alpha': 3, 'reg_lambda': 3, 'subsample': 0.65, 'subsample_freq': 10, 'random_state': 42}\n"
     ]
    }
   ],
   "source": [
    "trials = Trials()\n",
    "\n",
    "best_D = fmin(fn=objective_dinner,\n",
    "              space=space,\n",
    "              algo=tpe.suggest,\n",
    "              max_evals=1000,\n",
    "              trials=trials,\n",
    "              rstate= np.random.seed(42))\n",
    "\n",
    "best_D['n_estimators'] =int(best_D['n_estimators'])\n",
    "best_D['max_depth'] = int(best_D['max_depth'])\n",
    "best_D['learning_rate'] = best_D['learning_rate']\n",
    "best_D['reg_alpha'] = best_D['reg_alpha']\n",
    "best_D['reg_lambda'] = best_D['reg_lambda']\n",
    "best_D['colsample_bytree'] = best_D['colsample_bytree']\n",
    "best_D['num_leaves'] = int(best_D['num_leaves'])\n",
    "best_D['subsample'] = best_D['subsample']\n",
    "best_D['subsample_freq'] = int(best_D['subsample_freq'])\n",
    "best_D['min_child_samples'] = int(best_D['min_child_samples'])\n",
    "best_D['max_bin'] = int(best_D['max_bin'])\n",
    "best_D['random_state'] = 42\n",
    "print(best_D)"
   ]
  },
  {
   "cell_type": "code",
   "execution_count": 94,
   "metadata": {},
   "outputs": [
    {
     "name": "stdout",
     "output_type": "stream",
     "text": [
      "56.103102153250475\n"
     ]
    }
   ],
   "source": [
    "mae = 0\n",
    "dinner_pred = np.array([0]*50).astype('float64')\n",
    "\n",
    "for train_index, test_index in kf.split(dinner_train):\n",
    "    X_train, X_valid = dinner_train.iloc[train_index], dinner_train.iloc[test_index]\n",
    "    y_train, y_valid = y_dinner[train_index], y_dinner[test_index]\n",
    "\n",
    "    model = LGBMRegressor(**best_L)\n",
    "\n",
    "    evaluation = [(X_train, y_train), (X_valid, y_valid)]\n",
    "\n",
    "    model.fit(X_train, y_train,\n",
    "              eval_set=evaluation, \n",
    "              eval_metric=\"mae\",\n",
    "              early_stopping_rounds=100,\n",
    "              verbose=0)\n",
    "\n",
    "    pred = model.predict(X_valid)\n",
    "    mae += MAE(y_valid, pred)/n_fold\n",
    "    \n",
    "    dinner_pred += model.predict(dinner_test)/n_fold\n",
    "    \n",
    "print(mae)"
   ]
  },
  {
   "cell_type": "code",
   "execution_count": 96,
   "metadata": {},
   "outputs": [
    {
     "data": {
      "text/plain": [
       "array([333.00637137, 430.73622136, 257.9416168 , 536.81350052,\n",
       "       502.9112677 , 427.53007218, 467.8864336 , 364.74809982,\n",
       "       619.92014959, 544.27200424, 209.86711857, 679.98307823,\n",
       "       651.4348321 , 424.68787114, 528.64550848, 374.80033818,\n",
       "       661.24256253, 617.60384353, 386.68338904, 503.53345018,\n",
       "       304.96746972, 616.17709591, 452.67340615, 560.65509133,\n",
       "       370.12992074, 698.41615296, 692.67068615, 461.90991194,\n",
       "       558.27474237, 366.51762332, 695.70657757, 604.81910021,\n",
       "       429.21486329, 508.10665447, 322.7080471 , 633.650023  ,\n",
       "       602.75261776, 368.97280456, 470.81844781, 283.12657153,\n",
       "       654.05436561, 630.56746666, 284.77708847, 456.93157758,\n",
       "       314.94430083, 611.47957236, 590.15359255, 412.86747139,\n",
       "       486.50898647, 314.27379273])"
      ]
     },
     "execution_count": 96,
     "metadata": {},
     "output_type": "execute_result"
    }
   ],
   "source": [
    "dinner_pred"
   ]
  },
  {
   "cell_type": "code",
   "execution_count": 98,
   "metadata": {},
   "outputs": [
    {
     "data": {
      "text/html": [
       "<div>\n",
       "<style scoped>\n",
       "    .dataframe tbody tr th:only-of-type {\n",
       "        vertical-align: middle;\n",
       "    }\n",
       "\n",
       "    .dataframe tbody tr th {\n",
       "        vertical-align: top;\n",
       "    }\n",
       "\n",
       "    .dataframe thead th {\n",
       "        text-align: right;\n",
       "    }\n",
       "</style>\n",
       "<table border=\"1\" class=\"dataframe\">\n",
       "  <thead>\n",
       "    <tr style=\"text-align: right;\">\n",
       "      <th></th>\n",
       "      <th>일자</th>\n",
       "      <th>중식계</th>\n",
       "      <th>석식계</th>\n",
       "    </tr>\n",
       "  </thead>\n",
       "  <tbody>\n",
       "    <tr>\n",
       "      <th>0</th>\n",
       "      <td>2021-01-27</td>\n",
       "      <td>1006.208305</td>\n",
       "      <td>333.006371</td>\n",
       "    </tr>\n",
       "    <tr>\n",
       "      <th>1</th>\n",
       "      <td>2021-01-28</td>\n",
       "      <td>924.785410</td>\n",
       "      <td>430.736221</td>\n",
       "    </tr>\n",
       "    <tr>\n",
       "      <th>2</th>\n",
       "      <td>2021-01-29</td>\n",
       "      <td>634.318068</td>\n",
       "      <td>257.941617</td>\n",
       "    </tr>\n",
       "    <tr>\n",
       "      <th>3</th>\n",
       "      <td>2021-02-01</td>\n",
       "      <td>1293.689435</td>\n",
       "      <td>536.813501</td>\n",
       "    </tr>\n",
       "    <tr>\n",
       "      <th>4</th>\n",
       "      <td>2021-02-02</td>\n",
       "      <td>1067.483695</td>\n",
       "      <td>502.911268</td>\n",
       "    </tr>\n",
       "  </tbody>\n",
       "</table>\n",
       "</div>"
      ],
      "text/plain": [
       "           일자          중식계         석식계\n",
       "0  2021-01-27  1006.208305  333.006371\n",
       "1  2021-01-28   924.785410  430.736221\n",
       "2  2021-01-29   634.318068  257.941617\n",
       "3  2021-02-01  1293.689435  536.813501\n",
       "4  2021-02-02  1067.483695  502.911268"
      ]
     },
     "execution_count": 98,
     "metadata": {},
     "output_type": "execute_result"
    }
   ],
   "source": [
    "submission = pd.read_csv('../data/sample_submission.csv')\n",
    "\n",
    "submission.iloc[:,1] = lunch_pred\n",
    "submission.iloc[:,2] = dinner_pred\n",
    "submission.head()"
   ]
  },
  {
   "cell_type": "code",
   "execution_count": 99,
   "metadata": {},
   "outputs": [
    {
     "name": "stdout",
     "output_type": "stream",
     "text": [
      "lunch_MAE :  9.35133481665588\n",
      "dinner_MAE :  21.41925496447046\n",
      "total_MAE :  15.38529489056317\n",
      "lunch_MAE :  58.99531348841612\n",
      "dinner_MAE :  30.948559722159125\n",
      "total_MAE :  44.971936605287624\n",
      "lunch_MAE :  54.77214865162563\n",
      "dinner_MAE :  26.76814218725579\n",
      "total_MAE :  40.77014541944071\n",
      "lunch_MAE :  31.069570573967003\n",
      "dinner_MAE :  26.76814218725579\n",
      "total_MAE :  28.918856380611395\n"
     ]
    }
   ],
   "source": [
    "def compare_ans(DIR):\n",
    "    answer = pd.read_csv(DIR)\n",
    "\n",
    "    lunch_answer = np.array(answer.iloc[:,1])\n",
    "    dinner_answer = np.array(answer.iloc[:,2])\n",
    "    \n",
    "    lunch_MAE = abs(submission.iloc[:,1] - lunch_answer).mean()\n",
    "    dinner_MAE = abs(submission.iloc[:,2] - dinner_answer).mean()\n",
    "    \n",
    "    print(\"lunch_MAE : \", lunch_MAE)\n",
    "    print(\"dinner_MAE : \", dinner_MAE)\n",
    "    print(\"total_MAE : \", (lunch_MAE+dinner_MAE)/2)\n",
    "    \n",
    "    \n",
    "compare_ans('../submission/20210701_lgbm_knfold_drop.csv')\n",
    "compare_ans('../submission/20210715_pycaret_(2).csv')\n",
    "compare_ans('../submission/20210719_best_data_ensemble.csv')\n",
    "compare_ans('../submission/20210719_pycaret.csv')"
   ]
  },
  {
   "cell_type": "code",
   "execution_count": 100,
   "metadata": {},
   "outputs": [
    {
     "name": "stdout",
     "output_type": "stream",
     "text": [
      "lunch_MAE :  14.586279294849696\n",
      "dinner_MAE :  29.354016302483068\n",
      "total_MAE :  21.970147798666382\n",
      "../submission\\20210624_pycaret_(4-2)_제출해봐야할거.csv None\n",
      "\n",
      "lunch_MAE :  46.18212811113167\n",
      "dinner_MAE :  27.717074850537756\n",
      "total_MAE :  36.949601480834716\n",
      "../submission\\20210625_cat.csv None\n",
      "\n",
      "lunch_MAE :  37.703014300425345\n",
      "dinner_MAE :  25.419208939411497\n",
      "total_MAE :  31.56111161991842\n",
      "../submission\\20210625_cat_10fold.csv None\n",
      "\n",
      "lunch_MAE :  37.375638681997884\n",
      "dinner_MAE :  25.992076019521893\n",
      "total_MAE :  31.683857350759887\n",
      "../submission\\20210627_cat_15_KJH.csv None\n",
      "\n",
      "lunch_MAE :  57.003558261651904\n",
      "dinner_MAE :  58.387851244392095\n",
      "total_MAE :  57.695704753022\n",
      "../submission\\20210627_cat_after_2020.csv None\n",
      "\n",
      "lunch_MAE :  37.375638681997884\n",
      "dinner_MAE :  25.992076019521893\n",
      "total_MAE :  31.683857350759887\n",
      "../submission\\20210627_cat_KJH.csv None\n",
      "\n",
      "lunch_MAE :  37.375638681997884\n",
      "dinner_MAE :  25.992076019521893\n",
      "total_MAE :  31.683857350759887\n",
      "../submission\\20210627_pycaret_KJH.csv None\n",
      "\n",
      "lunch_MAE :  25.77498850614038\n",
      "dinner_MAE :  21.215423084391745\n",
      "total_MAE :  23.495205795266063\n",
      "../submission\\20210627_pycaret_menu.csv None\n",
      "\n",
      "lunch_MAE :  59.82949794690911\n",
      "dinner_MAE :  27.099128526904106\n",
      "total_MAE :  43.464313236906605\n",
      "../submission\\20210628_cat_15_.csv None\n",
      "\n",
      "lunch_MAE :  40.812177671684566\n",
      "dinner_MAE :  28.054826367465623\n",
      "total_MAE :  34.433502019575094\n",
      "../submission\\20210628_cat_15_KJH.csv None\n",
      "\n",
      "lunch_MAE :  21.55948272793801\n",
      "dinner_MAE :  24.810402951232554\n",
      "total_MAE :  23.184942839585283\n",
      "../submission\\20210628_cat_8_.csv None\n",
      "\n",
      "lunch_MAE :  16.119295754697568\n",
      "dinner_MAE :  20.358372964242232\n",
      "total_MAE :  18.238834359469898\n",
      "../submission\\20210628_cat_xgb_8.csv None\n",
      "\n",
      "lunch_MAE :  17.804267064972727\n",
      "dinner_MAE :  23.948663344350116\n",
      "total_MAE :  20.87646520466142\n",
      "../submission\\20210628_pycaret_ADD_FEATURE.csv None\n",
      "\n",
      "lunch_MAE :  14.881721973657804\n",
      "dinner_MAE :  24.23575693186847\n",
      "total_MAE :  19.558739452763135\n",
      "../submission\\20210629_best_data_ensemble.csv None\n",
      "\n",
      "lunch_MAE :  18.53233838085332\n",
      "dinner_MAE :  31.175752001954653\n",
      "total_MAE :  24.854045191403987\n",
      "../submission\\20210629_lgbm_autoML.csv None\n",
      "\n",
      "lunch_MAE :  14.881721973657804\n",
      "dinner_MAE :  23.088856282498632\n",
      "total_MAE :  18.985289128078218\n",
      "../submission\\20210630_best_data_ensemble.csv None\n",
      "\n",
      "lunch_MAE :  21.55948272793801\n",
      "dinner_MAE :  21.777350753361862\n",
      "total_MAE :  21.66841674064994\n",
      "../submission\\20210630_cat_8_.csv None\n",
      "\n",
      "lunch_MAE :  18.53233838085332\n",
      "dinner_MAE :  24.493857199536315\n",
      "total_MAE :  21.51309779019482\n",
      "../submission\\20210630_lgbm_autoML.csv None\n",
      "\n",
      "lunch_MAE :  27.33890773793205\n",
      "dinner_MAE :  23.8033568338633\n",
      "total_MAE :  25.571132285897676\n",
      "../submission\\20210701_lgbm_autoML.csv None\n",
      "\n",
      "lunch_MAE :  9.35133481665588\n",
      "dinner_MAE :  21.41925496447046\n",
      "total_MAE :  15.38529489056317\n",
      "../submission\\20210701_lgbm_knfold_drop.csv None\n",
      "\n",
      "lunch_MAE :  99.24252429947688\n",
      "dinner_MAE :  22.59888238913998\n",
      "total_MAE :  60.920703344308436\n",
      "../submission\\20210701_pycaret_(2)-69.8998.csv None\n",
      "\n",
      "lunch_MAE :  19.907510518740985\n",
      "dinner_MAE :  31.753062056845856\n",
      "total_MAE :  25.83028628779342\n",
      "../submission\\20210714_lgbm_autoML_20.csv None\n",
      "\n",
      "lunch_MAE :  17.613308041977962\n",
      "dinner_MAE :  26.11748209907354\n",
      "total_MAE :  21.86539507052575\n",
      "../submission\\20210714_lgbm_autoML_8.csv None\n",
      "\n",
      "lunch_MAE :  23.158673950293814\n",
      "dinner_MAE :  49.182194768141144\n",
      "total_MAE :  36.17043435921748\n",
      "../submission\\20210715_cat_autoML.csv None\n",
      "\n",
      "lunch_MAE :  13.588625345217928\n",
      "dinner_MAE :  24.361347763499182\n",
      "total_MAE :  18.974986554358555\n",
      "../submission\\20210715_lgbm_autoML.csv None\n",
      "\n",
      "lunch_MAE :  27.44268644823891\n",
      "dinner_MAE :  22.274280521871788\n",
      "total_MAE :  24.85848348505535\n",
      "../submission\\20210715_lgbm_autoML_ensenble.csv None\n",
      "\n",
      "lunch_MAE :  30.001600879472235\n",
      "dinner_MAE :  19.999245094597764\n",
      "total_MAE :  25.000422987035\n",
      "../submission\\20210715_lgbm_sort_autoML.csv None\n",
      "\n",
      "lunch_MAE :  58.99531348841612\n",
      "dinner_MAE :  30.948559722159125\n",
      "total_MAE :  44.971936605287624\n",
      "../submission\\20210715_pycaret_(2).csv None\n",
      "\n",
      "lunch_MAE :  13.700313487609735\n",
      "dinner_MAE :  11.266868037358485\n",
      "total_MAE :  12.48359076248411\n",
      "../submission\\20210715_xgb_autoML.csv None\n",
      "\n",
      "lunch_MAE :  22.89314431005679\n",
      "dinner_MAE :  45.43970120316593\n",
      "total_MAE :  34.16642275661136\n",
      "../submission\\20210716_autoML.csv None\n",
      "\n",
      "lunch_MAE :  25.15112354889304\n",
      "dinner_MAE :  19.15227441770594\n",
      "total_MAE :  22.15169898329949\n",
      "../submission\\20210716_cat_autoML.csv None\n",
      "\n",
      "lunch_MAE :  15.729995577910762\n",
      "dinner_MAE :  26.434871089854\n",
      "total_MAE :  21.08243333388238\n",
      "../submission\\20210716_lgbm_autoML.csv None\n",
      "\n",
      "lunch_MAE :  28.071335099332344\n",
      "dinner_MAE :  21.594377348681782\n",
      "total_MAE :  24.832856224007063\n",
      "../submission\\20210716_lgbm_autoML_ensenble.csv None\n",
      "\n",
      "lunch_MAE :  13.992275123539093\n",
      "dinner_MAE :  23.65291514296774\n",
      "total_MAE :  18.822595133253415\n",
      "../submission\\20210716_lgbm_autoML_in.csv None\n",
      "\n",
      "lunch_MAE :  17.946308758586493\n",
      "dinner_MAE :  20.24895095779989\n",
      "total_MAE :  19.097629858193194\n",
      "../submission\\20210716_lgbm_sort_autoML.csv None\n",
      "\n",
      "lunch_MAE :  50.53228864668885\n",
      "dinner_MAE :  21.44616584625428\n",
      "total_MAE :  35.989227246471565\n",
      "../submission\\20210717_best_data_ensemble.csv None\n",
      "\n",
      "lunch_MAE :  54.00713604973903\n",
      "dinner_MAE :  19.677947843059414\n",
      "total_MAE :  36.84254194639922\n",
      "../submission\\20210717_best_data_ensemble2.csv None\n",
      "\n",
      "lunch_MAE :  54.00713604973903\n",
      "dinner_MAE :  19.479242977104366\n",
      "total_MAE :  36.7431895134217\n",
      "../submission\\20210717_best_data_ensemble3.csv None\n",
      "\n",
      "lunch_MAE :  64.78091549398266\n",
      "dinner_MAE :  25.6920144022953\n",
      "total_MAE :  45.23646494813898\n",
      "../submission\\20210717_pycaret_(2).csv None\n",
      "\n",
      "lunch_MAE :  21.879064753285682\n",
      "dinner_MAE :  40.335102437165844\n",
      "total_MAE :  31.107083595225763\n",
      "../submission\\20210718_autoML_5.csv None\n",
      "\n",
      "lunch_MAE :  23.268250839267598\n",
      "dinner_MAE :  23.977706518344803\n",
      "total_MAE :  23.6229786788062\n",
      "../submission\\20210718_pycaret.csv None\n",
      "\n",
      "lunch_MAE :  66.73186141470279\n",
      "dinner_MAE :  31.75362106731105\n",
      "total_MAE :  49.242741241006925\n",
      "../submission\\20210718_pycaret_(2).csv None\n",
      "\n",
      "lunch_MAE :  54.77214865162563\n",
      "dinner_MAE :  26.76814218725579\n",
      "total_MAE :  40.77014541944071\n",
      "../submission\\20210719_best_data_ensemble.csv None\n",
      "\n",
      "lunch_MAE :  47.0914808804723\n",
      "dinner_MAE :  17.77221333136705\n",
      "total_MAE :  32.43184710591967\n",
      "../submission\\20210719_best_data_ensemble3.csv None\n",
      "\n",
      "lunch_MAE :  18.189150861088116\n",
      "dinner_MAE :  23.214020581927485\n",
      "total_MAE :  20.7015857215078\n",
      "../submission\\20210719_lgbm_autoML.csv None\n",
      "\n",
      "lunch_MAE :  31.069570573967003\n",
      "dinner_MAE :  26.76814218725579\n",
      "total_MAE :  28.918856380611395\n",
      "../submission\\20210719_pycaret.csv None\n",
      "\n",
      "lunch_MAE :  19.51102548156168\n",
      "dinner_MAE :  20.945872948589198\n",
      "total_MAE :  20.22844921507544\n",
      "../submission\\20210720_lgbm_autoML_22.csv None\n",
      "\n",
      "lunch_MAE :  26.060680151959623\n",
      "dinner_MAE :  29.691571119086856\n",
      "total_MAE :  27.876125635523238\n",
      "../submission\\20210720_optuna_AutoML.csv None\n",
      "\n",
      "lunch_MAE :  26.060680151959623\n",
      "dinner_MAE :  29.691571119086856\n",
      "total_MAE :  27.876125635523238\n",
      "../submission\\20210720_optuna_lgbm.csv None\n",
      "\n",
      "lunch_MAE :  43.196874889067324\n",
      "dinner_MAE :  26.76814218725579\n",
      "total_MAE :  34.982508538161554\n",
      "../submission\\20210721_best_data_ensemble.csv None\n",
      "\n",
      "lunch_MAE :  14.56703064013437\n",
      "dinner_MAE :  13.507903335497254\n",
      "total_MAE :  14.037466987815812\n",
      "../submission\\20210721_lgbm_knfold_drop.csv None\n",
      "\n",
      "lunch_MAE :  43.196874889067324\n",
      "dinner_MAE :  26.76814218725579\n",
      "total_MAE :  34.982508538161554\n",
      "../submission\\20210722_best_data_ensemble.csv None\n",
      "\n",
      "lunch_MAE :  15.482151020000092\n",
      "dinner_MAE :  26.99478839930789\n",
      "total_MAE :  21.23846970965399\n",
      "../submission\\20210722_hyperOpt_xgb.csv None\n",
      "\n",
      "lunch_MAE :  16.507794759979873\n",
      "dinner_MAE :  37.45753598235746\n",
      "total_MAE :  26.982665371168668\n",
      "../submission\\20210722_hyperOpt_xgb2.csv None\n",
      "\n"
     ]
    }
   ],
   "source": [
    "import glob\n",
    "\n",
    "files = glob.glob('../submission/*')\n",
    "\n",
    "for file in files[:-1]:\n",
    "    print(file, compare_ans(file), end=\"\\n\\n\" )"
   ]
  },
  {
   "cell_type": "markdown",
   "metadata": {},
   "source": [
    "# 저장"
   ]
  },
  {
   "cell_type": "code",
   "execution_count": 102,
   "metadata": {},
   "outputs": [
    {
     "name": "stdout",
     "output_type": "stream",
     "text": [
      "오늘 날짜 : 20210722\n"
     ]
    }
   ],
   "source": [
    "import datetime\n",
    "today = str(datetime.datetime.now().date()).replace(\"-\",\"\")\n",
    "print(\"오늘 날짜 : \" + today)\n",
    "\n",
    "submission.to_csv(f'../submission/{today}_hyperOpt_lgbm.csv', index =False)"
   ]
  },
  {
   "cell_type": "code",
   "execution_count": null,
   "metadata": {},
   "outputs": [],
   "source": []
  }
 ],
 "metadata": {
  "kernelspec": {
   "display_name": "Python 3",
   "language": "python",
   "name": "python3"
  },
  "language_info": {
   "codemirror_mode": {
    "name": "ipython",
    "version": 3
   },
   "file_extension": ".py",
   "mimetype": "text/x-python",
   "name": "python",
   "nbconvert_exporter": "python",
   "pygments_lexer": "ipython3",
   "version": "3.8.10"
  }
 },
 "nbformat": 4,
 "nbformat_minor": 4
}
